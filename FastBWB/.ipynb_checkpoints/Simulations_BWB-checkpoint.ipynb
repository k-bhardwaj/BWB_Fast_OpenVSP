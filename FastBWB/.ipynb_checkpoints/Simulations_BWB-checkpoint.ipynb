{
 "cells": [
  {
   "cell_type": "markdown",
   "metadata": {},
   "source": [
    "<div class=\"row\">\n",
    "  <div class=\"column\">\n",
    "    <img src=\"./img/logo-ISAE_SUPAERO.png\" width=\"200\">\n",
    "  </div>\n",
    "</div>"
   ]
  },
  {
   "cell_type": "markdown",
   "metadata": {},
   "source": [
    "# [SIMULATIONS] FAST-OAD with BWB integrated architecture\n",
    "#### Sandra MUÑOZ \n",
    "#### Justo RODRÍGUEZ\n",
    "#### Miguel VALADAS\n",
    "\n",
    "Latest update: 26 March 2023\n",
    "\n",
    "--------------------------\n",
    "\n",
    "This notebook evaluates the problem for a list of varying inputs. This script was created for the sensitivity analysis. "
   ]
  },
  {
   "cell_type": "markdown",
   "metadata": {},
   "source": [
    "## 1. Import libraries"
   ]
  },
  {
   "cell_type": "code",
   "execution_count": 1,
   "metadata": {},
   "outputs": [
    {
     "name": "stdout",
     "output_type": "stream",
     "text": [
      "Package 'numpy' is correctly installed.\n",
      "Package 'os.path' is correctly installed.\n",
      "Package 'openmdao.api' is correctly installed.\n",
      "Package 'logging' is correctly installed.\n",
      "Package 'shutil' is correctly installed.\n",
      "Package 'fastoad.api' is correctly installed.\n",
      "Package 'math' is correctly installed.\n",
      "Package 'matplotlib.pyplot' is correctly installed.\n",
      "Package 'plotly.graph_objects' is correctly installed.\n",
      "Package 'array' is correctly installed.\n",
      "Package 'time' is correctly installed.\n",
      "Package 'sys' is correctly installed.\n",
      "Package 'pandas' is correctly installed.\n",
      "Package 'qgrid' is correctly installed.\n",
      "Package 'yaml' is correctly installed.\n"
     ]
    }
   ],
   "source": [
    "# Check if all packages are installed. If not, the program will automatically install the missing ones. \n",
    "\n",
    "import importlib.util\n",
    "import sys\n",
    "import subprocess\n",
    "# Packages list\n",
    "package_names = ['numpy', 'os.path','openmdao.api','logging','shutil','fastoad.api','math','matplotlib.pyplot','plotly.graph_objects','array','time','sys','pandas','qgrid','yaml']\n",
    "num_packages = len(package_names)\n",
    "\n",
    "# Function to install package\n",
    "def install(package):\n",
    "    subprocess.check_call([sys.executable, '-m', 'pip', 'install', package])\n",
    "    \n",
    "# Test libraries: \n",
    "for i in range(num_packages):\n",
    "    spec = importlib.util.find_spec(package_names[i])\n",
    "    if spec is None:\n",
    "        print(\"-----------ERROR-----------: Package '\" + package_names[i] +\"'  is not installed.\")\n",
    "        # Install package: \n",
    "        install(package_names[i])\n",
    "        print(\"-----------UPDATE-----------: Package '\" + package_names[i] +\"'  is now correctly installed.\")\n",
    "        \n",
    "    else:\n",
    "        print(\"Package '\" + package_names[i] + \"' is correctly installed.\")\n",
    "        \n",
    "# Import packages once all of them are correctly installed: \n",
    "import openmdao.api as om\n",
    "from fastoad.module_management.constants import ModelDomain\n",
    "from fastoad.module_management.service_registry import RegisterOpenMDAOSystem, RegisterSubmodel\n",
    "import logging\n",
    "import shutil\n",
    "import fastoad.api as oad\n",
    "import os.path as pth\n",
    "import os\n",
    "import yaml\n",
    "from ruamel.yaml import YAML\n",
    "import matplotlib.pyplot as plt\n",
    "from IPython.display import Javascript, display, Image, HTML\n",
    "import numpy as np\n",
    "import math\n",
    "import plotly.graph_objects as go\n",
    "import array\n",
    "import time\n",
    "import sys\n",
    "import pandas as pd\n",
    "import qgrid\n"
   ]
  },
  {
   "cell_type": "markdown",
   "metadata": {},
   "source": [
    "## 2. Directory set up "
   ]
  },
  {
   "cell_type": "code",
   "execution_count": 2,
   "metadata": {},
   "outputs": [
    {
     "name": "stdout",
     "output_type": "stream",
     "text": [
      "Directory:  C:\\Users\\migue\\Documents\\MV\\ISAE Supaero\\Research Project\\Meeting MAE1 1204\n",
      "- Data folder path is:  C:\\Users\\migue\\Documents\\MV\\ISAE Supaero\\Research Project\\Meeting MAE1 1204\\data\n",
      "- Work folder path is:  C:\\Users\\migue\\Documents\\MV\\ISAE Supaero\\Research Project\\Meeting MAE1 1204\\workspace\n"
     ]
    }
   ],
   "source": [
    "# Print the current working directory\n",
    "directory = \"{0}\".format(os.getcwd())\n",
    "print('Directory: ', directory)\n",
    "\n",
    "# Assign data and work folder paths: \n",
    "DATA_FOLDER_PATH = \"data\"\n",
    "WORK_FOLDER_PATH = \"workspace\"\n",
    "\n",
    "# Print data and work folder paths: \n",
    "print('- Data folder path is: ',directory +'\\data')\n",
    "print('- Work folder path is: ',directory +'\\workspace')"
   ]
  },
  {
   "cell_type": "markdown",
   "metadata": {},
   "source": [
    "## 3. Initialization"
   ]
  },
  {
   "cell_type": "code",
   "execution_count": 3,
   "metadata": {},
   "outputs": [
    {
     "name": "stdout",
     "output_type": "stream",
     "text": [
      "Problem initialized correctly\n"
     ]
    }
   ],
   "source": [
    "# For having log messages on screen\n",
    "# logging.basicConfig(level=logging.INFO, format=\"%(levelname)-8s: %(message)s\")\n",
    "\n",
    "##################################################################################\n",
    "\n",
    "CONFIGURATION_FILE_BWB = pth.join(WORK_FOLDER_PATH, \"BWB_configuration.yml\")\n",
    "SOURCE_FILE_BWB = pth.join(DATA_FOLDER_PATH, \"BWB_inputs.xml\")\n",
    "# oad.generate_configuration_file(CONFIGURATION_FILE_tubeWing, overwrite=True)\n",
    "\n",
    "print('Problem initialized correctly')"
   ]
  },
  {
   "cell_type": "markdown",
   "metadata": {},
   "source": [
    "## 4. Generate inputs"
   ]
  },
  {
   "cell_type": "code",
   "execution_count": 4,
   "metadata": {},
   "outputs": [
    {
     "name": "stdout",
     "output_type": "stream",
     "text": [
      " - BWB inputs directory is:\n",
      " C:\\Users\\migue\\Documents\\MV\\ISAE Supaero\\Research Project\\Meeting MAE1 1204\\workspace\\problem_inputs_BWB.xml\n"
     ]
    },
    {
     "data": {
      "application/vnd.jupyter.widget-view+json": {
       "model_id": "a7f867eda5f54a78bc2e4e5a79b33a8d",
       "version_major": 2,
       "version_minor": 0
      },
      "text/plain": [
       "VBox(children=(HBox(children=(Button(description='Load', icon='upload', style=ButtonStyle(), tooltip='Load the…"
      ]
     },
     "metadata": {},
     "output_type": "display_data"
    }
   ],
   "source": [
    "# Change inputs and outputs file names in the configuration file:\n",
    "yaml = YAML()\n",
    "yaml.preserve_quotes = True\n",
    "with open(CONFIGURATION_FILE_BWB) as f:\n",
    "    test = yaml.load(f)\n",
    "test['input_file'] = './problem_inputs_BWB.xml'\n",
    "test['output_file'] = './problem_outputs_BWB.xml'\n",
    "with open(CONFIGURATION_FILE_BWB, 'wb') as f:\n",
    "    yaml.dump(test, f)\n",
    "\n",
    "# Generate inputs (reference case): \n",
    "inputsBWB = oad.generate_inputs(CONFIGURATION_FILE_BWB, SOURCE_FILE_BWB, overwrite=True)\n",
    "print(' - BWB inputs directory is:\\n', inputsBWB)\n",
    "\n",
    "# Visualize list of inputs:\n",
    "oad.variable_viewer(inputsBWB)"
   ]
  },
  {
   "cell_type": "markdown",
   "metadata": {},
   "source": [
    "## 5. Evaluate problem"
   ]
  },
  {
   "cell_type": "markdown",
   "metadata": {},
   "source": [
    "#### PROBLEM PARAMETERS \n",
    "In this part the user must choose the problem parameters: \n",
    " - Number of simulations to be performed.\n",
    " - Vector of inputs of interest.\n",
    " \n",
    " As an example, the wing sweep angle variation is given."
   ]
  },
  {
   "cell_type": "code",
   "execution_count": 5,
   "metadata": {},
   "outputs": [
    {
     "name": "stdout",
     "output_type": "stream",
     "text": [
      "-------------------------------------------------------------\n",
      "SIMULATION INFORMATION: \n",
      "-------------------------------------------------------------\n",
      "- A total of 21 simulations will be performed.\n",
      "- BWB simulations directory is:  C:\\Users\\migue\\Documents\\MV\\ISAE Supaero\\Research Project\\Meeting MAE1 1204\\workspace\\BWBsimulations\n",
      "- The sweep vector is:  [15. 16. 17. 18. 19. 20. 21. 22. 23. 24. 25. 26. 27. 28. 29. 30. 31. 32.\n",
      " 33. 34. 35.]\n"
     ]
    }
   ],
   "source": [
    "# Set up simulation parameters: \n",
    "print('-------------------------------------------------------------')\n",
    "print('SIMULATION INFORMATION: ')\n",
    "print('-------------------------------------------------------------')\n",
    "nsim = 21 # Number of simulations to be performed\n",
    "simDir = directory +'\\workspace\\BWBsimulations' # The inputs and outputs of the simulation will be stored in this folder\n",
    "CONFIGURATION_FILE_sims = pth.join(simDir, \"BWB_configuration.yml\")\n",
    "input_data = oad.DataFile(inputsBWB)\n",
    "\n",
    "# WING SWEEP ANGLE EXAMPLE: \n",
    "sweep0 = 15 # Initial value of the vector\n",
    "sweep_increment = 1 # Step\n",
    "sweepfinal = sweep0+sweep_increment*(nsim-1) # Final value of the vector\n",
    "sweep_vec = np.linspace(sweep0,sweepfinal,nsim) # Vector of inputs\n",
    "# sweep_orig = sweep_vec[10] # Default wing sweep angle (reference simulation)\n",
    "\n",
    "print('- A total of', nsim,'simulations will be performed.')\n",
    "print('- BWB simulations directory is: ', simDir)\n",
    "print('- The sweep vector is: ', sweep_vec)\n"
   ]
  },
  {
   "cell_type": "markdown",
   "metadata": {},
   "source": [
    "#### RUN SIMULATION - SWEEP ANGLE EXAMPLE"
   ]
  },
  {
   "cell_type": "code",
   "execution_count": 6,
   "metadata": {
    "scrolled": true
   },
   "outputs": [
    {
     "name": "stdout",
     "output_type": "stream",
     "text": [
      "-------------------------------------------------------------\n",
      "START OF SIMULATION  1 , Sweep = 15.0 deg\n",
      "-------------------------------------------------------------\n"
     ]
    },
    {
     "name": "stderr",
     "output_type": "stream",
     "text": [
      "C:\\Users\\migue\\anaconda3\\lib\\site-packages\\pandas\\core\\indexing.py:1817: SettingWithCopyWarning: \n",
      "A value is trying to be set on a copy of a slice from a DataFrame.\n",
      "Try using .loc[row_indexer,col_indexer] = value instead\n",
      "\n",
      "See the caveats in the documentation: https://pandas.pydata.org/pandas-docs/stable/user_guide/indexing.html#returning-a-view-versus-a-copy\n",
      "  self._setitem_single_column(loc, value, pi)\n",
      "Variable \"data:propulsion:rubber_engine:turbine_inlet_temperature\" out of bound: value [1633.] degK is over upper limit ( 1600.0 ) in file C:\\Users\\migue\\anaconda3\\lib\\site-packages\\fastoad_cs25\\models\\propulsion\\fuel_propulsion\\rubber_engine\\openmdao.py\n",
      "Variable \"data:propulsion:rubber_engine:turbine_inlet_temperature\" out of bound: value [1633.] degK is over upper limit ( 1600.0 ) in file C:\\Users\\migue\\Documents\\MV\\ISAE Supaero\\Research Project\\Meeting MAE1 1204\\modules\\propulsion\\fuel_propulsion\\rubber_engine\\openmdao.py\n"
     ]
    },
    {
     "name": "stdout",
     "output_type": "stream",
     "text": [
      "NL: NLBGS Converged in 17 iterations\n",
      "-------------------------------------------------------------\n",
      "END OF SIMULATION 1\n",
      "-------------------------------------------------------------\n",
      "-------------------------------------------------------------\n",
      "START OF SIMULATION  2 , Sweep = 16.0 deg\n",
      "-------------------------------------------------------------\n"
     ]
    },
    {
     "name": "stderr",
     "output_type": "stream",
     "text": [
      "Variable \"data:propulsion:rubber_engine:turbine_inlet_temperature\" out of bound: value [1633.] degK is over upper limit ( 1600.0 ) in file C:\\Users\\migue\\anaconda3\\lib\\site-packages\\fastoad_cs25\\models\\propulsion\\fuel_propulsion\\rubber_engine\\openmdao.py\n",
      "Variable \"data:propulsion:rubber_engine:turbine_inlet_temperature\" out of bound: value [1633.] degK is over upper limit ( 1600.0 ) in file C:\\Users\\migue\\Documents\\MV\\ISAE Supaero\\Research Project\\Meeting MAE1 1204\\modules\\propulsion\\fuel_propulsion\\rubber_engine\\openmdao.py\n"
     ]
    },
    {
     "name": "stdout",
     "output_type": "stream",
     "text": [
      "NL: NLBGS Converged in 17 iterations\n",
      "-------------------------------------------------------------\n",
      "END OF SIMULATION 2\n",
      "-------------------------------------------------------------\n",
      "-------------------------------------------------------------\n",
      "START OF SIMULATION  3 , Sweep = 17.0 deg\n",
      "-------------------------------------------------------------\n"
     ]
    },
    {
     "name": "stderr",
     "output_type": "stream",
     "text": [
      "Variable \"data:propulsion:rubber_engine:turbine_inlet_temperature\" out of bound: value [1633.] degK is over upper limit ( 1600.0 ) in file C:\\Users\\migue\\anaconda3\\lib\\site-packages\\fastoad_cs25\\models\\propulsion\\fuel_propulsion\\rubber_engine\\openmdao.py\n",
      "Variable \"data:propulsion:rubber_engine:turbine_inlet_temperature\" out of bound: value [1633.] degK is over upper limit ( 1600.0 ) in file C:\\Users\\migue\\Documents\\MV\\ISAE Supaero\\Research Project\\Meeting MAE1 1204\\modules\\propulsion\\fuel_propulsion\\rubber_engine\\openmdao.py\n"
     ]
    },
    {
     "name": "stdout",
     "output_type": "stream",
     "text": [
      "NL: NLBGS Converged in 17 iterations\n",
      "-------------------------------------------------------------\n",
      "END OF SIMULATION 3\n",
      "-------------------------------------------------------------\n",
      "-------------------------------------------------------------\n",
      "START OF SIMULATION  4 , Sweep = 18.0 deg\n",
      "-------------------------------------------------------------\n"
     ]
    },
    {
     "name": "stderr",
     "output_type": "stream",
     "text": [
      "Variable \"data:propulsion:rubber_engine:turbine_inlet_temperature\" out of bound: value [1633.] degK is over upper limit ( 1600.0 ) in file C:\\Users\\migue\\anaconda3\\lib\\site-packages\\fastoad_cs25\\models\\propulsion\\fuel_propulsion\\rubber_engine\\openmdao.py\n",
      "Variable \"data:propulsion:rubber_engine:turbine_inlet_temperature\" out of bound: value [1633.] degK is over upper limit ( 1600.0 ) in file C:\\Users\\migue\\Documents\\MV\\ISAE Supaero\\Research Project\\Meeting MAE1 1204\\modules\\propulsion\\fuel_propulsion\\rubber_engine\\openmdao.py\n"
     ]
    },
    {
     "name": "stdout",
     "output_type": "stream",
     "text": [
      "NL: NLBGS Converged in 16 iterations\n",
      "-------------------------------------------------------------\n",
      "END OF SIMULATION 4\n",
      "-------------------------------------------------------------\n",
      "-------------------------------------------------------------\n",
      "START OF SIMULATION  5 , Sweep = 19.0 deg\n",
      "-------------------------------------------------------------\n"
     ]
    },
    {
     "name": "stderr",
     "output_type": "stream",
     "text": [
      "Variable \"data:propulsion:rubber_engine:turbine_inlet_temperature\" out of bound: value [1633.] degK is over upper limit ( 1600.0 ) in file C:\\Users\\migue\\anaconda3\\lib\\site-packages\\fastoad_cs25\\models\\propulsion\\fuel_propulsion\\rubber_engine\\openmdao.py\n",
      "Variable \"data:propulsion:rubber_engine:turbine_inlet_temperature\" out of bound: value [1633.] degK is over upper limit ( 1600.0 ) in file C:\\Users\\migue\\Documents\\MV\\ISAE Supaero\\Research Project\\Meeting MAE1 1204\\modules\\propulsion\\fuel_propulsion\\rubber_engine\\openmdao.py\n"
     ]
    },
    {
     "name": "stdout",
     "output_type": "stream",
     "text": [
      "NL: NLBGS Converged in 16 iterations\n",
      "-------------------------------------------------------------\n",
      "END OF SIMULATION 5\n",
      "-------------------------------------------------------------\n",
      "-------------------------------------------------------------\n",
      "START OF SIMULATION  6 , Sweep = 20.0 deg\n",
      "-------------------------------------------------------------\n"
     ]
    },
    {
     "name": "stderr",
     "output_type": "stream",
     "text": [
      "Variable \"data:propulsion:rubber_engine:turbine_inlet_temperature\" out of bound: value [1633.] degK is over upper limit ( 1600.0 ) in file C:\\Users\\migue\\anaconda3\\lib\\site-packages\\fastoad_cs25\\models\\propulsion\\fuel_propulsion\\rubber_engine\\openmdao.py\n",
      "Variable \"data:propulsion:rubber_engine:turbine_inlet_temperature\" out of bound: value [1633.] degK is over upper limit ( 1600.0 ) in file C:\\Users\\migue\\Documents\\MV\\ISAE Supaero\\Research Project\\Meeting MAE1 1204\\modules\\propulsion\\fuel_propulsion\\rubber_engine\\openmdao.py\n"
     ]
    },
    {
     "name": "stdout",
     "output_type": "stream",
     "text": [
      "NL: NLBGS Converged in 15 iterations\n",
      "-------------------------------------------------------------\n",
      "END OF SIMULATION 6\n",
      "-------------------------------------------------------------\n",
      "-------------------------------------------------------------\n",
      "START OF SIMULATION  7 , Sweep = 21.0 deg\n",
      "-------------------------------------------------------------\n"
     ]
    },
    {
     "name": "stderr",
     "output_type": "stream",
     "text": [
      "Variable \"data:propulsion:rubber_engine:turbine_inlet_temperature\" out of bound: value [1633.] degK is over upper limit ( 1600.0 ) in file C:\\Users\\migue\\anaconda3\\lib\\site-packages\\fastoad_cs25\\models\\propulsion\\fuel_propulsion\\rubber_engine\\openmdao.py\n",
      "Variable \"data:propulsion:rubber_engine:turbine_inlet_temperature\" out of bound: value [1633.] degK is over upper limit ( 1600.0 ) in file C:\\Users\\migue\\Documents\\MV\\ISAE Supaero\\Research Project\\Meeting MAE1 1204\\modules\\propulsion\\fuel_propulsion\\rubber_engine\\openmdao.py\n"
     ]
    },
    {
     "name": "stdout",
     "output_type": "stream",
     "text": [
      "NL: NLBGS Converged in 15 iterations\n",
      "-------------------------------------------------------------\n",
      "END OF SIMULATION 7\n",
      "-------------------------------------------------------------\n",
      "-------------------------------------------------------------\n",
      "START OF SIMULATION  8 , Sweep = 22.0 deg\n",
      "-------------------------------------------------------------\n"
     ]
    },
    {
     "name": "stderr",
     "output_type": "stream",
     "text": [
      "Variable \"data:propulsion:rubber_engine:turbine_inlet_temperature\" out of bound: value [1633.] degK is over upper limit ( 1600.0 ) in file C:\\Users\\migue\\anaconda3\\lib\\site-packages\\fastoad_cs25\\models\\propulsion\\fuel_propulsion\\rubber_engine\\openmdao.py\n",
      "Variable \"data:propulsion:rubber_engine:turbine_inlet_temperature\" out of bound: value [1633.] degK is over upper limit ( 1600.0 ) in file C:\\Users\\migue\\Documents\\MV\\ISAE Supaero\\Research Project\\Meeting MAE1 1204\\modules\\propulsion\\fuel_propulsion\\rubber_engine\\openmdao.py\n"
     ]
    },
    {
     "name": "stdout",
     "output_type": "stream",
     "text": [
      "NL: NLBGS Converged in 14 iterations\n",
      "-------------------------------------------------------------\n",
      "END OF SIMULATION 8\n",
      "-------------------------------------------------------------\n",
      "-------------------------------------------------------------\n",
      "START OF SIMULATION  9 , Sweep = 23.0 deg\n",
      "-------------------------------------------------------------\n"
     ]
    },
    {
     "name": "stderr",
     "output_type": "stream",
     "text": [
      "Variable \"data:propulsion:rubber_engine:turbine_inlet_temperature\" out of bound: value [1633.] degK is over upper limit ( 1600.0 ) in file C:\\Users\\migue\\anaconda3\\lib\\site-packages\\fastoad_cs25\\models\\propulsion\\fuel_propulsion\\rubber_engine\\openmdao.py\n",
      "Variable \"data:propulsion:rubber_engine:turbine_inlet_temperature\" out of bound: value [1633.] degK is over upper limit ( 1600.0 ) in file C:\\Users\\migue\\Documents\\MV\\ISAE Supaero\\Research Project\\Meeting MAE1 1204\\modules\\propulsion\\fuel_propulsion\\rubber_engine\\openmdao.py\n"
     ]
    },
    {
     "name": "stdout",
     "output_type": "stream",
     "text": [
      "NL: NLBGS Converged in 14 iterations\n",
      "-------------------------------------------------------------\n",
      "END OF SIMULATION 9\n",
      "-------------------------------------------------------------\n",
      "-------------------------------------------------------------\n",
      "START OF SIMULATION  10 , Sweep = 24.0 deg\n",
      "-------------------------------------------------------------\n",
      "NL: NLBGS Converged in 12 iterations\n"
     ]
    },
    {
     "name": "stderr",
     "output_type": "stream",
     "text": [
      "Variable \"data:propulsion:rubber_engine:turbine_inlet_temperature\" out of bound: value [1633.] degK is over upper limit ( 1600.0 ) in file C:\\Users\\migue\\anaconda3\\lib\\site-packages\\fastoad_cs25\\models\\propulsion\\fuel_propulsion\\rubber_engine\\openmdao.py\n",
      "Variable \"data:propulsion:rubber_engine:turbine_inlet_temperature\" out of bound: value [1633.] degK is over upper limit ( 1600.0 ) in file C:\\Users\\migue\\Documents\\MV\\ISAE Supaero\\Research Project\\Meeting MAE1 1204\\modules\\propulsion\\fuel_propulsion\\rubber_engine\\openmdao.py\n"
     ]
    },
    {
     "name": "stdout",
     "output_type": "stream",
     "text": [
      "-------------------------------------------------------------\n",
      "END OF SIMULATION 10\n",
      "-------------------------------------------------------------\n",
      "-------------------------------------------------------------\n",
      "START OF SIMULATION  11 , Sweep = 25.0 deg\n",
      "-------------------------------------------------------------\n"
     ]
    },
    {
     "name": "stderr",
     "output_type": "stream",
     "text": [
      "Variable \"data:propulsion:rubber_engine:turbine_inlet_temperature\" out of bound: value [1633.] degK is over upper limit ( 1600.0 ) in file C:\\Users\\migue\\anaconda3\\lib\\site-packages\\fastoad_cs25\\models\\propulsion\\fuel_propulsion\\rubber_engine\\openmdao.py\n",
      "Variable \"data:propulsion:rubber_engine:turbine_inlet_temperature\" out of bound: value [1633.] degK is over upper limit ( 1600.0 ) in file C:\\Users\\migue\\Documents\\MV\\ISAE Supaero\\Research Project\\Meeting MAE1 1204\\modules\\propulsion\\fuel_propulsion\\rubber_engine\\openmdao.py\n"
     ]
    },
    {
     "name": "stdout",
     "output_type": "stream",
     "text": [
      "NL: NLBGS Converged in 13 iterations\n",
      "-------------------------------------------------------------\n",
      "END OF SIMULATION 11\n",
      "-------------------------------------------------------------\n",
      "-------------------------------------------------------------\n",
      "START OF SIMULATION  12 , Sweep = 26.0 deg\n",
      "-------------------------------------------------------------\n"
     ]
    },
    {
     "name": "stderr",
     "output_type": "stream",
     "text": [
      "Variable \"data:propulsion:rubber_engine:turbine_inlet_temperature\" out of bound: value [1633.] degK is over upper limit ( 1600.0 ) in file C:\\Users\\migue\\anaconda3\\lib\\site-packages\\fastoad_cs25\\models\\propulsion\\fuel_propulsion\\rubber_engine\\openmdao.py\n",
      "Variable \"data:propulsion:rubber_engine:turbine_inlet_temperature\" out of bound: value [1633.] degK is over upper limit ( 1600.0 ) in file C:\\Users\\migue\\Documents\\MV\\ISAE Supaero\\Research Project\\Meeting MAE1 1204\\modules\\propulsion\\fuel_propulsion\\rubber_engine\\openmdao.py\n"
     ]
    },
    {
     "name": "stdout",
     "output_type": "stream",
     "text": [
      "NL: NLBGS Converged in 13 iterations\n",
      "-------------------------------------------------------------\n",
      "END OF SIMULATION 12\n",
      "-------------------------------------------------------------\n",
      "-------------------------------------------------------------\n",
      "START OF SIMULATION  13 , Sweep = 27.0 deg\n",
      "-------------------------------------------------------------\n"
     ]
    },
    {
     "name": "stderr",
     "output_type": "stream",
     "text": [
      "Variable \"data:propulsion:rubber_engine:turbine_inlet_temperature\" out of bound: value [1633.] degK is over upper limit ( 1600.0 ) in file C:\\Users\\migue\\anaconda3\\lib\\site-packages\\fastoad_cs25\\models\\propulsion\\fuel_propulsion\\rubber_engine\\openmdao.py\n",
      "Variable \"data:propulsion:rubber_engine:turbine_inlet_temperature\" out of bound: value [1633.] degK is over upper limit ( 1600.0 ) in file C:\\Users\\migue\\Documents\\MV\\ISAE Supaero\\Research Project\\Meeting MAE1 1204\\modules\\propulsion\\fuel_propulsion\\rubber_engine\\openmdao.py\n"
     ]
    },
    {
     "name": "stdout",
     "output_type": "stream",
     "text": [
      "NL: NLBGS Converged in 13 iterations\n",
      "-------------------------------------------------------------\n",
      "END OF SIMULATION 13\n",
      "-------------------------------------------------------------\n",
      "-------------------------------------------------------------\n",
      "START OF SIMULATION  14 , Sweep = 28.0 deg\n",
      "-------------------------------------------------------------\n"
     ]
    },
    {
     "name": "stderr",
     "output_type": "stream",
     "text": [
      "Variable \"data:propulsion:rubber_engine:turbine_inlet_temperature\" out of bound: value [1633.] degK is over upper limit ( 1600.0 ) in file C:\\Users\\migue\\anaconda3\\lib\\site-packages\\fastoad_cs25\\models\\propulsion\\fuel_propulsion\\rubber_engine\\openmdao.py\n",
      "Variable \"data:propulsion:rubber_engine:turbine_inlet_temperature\" out of bound: value [1633.] degK is over upper limit ( 1600.0 ) in file C:\\Users\\migue\\Documents\\MV\\ISAE Supaero\\Research Project\\Meeting MAE1 1204\\modules\\propulsion\\fuel_propulsion\\rubber_engine\\openmdao.py\n"
     ]
    },
    {
     "name": "stdout",
     "output_type": "stream",
     "text": [
      "NL: NLBGS Converged in 13 iterations\n",
      "-------------------------------------------------------------\n",
      "END OF SIMULATION 14\n",
      "-------------------------------------------------------------\n",
      "-------------------------------------------------------------\n",
      "START OF SIMULATION  15 , Sweep = 29.0 deg\n",
      "-------------------------------------------------------------\n"
     ]
    },
    {
     "name": "stderr",
     "output_type": "stream",
     "text": [
      "Variable \"data:propulsion:rubber_engine:turbine_inlet_temperature\" out of bound: value [1633.] degK is over upper limit ( 1600.0 ) in file C:\\Users\\migue\\anaconda3\\lib\\site-packages\\fastoad_cs25\\models\\propulsion\\fuel_propulsion\\rubber_engine\\openmdao.py\n",
      "Variable \"data:propulsion:rubber_engine:turbine_inlet_temperature\" out of bound: value [1633.] degK is over upper limit ( 1600.0 ) in file C:\\Users\\migue\\Documents\\MV\\ISAE Supaero\\Research Project\\Meeting MAE1 1204\\modules\\propulsion\\fuel_propulsion\\rubber_engine\\openmdao.py\n"
     ]
    },
    {
     "name": "stdout",
     "output_type": "stream",
     "text": [
      "NL: NLBGS Converged in 13 iterations\n",
      "-------------------------------------------------------------\n",
      "END OF SIMULATION 15\n",
      "-------------------------------------------------------------\n",
      "-------------------------------------------------------------\n",
      "START OF SIMULATION  16 , Sweep = 30.0 deg\n",
      "-------------------------------------------------------------\n"
     ]
    },
    {
     "name": "stderr",
     "output_type": "stream",
     "text": [
      "Variable \"data:propulsion:rubber_engine:turbine_inlet_temperature\" out of bound: value [1633.] degK is over upper limit ( 1600.0 ) in file C:\\Users\\migue\\anaconda3\\lib\\site-packages\\fastoad_cs25\\models\\propulsion\\fuel_propulsion\\rubber_engine\\openmdao.py\n",
      "Variable \"data:propulsion:rubber_engine:turbine_inlet_temperature\" out of bound: value [1633.] degK is over upper limit ( 1600.0 ) in file C:\\Users\\migue\\Documents\\MV\\ISAE Supaero\\Research Project\\Meeting MAE1 1204\\modules\\propulsion\\fuel_propulsion\\rubber_engine\\openmdao.py\n"
     ]
    },
    {
     "name": "stdout",
     "output_type": "stream",
     "text": [
      "NL: NLBGS Converged in 13 iterations\n",
      "-------------------------------------------------------------\n",
      "END OF SIMULATION 16\n",
      "-------------------------------------------------------------\n",
      "-------------------------------------------------------------\n",
      "START OF SIMULATION  17 , Sweep = 31.0 deg\n",
      "-------------------------------------------------------------\n"
     ]
    },
    {
     "name": "stderr",
     "output_type": "stream",
     "text": [
      "Variable \"data:propulsion:rubber_engine:turbine_inlet_temperature\" out of bound: value [1633.] degK is over upper limit ( 1600.0 ) in file C:\\Users\\migue\\anaconda3\\lib\\site-packages\\fastoad_cs25\\models\\propulsion\\fuel_propulsion\\rubber_engine\\openmdao.py\n",
      "Variable \"data:propulsion:rubber_engine:turbine_inlet_temperature\" out of bound: value [1633.] degK is over upper limit ( 1600.0 ) in file C:\\Users\\migue\\Documents\\MV\\ISAE Supaero\\Research Project\\Meeting MAE1 1204\\modules\\propulsion\\fuel_propulsion\\rubber_engine\\openmdao.py\n"
     ]
    },
    {
     "name": "stdout",
     "output_type": "stream",
     "text": [
      "NL: NLBGS Converged in 13 iterations\n",
      "-------------------------------------------------------------\n",
      "END OF SIMULATION 17\n",
      "-------------------------------------------------------------\n",
      "-------------------------------------------------------------\n",
      "START OF SIMULATION  18 , Sweep = 32.0 deg\n",
      "-------------------------------------------------------------\n"
     ]
    },
    {
     "name": "stderr",
     "output_type": "stream",
     "text": [
      "Variable \"data:propulsion:rubber_engine:turbine_inlet_temperature\" out of bound: value [1633.] degK is over upper limit ( 1600.0 ) in file C:\\Users\\migue\\anaconda3\\lib\\site-packages\\fastoad_cs25\\models\\propulsion\\fuel_propulsion\\rubber_engine\\openmdao.py\n",
      "Variable \"data:propulsion:rubber_engine:turbine_inlet_temperature\" out of bound: value [1633.] degK is over upper limit ( 1600.0 ) in file C:\\Users\\migue\\Documents\\MV\\ISAE Supaero\\Research Project\\Meeting MAE1 1204\\modules\\propulsion\\fuel_propulsion\\rubber_engine\\openmdao.py\n"
     ]
    },
    {
     "name": "stdout",
     "output_type": "stream",
     "text": [
      "NL: NLBGS Converged in 14 iterations\n",
      "-------------------------------------------------------------\n",
      "END OF SIMULATION 18\n",
      "-------------------------------------------------------------\n",
      "-------------------------------------------------------------\n",
      "START OF SIMULATION  19 , Sweep = 33.0 deg\n",
      "-------------------------------------------------------------\n"
     ]
    },
    {
     "name": "stderr",
     "output_type": "stream",
     "text": [
      "Variable \"data:propulsion:rubber_engine:turbine_inlet_temperature\" out of bound: value [1633.] degK is over upper limit ( 1600.0 ) in file C:\\Users\\migue\\anaconda3\\lib\\site-packages\\fastoad_cs25\\models\\propulsion\\fuel_propulsion\\rubber_engine\\openmdao.py\n",
      "Variable \"data:propulsion:rubber_engine:turbine_inlet_temperature\" out of bound: value [1633.] degK is over upper limit ( 1600.0 ) in file C:\\Users\\migue\\Documents\\MV\\ISAE Supaero\\Research Project\\Meeting MAE1 1204\\modules\\propulsion\\fuel_propulsion\\rubber_engine\\openmdao.py\n"
     ]
    },
    {
     "name": "stdout",
     "output_type": "stream",
     "text": [
      "NL: NLBGS Converged in 14 iterations\n",
      "-------------------------------------------------------------\n",
      "END OF SIMULATION 19\n",
      "-------------------------------------------------------------\n",
      "-------------------------------------------------------------\n",
      "START OF SIMULATION  20 , Sweep = 34.0 deg\n",
      "-------------------------------------------------------------\n"
     ]
    },
    {
     "name": "stderr",
     "output_type": "stream",
     "text": [
      "Variable \"data:propulsion:rubber_engine:turbine_inlet_temperature\" out of bound: value [1633.] degK is over upper limit ( 1600.0 ) in file C:\\Users\\migue\\anaconda3\\lib\\site-packages\\fastoad_cs25\\models\\propulsion\\fuel_propulsion\\rubber_engine\\openmdao.py\n",
      "Variable \"data:propulsion:rubber_engine:turbine_inlet_temperature\" out of bound: value [1633.] degK is over upper limit ( 1600.0 ) in file C:\\Users\\migue\\Documents\\MV\\ISAE Supaero\\Research Project\\Meeting MAE1 1204\\modules\\propulsion\\fuel_propulsion\\rubber_engine\\openmdao.py\n"
     ]
    },
    {
     "name": "stdout",
     "output_type": "stream",
     "text": [
      "NL: NLBGS Converged in 14 iterations\n",
      "-------------------------------------------------------------\n",
      "END OF SIMULATION 20\n",
      "-------------------------------------------------------------\n",
      "-------------------------------------------------------------\n",
      "START OF SIMULATION  21 , Sweep = 35.0 deg\n",
      "-------------------------------------------------------------\n"
     ]
    },
    {
     "name": "stderr",
     "output_type": "stream",
     "text": [
      "Variable \"data:propulsion:rubber_engine:turbine_inlet_temperature\" out of bound: value [1633.] degK is over upper limit ( 1600.0 ) in file C:\\Users\\migue\\anaconda3\\lib\\site-packages\\fastoad_cs25\\models\\propulsion\\fuel_propulsion\\rubber_engine\\openmdao.py\n",
      "Variable \"data:propulsion:rubber_engine:turbine_inlet_temperature\" out of bound: value [1633.] degK is over upper limit ( 1600.0 ) in file C:\\Users\\migue\\Documents\\MV\\ISAE Supaero\\Research Project\\Meeting MAE1 1204\\modules\\propulsion\\fuel_propulsion\\rubber_engine\\openmdao.py\n"
     ]
    },
    {
     "name": "stdout",
     "output_type": "stream",
     "text": [
      "NL: NLBGS Converged in 15 iterations\n",
      "-------------------------------------------------------------\n",
      "END OF SIMULATION 21\n",
      "-------------------------------------------------------------\n",
      "-------------------------------------------------------------\n",
      "ALL SIMULATIONS COMPLETED\n",
      "-------------------------------------------------------------\n"
     ]
    }
   ],
   "source": [
    "#  RUN SIMULATION\n",
    "for i in range(0, nsim):\n",
    "    print('-------------------------------------------------------------')\n",
    "    print('START OF SIMULATION ', i+1, ', Sweep =', sweep_vec[i], 'deg')\n",
    "    print('-------------------------------------------------------------')\n",
    "    \n",
    "#     Change inputs and outputs file names in the configuration file: \n",
    "    yaml = YAML()\n",
    "    yaml.preserve_quotes = True\n",
    "    with open(CONFIGURATION_FILE_sims) as f:\n",
    "        test = yaml.load(f)\n",
    "    test['input_file'] = './problem_inputs_BWB_sweep%d.xml' %(sweep_vec[i]) \n",
    "    test['output_file'] = './problem_outputs_BWB_sweep%d.xml' %(sweep_vec[i]) \n",
    "    with open(CONFIGURATION_FILE_sims, 'wb') as f:\n",
    "        yaml.dump(test, f)\n",
    "    \n",
    "#   Generate new inputs with the name given above:\n",
    "    CONFIGURATION_FILE_BWB = pth.join(simDir, \"BWB_configuration.yml\")\n",
    "    SOURCE_FILE_BWB = pth.join(DATA_FOLDER_PATH, \"BWB_inputs.xml\") \n",
    "    oad.generate_inputs(CONFIGURATION_FILE_sims, SOURCE_FILE_BWB, overwrite=True)\n",
    "    \n",
    "#   Change the input of interest (in this case the wing sweep angle) and replace it by the corresponding vector value:              \n",
    "    input_data = oad.DataFile(pth.join(simDir, \"problem_inputs_BWB_sweep%d.xml\" %(sweep_vec[i])))\n",
    "    input_data[\"data:geometry:wing:sweep_25\"].value[0] = sweep_vec[i]\n",
    "    input_data.save() # Save the inputs\n",
    "    \n",
    "#   Evaluate the problem with the new inputs.xml\n",
    "    eval_problem = oad.evaluate_problem(CONFIGURATION_FILE_sims, overwrite=True)\n",
    "    \n",
    "#   Access the outputs list:\n",
    "    output_data = oad.DataFile(pth.join(simDir, \"problem_outputs_BWB_sweep%d.xml\"%(sweep_vec[i])))\n",
    "#   Save the outputs file:\n",
    "    output_data.save()\n",
    "    \n",
    "    print('-------------------------------------------------------------')\n",
    "    print('END OF SIMULATION %d' % (i+1))\n",
    "    print('-------------------------------------------------------------')\n",
    "\n",
    "\n",
    "print('-------------------------------------------------------------')\n",
    "print('ALL SIMULATIONS COMPLETED')\n",
    "print('-------------------------------------------------------------')"
   ]
  },
  {
   "cell_type": "code",
   "execution_count": null,
   "metadata": {},
   "outputs": [],
   "source": []
  }
 ],
 "metadata": {
  "kernelspec": {
   "display_name": "Python 3 (ipykernel)",
   "language": "python",
   "name": "python3"
  },
  "language_info": {
   "codemirror_mode": {
    "name": "ipython",
    "version": 3
   },
   "file_extension": ".py",
   "mimetype": "text/x-python",
   "name": "python",
   "nbconvert_exporter": "python",
   "pygments_lexer": "ipython3",
   "version": "3.9.7"
  }
 },
 "nbformat": 4,
 "nbformat_minor": 4
}
