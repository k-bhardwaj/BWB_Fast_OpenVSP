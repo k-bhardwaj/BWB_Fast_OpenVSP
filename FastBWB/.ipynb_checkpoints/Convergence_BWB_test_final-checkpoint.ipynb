{
 "cells": [
  {
   "cell_type": "markdown",
   "metadata": {},
   "source": [
    "<div class=\"row\">\n",
    "  <div class=\"column\">\n",
    "    <img src=\"./img/logo-ISAE_SUPAERO.png\" width=\"200\">\n",
    "  </div>\n",
    "</div>"
   ]
  },
  {
   "cell_type": "markdown",
   "metadata": {},
   "source": [
    "# BWB CONVERGENCE - Final version\n",
    "#### Notes: Optimization not done\n",
    "21 March 2023\n"
   ]
  },
  {
   "cell_type": "markdown",
   "metadata": {},
   "source": [
    "## 1. Import libraries"
   ]
  },
  {
   "cell_type": "code",
   "execution_count": 1,
   "metadata": {},
   "outputs": [
    {
     "name": "stdout",
     "output_type": "stream",
     "text": [
      "Package 'numpy' is correctly installed.\n",
      "Package 'os.path' is correctly installed.\n",
      "Package 'openmdao.api' is correctly installed.\n",
      "Package 'logging' is correctly installed.\n",
      "Package 'shutil' is correctly installed.\n",
      "Package 'fastoad.api' is correctly installed.\n",
      "Package 'math' is correctly installed.\n",
      "Package 'matplotlib.pyplot' is correctly installed.\n",
      "Package 'plotly.graph_objects' is correctly installed.\n",
      "Package 'array' is correctly installed.\n",
      "Package 'time' is correctly installed.\n",
      "Package 'sys' is correctly installed.\n",
      "Package 'pandas' is correctly installed.\n",
      "Package 'qgrid' is correctly installed.\n",
      "Package 'yaml' is correctly installed.\n"
     ]
    }
   ],
   "source": [
    "# Check if all packages are installed. If not, the program will automatically install the missing ones. \n",
    "\n",
    "import importlib.util\n",
    "import sys\n",
    "import subprocess\n",
    "# Packages list\n",
    "package_names = ['numpy', 'os.path','openmdao.api','logging','shutil','fastoad.api','math','matplotlib.pyplot','plotly.graph_objects','array','time','sys','pandas','qgrid','yaml']\n",
    "num_packages = len(package_names)\n",
    "\n",
    "# Function to install package\n",
    "def install(package):\n",
    "    subprocess.check_call([sys.executable, '-m', 'pip', 'install', package])\n",
    "    \n",
    "# Test libraries: \n",
    "for i in range(num_packages):\n",
    "    spec = importlib.util.find_spec(package_names[i])\n",
    "    if spec is None:\n",
    "        print(\"-----------ERROR-----------: Package '\" + package_names[i] +\"'  is not installed.\")\n",
    "        # Install package: \n",
    "        install(package_names[i])\n",
    "        print(\"-----------UPDATE-----------: Package '\" + package_names[i] +\"'  is now correctly installed.\")\n",
    "        \n",
    "    else:\n",
    "        print(\"Package '\" + package_names[i] + \"' is correctly installed.\")\n",
    "        \n",
    "# Import packages once all of them are correctly installed: \n",
    "import openmdao.api as om\n",
    "from fastoad.module_management.constants import ModelDomain\n",
    "from fastoad.module_management.service_registry import RegisterOpenMDAOSystem, RegisterSubmodel\n",
    "import logging\n",
    "import shutil\n",
    "import fastoad.api as oad\n",
    "import os.path as pth\n",
    "import os\n",
    "import yaml\n",
    "from ruamel.yaml import YAML\n",
    "import matplotlib.pyplot as plt\n",
    "from IPython.display import Javascript, display, Image, HTML\n",
    "import numpy as np\n",
    "import math\n",
    "import plotly.graph_objects as go\n",
    "import array\n",
    "import time\n",
    "import sys\n",
    "import pandas as pd\n",
    "import qgrid\n"
   ]
  },
  {
   "cell_type": "markdown",
   "metadata": {},
   "source": [
    "## 2. Directory set up "
   ]
  },
  {
   "cell_type": "code",
   "execution_count": 2,
   "metadata": {},
   "outputs": [
    {
     "name": "stdout",
     "output_type": "stream",
     "text": [
      "Directory:  C:\\Users\\Sandra\\Documents\\5. SUPAERO\\4. MAE\\4. RP\\HWP5\\4. FAST-OAD\\BWB_convergence\\fast_BWB_final\n",
      "- Data folder path is:  C:\\Users\\Sandra\\Documents\\5. SUPAERO\\4. MAE\\4. RP\\HWP5\\4. FAST-OAD\\BWB_convergence\\fast_BWB_final\\data\n",
      "- Work folder path is:  C:\\Users\\Sandra\\Documents\\5. SUPAERO\\4. MAE\\4. RP\\HWP5\\4. FAST-OAD\\BWB_convergence\\fast_BWB_final\\workspace\n"
     ]
    }
   ],
   "source": [
    "# # Print the current working directory\n",
    "directory = \"{0}\".format(os.getcwd())\n",
    "print('Directory: ', directory)\n",
    "\n",
    "# Assign data and work folder paths: \n",
    "DATA_FOLDER_PATH = \"data\"\n",
    "WORK_FOLDER_PATH = \"workspace\"\n",
    "\n",
    "# Print data and work folder paths: \n",
    "print('- Data folder path is: ',directory +'\\data')\n",
    "print('- Work folder path is: ',directory +'\\workspace')"
   ]
  },
  {
   "cell_type": "markdown",
   "metadata": {},
   "source": [
    "## 3. Initialization"
   ]
  },
  {
   "cell_type": "code",
   "execution_count": 3,
   "metadata": {},
   "outputs": [
    {
     "name": "stdout",
     "output_type": "stream",
     "text": [
      "Problem initialized correctly\n"
     ]
    }
   ],
   "source": [
    "# For having log messages on screen\n",
    "# logging.basicConfig(level=logging.INFO, format=\"%(levelname)-8s: %(message)s\")\n",
    "\n",
    "##################################################################################\n",
    "\n",
    "\n",
    "# BWB CONFIFURATION: \n",
    "CONFIGURATION_FILE_BWB = pth.join(WORK_FOLDER_PATH, \"BWB_configuration.yml\")\n",
    "SOURCE_FILE_BWB = pth.join(DATA_FOLDER_PATH, \"BWB_inputs.xml\")\n",
    "# oad.generate_configuration_file(CONFIGURATION_FILE_tubeWing, overwrite=True)\n",
    "\n",
    "\n",
    "##################################################################################\n",
    "\n",
    "# TUBE AND WING CONFIGURATION\n",
    "# Upload the inputs and outputs directly: \n",
    "inputs_tubeWing = pth.join(WORK_FOLDER_PATH, \"problem_inputs_tubeWing_saved.xml\")\n",
    "outputs_tubeWing = pth.join(WORK_FOLDER_PATH, \"problem_outputs_tubeWing_saved.xml\")\n",
    "\n",
    "print('Problem initialized correctly')"
   ]
  },
  {
   "cell_type": "markdown",
   "metadata": {},
   "source": [
    "## 4. Generate inputs"
   ]
  },
  {
   "cell_type": "code",
   "execution_count": 5,
   "metadata": {},
   "outputs": [
    {
     "name": "stdout",
     "output_type": "stream",
     "text": [
      " - BWB inputs directory is:\n",
      " C:\\Users\\Sandra\\Documents\\5. SUPAERO\\4. MAE\\4. RP\\HWP5\\4. FAST-OAD\\BWB_convergence\\fast_BWB_final\\workspace\\problem_inputs_BWB.xml\n"
     ]
    },
    {
     "data": {
      "application/vnd.jupyter.widget-view+json": {
       "model_id": "70269bd4930b439b86e8c5fe49021bf7",
       "version_major": 2,
       "version_minor": 0
      },
      "text/plain": [
       "VBox(children=(HBox(children=(Button(description='Load', icon='upload', style=ButtonStyle(), tooltip='Load the…"
      ]
     },
     "metadata": {},
     "output_type": "display_data"
    }
   ],
   "source": [
    "yaml = YAML()\n",
    "yaml.preserve_quotes = True\n",
    "with open(CONFIGURATION_FILE_BWB) as f:\n",
    "    test = yaml.load(f)\n",
    "test['input_file'] = './problem_inputs_BWB.xml'\n",
    "test['output_file'] = './problem_outputs_BWB.xml'\n",
    "with open(CONFIGURATION_FILE_BWB, 'wb') as f:\n",
    "    yaml.dump(test, f)\n",
    "\n",
    "# BWB CONFIFURATION - default simulation:\n",
    "inputsBWB = oad.generate_inputs(CONFIGURATION_FILE_BWB, SOURCE_FILE_BWB, overwrite=True)\n",
    "print(' - BWB inputs directory is:\\n', inputsBWB)\n",
    "oad.variable_viewer(inputsBWB)"
   ]
  },
  {
   "cell_type": "markdown",
   "metadata": {},
   "source": [
    "## 5. Evaluate problem"
   ]
  },
  {
   "cell_type": "code",
   "execution_count": 12,
   "metadata": {},
   "outputs": [
    {
     "name": "stdout",
     "output_type": "stream",
     "text": [
      "-------------------------------------------------------------\n",
      "SIMULATION INFORMATION: \n",
      "-------------------------------------------------------------\n",
      "- A total of 16 simulations will be performed.\n",
      "- BWB simulations directory is:  C:\\Users\\Sandra\\Documents\\5. SUPAERO\\4. MAE\\4. RP\\HWP5\\4. FAST-OAD\\BWB_convergence\\fast_BWB_final\\workspace\\BWBsimulations\n",
      "- The range vector is:  [2750. 2800. 2850. 2900. 2950. 3000. 3050. 3100. 3150. 3200. 3250. 3300.\n",
      " 3350. 3400. 3450. 3500.]\n"
     ]
    }
   ],
   "source": [
    "# Set up simulation parameters: \n",
    "print('-------------------------------------------------------------')\n",
    "print('SIMULATION INFORMATION: ')\n",
    "print('-------------------------------------------------------------')\n",
    "nsim = 16 # Number of simulations to be performed\n",
    "simDir = directory +'\\workspace\\BWBsimulations'\n",
    "CONFIGURATION_FILE_sims = pth.join(simDir, \"BWB_configuration.yml\")\n",
    "input_data = oad.DataFile(inputsBWB)\n",
    "range0 = input_data[\"data:TLAR:range\"].value[0]\n",
    "range_increment = 50\n",
    "rangefinal = range0+range_increment*(nsim-1)\n",
    "range_vec = np.linspace(range0,rangefinal,nsim)\n",
    "# range_vec = [3500]\n",
    "print('- A total of', nsim,'simulations will be performed.')\n",
    "print('- BWB simulations directory is: ', simDir)\n",
    "print('- The range vector is: ', range_vec)"
   ]
  },
  {
   "cell_type": "code",
   "execution_count": 13,
   "metadata": {},
   "outputs": [
    {
     "name": "stdout",
     "output_type": "stream",
     "text": [
      "-------------------------------------------------------------\n",
      "START OF SIMULATION  1 , Range = 2750.0 NM\n",
      "-------------------------------------------------------------\n"
     ]
    },
    {
     "name": "stderr",
     "output_type": "stream",
     "text": [
      "Variable \"data:propulsion:rubber_engine:turbine_inlet_temperature\" out of bound: value [1633.] degK is over upper limit ( 1600.0 ) in file C:\\Users\\Sandra\\anaconda3\\lib\\site-packages\\fastoad_cs25\\models\\propulsion\\fuel_propulsion\\rubber_engine\\openmdao.py\n",
      "Variable \"data:propulsion:rubber_engine:turbine_inlet_temperature\" out of bound: value [1633.] degK is over upper limit ( 1600.0 ) in file C:\\Users\\Sandra\\Documents\\5. SUPAERO\\4. MAE\\4. RP\\HWP5\\4. FAST-OAD\\BWB_convergence\\fast_BWB_final\\modules\\propulsion\\fuel_propulsion\\rubber_engine\\openmdao.py\n"
     ]
    },
    {
     "name": "stdout",
     "output_type": "stream",
     "text": [
      "NL: NLBGS Converged in 13 iterations\n",
      "-------------------------------------------------------------\n",
      "END OF SIMULATION 1\n",
      "-------------------------------------------------------------\n",
      "-------------------------------------------------------------\n",
      "START OF SIMULATION  2 , Range = 2800.0 NM\n",
      "-------------------------------------------------------------\n"
     ]
    },
    {
     "name": "stderr",
     "output_type": "stream",
     "text": [
      "Variable \"data:propulsion:rubber_engine:turbine_inlet_temperature\" out of bound: value [1633.] degK is over upper limit ( 1600.0 ) in file C:\\Users\\Sandra\\anaconda3\\lib\\site-packages\\fastoad_cs25\\models\\propulsion\\fuel_propulsion\\rubber_engine\\openmdao.py\n",
      "Variable \"data:propulsion:rubber_engine:turbine_inlet_temperature\" out of bound: value [1633.] degK is over upper limit ( 1600.0 ) in file C:\\Users\\Sandra\\Documents\\5. SUPAERO\\4. MAE\\4. RP\\HWP5\\4. FAST-OAD\\BWB_convergence\\fast_BWB_final\\modules\\propulsion\\fuel_propulsion\\rubber_engine\\openmdao.py\n"
     ]
    },
    {
     "name": "stdout",
     "output_type": "stream",
     "text": [
      "NL: NLBGS Converged in 13 iterations\n",
      "-------------------------------------------------------------\n",
      "END OF SIMULATION 2\n",
      "-------------------------------------------------------------\n",
      "-------------------------------------------------------------\n",
      "START OF SIMULATION  3 , Range = 2850.0 NM\n",
      "-------------------------------------------------------------\n"
     ]
    },
    {
     "name": "stderr",
     "output_type": "stream",
     "text": [
      "Variable \"data:propulsion:rubber_engine:turbine_inlet_temperature\" out of bound: value [1633.] degK is over upper limit ( 1600.0 ) in file C:\\Users\\Sandra\\anaconda3\\lib\\site-packages\\fastoad_cs25\\models\\propulsion\\fuel_propulsion\\rubber_engine\\openmdao.py\n",
      "Variable \"data:propulsion:rubber_engine:turbine_inlet_temperature\" out of bound: value [1633.] degK is over upper limit ( 1600.0 ) in file C:\\Users\\Sandra\\Documents\\5. SUPAERO\\4. MAE\\4. RP\\HWP5\\4. FAST-OAD\\BWB_convergence\\fast_BWB_final\\modules\\propulsion\\fuel_propulsion\\rubber_engine\\openmdao.py\n"
     ]
    },
    {
     "name": "stdout",
     "output_type": "stream",
     "text": [
      "NL: NLBGS Converged in 13 iterations\n",
      "-------------------------------------------------------------\n",
      "END OF SIMULATION 3\n",
      "-------------------------------------------------------------\n",
      "-------------------------------------------------------------\n",
      "START OF SIMULATION  4 , Range = 2900.0 NM\n",
      "-------------------------------------------------------------\n"
     ]
    },
    {
     "name": "stderr",
     "output_type": "stream",
     "text": [
      "Variable \"data:propulsion:rubber_engine:turbine_inlet_temperature\" out of bound: value [1633.] degK is over upper limit ( 1600.0 ) in file C:\\Users\\Sandra\\anaconda3\\lib\\site-packages\\fastoad_cs25\\models\\propulsion\\fuel_propulsion\\rubber_engine\\openmdao.py\n",
      "Variable \"data:propulsion:rubber_engine:turbine_inlet_temperature\" out of bound: value [1633.] degK is over upper limit ( 1600.0 ) in file C:\\Users\\Sandra\\Documents\\5. SUPAERO\\4. MAE\\4. RP\\HWP5\\4. FAST-OAD\\BWB_convergence\\fast_BWB_final\\modules\\propulsion\\fuel_propulsion\\rubber_engine\\openmdao.py\n"
     ]
    },
    {
     "name": "stdout",
     "output_type": "stream",
     "text": [
      "NL: NLBGS Converged in 13 iterations\n",
      "-------------------------------------------------------------\n",
      "END OF SIMULATION 4\n",
      "-------------------------------------------------------------\n",
      "-------------------------------------------------------------\n",
      "START OF SIMULATION  5 , Range = 2950.0 NM\n",
      "-------------------------------------------------------------\n"
     ]
    },
    {
     "name": "stderr",
     "output_type": "stream",
     "text": [
      "Variable \"data:propulsion:rubber_engine:turbine_inlet_temperature\" out of bound: value [1633.] degK is over upper limit ( 1600.0 ) in file C:\\Users\\Sandra\\anaconda3\\lib\\site-packages\\fastoad_cs25\\models\\propulsion\\fuel_propulsion\\rubber_engine\\openmdao.py\n",
      "Variable \"data:propulsion:rubber_engine:turbine_inlet_temperature\" out of bound: value [1633.] degK is over upper limit ( 1600.0 ) in file C:\\Users\\Sandra\\Documents\\5. SUPAERO\\4. MAE\\4. RP\\HWP5\\4. FAST-OAD\\BWB_convergence\\fast_BWB_final\\modules\\propulsion\\fuel_propulsion\\rubber_engine\\openmdao.py\n"
     ]
    },
    {
     "name": "stdout",
     "output_type": "stream",
     "text": [
      "NL: NLBGS Converged in 14 iterations\n",
      "-------------------------------------------------------------\n",
      "END OF SIMULATION 5\n",
      "-------------------------------------------------------------\n",
      "-------------------------------------------------------------\n",
      "START OF SIMULATION  6 , Range = 3000.0 NM\n",
      "-------------------------------------------------------------\n"
     ]
    },
    {
     "name": "stderr",
     "output_type": "stream",
     "text": [
      "Variable \"data:propulsion:rubber_engine:turbine_inlet_temperature\" out of bound: value [1633.] degK is over upper limit ( 1600.0 ) in file C:\\Users\\Sandra\\anaconda3\\lib\\site-packages\\fastoad_cs25\\models\\propulsion\\fuel_propulsion\\rubber_engine\\openmdao.py\n",
      "Variable \"data:propulsion:rubber_engine:turbine_inlet_temperature\" out of bound: value [1633.] degK is over upper limit ( 1600.0 ) in file C:\\Users\\Sandra\\Documents\\5. SUPAERO\\4. MAE\\4. RP\\HWP5\\4. FAST-OAD\\BWB_convergence\\fast_BWB_final\\modules\\propulsion\\fuel_propulsion\\rubber_engine\\openmdao.py\n"
     ]
    },
    {
     "name": "stdout",
     "output_type": "stream",
     "text": [
      "NL: NLBGS Converged in 14 iterations\n",
      "-------------------------------------------------------------\n",
      "END OF SIMULATION 6\n",
      "-------------------------------------------------------------\n",
      "-------------------------------------------------------------\n",
      "START OF SIMULATION  7 , Range = 3050.0 NM\n",
      "-------------------------------------------------------------\n"
     ]
    },
    {
     "name": "stderr",
     "output_type": "stream",
     "text": [
      "Variable \"data:propulsion:rubber_engine:turbine_inlet_temperature\" out of bound: value [1633.] degK is over upper limit ( 1600.0 ) in file C:\\Users\\Sandra\\anaconda3\\lib\\site-packages\\fastoad_cs25\\models\\propulsion\\fuel_propulsion\\rubber_engine\\openmdao.py\n",
      "Variable \"data:propulsion:rubber_engine:turbine_inlet_temperature\" out of bound: value [1633.] degK is over upper limit ( 1600.0 ) in file C:\\Users\\Sandra\\Documents\\5. SUPAERO\\4. MAE\\4. RP\\HWP5\\4. FAST-OAD\\BWB_convergence\\fast_BWB_final\\modules\\propulsion\\fuel_propulsion\\rubber_engine\\openmdao.py\n"
     ]
    },
    {
     "name": "stdout",
     "output_type": "stream",
     "text": [
      "NL: NLBGS Converged in 14 iterations\n",
      "-------------------------------------------------------------\n",
      "END OF SIMULATION 7\n",
      "-------------------------------------------------------------\n",
      "-------------------------------------------------------------\n",
      "START OF SIMULATION  8 , Range = 3100.0 NM\n",
      "-------------------------------------------------------------\n"
     ]
    },
    {
     "name": "stderr",
     "output_type": "stream",
     "text": [
      "Variable \"data:propulsion:rubber_engine:turbine_inlet_temperature\" out of bound: value [1633.] degK is over upper limit ( 1600.0 ) in file C:\\Users\\Sandra\\anaconda3\\lib\\site-packages\\fastoad_cs25\\models\\propulsion\\fuel_propulsion\\rubber_engine\\openmdao.py\n",
      "Variable \"data:propulsion:rubber_engine:turbine_inlet_temperature\" out of bound: value [1633.] degK is over upper limit ( 1600.0 ) in file C:\\Users\\Sandra\\Documents\\5. SUPAERO\\4. MAE\\4. RP\\HWP5\\4. FAST-OAD\\BWB_convergence\\fast_BWB_final\\modules\\propulsion\\fuel_propulsion\\rubber_engine\\openmdao.py\n"
     ]
    },
    {
     "name": "stdout",
     "output_type": "stream",
     "text": [
      "NL: NLBGS Converged in 14 iterations\n",
      "-------------------------------------------------------------\n",
      "END OF SIMULATION 8\n",
      "-------------------------------------------------------------\n",
      "-------------------------------------------------------------\n",
      "START OF SIMULATION  9 , Range = 3150.0 NM\n",
      "-------------------------------------------------------------\n"
     ]
    },
    {
     "name": "stderr",
     "output_type": "stream",
     "text": [
      "Variable \"data:propulsion:rubber_engine:turbine_inlet_temperature\" out of bound: value [1633.] degK is over upper limit ( 1600.0 ) in file C:\\Users\\Sandra\\anaconda3\\lib\\site-packages\\fastoad_cs25\\models\\propulsion\\fuel_propulsion\\rubber_engine\\openmdao.py\n",
      "Variable \"data:propulsion:rubber_engine:turbine_inlet_temperature\" out of bound: value [1633.] degK is over upper limit ( 1600.0 ) in file C:\\Users\\Sandra\\Documents\\5. SUPAERO\\4. MAE\\4. RP\\HWP5\\4. FAST-OAD\\BWB_convergence\\fast_BWB_final\\modules\\propulsion\\fuel_propulsion\\rubber_engine\\openmdao.py\n"
     ]
    },
    {
     "name": "stdout",
     "output_type": "stream",
     "text": [
      "NL: NLBGS Converged in 14 iterations\n",
      "-------------------------------------------------------------\n",
      "END OF SIMULATION 9\n",
      "-------------------------------------------------------------\n",
      "-------------------------------------------------------------\n",
      "START OF SIMULATION  10 , Range = 3200.0 NM\n",
      "-------------------------------------------------------------\n"
     ]
    },
    {
     "name": "stderr",
     "output_type": "stream",
     "text": [
      "Variable \"data:propulsion:rubber_engine:turbine_inlet_temperature\" out of bound: value [1633.] degK is over upper limit ( 1600.0 ) in file C:\\Users\\Sandra\\anaconda3\\lib\\site-packages\\fastoad_cs25\\models\\propulsion\\fuel_propulsion\\rubber_engine\\openmdao.py\n",
      "Variable \"data:propulsion:rubber_engine:turbine_inlet_temperature\" out of bound: value [1633.] degK is over upper limit ( 1600.0 ) in file C:\\Users\\Sandra\\Documents\\5. SUPAERO\\4. MAE\\4. RP\\HWP5\\4. FAST-OAD\\BWB_convergence\\fast_BWB_final\\modules\\propulsion\\fuel_propulsion\\rubber_engine\\openmdao.py\n"
     ]
    },
    {
     "name": "stdout",
     "output_type": "stream",
     "text": [
      "NL: NLBGS Converged in 14 iterations\n",
      "-------------------------------------------------------------\n",
      "END OF SIMULATION 10\n",
      "-------------------------------------------------------------\n",
      "-------------------------------------------------------------\n",
      "START OF SIMULATION  11 , Range = 3250.0 NM\n",
      "-------------------------------------------------------------\n"
     ]
    },
    {
     "name": "stderr",
     "output_type": "stream",
     "text": [
      "Variable \"data:propulsion:rubber_engine:turbine_inlet_temperature\" out of bound: value [1633.] degK is over upper limit ( 1600.0 ) in file C:\\Users\\Sandra\\anaconda3\\lib\\site-packages\\fastoad_cs25\\models\\propulsion\\fuel_propulsion\\rubber_engine\\openmdao.py\n",
      "Variable \"data:propulsion:rubber_engine:turbine_inlet_temperature\" out of bound: value [1633.] degK is over upper limit ( 1600.0 ) in file C:\\Users\\Sandra\\Documents\\5. SUPAERO\\4. MAE\\4. RP\\HWP5\\4. FAST-OAD\\BWB_convergence\\fast_BWB_final\\modules\\propulsion\\fuel_propulsion\\rubber_engine\\openmdao.py\n"
     ]
    },
    {
     "name": "stdout",
     "output_type": "stream",
     "text": [
      "NL: NLBGS Converged in 14 iterations\n",
      "-------------------------------------------------------------\n",
      "END OF SIMULATION 11\n",
      "-------------------------------------------------------------\n",
      "-------------------------------------------------------------\n",
      "START OF SIMULATION  12 , Range = 3300.0 NM\n",
      "-------------------------------------------------------------\n"
     ]
    },
    {
     "name": "stderr",
     "output_type": "stream",
     "text": [
      "Variable \"data:propulsion:rubber_engine:turbine_inlet_temperature\" out of bound: value [1633.] degK is over upper limit ( 1600.0 ) in file C:\\Users\\Sandra\\anaconda3\\lib\\site-packages\\fastoad_cs25\\models\\propulsion\\fuel_propulsion\\rubber_engine\\openmdao.py\n",
      "Variable \"data:propulsion:rubber_engine:turbine_inlet_temperature\" out of bound: value [1633.] degK is over upper limit ( 1600.0 ) in file C:\\Users\\Sandra\\Documents\\5. SUPAERO\\4. MAE\\4. RP\\HWP5\\4. FAST-OAD\\BWB_convergence\\fast_BWB_final\\modules\\propulsion\\fuel_propulsion\\rubber_engine\\openmdao.py\n"
     ]
    },
    {
     "name": "stdout",
     "output_type": "stream",
     "text": [
      "NL: NLBGS Converged in 14 iterations\n",
      "-------------------------------------------------------------\n",
      "END OF SIMULATION 12\n",
      "-------------------------------------------------------------\n",
      "-------------------------------------------------------------\n",
      "START OF SIMULATION  13 , Range = 3350.0 NM\n",
      "-------------------------------------------------------------\n"
     ]
    },
    {
     "name": "stderr",
     "output_type": "stream",
     "text": [
      "Variable \"data:propulsion:rubber_engine:turbine_inlet_temperature\" out of bound: value [1633.] degK is over upper limit ( 1600.0 ) in file C:\\Users\\Sandra\\anaconda3\\lib\\site-packages\\fastoad_cs25\\models\\propulsion\\fuel_propulsion\\rubber_engine\\openmdao.py\n",
      "Variable \"data:propulsion:rubber_engine:turbine_inlet_temperature\" out of bound: value [1633.] degK is over upper limit ( 1600.0 ) in file C:\\Users\\Sandra\\Documents\\5. SUPAERO\\4. MAE\\4. RP\\HWP5\\4. FAST-OAD\\BWB_convergence\\fast_BWB_final\\modules\\propulsion\\fuel_propulsion\\rubber_engine\\openmdao.py\n"
     ]
    },
    {
     "name": "stdout",
     "output_type": "stream",
     "text": [
      "NL: NLBGS Converged in 14 iterations\n",
      "-------------------------------------------------------------\n",
      "END OF SIMULATION 13\n",
      "-------------------------------------------------------------\n",
      "-------------------------------------------------------------\n",
      "START OF SIMULATION  14 , Range = 3400.0 NM\n",
      "-------------------------------------------------------------\n"
     ]
    },
    {
     "name": "stderr",
     "output_type": "stream",
     "text": [
      "Variable \"data:propulsion:rubber_engine:turbine_inlet_temperature\" out of bound: value [1633.] degK is over upper limit ( 1600.0 ) in file C:\\Users\\Sandra\\anaconda3\\lib\\site-packages\\fastoad_cs25\\models\\propulsion\\fuel_propulsion\\rubber_engine\\openmdao.py\n",
      "Variable \"data:propulsion:rubber_engine:turbine_inlet_temperature\" out of bound: value [1633.] degK is over upper limit ( 1600.0 ) in file C:\\Users\\Sandra\\Documents\\5. SUPAERO\\4. MAE\\4. RP\\HWP5\\4. FAST-OAD\\BWB_convergence\\fast_BWB_final\\modules\\propulsion\\fuel_propulsion\\rubber_engine\\openmdao.py\n"
     ]
    },
    {
     "name": "stdout",
     "output_type": "stream",
     "text": [
      "NL: NLBGS Converged in 14 iterations\n",
      "-------------------------------------------------------------\n",
      "END OF SIMULATION 14\n",
      "-------------------------------------------------------------\n",
      "-------------------------------------------------------------\n",
      "START OF SIMULATION  15 , Range = 3450.0 NM\n",
      "-------------------------------------------------------------\n"
     ]
    },
    {
     "name": "stderr",
     "output_type": "stream",
     "text": [
      "Variable \"data:propulsion:rubber_engine:turbine_inlet_temperature\" out of bound: value [1633.] degK is over upper limit ( 1600.0 ) in file C:\\Users\\Sandra\\anaconda3\\lib\\site-packages\\fastoad_cs25\\models\\propulsion\\fuel_propulsion\\rubber_engine\\openmdao.py\n",
      "Variable \"data:propulsion:rubber_engine:turbine_inlet_temperature\" out of bound: value [1633.] degK is over upper limit ( 1600.0 ) in file C:\\Users\\Sandra\\Documents\\5. SUPAERO\\4. MAE\\4. RP\\HWP5\\4. FAST-OAD\\BWB_convergence\\fast_BWB_final\\modules\\propulsion\\fuel_propulsion\\rubber_engine\\openmdao.py\n"
     ]
    },
    {
     "name": "stdout",
     "output_type": "stream",
     "text": [
      "NL: NLBGS Converged in 15 iterations\n",
      "-------------------------------------------------------------\n",
      "END OF SIMULATION 15\n",
      "-------------------------------------------------------------\n",
      "-------------------------------------------------------------\n",
      "START OF SIMULATION  16 , Range = 3500.0 NM\n",
      "-------------------------------------------------------------\n"
     ]
    },
    {
     "name": "stderr",
     "output_type": "stream",
     "text": [
      "Variable \"data:propulsion:rubber_engine:turbine_inlet_temperature\" out of bound: value [1633.] degK is over upper limit ( 1600.0 ) in file C:\\Users\\Sandra\\anaconda3\\lib\\site-packages\\fastoad_cs25\\models\\propulsion\\fuel_propulsion\\rubber_engine\\openmdao.py\n",
      "Variable \"data:propulsion:rubber_engine:turbine_inlet_temperature\" out of bound: value [1633.] degK is over upper limit ( 1600.0 ) in file C:\\Users\\Sandra\\Documents\\5. SUPAERO\\4. MAE\\4. RP\\HWP5\\4. FAST-OAD\\BWB_convergence\\fast_BWB_final\\modules\\propulsion\\fuel_propulsion\\rubber_engine\\openmdao.py\n"
     ]
    },
    {
     "name": "stdout",
     "output_type": "stream",
     "text": [
      "NL: NLBGS Converged in 15 iterations\n",
      "-------------------------------------------------------------\n",
      "END OF SIMULATION 16\n",
      "-------------------------------------------------------------\n"
     ]
    }
   ],
   "source": [
    "#  RUN SIMULATION\n",
    "for i in range(0, nsim):\n",
    "    print('-------------------------------------------------------------')\n",
    "    print('START OF SIMULATION ', i+1, ', Range =', range_vec[i], 'NM')\n",
    "    print('-------------------------------------------------------------')\n",
    "    yaml = YAML()\n",
    "    yaml.preserve_quotes = True\n",
    "    with open(CONFIGURATION_FILE_sims) as f:\n",
    "        test = yaml.load(f)\n",
    "    test['input_file'] = './problem_inputs_BWB_range%d.xml' %(range_vec[i]) \n",
    "    test['output_file'] = './problem_outputs_BWB_range%d.xml' %(range_vec[i]) \n",
    "    with open(CONFIGURATION_FILE_sims, 'wb') as f:\n",
    "        yaml.dump(test, f)\n",
    "    \n",
    "    #FAST-OAD set up\n",
    "    CONFIGURATION_FILE_BWB = pth.join(simDir, \"BWB_configuration.yml\")\n",
    "    SOURCE_FILE_BWB = pth.join(DATA_FOLDER_PATH, \"BWB_inputs.xml\") \n",
    "    oad.generate_inputs(CONFIGURATION_FILE_sims, SOURCE_FILE_BWB, overwrite=True)\n",
    "    \n",
    "    #Input definition              \n",
    "    input_data = oad.DataFile(pth.join(simDir, \"problem_inputs_BWB_range%d.xml\" %(range_vec[i])))\n",
    "    input_data[\"data:TLAR:range\"].value[0] = range_vec[i]\n",
    "    input_data[\"data:mission:sizing:main_route:range\"].value[0] = range_vec[i]\n",
    "    input_data.save()\n",
    "    #Run the simulation\n",
    "    eval_problem = oad.evaluate_problem(CONFIGURATION_FILE_sims, overwrite=True)\n",
    "    #Post-process\n",
    "    output_data = oad.DataFile(pth.join(simDir, \"problem_outputs_BWB_range%d.xml\"%(range_vec[i])))\n",
    "    output_data.save()\n",
    "    print('-------------------------------------------------------------')\n",
    "    print('END OF SIMULATION %d' % (i+1))\n",
    "    print('-------------------------------------------------------------')\n",
    "\n",
    "# IDEA: RUN 15-20 SIMULATIONS CHANGING THE RANGE IN ORDER TO OBTAIN THE PAYLOAD- RANGE DIAGRAM\n",
    "# SAVE THE SIMULATIONS IN BWBSimulations\n",
    "# OTHER IDEAS: run other simulations changing other parameters?, vary Mach number\n",
    "\n",
    "# POST PROCESSING: P-L plot, aircraft plot, wing plot, bwb vs. TW, sensitivity?, drag polar, weight plots (and bwb vs.tw). \n",
    "# mass fuel?, constraint plot? \n",
    "\n",
    "print('-------------------------------------------------------------')\n",
    "print('ALL SIMULATIONS COMPLETED')\n",
    "print('-------------------------------------------------------------')"
   ]
  },
  {
   "cell_type": "code",
   "execution_count": null,
   "metadata": {
    "scrolled": true
   },
   "outputs": [],
   "source": [
    "# print('-------------------------------------------------------------')\n",
    "# print('START OF FAST-OAD SIMULATION')\n",
    "# print('-------------------------------------------------------------')\n",
    "# # BWB CONFIFURATION:\n",
    "# BWB_problem = oad.evaluate_problem(CONFIGURATION_FILE_BWB, overwrite=True)\n",
    "# print('-------------------------------------------------------------')\n",
    "# print('END OF FAST-OAD SIMULATION')\n",
    "# print('-------------------------------------------------------------')\n",
    "# ##################################################################################\n",
    "# output_dataBWB = oad.DataFile(pth.join(WORK_FOLDER_PATH, \"problem_outputs_BWB.xml\"))\n",
    "# wingArea = output_dataBWB[\"data:geometry:wing:area\"].value[0]\n",
    "# outerArea = output_dataBWB[\"data:geometry:wing:outer_area\"].value[0]\n",
    "# wettedArea = output_dataBWB[\"data:geometry:wing:wetted_area\"].value[0]\n",
    "# print(' - The computed wing area is %.2f m^2 \\n' % (wingArea))\n",
    "# print(' - The computed outer wing area is %.2f m^2 \\n' % (outerArea))\n",
    "# print(' - The computed wetted wing area is %.2f m^2 \\n' % (wettedArea))"
   ]
  },
  {
   "cell_type": "code",
   "execution_count": null,
   "metadata": {},
   "outputs": [],
   "source": [
    "# OPTIMIZATION PROBLEM: \n",
    "# optim_problem = oad.optimize_problem(CONFIGURATION_FILE_BWB, overwrite=True)\n",
    "# output_dataBWB = oad.DataFile(pth.join(WORK_FOLDER_PATH, \"problem_outputs_BWB.xml\"))\n",
    "# wingArea = output_dataBWB[\"data:geometry:wing:area\"].value[0]\n",
    "# print(' - The computed wing area is %.2f m^2 \\n' % (wingArea))"
   ]
  },
  {
   "cell_type": "markdown",
   "metadata": {},
   "source": [
    "## 6. Variable viewer"
   ]
  },
  {
   "cell_type": "code",
   "execution_count": 17,
   "metadata": {},
   "outputs": [
    {
     "name": "stdout",
     "output_type": "stream",
     "text": [
      "-------------------------------------------------------------\n",
      "BWB CONFIGURATION\n",
      "-------------------------------------------------------------\n"
     ]
    },
    {
     "data": {
      "application/vnd.jupyter.widget-view+json": {
       "model_id": "ce8e2cefd0564c81ac9246c97ea08b8b",
       "version_major": 2,
       "version_minor": 0
      },
      "text/plain": [
       "VBox(children=(HBox(children=(Button(description='Load', icon='upload', style=ButtonStyle(), tooltip='Load the…"
      ]
     },
     "metadata": {},
     "output_type": "display_data"
    }
   ],
   "source": [
    "# BWB CONFIFURATION:\n",
    "print('-------------------------------------------------------------')\n",
    "print('BWB CONFIGURATION')\n",
    "print('-------------------------------------------------------------')\n",
    "simDir_saved = directory +'\\workspace\\BWBsimulations_saved'\n",
    "choose_sim = 10\n",
    "oad.variable_viewer(pth.join(simDir_saved, \"problem_outputs_BWB_range%d.xml\"%(range_vec[choose_sim-1])))\n",
    "\n",
    "\n",
    "##################################################################################\n",
    "# TUBE AND WING CONFIGURATION\n",
    "# print('-------------------------------------------------------------')\n",
    "# print('TUBE AND WING CONFIGURATION')\n",
    "# print('-------------------------------------------------------------')\n",
    "# oad.variable_viewer(outputs_tubeWing)\n"
   ]
  },
  {
   "cell_type": "markdown",
   "metadata": {},
   "source": [
    "#### XSDM FILE "
   ]
  },
  {
   "cell_type": "code",
   "execution_count": null,
   "metadata": {
    "scrolled": true
   },
   "outputs": [],
   "source": [
    "XDSM_FILE = pth.join(WORK_FOLDER_PATH, 'xdsm.html')\n",
    "oad.write_xdsm(CONFIGURATION_FILE_BWB, XDSM_FILE, overwrite=True)\n",
    "from IPython.display import IFrame\n",
    "IFrame(src=XDSM_FILE, width='100%', height='500px')"
   ]
  },
  {
   "cell_type": "markdown",
   "metadata": {},
   "source": [
    "#### N2 FILE "
   ]
  },
  {
   "cell_type": "code",
   "execution_count": null,
   "metadata": {},
   "outputs": [],
   "source": [
    "N2_FILE = pth.join(WORK_FOLDER_PATH, \"n2.html\")\n",
    "oad.write_n2(CONFIGURATION_FILE_BWB, N2_FILE, overwrite=True)\n",
    "from IPython.display import IFrame\n",
    "\n",
    "IFrame(src=N2_FILE, width=\"100%\", height=\"500px\")"
   ]
  },
  {
   "cell_type": "markdown",
   "metadata": {},
   "source": [
    "## 7. Visualization\n",
    "#### Wing plot"
   ]
  },
  {
   "cell_type": "code",
   "execution_count": null,
   "metadata": {},
   "outputs": [],
   "source": [
    "# ALESSANDRO'S CODE: \n",
    "print('-------------------------------------------------------------')\n",
    "print('BWB + TUBE AND WING PLOT')\n",
    "print('-------------------------------------------------------------')\n",
    "# BWB DATA\n",
    "output_dataBWB = oad.DataFile(pth.join(WORK_FOLDER_PATH, \"problem_outputs_BWB.xml\"))\n",
    "y2_wingBWB = output_dataBWB[\"data:geometry:wing:root:y\"].value[0]\n",
    "y4_wingBWB = output_dataBWB[\"data:geometry:wing:tip:y\"].value[0]\n",
    "y3_wingBWB = output_dataBWB[\"data:geometry:wing:kink:y\"].value[0]\n",
    "x4_wingBWB = output_dataBWB[\"data:geometry:wing:tip:leading_edge:x:local\"].value[0]\n",
    "l4_wingBWB = output_dataBWB[\"data:geometry:wing:tip:chord\"].value[0]\n",
    "l2_wingBWB = output_dataBWB[\"data:geometry:wing:root:chord\"].value[0]\n",
    "\n",
    "xBWB = [0, y2_wingBWB, y4_wingBWB, y4_wingBWB, y3_wingBWB, y2_wingBWB, 0, 0]\n",
    "yBWB = [0, 0, x4_wingBWB, (x4_wingBWB + l4_wingBWB), l2_wingBWB, l2_wingBWB, l2_wingBWB, 0]\n",
    "\n",
    "# TUBE AND WING DATA\n",
    "# output_dataTW = oad.DataFile(pth.join(WORK_FOLDER_PATH, \"problem_outputs_tubeWing_saved.xml\"))\n",
    "output_dataTW = oad.DataFile(outputs_tubeWing)\n",
    "y2_wingTW = output_dataTW[\"data:geometry:wing:root:y\"].value[0]\n",
    "y4_wingTW = output_dataTW[\"data:geometry:wing:tip:y\"].value[0]\n",
    "y3_wingTW = output_dataTW[\"data:geometry:wing:kink:y\"].value[0]\n",
    "x4_wingTW = output_dataTW[\"data:geometry:wing:tip:leading_edge:x:local\"].value[0]\n",
    "l4_wingTW = output_dataTW[\"data:geometry:wing:tip:chord\"].value[0]\n",
    "l2_wingTW = output_dataTW[\"data:geometry:wing:root:chord\"].value[0]\n",
    "\n",
    "xTW = [0, y2_wingTW, y4_wingTW, y4_wingTW, y3_wingTW, y2_wingTW, 0, 0]\n",
    "yTW = [0, 0, x4_wingTW, (x4_wingTW + l4_wingTW), l2_wingTW, l2_wingTW, l2_wingTW, 0]\n",
    "\n",
    "plt.figure(1, figsize=(8, 5))\n",
    "plt.plot(xBWB, yBWB,xTW, yTW)\n",
    "plt.legend([\"BWB range = 2750 NM\", \"BWB range = 3200 NM\"], loc=0)\n",
    "plt.ylabel(\"Y-axis\")\n",
    "plt.xlabel(\"X-axis\")\n",
    "plt.title('Wing geometry')\n",
    "plt.axis([0, 18, 0, 11])\n",
    "plt.xlim([0, 20])\n",
    "plt.ylim([-2.5, 20])\n",
    "\n",
    "\n",
    "# To save figure\n",
    "# plt.savefig(os.path.join(self.result_dir, 'Wing_Geometry.jpg'))\n",
    "plt.show()"
   ]
  },
  {
   "cell_type": "markdown",
   "metadata": {},
   "source": [
    "#### Wing plot for different ranges "
   ]
  },
  {
   "cell_type": "code",
   "execution_count": 19,
   "metadata": {},
   "outputs": [
    {
     "data": {
      "image/png": "[encoded data removed]",
      "text/plain": [
       "<Figure size 576x360 with 1 Axes>"
      ]
     },
     "metadata": {
      "needs_background": "light"
     },
     "output_type": "display_data"
    }
   ],
   "source": [
    "# BWB DATA sim1\n",
    "choose_sim = 1\n",
    "output_dataBWBsim1 = oad.DataFile(pth.join(simDir_saved, \"problem_outputs_BWB_range%d.xml\"%(range_vec[choose_sim-1])))\n",
    "y2_wingBWB1 = output_dataBWBsim1[\"data:geometry:wing:root:y\"].value[0]\n",
    "y4_wingBWB1 = output_dataBWBsim1[\"data:geometry:wing:tip:y\"].value[0]\n",
    "y3_wingBWB1 = output_dataBWBsim1[\"data:geometry:wing:kink:y\"].value[0]\n",
    "x4_wingBWB1 = output_dataBWBsim1[\"data:geometry:wing:tip:leading_edge:x:local\"].value[0]\n",
    "l4_wingBWB1 = output_dataBWBsim1[\"data:geometry:wing:tip:chord\"].value[0]\n",
    "l2_wingBWB1 = output_dataBWBsim1[\"data:geometry:wing:root:chord\"].value[0]\n",
    "\n",
    "xBWBsim1 = [0, y2_wingBWB1, y4_wingBWB1, y4_wingBWB1, y3_wingBWB1, y2_wingBWB1, 0, 0]\n",
    "yBWBsim1 = [0, 0, x4_wingBWB1, (x4_wingBWB1 + l4_wingBWB1), l2_wingBWB1, l2_wingBWB1, l2_wingBWB1, 0]\n",
    "\n",
    "# TUBE AND WING DATA\n",
    "# output_dataTW = oad.DataFile(pth.join(WORK_FOLDER_PATH, \"problem_outputs_tubeWing_saved.xml\"))\n",
    "output_dataTW = oad.DataFile(outputs_tubeWing)\n",
    "y2_wingTW = output_dataTW[\"data:geometry:wing:root:y\"].value[0]\n",
    "y4_wingTW = output_dataTW[\"data:geometry:wing:tip:y\"].value[0]\n",
    "y3_wingTW = output_dataTW[\"data:geometry:wing:kink:y\"].value[0]\n",
    "x4_wingTW = output_dataTW[\"data:geometry:wing:tip:leading_edge:x:local\"].value[0]\n",
    "l4_wingTW = output_dataTW[\"data:geometry:wing:tip:chord\"].value[0]\n",
    "l2_wingTW = output_dataTW[\"data:geometry:wing:root:chord\"].value[0]\n",
    "\n",
    "xTW = [0, y2_wingTW, y4_wingTW, y4_wingTW, y3_wingTW, y2_wingTW, 0, 0]\n",
    "yTW = [0, 0, x4_wingTW, (x4_wingTW + l4_wingTW), l2_wingTW, l2_wingTW, l2_wingTW, 0]\n",
    "\n",
    "# BWB DATA sim10\n",
    "# choose_sim = 12\n",
    "# output_dataBWBsim10 = oad.DataFile(pth.join(simDir_saved, \"problem_outputs_BWB_range%d.xml\"%(range_vec[choose_sim-1])))\n",
    "# y2_wingBWB10 = output_dataBWBsim10[\"data:geometry:wing:root:y\"].value[0]\n",
    "# y4_wingBWB10 = output_dataBWBsim10[\"data:geometry:wing:tip:y\"].value[0]\n",
    "# y3_wingBWB10 = output_dataBWBsim10[\"data:geometry:wing:kink:y\"].value[0]\n",
    "# x4_wingBWB10 = output_dataBWBsim10[\"data:geometry:wing:tip:leading_edge:x:local\"].value[0]\n",
    "# l4_wingBWB10 = output_dataBWBsim10[\"data:geometry:wing:tip:chord\"].value[0]\n",
    "# l2_wingBWB10 = output_dataBWBsim10[\"data:geometry:wing:root:chord\"].value[0]\n",
    "\n",
    "# xBWBsim10 = [0, y2_wingBWB10, y4_wingBWB10, y4_wingBWB10, y3_wingBWB10, y2_wingBWB10, 0, 0]\n",
    "# yBWBsim10 = [0, 0, x4_wingBWB10, (x4_wingBWB10 + l4_wingBWB10), l2_wingBWB10, l2_wingBWB10, l2_wingBWB10, 0]\n",
    "\n",
    "plt.figure(1, figsize=(8, 5))\n",
    "# plt.plot(xBWBsim1, yBWBsim1,xBWBsim10, yBWBsim10)\n",
    "plt.plot(xBWBsim1, yBWBsim1,xTW, yTW)\n",
    "plt.legend([\"BWB sim1\", \"Tube and wing\"], loc=0)\n",
    "plt.ylabel(\"Y-axis \")\n",
    "plt.xlabel(\"X-axis \")\n",
    "plt.title('Wing geometry')\n",
    "plt.axis([0, 18, 0, 11])\n",
    "plt.xlim([0, 20])\n",
    "plt.ylim([-2.5, 20])\n",
    "\n",
    "\n",
    "# To save figure\n",
    "# plt.savefig(os.path.join(self.result_dir, 'Wing_Geometry.jpg'))\n",
    "plt.show()"
   ]
  },
  {
   "cell_type": "markdown",
   "metadata": {},
   "source": [
    "#### Aircraft plot"
   ]
  },
  {
   "cell_type": "code",
   "execution_count": 24,
   "metadata": {},
   "outputs": [
    {
     "name": "stdout",
     "output_type": "stream",
     "text": [
      "-------------------------------------------------------------\n",
      "BWB CONFIGURATION\n",
      "-------------------------------------------------------------\n"
     ]
    },
    {
     "data": {
      "application/vnd.plotly.v1+json": {
       "config": {
        "plotlyServerURL": "https://plot.ly"
       },
       "data": [
        {
         "mode": "lines+markers",
         "type": "scatter",
         "uid": "9cd72cbf-69cc-419b-8708-d32a4c5a262f",
         "x": [
          0,
          -1.846,
          -3.692,
          -3.692,
          -1.846,
          0,
          0,
          -3.692,
          -6.164011290005359,
          -16.43736344001429,
          -16.43736344001429,
          -6.164011290005359,
          -3.692,
          0,
          0,
          0,
          0,
          0,
          0,
          0,
          0,
          1.846,
          3.692,
          3.692,
          1.846,
          0,
          0,
          3.692,
          6.164011290005359,
          16.43736344001429,
          16.43736344001429,
          6.164011290005359,
          3.692,
          0,
          0,
          0,
          0,
          0,
          0,
          0
         ],
         "y": [
          0,
          0,
          3.6919999999999997,
          15.382000000000001,
          21.974285714285717,
          21.974285714285717,
          3.470087625456932,
          3.470087625456932,
          5.107868537718294,
          11.914269513414226,
          18.04556046674171,
          19.30259226394037,
          19.605063818423986,
          19.605063818423986,
          3.470087625456932,
          10.403135926968481,
          10.403135926968481,
          10.403135926968481,
          10.403135926968481,
          10.403135926968481,
          0,
          0,
          3.6919999999999997,
          15.382000000000001,
          21.974285714285717,
          21.974285714285717,
          3.470087625456932,
          3.470087625456932,
          5.107868537718294,
          11.914269513414226,
          18.04556046674171,
          19.30259226394037,
          19.605063818423986,
          19.605063818423986,
          3.470087625456932,
          10.403135926968481,
          10.403135926968481,
          10.403135926968481,
          10.403135926968481,
          10.403135926968481
         ]
        }
       ],
       "layout": {
        "template": {
         "data": {
          "bar": [
           {
            "error_x": {
             "color": "#2a3f5f"
            },
            "error_y": {
             "color": "#2a3f5f"
            },
            "marker": {
             "line": {
              "color": "#E5ECF6",
              "width": 0.5
             },
             "pattern": {
              "fillmode": "overlay",
              "size": 10,
              "solidity": 0.2
             }
            },
            "type": "bar"
           }
          ],
          "barpolar": [
           {
            "marker": {
             "line": {
              "color": "#E5ECF6",
              "width": 0.5
             },
             "pattern": {
              "fillmode": "overlay",
              "size": 10,
              "solidity": 0.2
             }
            },
            "type": "barpolar"
           }
          ],
          "carpet": [
           {
            "aaxis": {
             "endlinecolor": "#2a3f5f",
             "gridcolor": "white",
             "linecolor": "white",
             "minorgridcolor": "white",
             "startlinecolor": "#2a3f5f"
            },
            "baxis": {
             "endlinecolor": "#2a3f5f",
             "gridcolor": "white",
             "linecolor": "white",
             "minorgridcolor": "white",
             "startlinecolor": "#2a3f5f"
            },
            "type": "carpet"
           }
          ],
          "choropleth": [
           {
            "colorbar": {
             "outlinewidth": 0,
             "ticks": ""
            },
            "type": "choropleth"
           }
          ],
          "contour": [
           {
            "colorbar": {
             "outlinewidth": 0,
             "ticks": ""
            },
            "colorscale": [
             [
              0,
              "#0d0887"
             ],
             [
              0.1111111111111111,
              "#46039f"
             ],
             [
              0.2222222222222222,
              "#7201a8"
             ],
             [
              0.3333333333333333,
              "#9c179e"
             ],
             [
              0.4444444444444444,
              "#bd3786"
             ],
             [
              0.5555555555555556,
              "#d8576b"
             ],
             [
              0.6666666666666666,
              "#ed7953"
             ],
             [
              0.7777777777777778,
              "#fb9f3a"
             ],
             [
              0.8888888888888888,
              "#fdca26"
             ],
             [
              1,
              "#f0f921"
             ]
            ],
            "type": "contour"
           }
          ],
          "contourcarpet": [
           {
            "colorbar": {
             "outlinewidth": 0,
             "ticks": ""
            },
            "type": "contourcarpet"
           }
          ],
          "heatmap": [
           {
            "colorbar": {
             "outlinewidth": 0,
             "ticks": ""
            },
            "colorscale": [
             [
              0,
              "#0d0887"
             ],
             [
              0.1111111111111111,
              "#46039f"
             ],
             [
              0.2222222222222222,
              "#7201a8"
             ],
             [
              0.3333333333333333,
              "#9c179e"
             ],
             [
              0.4444444444444444,
              "#bd3786"
             ],
             [
              0.5555555555555556,
              "#d8576b"
             ],
             [
              0.6666666666666666,
              "#ed7953"
             ],
             [
              0.7777777777777778,
              "#fb9f3a"
             ],
             [
              0.8888888888888888,
              "#fdca26"
             ],
             [
              1,
              "#f0f921"
             ]
            ],
            "type": "heatmap"
           }
          ],
          "heatmapgl": [
           {
            "colorbar": {
             "outlinewidth": 0,
             "ticks": ""
            },
            "colorscale": [
             [
              0,
              "#0d0887"
             ],
             [
              0.1111111111111111,
              "#46039f"
             ],
             [
              0.2222222222222222,
              "#7201a8"
             ],
             [
              0.3333333333333333,
              "#9c179e"
             ],
             [
              0.4444444444444444,
              "#bd3786"
             ],
             [
              0.5555555555555556,
              "#d8576b"
             ],
             [
              0.6666666666666666,
              "#ed7953"
             ],
             [
              0.7777777777777778,
              "#fb9f3a"
             ],
             [
              0.8888888888888888,
              "#fdca26"
             ],
             [
              1,
              "#f0f921"
             ]
            ],
            "type": "heatmapgl"
           }
          ],
          "histogram": [
           {
            "marker": {
             "pattern": {
              "fillmode": "overlay",
              "size": 10,
              "solidity": 0.2
             }
            },
            "type": "histogram"
           }
          ],
          "histogram2d": [
           {
            "colorbar": {
             "outlinewidth": 0,
             "ticks": ""
            },
            "colorscale": [
             [
              0,
              "#0d0887"
             ],
             [
              0.1111111111111111,
              "#46039f"
             ],
             [
              0.2222222222222222,
              "#7201a8"
             ],
             [
              0.3333333333333333,
              "#9c179e"
             ],
             [
              0.4444444444444444,
              "#bd3786"
             ],
             [
              0.5555555555555556,
              "#d8576b"
             ],
             [
              0.6666666666666666,
              "#ed7953"
             ],
             [
              0.7777777777777778,
              "#fb9f3a"
             ],
             [
              0.8888888888888888,
              "#fdca26"
             ],
             [
              1,
              "#f0f921"
             ]
            ],
            "type": "histogram2d"
           }
          ],
          "histogram2dcontour": [
           {
            "colorbar": {
             "outlinewidth": 0,
             "ticks": ""
            },
            "colorscale": [
             [
              0,
              "#0d0887"
             ],
             [
              0.1111111111111111,
              "#46039f"
             ],
             [
              0.2222222222222222,
              "#7201a8"
             ],
             [
              0.3333333333333333,
              "#9c179e"
             ],
             [
              0.4444444444444444,
              "#bd3786"
             ],
             [
              0.5555555555555556,
              "#d8576b"
             ],
             [
              0.6666666666666666,
              "#ed7953"
             ],
             [
              0.7777777777777778,
              "#fb9f3a"
             ],
             [
              0.8888888888888888,
              "#fdca26"
             ],
             [
              1,
              "#f0f921"
             ]
            ],
            "type": "histogram2dcontour"
           }
          ],
          "mesh3d": [
           {
            "colorbar": {
             "outlinewidth": 0,
             "ticks": ""
            },
            "type": "mesh3d"
           }
          ],
          "parcoords": [
           {
            "line": {
             "colorbar": {
              "outlinewidth": 0,
              "ticks": ""
             }
            },
            "type": "parcoords"
           }
          ],
          "pie": [
           {
            "automargin": true,
            "type": "pie"
           }
          ],
          "scatter": [
           {
            "marker": {
             "colorbar": {
              "outlinewidth": 0,
              "ticks": ""
             }
            },
            "type": "scatter"
           }
          ],
          "scatter3d": [
           {
            "line": {
             "colorbar": {
              "outlinewidth": 0,
              "ticks": ""
             }
            },
            "marker": {
             "colorbar": {
              "outlinewidth": 0,
              "ticks": ""
             }
            },
            "type": "scatter3d"
           }
          ],
          "scattercarpet": [
           {
            "marker": {
             "colorbar": {
              "outlinewidth": 0,
              "ticks": ""
             }
            },
            "type": "scattercarpet"
           }
          ],
          "scattergeo": [
           {
            "marker": {
             "colorbar": {
              "outlinewidth": 0,
              "ticks": ""
             }
            },
            "type": "scattergeo"
           }
          ],
          "scattergl": [
           {
            "marker": {
             "colorbar": {
              "outlinewidth": 0,
              "ticks": ""
             }
            },
            "type": "scattergl"
           }
          ],
          "scattermapbox": [
           {
            "marker": {
             "colorbar": {
              "outlinewidth": 0,
              "ticks": ""
             }
            },
            "type": "scattermapbox"
           }
          ],
          "scatterpolar": [
           {
            "marker": {
             "colorbar": {
              "outlinewidth": 0,
              "ticks": ""
             }
            },
            "type": "scatterpolar"
           }
          ],
          "scatterpolargl": [
           {
            "marker": {
             "colorbar": {
              "outlinewidth": 0,
              "ticks": ""
             }
            },
            "type": "scatterpolargl"
           }
          ],
          "scatterternary": [
           {
            "marker": {
             "colorbar": {
              "outlinewidth": 0,
              "ticks": ""
             }
            },
            "type": "scatterternary"
           }
          ],
          "surface": [
           {
            "colorbar": {
             "outlinewidth": 0,
             "ticks": ""
            },
            "colorscale": [
             [
              0,
              "#0d0887"
             ],
             [
              0.1111111111111111,
              "#46039f"
             ],
             [
              0.2222222222222222,
              "#7201a8"
             ],
             [
              0.3333333333333333,
              "#9c179e"
             ],
             [
              0.4444444444444444,
              "#bd3786"
             ],
             [
              0.5555555555555556,
              "#d8576b"
             ],
             [
              0.6666666666666666,
              "#ed7953"
             ],
             [
              0.7777777777777778,
              "#fb9f3a"
             ],
             [
              0.8888888888888888,
              "#fdca26"
             ],
             [
              1,
              "#f0f921"
             ]
            ],
            "type": "surface"
           }
          ],
          "table": [
           {
            "cells": {
             "fill": {
              "color": "#EBF0F8"
             },
             "line": {
              "color": "white"
             }
            },
            "header": {
             "fill": {
              "color": "#C8D4E3"
             },
             "line": {
              "color": "white"
             }
            },
            "type": "table"
           }
          ]
         },
         "layout": {
          "annotationdefaults": {
           "arrowcolor": "#2a3f5f",
           "arrowhead": 0,
           "arrowwidth": 1
          },
          "autotypenumbers": "strict",
          "coloraxis": {
           "colorbar": {
            "outlinewidth": 0,
            "ticks": ""
           }
          },
          "colorscale": {
           "diverging": [
            [
             0,
             "#8e0152"
            ],
            [
             0.1,
             "#c51b7d"
            ],
            [
             0.2,
             "#de77ae"
            ],
            [
             0.3,
             "#f1b6da"
            ],
            [
             0.4,
             "#fde0ef"
            ],
            [
             0.5,
             "#f7f7f7"
            ],
            [
             0.6,
             "#e6f5d0"
            ],
            [
             0.7,
             "#b8e186"
            ],
            [
             0.8,
             "#7fbc41"
            ],
            [
             0.9,
             "#4d9221"
            ],
            [
             1,
             "#276419"
            ]
           ],
           "sequential": [
            [
             0,
             "#0d0887"
            ],
            [
             0.1111111111111111,
             "#46039f"
            ],
            [
             0.2222222222222222,
             "#7201a8"
            ],
            [
             0.3333333333333333,
             "#9c179e"
            ],
            [
             0.4444444444444444,
             "#bd3786"
            ],
            [
             0.5555555555555556,
             "#d8576b"
            ],
            [
             0.6666666666666666,
             "#ed7953"
            ],
            [
             0.7777777777777778,
             "#fb9f3a"
            ],
            [
             0.8888888888888888,
             "#fdca26"
            ],
            [
             1,
             "#f0f921"
            ]
           ],
           "sequentialminus": [
            [
             0,
             "#0d0887"
            ],
            [
             0.1111111111111111,
             "#46039f"
            ],
            [
             0.2222222222222222,
             "#7201a8"
            ],
            [
             0.3333333333333333,
             "#9c179e"
            ],
            [
             0.4444444444444444,
             "#bd3786"
            ],
            [
             0.5555555555555556,
             "#d8576b"
            ],
            [
             0.6666666666666666,
             "#ed7953"
            ],
            [
             0.7777777777777778,
             "#fb9f3a"
            ],
            [
             0.8888888888888888,
             "#fdca26"
            ],
            [
             1,
             "#f0f921"
            ]
           ]
          },
          "colorway": [
           "#636efa",
           "#EF553B",
           "#00cc96",
           "#ab63fa",
           "#FFA15A",
           "#19d3f3",
           "#FF6692",
           "#B6E880",
           "#FF97FF",
           "#FECB52"
          ],
          "font": {
           "color": "#2a3f5f"
          },
          "geo": {
           "bgcolor": "white",
           "lakecolor": "white",
           "landcolor": "#E5ECF6",
           "showlakes": true,
           "showland": true,
           "subunitcolor": "white"
          },
          "hoverlabel": {
           "align": "left"
          },
          "hovermode": "closest",
          "mapbox": {
           "style": "light"
          },
          "paper_bgcolor": "white",
          "plot_bgcolor": "#E5ECF6",
          "polar": {
           "angularaxis": {
            "gridcolor": "white",
            "linecolor": "white",
            "ticks": ""
           },
           "bgcolor": "#E5ECF6",
           "radialaxis": {
            "gridcolor": "white",
            "linecolor": "white",
            "ticks": ""
           }
          },
          "scene": {
           "xaxis": {
            "backgroundcolor": "#E5ECF6",
            "gridcolor": "white",
            "gridwidth": 2,
            "linecolor": "white",
            "showbackground": true,
            "ticks": "",
            "zerolinecolor": "white"
           },
           "yaxis": {
            "backgroundcolor": "#E5ECF6",
            "gridcolor": "white",
            "gridwidth": 2,
            "linecolor": "white",
            "showbackground": true,
            "ticks": "",
            "zerolinecolor": "white"
           },
           "zaxis": {
            "backgroundcolor": "#E5ECF6",
            "gridcolor": "white",
            "gridwidth": 2,
            "linecolor": "white",
            "showbackground": true,
            "ticks": "",
            "zerolinecolor": "white"
           }
          },
          "shapedefaults": {
           "line": {
            "color": "#2a3f5f"
           }
          },
          "ternary": {
           "aaxis": {
            "gridcolor": "white",
            "linecolor": "white",
            "ticks": ""
           },
           "baxis": {
            "gridcolor": "white",
            "linecolor": "white",
            "ticks": ""
           },
           "bgcolor": "#E5ECF6",
           "caxis": {
            "gridcolor": "white",
            "linecolor": "white",
            "ticks": ""
           }
          },
          "title": {
           "x": 0.05
          },
          "xaxis": {
           "automargin": true,
           "gridcolor": "white",
           "linecolor": "white",
           "ticks": "",
           "title": {
            "standoff": 15
           },
           "zerolinecolor": "white",
           "zerolinewidth": 2
          },
          "yaxis": {
           "automargin": true,
           "gridcolor": "white",
           "linecolor": "white",
           "ticks": "",
           "title": {
            "standoff": 15
           },
           "zerolinecolor": "white",
           "zerolinewidth": 2
          }
         }
        },
        "title": {
         "text": "Aircraft Geometry",
         "x": 0.5
        },
        "xaxis": {
         "title": {
          "text": "y"
         }
        },
        "yaxis": {
         "scaleanchor": "x",
         "scaleratio": 1,
         "title": {
          "text": "x"
         }
        }
       }
      },
      "text/html": [
       "<div>                            <div id=\"0583bc10-dd6d-4ba8-8f73-2ad00667dbfa\" class=\"plotly-graph-div\" style=\"height:525px; width:100%;\"></div>            <script type=\"text/javascript\">                require([\"plotly\"], function(Plotly) {                    window.PLOTLYENV=window.PLOTLYENV || {};                                    if (document.getElementById(\"0583bc10-dd6d-4ba8-8f73-2ad00667dbfa\")) {                    Plotly.newPlot(                        \"0583bc10-dd6d-4ba8-8f73-2ad00667dbfa\",                        [{\"mode\":\"lines+markers\",\"x\":[-0.0,-1.846,-3.692,-3.692,-1.846,-0.0,-0.0,-3.692,-6.164011290005359,-16.43736344001429,-16.43736344001429,-6.164011290005359,-3.692,-0.0,-0.0,-0.0,-0.0,-0.0,-0.0,-0.0,0.0,1.846,3.692,3.692,1.846,0.0,0.0,3.692,6.164011290005359,16.43736344001429,16.43736344001429,6.164011290005359,3.692,0.0,0.0,0.0,0.0,0.0,0.0,0.0],\"y\":[0.0,0.0,3.6919999999999997,15.382000000000001,21.974285714285717,21.974285714285717,3.470087625456932,3.470087625456932,5.107868537718294,11.914269513414226,18.04556046674171,19.30259226394037,19.605063818423986,19.605063818423986,3.470087625456932,10.403135926968481,10.403135926968481,10.403135926968481,10.403135926968481,10.403135926968481,0.0,0.0,3.6919999999999997,15.382000000000001,21.974285714285717,21.974285714285717,3.470087625456932,3.470087625456932,5.107868537718294,11.914269513414226,18.04556046674171,19.30259226394037,19.605063818423986,19.605063818423986,3.470087625456932,10.403135926968481,10.403135926968481,10.403135926968481,10.403135926968481,10.403135926968481],\"type\":\"scatter\",\"uid\":\"9cd72cbf-69cc-419b-8708-d32a4c5a262f\"}],                        {\"template\":{\"data\":{\"barpolar\":[{\"marker\":{\"line\":{\"color\":\"#E5ECF6\",\"width\":0.5},\"pattern\":{\"fillmode\":\"overlay\",\"size\":10,\"solidity\":0.2}},\"type\":\"barpolar\"}],\"bar\":[{\"error_x\":{\"color\":\"#2a3f5f\"},\"error_y\":{\"color\":\"#2a3f5f\"},\"marker\":{\"line\":{\"color\":\"#E5ECF6\",\"width\":0.5},\"pattern\":{\"fillmode\":\"overlay\",\"size\":10,\"solidity\":0.2}},\"type\":\"bar\"}],\"carpet\":[{\"aaxis\":{\"endlinecolor\":\"#2a3f5f\",\"gridcolor\":\"white\",\"linecolor\":\"white\",\"minorgridcolor\":\"white\",\"startlinecolor\":\"#2a3f5f\"},\"baxis\":{\"endlinecolor\":\"#2a3f5f\",\"gridcolor\":\"white\",\"linecolor\":\"white\",\"minorgridcolor\":\"white\",\"startlinecolor\":\"#2a3f5f\"},\"type\":\"carpet\"}],\"choropleth\":[{\"colorbar\":{\"outlinewidth\":0,\"ticks\":\"\"},\"type\":\"choropleth\"}],\"contourcarpet\":[{\"colorbar\":{\"outlinewidth\":0,\"ticks\":\"\"},\"type\":\"contourcarpet\"}],\"contour\":[{\"colorbar\":{\"outlinewidth\":0,\"ticks\":\"\"},\"colorscale\":[[0.0,\"#0d0887\"],[0.1111111111111111,\"#46039f\"],[0.2222222222222222,\"#7201a8\"],[0.3333333333333333,\"#9c179e\"],[0.4444444444444444,\"#bd3786\"],[0.5555555555555556,\"#d8576b\"],[0.6666666666666666,\"#ed7953\"],[0.7777777777777778,\"#fb9f3a\"],[0.8888888888888888,\"#fdca26\"],[1.0,\"#f0f921\"]],\"type\":\"contour\"}],\"heatmapgl\":[{\"colorbar\":{\"outlinewidth\":0,\"ticks\":\"\"},\"colorscale\":[[0.0,\"#0d0887\"],[0.1111111111111111,\"#46039f\"],[0.2222222222222222,\"#7201a8\"],[0.3333333333333333,\"#9c179e\"],[0.4444444444444444,\"#bd3786\"],[0.5555555555555556,\"#d8576b\"],[0.6666666666666666,\"#ed7953\"],[0.7777777777777778,\"#fb9f3a\"],[0.8888888888888888,\"#fdca26\"],[1.0,\"#f0f921\"]],\"type\":\"heatmapgl\"}],\"heatmap\":[{\"colorbar\":{\"outlinewidth\":0,\"ticks\":\"\"},\"colorscale\":[[0.0,\"#0d0887\"],[0.1111111111111111,\"#46039f\"],[0.2222222222222222,\"#7201a8\"],[0.3333333333333333,\"#9c179e\"],[0.4444444444444444,\"#bd3786\"],[0.5555555555555556,\"#d8576b\"],[0.6666666666666666,\"#ed7953\"],[0.7777777777777778,\"#fb9f3a\"],[0.8888888888888888,\"#fdca26\"],[1.0,\"#f0f921\"]],\"type\":\"heatmap\"}],\"histogram2dcontour\":[{\"colorbar\":{\"outlinewidth\":0,\"ticks\":\"\"},\"colorscale\":[[0.0,\"#0d0887\"],[0.1111111111111111,\"#46039f\"],[0.2222222222222222,\"#7201a8\"],[0.3333333333333333,\"#9c179e\"],[0.4444444444444444,\"#bd3786\"],[0.5555555555555556,\"#d8576b\"],[0.6666666666666666,\"#ed7953\"],[0.7777777777777778,\"#fb9f3a\"],[0.8888888888888888,\"#fdca26\"],[1.0,\"#f0f921\"]],\"type\":\"histogram2dcontour\"}],\"histogram2d\":[{\"colorbar\":{\"outlinewidth\":0,\"ticks\":\"\"},\"colorscale\":[[0.0,\"#0d0887\"],[0.1111111111111111,\"#46039f\"],[0.2222222222222222,\"#7201a8\"],[0.3333333333333333,\"#9c179e\"],[0.4444444444444444,\"#bd3786\"],[0.5555555555555556,\"#d8576b\"],[0.6666666666666666,\"#ed7953\"],[0.7777777777777778,\"#fb9f3a\"],[0.8888888888888888,\"#fdca26\"],[1.0,\"#f0f921\"]],\"type\":\"histogram2d\"}],\"histogram\":[{\"marker\":{\"pattern\":{\"fillmode\":\"overlay\",\"size\":10,\"solidity\":0.2}},\"type\":\"histogram\"}],\"mesh3d\":[{\"colorbar\":{\"outlinewidth\":0,\"ticks\":\"\"},\"type\":\"mesh3d\"}],\"parcoords\":[{\"line\":{\"colorbar\":{\"outlinewidth\":0,\"ticks\":\"\"}},\"type\":\"parcoords\"}],\"pie\":[{\"automargin\":true,\"type\":\"pie\"}],\"scatter3d\":[{\"line\":{\"colorbar\":{\"outlinewidth\":0,\"ticks\":\"\"}},\"marker\":{\"colorbar\":{\"outlinewidth\":0,\"ticks\":\"\"}},\"type\":\"scatter3d\"}],\"scattercarpet\":[{\"marker\":{\"colorbar\":{\"outlinewidth\":0,\"ticks\":\"\"}},\"type\":\"scattercarpet\"}],\"scattergeo\":[{\"marker\":{\"colorbar\":{\"outlinewidth\":0,\"ticks\":\"\"}},\"type\":\"scattergeo\"}],\"scattergl\":[{\"marker\":{\"colorbar\":{\"outlinewidth\":0,\"ticks\":\"\"}},\"type\":\"scattergl\"}],\"scattermapbox\":[{\"marker\":{\"colorbar\":{\"outlinewidth\":0,\"ticks\":\"\"}},\"type\":\"scattermapbox\"}],\"scatterpolargl\":[{\"marker\":{\"colorbar\":{\"outlinewidth\":0,\"ticks\":\"\"}},\"type\":\"scatterpolargl\"}],\"scatterpolar\":[{\"marker\":{\"colorbar\":{\"outlinewidth\":0,\"ticks\":\"\"}},\"type\":\"scatterpolar\"}],\"scatter\":[{\"marker\":{\"colorbar\":{\"outlinewidth\":0,\"ticks\":\"\"}},\"type\":\"scatter\"}],\"scatterternary\":[{\"marker\":{\"colorbar\":{\"outlinewidth\":0,\"ticks\":\"\"}},\"type\":\"scatterternary\"}],\"surface\":[{\"colorbar\":{\"outlinewidth\":0,\"ticks\":\"\"},\"colorscale\":[[0.0,\"#0d0887\"],[0.1111111111111111,\"#46039f\"],[0.2222222222222222,\"#7201a8\"],[0.3333333333333333,\"#9c179e\"],[0.4444444444444444,\"#bd3786\"],[0.5555555555555556,\"#d8576b\"],[0.6666666666666666,\"#ed7953\"],[0.7777777777777778,\"#fb9f3a\"],[0.8888888888888888,\"#fdca26\"],[1.0,\"#f0f921\"]],\"type\":\"surface\"}],\"table\":[{\"cells\":{\"fill\":{\"color\":\"#EBF0F8\"},\"line\":{\"color\":\"white\"}},\"header\":{\"fill\":{\"color\":\"#C8D4E3\"},\"line\":{\"color\":\"white\"}},\"type\":\"table\"}]},\"layout\":{\"annotationdefaults\":{\"arrowcolor\":\"#2a3f5f\",\"arrowhead\":0,\"arrowwidth\":1},\"autotypenumbers\":\"strict\",\"coloraxis\":{\"colorbar\":{\"outlinewidth\":0,\"ticks\":\"\"}},\"colorscale\":{\"diverging\":[[0,\"#8e0152\"],[0.1,\"#c51b7d\"],[0.2,\"#de77ae\"],[0.3,\"#f1b6da\"],[0.4,\"#fde0ef\"],[0.5,\"#f7f7f7\"],[0.6,\"#e6f5d0\"],[0.7,\"#b8e186\"],[0.8,\"#7fbc41\"],[0.9,\"#4d9221\"],[1,\"#276419\"]],\"sequential\":[[0.0,\"#0d0887\"],[0.1111111111111111,\"#46039f\"],[0.2222222222222222,\"#7201a8\"],[0.3333333333333333,\"#9c179e\"],[0.4444444444444444,\"#bd3786\"],[0.5555555555555556,\"#d8576b\"],[0.6666666666666666,\"#ed7953\"],[0.7777777777777778,\"#fb9f3a\"],[0.8888888888888888,\"#fdca26\"],[1.0,\"#f0f921\"]],\"sequentialminus\":[[0.0,\"#0d0887\"],[0.1111111111111111,\"#46039f\"],[0.2222222222222222,\"#7201a8\"],[0.3333333333333333,\"#9c179e\"],[0.4444444444444444,\"#bd3786\"],[0.5555555555555556,\"#d8576b\"],[0.6666666666666666,\"#ed7953\"],[0.7777777777777778,\"#fb9f3a\"],[0.8888888888888888,\"#fdca26\"],[1.0,\"#f0f921\"]]},\"colorway\":[\"#636efa\",\"#EF553B\",\"#00cc96\",\"#ab63fa\",\"#FFA15A\",\"#19d3f3\",\"#FF6692\",\"#B6E880\",\"#FF97FF\",\"#FECB52\"],\"font\":{\"color\":\"#2a3f5f\"},\"geo\":{\"bgcolor\":\"white\",\"lakecolor\":\"white\",\"landcolor\":\"#E5ECF6\",\"showlakes\":true,\"showland\":true,\"subunitcolor\":\"white\"},\"hoverlabel\":{\"align\":\"left\"},\"hovermode\":\"closest\",\"mapbox\":{\"style\":\"light\"},\"paper_bgcolor\":\"white\",\"plot_bgcolor\":\"#E5ECF6\",\"polar\":{\"angularaxis\":{\"gridcolor\":\"white\",\"linecolor\":\"white\",\"ticks\":\"\"},\"bgcolor\":\"#E5ECF6\",\"radialaxis\":{\"gridcolor\":\"white\",\"linecolor\":\"white\",\"ticks\":\"\"}},\"scene\":{\"xaxis\":{\"backgroundcolor\":\"#E5ECF6\",\"gridcolor\":\"white\",\"gridwidth\":2,\"linecolor\":\"white\",\"showbackground\":true,\"ticks\":\"\",\"zerolinecolor\":\"white\"},\"yaxis\":{\"backgroundcolor\":\"#E5ECF6\",\"gridcolor\":\"white\",\"gridwidth\":2,\"linecolor\":\"white\",\"showbackground\":true,\"ticks\":\"\",\"zerolinecolor\":\"white\"},\"zaxis\":{\"backgroundcolor\":\"#E5ECF6\",\"gridcolor\":\"white\",\"gridwidth\":2,\"linecolor\":\"white\",\"showbackground\":true,\"ticks\":\"\",\"zerolinecolor\":\"white\"}},\"shapedefaults\":{\"line\":{\"color\":\"#2a3f5f\"}},\"ternary\":{\"aaxis\":{\"gridcolor\":\"white\",\"linecolor\":\"white\",\"ticks\":\"\"},\"baxis\":{\"gridcolor\":\"white\",\"linecolor\":\"white\",\"ticks\":\"\"},\"bgcolor\":\"#E5ECF6\",\"caxis\":{\"gridcolor\":\"white\",\"linecolor\":\"white\",\"ticks\":\"\"}},\"title\":{\"x\":0.05},\"xaxis\":{\"automargin\":true,\"gridcolor\":\"white\",\"linecolor\":\"white\",\"ticks\":\"\",\"title\":{\"standoff\":15},\"zerolinecolor\":\"white\",\"zerolinewidth\":2},\"yaxis\":{\"automargin\":true,\"gridcolor\":\"white\",\"linecolor\":\"white\",\"ticks\":\"\",\"title\":{\"standoff\":15},\"zerolinecolor\":\"white\",\"zerolinewidth\":2}}},\"yaxis\":{\"scaleanchor\":\"x\",\"scaleratio\":1,\"title\":{\"text\":\"x\"}},\"title\":{\"text\":\"Aircraft Geometry\",\"x\":0.5},\"xaxis\":{\"title\":{\"text\":\"y\"}}},                        {\"responsive\": true}                    ).then(function(){\n",
       "                            \n",
       "var gd = document.getElementById('0583bc10-dd6d-4ba8-8f73-2ad00667dbfa');\n",
       "var x = new MutationObserver(function (mutations, observer) {{\n",
       "        var display = window.getComputedStyle(gd).display;\n",
       "        if (!display || display === 'none') {{\n",
       "            console.log([gd, 'removed!']);\n",
       "            Plotly.purge(gd);\n",
       "            observer.disconnect();\n",
       "        }}\n",
       "}});\n",
       "\n",
       "// Listen for the removal of the full notebook cells\n",
       "var notebookContainer = gd.closest('#notebook-container');\n",
       "if (notebookContainer) {{\n",
       "    x.observe(notebookContainer, {childList: true});\n",
       "}}\n",
       "\n",
       "// Listen for the clearing of the current output cell\n",
       "var outputEl = gd.closest('.output');\n",
       "if (outputEl) {{\n",
       "    x.observe(outputEl, {childList: true});\n",
       "}}\n",
       "\n",
       "                        })                };                });            </script>        </div>"
      ]
     },
     "metadata": {},
     "output_type": "display_data"
    }
   ],
   "source": [
    "print('-------------------------------------------------------------')\n",
    "print('BWB CONFIGURATION')\n",
    "print('-------------------------------------------------------------')\n",
    "# fig = oad.wing_geometry_plot(aircraft_file_path: str, name=None, fig=None, *, file_formatter=None)\n",
    "# fig = oad.wing_geometry_plot(BWB_problem.output_file_path)\n",
    "choose_sim = 1\n",
    "fig = oad.aircraft_geometry_plot(pth.join(simDir_saved, \"problem_outputs_BWB_range%d.xml\"%(range_vec[choose_sim-1])))\n",
    "# fig = oad.aircraft_geometry_plot(BWB_problem.output_file_path)\n",
    "# fig.show()\n",
    "fig.show()"
   ]
  },
  {
   "cell_type": "markdown",
   "metadata": {},
   "source": [
    "#### Drag polar plot"
   ]
  },
  {
   "cell_type": "code",
   "execution_count": null,
   "metadata": {},
   "outputs": [],
   "source": [
    "print('-------------------------------------------------------------')\n",
    "print('BWB CONFIGURATION')\n",
    "print('-------------------------------------------------------------')\n",
    "fig = oad.drag_polar_plot(BWB_problem.output_file_path)\n",
    "fig.show()"
   ]
  },
  {
   "cell_type": "markdown",
   "metadata": {},
   "source": [
    "##### Mass breakdown plot"
   ]
  },
  {
   "cell_type": "code",
   "execution_count": null,
   "metadata": {},
   "outputs": [],
   "source": [
    "print('-------------------------------------------------------------')\n",
    "print('BWB CONFIGURATION')\n",
    "print('-------------------------------------------------------------')\n",
    "fig = oad.mass_breakdown_bar_plot(BWB_problem.output_file_path)\n",
    "fig.show()\n",
    "\n",
    "fig = oad.mass_breakdown_sun_plot(BWB_problem.output_file_path)\n",
    "fig.show()"
   ]
  },
  {
   "cell_type": "code",
   "execution_count": null,
   "metadata": {},
   "outputs": [],
   "source": []
  }
 ],
 "metadata": {
  "kernelspec": {
   "display_name": "Python 3 (ipykernel)",
   "language": "python",
   "name": "python3"
  },
  "language_info": {
   "codemirror_mode": {
    "name": "ipython",
    "version": 3
   },
   "file_extension": ".py",
   "mimetype": "text/x-python",
   "name": "python",
   "nbconvert_exporter": "python",
   "pygments_lexer": "ipython3",
   "version": "3.9.12"
  }
 },
 "nbformat": 4,
 "nbformat_minor": 4
}
