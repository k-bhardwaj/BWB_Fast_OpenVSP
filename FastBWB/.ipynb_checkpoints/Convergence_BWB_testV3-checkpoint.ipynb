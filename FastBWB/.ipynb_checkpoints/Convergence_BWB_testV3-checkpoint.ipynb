{
 "cells": [
  {
   "cell_type": "markdown",
   "metadata": {},
   "source": [
    "<div class=\"row\">\n",
    "  <div class=\"column\">\n",
    "    <img src=\"./img/logo-ISAE_SUPAERO.png\" width=\"200\">\n",
    "  </div>\n",
    "</div>"
   ]
  },
  {
   "cell_type": "markdown",
   "metadata": {},
   "source": [
    "# BWB CONVERGENCE: aerodynamics, weight, HQ, geom, loops\n",
    "#### Note: performances, propulsion missing\n",
    "15 March 2023\n"
   ]
  },
  {
   "cell_type": "markdown",
   "metadata": {},
   "source": [
    "## 1. Import libraries"
   ]
  },
  {
   "cell_type": "code",
   "execution_count": 1,
   "metadata": {},
   "outputs": [],
   "source": [
    "import openmdao.api as om\n",
    "from fastoad.module_management.constants import ModelDomain\n",
    "from fastoad.module_management.service_registry import RegisterOpenMDAOSystem, RegisterSubmodel\n",
    "import logging\n",
    "import shutil\n",
    "import fastoad.api as oad\n",
    "import os.path as pth\n",
    "import os\n",
    "import yaml\n",
    "from ruamel.yaml import YAML\n",
    "import matplotlib.pyplot as plt"
   ]
  },
  {
   "cell_type": "markdown",
   "metadata": {},
   "source": [
    "## 2. Directory set up "
   ]
  },
  {
   "cell_type": "code",
   "execution_count": 2,
   "metadata": {},
   "outputs": [
    {
     "name": "stdout",
     "output_type": "stream",
     "text": [
      "Directory:  C:\\Users\\Sandra\\Documents\\5. SUPAERO\\4. MAE\\4. RP\\HWP5\\4. FAST-OAD\\BWB_convergence\\Test convergence-v3\n",
      "- Data folder path is:  C:\\Users\\Sandra\\Documents\\5. SUPAERO\\4. MAE\\4. RP\\HWP5\\4. FAST-OAD\\BWB_convergence\\Test convergence-v3\\data\n",
      "- Work folder path is:  C:\\Users\\Sandra\\Documents\\5. SUPAERO\\4. MAE\\4. RP\\HWP5\\4. FAST-OAD\\BWB_convergence\\Test convergence-v3\\workspace\n"
     ]
    }
   ],
   "source": [
    "# # Print the current working directory\n",
    "directory = \"{0}\".format(os.getcwd())\n",
    "print('Directory: ', directory)\n",
    "\n",
    "# Assign data and work folder paths: \n",
    "DATA_FOLDER_PATH = directory +'\\data'\n",
    "WORK_FOLDER_PATH = directory +'\\workspace'\n",
    "\n",
    "# Print data and work folder paths: \n",
    "print('- Data folder path is: ',DATA_FOLDER_PATH)\n",
    "print('- Work folder path is: ',WORK_FOLDER_PATH)"
   ]
  },
  {
   "cell_type": "markdown",
   "metadata": {},
   "source": [
    "## 3. Initialization"
   ]
  },
  {
   "cell_type": "code",
   "execution_count": 4,
   "metadata": {},
   "outputs": [],
   "source": [
    "# For having log messages on screen\n",
    "# logging.basicConfig(level=logging.INFO, format=\"%(levelname)-8s: %(message)s\")\n",
    "\n",
    "##################################################################################\n",
    "\n",
    "\n",
    "# BWB CONFIFURATION: \n",
    "CONFIGURATION_FILE_BWB = pth.join(WORK_FOLDER_PATH, \"aero_weight_geo_handling-loops.yml\")\n",
    "SOURCE_FILE_BWB = pth.join(DATA_FOLDER_PATH, \"aero_weight_geo_handling-loops.xml\")\n",
    "# oad.generate_configuration_file(CONFIGURATION_FILE_tubeWing, overwrite=True)\n",
    "\n",
    "\n",
    "##################################################################################\n",
    "\n",
    "# TUBE AND WING CONFIGURATION\n",
    "\n",
    "# To run the simulation:\n",
    "# CONFIGURATION_FILE_tubeWing = pth.join(WORK_FOLDER_PATH, \"oad_process_tubeWing.yml\")\n",
    "# SOURCE_FILE_tubeWing = pth.join(DATA_FOLDER_PATH, \"CeRAS01_baseline.xml\")\n",
    "# oad.generate_configuration_file(CONFIGURATION_FILE_tubeWing, overwrite=True)\n",
    "\n",
    "# To upload the inputs and outputs directly: \n",
    "inputs_tubeWing = pth.join(WORK_FOLDER_PATH, \"problem_inputs_tubeWing_saved.xml\")\n",
    "outputs_tubeWing = pth.join(WORK_FOLDER_PATH, \"problem_outputs_tubeWing_saved.xml\")\n",
    "\n",
    "\n",
    "\n"
   ]
  },
  {
   "cell_type": "markdown",
   "metadata": {},
   "source": [
    "## 4. Generate inputs"
   ]
  },
  {
   "cell_type": "code",
   "execution_count": 5,
   "metadata": {},
   "outputs": [
    {
     "name": "stderr",
     "output_type": "stream",
     "text": [
      "C:\\Users\\Sandra\\anaconda3\\lib\\site-packages\\openmdao\\utils\\options_dictionary.py:354: OMDeprecationWarning:'payload_from_npax.BWBtest' is not a valid python name and will become an invalid option name in a future release. You can prevent this warning (and future exceptions) by declaring this option using a valid python name.\n"
     ]
    },
    {
     "data": {
      "application/vnd.jupyter.widget-view+json": {
       "model_id": "35168eba926b4b6b80e24c6ec77c033a",
       "version_major": 2,
       "version_minor": 0
      },
      "text/plain": [
       "VBox(children=(HBox(children=(Button(description='Load', icon='upload', style=ButtonStyle(), tooltip='Load the…"
      ]
     },
     "metadata": {},
     "output_type": "display_data"
    }
   ],
   "source": [
    "yaml = YAML()\n",
    "yaml.preserve_quotes = True\n",
    "\n",
    "##################################################################################\n",
    "\n",
    "\n",
    "# BWB CONFIFURATION:\n",
    "with open(CONFIGURATION_FILE_BWB) as f:\n",
    "    test = yaml.load(f)\n",
    "test['input_file'] = './problem_inputs_BWB.xml' \n",
    "test['output_file'] = './problem_outputs_BWB.xml' \n",
    "with open(CONFIGURATION_FILE_BWB, 'wb') as f:\n",
    "    yaml.dump(test, f)\n",
    "inputsBWB = oad.generate_inputs(CONFIGURATION_FILE_BWB, SOURCE_FILE_BWB, overwrite=True)\n",
    "\n",
    "oad.variable_viewer(inputsBWB)\n",
    "\n",
    "##################################################################################\n",
    "\n",
    "# TUBE AND WING CONFIGURATION\n",
    "# with open(CONFIGURATION_FILE_tubeWing) as f:\n",
    "#     test = yaml.load(f)\n",
    "# test['input_file'] = './problem_inputs_tubeWing.xml' \n",
    "# test['output_file'] = './problem_outputs_tubeWing.xml' \n",
    "# with open(CONFIGURATION_FILE_tubeWing, 'wb') as f:\n",
    "#     yaml.dump(test, f)\n",
    "# oad.generate_inputs(CONFIGURATION_FILE_tubeWing, SOURCE_FILE_tubeWing, overwrite=True)\n"
   ]
  },
  {
   "cell_type": "markdown",
   "metadata": {},
   "source": [
    "## 5. Evaluate problem"
   ]
  },
  {
   "cell_type": "code",
   "execution_count": 6,
   "metadata": {},
   "outputs": [
    {
     "name": "stderr",
     "output_type": "stream",
     "text": [
      "C:\\Users\\Sandra\\anaconda3\\lib\\site-packages\\openmdao\\utils\\options_dictionary.py:354: OMDeprecationWarning:'payload_from_npax.BWBtest' is not a valid python name and will become an invalid option name in a future release. You can prevent this warning (and future exceptions) by declaring this option using a valid python name.\n"
     ]
    },
    {
     "name": "stdout",
     "output_type": "stream",
     "text": [
      "NL: NLBGS Converged in 2 iterations\n"
     ]
    }
   ],
   "source": [
    "# BWB CONFIFURATION:\n",
    "BWB_problem = oad.evaluate_problem(CONFIGURATION_FILE_BWB, overwrite=True)\n",
    "\n",
    "##################################################################################\n",
    "\n",
    "# TUBE AND WING CONFIGURATION\n",
    "# tubeWing_problem = oad.evaluate_problem(CONFIGURATION_FILE_tubeWing, overwrite=True)\n"
   ]
  },
  {
   "cell_type": "markdown",
   "metadata": {},
   "source": [
    "## 6. Variable viewer"
   ]
  },
  {
   "cell_type": "code",
   "execution_count": 7,
   "metadata": {},
   "outputs": [
    {
     "name": "stdout",
     "output_type": "stream",
     "text": [
      "-------------------------------------------------------------\n",
      "BWB CONFIGURATION\n"
     ]
    },
    {
     "data": {
      "application/vnd.jupyter.widget-view+json": {
       "model_id": "6cdca4960dc84059884cbf0d055f01dd",
       "version_major": 2,
       "version_minor": 0
      },
      "text/plain": [
       "VBox(children=(HBox(children=(Button(description='Load', icon='upload', style=ButtonStyle(), tooltip='Load the…"
      ]
     },
     "metadata": {},
     "output_type": "display_data"
    },
    {
     "name": "stdout",
     "output_type": "stream",
     "text": [
      "-------------------------------------------------------------\n"
     ]
    }
   ],
   "source": [
    "# BWB CONFIFURATION:\n",
    "print('-------------------------------------------------------------')\n",
    "print('BWB CONFIGURATION')\n",
    "oad.variable_viewer(BWB_problem.output_file_path)\n",
    "print('-------------------------------------------------------------')\n",
    "\n",
    "\n",
    "##################################################################################\n",
    "# TUBE AND WING CONFIGURATION\n",
    "# print('-------------------------------------------------------------')\n",
    "# print('Tube and Wing Configuration CONFIGURATION')\n",
    "# oad.variable_viewer(tubeWing_problem.output_file_path)\n",
    "# print('-------------------------------------------------------------')\n",
    "\n",
    "\n",
    "# To upload directly the output file: \n",
    "# print('-------------------------------------------------------------')\n",
    "# print('TUBE AND WING CONFIGURATION')\n",
    "# # oad.variable_viewer(pth.join(WORK_FOLDER_PATH, \"problem_outputs_tubeWing.xml\"))\n",
    "# oad.variable_viewer(outputs_tubeWing)\n",
    "# print('-------------------------------------------------------------')\n"
   ]
  },
  {
   "cell_type": "markdown",
   "metadata": {},
   "source": [
    "## 7. Visualization\n",
    "### 7.1 Geometry visualization"
   ]
  },
  {
   "cell_type": "code",
   "execution_count": null,
   "metadata": {},
   "outputs": [],
   "source": [
    "# ALESSANDRO'S CODE: \n",
    "print('-------------------------------------------------------------')\n",
    "print('BWB + TUBE AND WING PLOT')\n",
    "print('-------------------------------------------------------------')\n",
    "\n",
    "\n",
    "# BWB DATA\n",
    "output_dataBWB = oad.DataFile(pth.join(WORK_FOLDER_PATH, \"problem_outputs_BWB.xml\"))\n",
    "y2_wingBWB = output_dataBWB[\"data:geometry:wing:root:y\"].value[0]\n",
    "y4_wingBWB = output_dataBWB[\"data:geometry:wing:tip:y\"].value[0]\n",
    "y3_wingBWB = output_dataBWB[\"data:geometry:wing:kink:y\"].value[0]\n",
    "x4_wingBWB = output_dataBWB[\"data:geometry:wing:tip:leading_edge:x:local\"].value[0]\n",
    "l4_wingBWB = output_dataBWB[\"data:geometry:wing:tip:chord\"].value[0]\n",
    "l2_wingBWB = output_dataBWB[\"data:geometry:wing:root:chord\"].value[0]\n",
    "\n",
    "xBWB = [0, y2_wingBWB, y4_wingBWB, y4_wingBWB, y3_wingBWB, y2_wingBWB, 0, 0]\n",
    "yBWB = [0, 0, x4_wingBWB, (x4_wingBWB + l4_wingBWB), l2_wingBWB, l2_wingBWB, l2_wingBWB, 0]\n",
    "\n",
    "# TUBE AND WING DATA\n",
    "# output_dataTW = oad.DataFile(pth.join(WORK_FOLDER_PATH, \"problem_outputs_tubeWing_saved.xml\"))\n",
    "output_dataTW = oad.DataFile(outputs_tubeWing)\n",
    "y2_wingTW = output_dataTW[\"data:geometry:wing:root:y\"].value[0]\n",
    "y4_wingTW = output_dataTW[\"data:geometry:wing:tip:y\"].value[0]\n",
    "y3_wingTW = output_dataTW[\"data:geometry:wing:kink:y\"].value[0]\n",
    "x4_wingTW = output_dataTW[\"data:geometry:wing:tip:leading_edge:x:local\"].value[0]\n",
    "l4_wingTW = output_dataTW[\"data:geometry:wing:tip:chord\"].value[0]\n",
    "l2_wingTW = output_dataTW[\"data:geometry:wing:root:chord\"].value[0]\n",
    "\n",
    "xTW = [0, y2_wingTW, y4_wingTW, y4_wingTW, y3_wingTW, y2_wingTW, 0, 0]\n",
    "yTW = [0, 0, x4_wingTW, (x4_wingTW + l4_wingTW), l2_wingTW, l2_wingTW, l2_wingTW, 0]\n",
    "\n",
    "plt.figure(1, figsize=(8, 5))\n",
    "plt.plot(xBWB, yBWB,xTW, yTW)\n",
    "plt.legend([\"BWB\", \"Tube and wing\"], loc=0)\n",
    "plt.ylabel(\"Y-axis \")\n",
    "plt.xlabel(\"X-axis \")\n",
    "plt.title('Wing geometry')\n",
    "plt.axis([0, 18, 0, 11])\n",
    "plt.xlim([0, 20])\n",
    "plt.ylim([-2.5, 12.5])\n",
    "\n",
    "\n",
    "# To save figure\n",
    "# plt.savefig(os.path.join(self.result_dir, 'Wing_Geometry.jpg'))\n",
    "plt.show()"
   ]
  },
  {
   "cell_type": "code",
   "execution_count": null,
   "metadata": {},
   "outputs": [],
   "source": [
    "print('-------------------------------------------------------------')\n",
    "print('BWB CONFIGURATION')\n",
    "print('-------------------------------------------------------------')\n",
    "# fig = oad.wing_geometry_plot(aircraft_file_path: str, name=None, fig=None, *, file_formatter=None)\n",
    "# fig = oad.wing_geometry_plot(BWB_problem.output_file_path)\n",
    "fig = oad.aircraft_geometry_plot(BWB_problem.output_file_path)\n",
    "# fig = oad.aircraft_geometry_plot(BWB_problem.output_file_path)\n",
    "# fig.show()\n",
    "fig.show()\n"
   ]
  },
  {
   "cell_type": "code",
   "execution_count": null,
   "metadata": {},
   "outputs": [],
   "source": [
    "# print('-------------------------------------------------------------')\n",
    "# print('BWB CONFIGURATION')\n",
    "# print('-------------------------------------------------------------')\n",
    "# # fig = oad.wing_geometry_plot(aircraft_file_path: str, name=None, fig=None, *, file_formatter=None)\n",
    "# fig = oad.wing_geometry_plot(BWB_problem.output_file_path)\n",
    "# fig.show()\n",
    "\n",
    "# #  error - sweep0 horizontal tail!!!! \n",
    "\n",
    "# #################################################3\n",
    "\n",
    "# print('-------------------------------------------------------------')\n",
    "# print('TUBE AND WING CONFIGURATION')\n",
    "# print('-------------------------------------------------------------')\n",
    "# # fig = oad.wing_geometry_plot(aircraft_file_path: str, name=None, fig=None, *, file_formatter=None)\n",
    "# fig = oad.wing_geometry_plot(tubeWing_problem.output_file_path)\n",
    "# fig.show()\n",
    "\n",
    "# print('-------------------------------------------------------------')\n",
    "# print('TUBE AND WING CONFIGURATION')\n",
    "# print('-------------------------------------------------------------')\n",
    "# fig = oad.aircraft_geometry_plot(tubeWing_problem.output_file_path)\n",
    "# fig.show()"
   ]
  }
 ],
 "metadata": {
  "kernelspec": {
   "display_name": "Python 3 (ipykernel)",
   "language": "python",
   "name": "python3"
  },
  "language_info": {
   "codemirror_mode": {
    "name": "ipython",
    "version": 3
   },
   "file_extension": ".py",
   "mimetype": "text/x-python",
   "name": "python",
   "nbconvert_exporter": "python",
   "pygments_lexer": "ipython3",
   "version": "3.9.12"
  }
 },
 "nbformat": 4,
 "nbformat_minor": 4
}
