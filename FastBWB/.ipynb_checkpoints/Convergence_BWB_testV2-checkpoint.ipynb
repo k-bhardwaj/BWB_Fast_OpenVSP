{
 "cells": [
  {
   "cell_type": "markdown",
   "metadata": {},
   "source": [
    "<div class=\"row\">\n",
    "  <div class=\"column\">\n",
    "    <img src=\"./img/logo-ISAE_SUPAERO.png\" width=\"200\">\n",
    "  </div>\n",
    "</div>"
   ]
  },
  {
   "cell_type": "markdown",
   "metadata": {},
   "source": [
    "# BWB CONVERGENCE: aerodynamics, weight, HQ, geom. \n",
    "#### Note: loops, performances, propulsion missing\n",
    "15 March 2023\n"
   ]
  },
  {
   "cell_type": "markdown",
   "metadata": {},
   "source": [
    "## 1. Import libraries"
   ]
  },
  {
   "cell_type": "code",
   "execution_count": 1,
   "metadata": {},
   "outputs": [],
   "source": [
    "import openmdao.api as om\n",
    "from fastoad.module_management.constants import ModelDomain\n",
    "from fastoad.module_management.service_registry import RegisterOpenMDAOSystem, RegisterSubmodel\n",
    "import logging\n",
    "import shutil\n",
    "import fastoad.api as oad\n",
    "import os.path as pth\n",
    "import os\n",
    "import yaml\n",
    "from ruamel.yaml import YAML\n",
    "import matplotlib.pyplot as plt"
   ]
  },
  {
   "cell_type": "markdown",
   "metadata": {},
   "source": [
    "## 2. Directory set up "
   ]
  },
  {
   "cell_type": "code",
   "execution_count": 2,
   "metadata": {},
   "outputs": [
    {
     "name": "stdout",
     "output_type": "stream",
     "text": [
      "Directory:  C:\\Users\\Sandra\\Documents\\5. SUPAERO\\4. MAE\\4. RP\\HWP5\\4. FAST-OAD\\BWB_convergence\\Test convergence-v2\n",
      "- Data folder path is:  C:\\Users\\Sandra\\Documents\\5. SUPAERO\\4. MAE\\4. RP\\HWP5\\4. FAST-OAD\\BWB_convergence\\Test convergence-v2\\data\n",
      "- Work folder path is:  C:\\Users\\Sandra\\Documents\\5. SUPAERO\\4. MAE\\4. RP\\HWP5\\4. FAST-OAD\\BWB_convergence\\Test convergence-v2\\workspace\n"
     ]
    }
   ],
   "source": [
    "# # Print the current working directory\n",
    "directory = \"{0}\".format(os.getcwd())\n",
    "print('Directory: ', directory)\n",
    "\n",
    "# Assign data and work folder paths: \n",
    "DATA_FOLDER_PATH = directory +'\\data'\n",
    "WORK_FOLDER_PATH = directory +'\\workspace'\n",
    "\n",
    "# Print data and work folder paths: \n",
    "print('- Data folder path is: ',DATA_FOLDER_PATH)\n",
    "print('- Work folder path is: ',WORK_FOLDER_PATH)"
   ]
  },
  {
   "cell_type": "markdown",
   "metadata": {},
   "source": [
    "## 3. Initialization"
   ]
  },
  {
   "cell_type": "code",
   "execution_count": 3,
   "metadata": {},
   "outputs": [],
   "source": [
    "# For having log messages on screen\n",
    "# logging.basicConfig(level=logging.INFO, format=\"%(levelname)-8s: %(message)s\")\n",
    "\n",
    "##################################################################################\n",
    "\n",
    "\n",
    "# BWB CONFIFURATION: \n",
    "CONFIGURATION_FILE_BWB = pth.join(WORK_FOLDER_PATH, \"aero_weight_geo_handling.yml\")\n",
    "SOURCE_FILE_BWB = pth.join(DATA_FOLDER_PATH, \"aero_weight_geo_handling.xml\")\n",
    "# oad.generate_configuration_file(CONFIGURATION_FILE_tubeWing, overwrite=True)\n",
    "\n",
    "\n",
    "##################################################################################\n",
    "\n",
    "# TUBE AND WING CONFIGURATION\n",
    "\n",
    "# To run the simulation:\n",
    "# CONFIGURATION_FILE_tubeWing = pth.join(WORK_FOLDER_PATH, \"oad_process_tubeWing.yml\")\n",
    "# SOURCE_FILE_tubeWing = pth.join(DATA_FOLDER_PATH, \"CeRAS01_baseline.xml\")\n",
    "# oad.generate_configuration_file(CONFIGURATION_FILE_tubeWing, overwrite=True)\n",
    "\n",
    "# To upload the inputs and outputs directly: \n",
    "inputs_tubeWing = pth.join(WORK_FOLDER_PATH, \"problem_inputs_tubeWing_saved.xml\")\n",
    "outputs_tubeWing = pth.join(WORK_FOLDER_PATH, \"problem_outputs_tubeWing_saved.xml\")\n",
    "\n",
    "\n",
    "\n"
   ]
  },
  {
   "cell_type": "markdown",
   "metadata": {},
   "source": [
    "## 4. Generate inputs"
   ]
  },
  {
   "cell_type": "code",
   "execution_count": 4,
   "metadata": {},
   "outputs": [
    {
     "name": "stderr",
     "output_type": "stream",
     "text": [
      "C:\\Users\\Sandra\\anaconda3\\lib\\site-packages\\openmdao\\utils\\options_dictionary.py:354: OMDeprecationWarning:'payload_from_npax.BWBtest' is not a valid python name and will become an invalid option name in a future release. You can prevent this warning (and future exceptions) by declaring this option using a valid python name.\n"
     ]
    },
    {
     "data": {
      "text/plain": [
       "'C:\\\\Users\\\\Sandra\\\\Documents\\\\5. SUPAERO\\\\4. MAE\\\\4. RP\\\\HWP5\\\\4. FAST-OAD\\\\BWB_convergence\\\\Test convergence-v2\\\\workspace\\\\problem_inputs_BWB.xml'"
      ]
     },
     "execution_count": 4,
     "metadata": {},
     "output_type": "execute_result"
    }
   ],
   "source": [
    "yaml = YAML()\n",
    "yaml.preserve_quotes = True\n",
    "\n",
    "##################################################################################\n",
    "\n",
    "\n",
    "# BWB CONFIFURATION:\n",
    "with open(CONFIGURATION_FILE_BWB) as f:\n",
    "    test = yaml.load(f)\n",
    "test['input_file'] = './problem_inputs_BWB.xml' \n",
    "test['output_file'] = './problem_outputs_BWB.xml' \n",
    "with open(CONFIGURATION_FILE_BWB, 'wb') as f:\n",
    "    yaml.dump(test, f)\n",
    "oad.generate_inputs(CONFIGURATION_FILE_BWB, SOURCE_FILE_BWB, overwrite=True)\n",
    "\n",
    "##################################################################################\n",
    "\n",
    "# TUBE AND WING CONFIGURATION\n",
    "# with open(CONFIGURATION_FILE_tubeWing) as f:\n",
    "#     test = yaml.load(f)\n",
    "# test['input_file'] = './problem_inputs_tubeWing.xml' \n",
    "# test['output_file'] = './problem_outputs_tubeWing.xml' \n",
    "# with open(CONFIGURATION_FILE_tubeWing, 'wb') as f:\n",
    "#     yaml.dump(test, f)\n",
    "# oad.generate_inputs(CONFIGURATION_FILE_tubeWing, SOURCE_FILE_tubeWing, overwrite=True)\n"
   ]
  },
  {
   "cell_type": "markdown",
   "metadata": {},
   "source": [
    "## 5. Evaluate problem"
   ]
  },
  {
   "cell_type": "code",
   "execution_count": 5,
   "metadata": {},
   "outputs": [
    {
     "name": "stdout",
     "output_type": "stream",
     "text": [
      "NL: NLBGS Converged in 2 iterations\n"
     ]
    }
   ],
   "source": [
    "# BWB CONFIFURATION:\n",
    "BWB_problem = oad.evaluate_problem(CONFIGURATION_FILE_BWB, overwrite=True)\n",
    "\n",
    "##################################################################################\n",
    "\n",
    "# TUBE AND WING CONFIGURATION\n",
    "# tubeWing_problem = oad.evaluate_problem(CONFIGURATION_FILE_tubeWing, overwrite=True)\n"
   ]
  },
  {
   "cell_type": "markdown",
   "metadata": {},
   "source": [
    "## 6. Variable viewer"
   ]
  },
  {
   "cell_type": "code",
   "execution_count": 6,
   "metadata": {},
   "outputs": [
    {
     "name": "stdout",
     "output_type": "stream",
     "text": [
      "-------------------------------------------------------------\n",
      "BWB CONFIGURATION\n"
     ]
    },
    {
     "data": {
      "application/vnd.jupyter.widget-view+json": {
       "model_id": "4dcce3f879634238814078a44c44ae97",
       "version_major": 2,
       "version_minor": 0
      },
      "text/plain": [
       "VBox(children=(HBox(children=(Button(description='Load', icon='upload', style=ButtonStyle(), tooltip='Load the…"
      ]
     },
     "metadata": {},
     "output_type": "display_data"
    },
    {
     "name": "stdout",
     "output_type": "stream",
     "text": [
      "-------------------------------------------------------------\n",
      "-------------------------------------------------------------\n",
      "TUBE AND WING CONFIGURATION\n"
     ]
    },
    {
     "data": {
      "application/vnd.jupyter.widget-view+json": {
       "model_id": "dbe760f7b25248a6863d85e24b3a1576",
       "version_major": 2,
       "version_minor": 0
      },
      "text/plain": [
       "VBox(children=(HBox(children=(Button(description='Load', icon='upload', style=ButtonStyle(), tooltip='Load the…"
      ]
     },
     "metadata": {},
     "output_type": "display_data"
    },
    {
     "name": "stdout",
     "output_type": "stream",
     "text": [
      "-------------------------------------------------------------\n"
     ]
    }
   ],
   "source": [
    "# BWB CONFIFURATION:\n",
    "print('-------------------------------------------------------------')\n",
    "print('BWB CONFIGURATION')\n",
    "oad.variable_viewer(BWB_problem.output_file_path)\n",
    "print('-------------------------------------------------------------')\n",
    "\n",
    "\n",
    "##################################################################################\n",
    "# TUBE AND WING CONFIGURATION\n",
    "# print('-------------------------------------------------------------')\n",
    "# print('Tube and Wing Configuration CONFIGURATION')\n",
    "# oad.variable_viewer(tubeWing_problem.output_file_path)\n",
    "# print('-------------------------------------------------------------')\n",
    "\n",
    "\n",
    "# To upload directly the output file: \n",
    "print('-------------------------------------------------------------')\n",
    "print('TUBE AND WING CONFIGURATION')\n",
    "# oad.variable_viewer(pth.join(WORK_FOLDER_PATH, \"problem_outputs_tubeWing.xml\"))\n",
    "oad.variable_viewer(outputs_tubeWing)\n",
    "print('-------------------------------------------------------------')\n"
   ]
  },
  {
   "cell_type": "markdown",
   "metadata": {},
   "source": [
    "## 7. Visualization\n",
    "### 7.1 Geometry visualization"
   ]
  },
  {
   "cell_type": "code",
   "execution_count": 7,
   "metadata": {},
   "outputs": [
    {
     "name": "stdout",
     "output_type": "stream",
     "text": [
      "-------------------------------------------------------------\n",
      "BWB + TUBE AND WING PLOT\n",
      "-------------------------------------------------------------\n"
     ]
    },
    {
     "data": {
      "image/png": "[encoded data removed]",
      "text/plain": [
       "<Figure size 576x360 with 1 Axes>"
      ]
     },
     "metadata": {
      "needs_background": "light"
     },
     "output_type": "display_data"
    }
   ],
   "source": [
    "# ALESSANDRO'S CODE: \n",
    "print('-------------------------------------------------------------')\n",
    "print('BWB + TUBE AND WING PLOT')\n",
    "print('-------------------------------------------------------------')\n",
    "\n",
    "\n",
    "# BWB DATA\n",
    "output_dataBWB = oad.DataFile(pth.join(WORK_FOLDER_PATH, \"problem_outputs_BWB.xml\"))\n",
    "y2_wingBWB = output_dataBWB[\"data:geometry:wing:root:y\"].value[0]\n",
    "y4_wingBWB = output_dataBWB[\"data:geometry:wing:tip:y\"].value[0]\n",
    "y3_wingBWB = output_dataBWB[\"data:geometry:wing:kink:y\"].value[0]\n",
    "x4_wingBWB = output_dataBWB[\"data:geometry:wing:tip:leading_edge:x:local\"].value[0]\n",
    "l4_wingBWB = output_dataBWB[\"data:geometry:wing:tip:chord\"].value[0]\n",
    "l2_wingBWB = output_dataBWB[\"data:geometry:wing:root:chord\"].value[0]\n",
    "\n",
    "xBWB = [0, y2_wingBWB, y4_wingBWB, y4_wingBWB, y3_wingBWB, y2_wingBWB, 0, 0]\n",
    "yBWB = [0, 0, x4_wingBWB, (x4_wingBWB + l4_wingBWB), l2_wingBWB, l2_wingBWB, l2_wingBWB, 0]\n",
    "\n",
    "# TUBE AND WING DATA\n",
    "# output_dataTW = oad.DataFile(pth.join(WORK_FOLDER_PATH, \"problem_outputs_tubeWing_saved.xml\"))\n",
    "output_dataTW = oad.DataFile(outputs_tubeWing)\n",
    "y2_wingTW = output_dataTW[\"data:geometry:wing:root:y\"].value[0]\n",
    "y4_wingTW = output_dataTW[\"data:geometry:wing:tip:y\"].value[0]\n",
    "y3_wingTW = output_dataTW[\"data:geometry:wing:kink:y\"].value[0]\n",
    "x4_wingTW = output_dataTW[\"data:geometry:wing:tip:leading_edge:x:local\"].value[0]\n",
    "l4_wingTW = output_dataTW[\"data:geometry:wing:tip:chord\"].value[0]\n",
    "l2_wingTW = output_dataTW[\"data:geometry:wing:root:chord\"].value[0]\n",
    "\n",
    "xTW = [0, y2_wingTW, y4_wingTW, y4_wingTW, y3_wingTW, y2_wingTW, 0, 0]\n",
    "yTW = [0, 0, x4_wingTW, (x4_wingTW + l4_wingTW), l2_wingTW, l2_wingTW, l2_wingTW, 0]\n",
    "\n",
    "plt.figure(1, figsize=(8, 5))\n",
    "plt.plot(xBWB, yBWB,xTW, yTW)\n",
    "plt.legend([\"BWB\", \"Tube and wing\"], loc=0)\n",
    "plt.ylabel(\"Y-axis \")\n",
    "plt.xlabel(\"X-axis \")\n",
    "plt.title('Wing geometry')\n",
    "plt.axis([0, 18, 0, 11])\n",
    "plt.xlim([0, 20])\n",
    "plt.ylim([-2.5, 12.5])\n",
    "\n",
    "\n",
    "# To save figure\n",
    "# plt.savefig(os.path.join(self.result_dir, 'Wing_Geometry.jpg'))\n",
    "plt.show()"
   ]
  },
  {
   "cell_type": "code",
   "execution_count": 9,
   "metadata": {},
   "outputs": [
    {
     "name": "stdout",
     "output_type": "stream",
     "text": [
      "-------------------------------------------------------------\n",
      "BWB CONFIGURATION\n",
      "-------------------------------------------------------------\n"
     ]
    },
    {
     "ename": "ValueError",
     "evalue": "'data:geometry:horizontal_tail:sweep_0' is not in list",
     "output_type": "error",
     "traceback": [
      "\u001b[1;31m---------------------------------------------------------------------------\u001b[0m",
      "\u001b[1;31mValueError\u001b[0m                                Traceback (most recent call last)",
      "Input \u001b[1;32mIn [9]\u001b[0m, in \u001b[0;36m<cell line: 6>\u001b[1;34m()\u001b[0m\n\u001b[0;32m      3\u001b[0m \u001b[38;5;28mprint\u001b[39m(\u001b[38;5;124m'\u001b[39m\u001b[38;5;124m-------------------------------------------------------------\u001b[39m\u001b[38;5;124m'\u001b[39m)\n\u001b[0;32m      4\u001b[0m \u001b[38;5;66;03m# fig = oad.wing_geometry_plot(aircraft_file_path: str, name=None, fig=None, *, file_formatter=None)\u001b[39;00m\n\u001b[0;32m      5\u001b[0m \u001b[38;5;66;03m# fig = oad.wing_geometry_plot(BWB_problem.output_file_path)\u001b[39;00m\n\u001b[1;32m----> 6\u001b[0m fig \u001b[38;5;241m=\u001b[39m \u001b[43moad\u001b[49m\u001b[38;5;241;43m.\u001b[39;49m\u001b[43maircraft_geometry_plot\u001b[49m\u001b[43m(\u001b[49m\u001b[43mBWB_problem\u001b[49m\u001b[38;5;241;43m.\u001b[39;49m\u001b[43moutput_file_path\u001b[49m\u001b[43m)\u001b[49m\n\u001b[0;32m      7\u001b[0m \u001b[38;5;66;03m# fig = oad.aircraft_geometry_plot(BWB_problem.output_file_path)\u001b[39;00m\n\u001b[0;32m      8\u001b[0m \u001b[38;5;66;03m# fig.show()\u001b[39;00m\n\u001b[0;32m      9\u001b[0m fig\u001b[38;5;241m.\u001b[39mshow()\n",
      "File \u001b[1;32m~\\anaconda3\\lib\\site-packages\\fastoad\\gui\\analysis_and_plots.py:153\u001b[0m, in \u001b[0;36maircraft_geometry_plot\u001b[1;34m(aircraft_file_path, name, fig, file_formatter)\u001b[0m\n\u001b[0;32m    151\u001b[0m ht_tip_chord \u001b[38;5;241m=\u001b[39m variables[\u001b[38;5;124m\"\u001b[39m\u001b[38;5;124mdata:geometry:horizontal_tail:tip:chord\u001b[39m\u001b[38;5;124m\"\u001b[39m]\u001b[38;5;241m.\u001b[39mvalue[\u001b[38;5;241m0\u001b[39m]\n\u001b[0;32m    152\u001b[0m ht_span \u001b[38;5;241m=\u001b[39m variables[\u001b[38;5;124m\"\u001b[39m\u001b[38;5;124mdata:geometry:horizontal_tail:span\u001b[39m\u001b[38;5;124m\"\u001b[39m]\u001b[38;5;241m.\u001b[39mvalue[\u001b[38;5;241m0\u001b[39m]\n\u001b[1;32m--> 153\u001b[0m ht_sweep_0 \u001b[38;5;241m=\u001b[39m \u001b[43mvariables\u001b[49m\u001b[43m[\u001b[49m\u001b[38;5;124;43m\"\u001b[39;49m\u001b[38;5;124;43mdata:geometry:horizontal_tail:sweep_0\u001b[39;49m\u001b[38;5;124;43m\"\u001b[39;49m\u001b[43m]\u001b[49m\u001b[38;5;241m.\u001b[39mvalue[\u001b[38;5;241m0\u001b[39m]\n\u001b[0;32m    155\u001b[0m ht_tip_leading_edge_x \u001b[38;5;241m=\u001b[39m ht_span \u001b[38;5;241m/\u001b[39m \u001b[38;5;241m2.0\u001b[39m \u001b[38;5;241m*\u001b[39m np\u001b[38;5;241m.\u001b[39mtan(ht_sweep_0 \u001b[38;5;241m*\u001b[39m np\u001b[38;5;241m.\u001b[39mpi \u001b[38;5;241m/\u001b[39m \u001b[38;5;241m180.0\u001b[39m)\n\u001b[0;32m    157\u001b[0m y_ht \u001b[38;5;241m=\u001b[39m np\u001b[38;5;241m.\u001b[39marray([\u001b[38;5;241m0\u001b[39m, ht_span \u001b[38;5;241m/\u001b[39m \u001b[38;5;241m2.0\u001b[39m, ht_span \u001b[38;5;241m/\u001b[39m \u001b[38;5;241m2.0\u001b[39m, \u001b[38;5;241m0.0\u001b[39m, \u001b[38;5;241m0.0\u001b[39m])\n",
      "File \u001b[1;32m~\\anaconda3\\lib\\site-packages\\fastoad\\openmdao\\variables\\variable_list.py:503\u001b[0m, in \u001b[0;36mVariableList.__getitem__\u001b[1;34m(self, key)\u001b[0m\n\u001b[0;32m    501\u001b[0m \u001b[38;5;28;01mdef\u001b[39;00m \u001b[38;5;21m__getitem__\u001b[39m(\u001b[38;5;28mself\u001b[39m, key) \u001b[38;5;241m-\u001b[39m\u001b[38;5;241m>\u001b[39m Variable:\n\u001b[0;32m    502\u001b[0m     \u001b[38;5;28;01mif\u001b[39;00m \u001b[38;5;28misinstance\u001b[39m(key, \u001b[38;5;28mstr\u001b[39m):\n\u001b[1;32m--> 503\u001b[0m         \u001b[38;5;28;01mreturn\u001b[39;00m \u001b[38;5;28mself\u001b[39m[\u001b[38;5;28;43mself\u001b[39;49m\u001b[38;5;241;43m.\u001b[39;49m\u001b[43mnames\u001b[49m\u001b[43m(\u001b[49m\u001b[43m)\u001b[49m\u001b[38;5;241;43m.\u001b[39;49m\u001b[43mindex\u001b[49m\u001b[43m(\u001b[49m\u001b[43mkey\u001b[49m\u001b[43m)\u001b[49m]\n\u001b[0;32m    504\u001b[0m     \u001b[38;5;28;01melse\u001b[39;00m:\n\u001b[0;32m    505\u001b[0m         \u001b[38;5;28;01mreturn\u001b[39;00m \u001b[38;5;28msuper\u001b[39m()\u001b[38;5;241m.\u001b[39m\u001b[38;5;21m__getitem__\u001b[39m(key)\n",
      "\u001b[1;31mValueError\u001b[0m: 'data:geometry:horizontal_tail:sweep_0' is not in list"
     ]
    }
   ],
   "source": [
    "print('-------------------------------------------------------------')\n",
    "print('BWB CONFIGURATION')\n",
    "print('-------------------------------------------------------------')\n",
    "# fig = oad.wing_geometry_plot(aircraft_file_path: str, name=None, fig=None, *, file_formatter=None)\n",
    "# fig = oad.wing_geometry_plot(BWB_problem.output_file_path)\n",
    "fig = oad.aircraft_geometry_plot(BWB_problem.output_file_path)\n",
    "# fig = oad.aircraft_geometry_plot(BWB_problem.output_file_path)\n",
    "# fig.show()\n",
    "fig.show()\n"
   ]
  },
  {
   "cell_type": "code",
   "execution_count": null,
   "metadata": {},
   "outputs": [],
   "source": [
    "# print('-------------------------------------------------------------')\n",
    "# print('BWB CONFIGURATION')\n",
    "# print('-------------------------------------------------------------')\n",
    "# # fig = oad.wing_geometry_plot(aircraft_file_path: str, name=None, fig=None, *, file_formatter=None)\n",
    "# fig = oad.wing_geometry_plot(BWB_problem.output_file_path)\n",
    "# fig.show()\n",
    "\n",
    "# #  error - sweep0 horizontal tail!!!! \n",
    "\n",
    "# #################################################3\n",
    "\n",
    "# print('-------------------------------------------------------------')\n",
    "# print('TUBE AND WING CONFIGURATION')\n",
    "# print('-------------------------------------------------------------')\n",
    "# # fig = oad.wing_geometry_plot(aircraft_file_path: str, name=None, fig=None, *, file_formatter=None)\n",
    "# fig = oad.wing_geometry_plot(tubeWing_problem.output_file_path)\n",
    "# fig.show()\n",
    "\n",
    "# print('-------------------------------------------------------------')\n",
    "# print('TUBE AND WING CONFIGURATION')\n",
    "# print('-------------------------------------------------------------')\n",
    "# fig = oad.aircraft_geometry_plot(tubeWing_problem.output_file_path)\n",
    "# fig.show()"
   ]
  }
 ],
 "metadata": {
  "kernelspec": {
   "display_name": "Python 3 (ipykernel)",
   "language": "python",
   "name": "python3"
  },
  "language_info": {
   "codemirror_mode": {
    "name": "ipython",
    "version": 3
   },
   "file_extension": ".py",
   "mimetype": "text/x-python",
   "name": "python",
   "nbconvert_exporter": "python",
   "pygments_lexer": "ipython3",
   "version": "3.9.12"
  }
 },
 "nbformat": 4,
 "nbformat_minor": 4
}
