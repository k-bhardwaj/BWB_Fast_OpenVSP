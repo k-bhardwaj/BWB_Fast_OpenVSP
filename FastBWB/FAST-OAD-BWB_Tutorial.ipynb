{
 "cells": [
  {
   "attachments": {},
   "cell_type": "markdown",
   "metadata": {},
   "source": [
    "<div class=\"row\">\n",
    "  <div class=\"column\">\n",
    "    <img src=\"./img/logo-ISAE_SUPAERO.png\" width=\"200\">\n",
    "  </div>\n",
    "</div>"
   ]
  },
  {
   "attachments": {},
   "cell_type": "markdown",
   "metadata": {},
   "source": [
    "# [TUTORIAL] FAST-OAD with BWB integrated architecture\n",
    "#### Sandra MUÑOZ \n",
    "#### Justo RODRÍGUEZ\n",
    "#### Miguel VALADAS\n",
    "\n",
    "Latest update: 26 March 2023\n",
    "\n",
    "------------------\n",
    "\n",
    "This objective of this notebook is to provide the user with a general overview of a typical run of FAST-OAD with BWB integrated architecture. In short, it imports the libraries, generates the inputs, evaluates the problem and shows the outputs list, as well as the XDSM and the N2 diagrams.\n"
   ]
  },
  {
   "attachments": {},
   "cell_type": "markdown",
   "metadata": {},
   "source": [
    "## 1. Import libraries"
   ]
  },
  {
   "cell_type": "code",
   "execution_count": 1,
   "metadata": {},
   "outputs": [
    {
     "name": "stdout",
     "output_type": "stream",
     "text": [
      "Package 'numpy' is correctly installed.\n",
      "Package 'os.path' is correctly installed.\n",
      "Package 'openmdao.api' is correctly installed.\n",
      "Package 'logging' is correctly installed.\n",
      "Package 'shutil' is correctly installed.\n",
      "Package 'fastoad.api' is correctly installed.\n",
      "Package 'math' is correctly installed.\n",
      "Package 'matplotlib.pyplot' is correctly installed.\n",
      "Package 'plotly.graph_objects' is correctly installed.\n",
      "Package 'array' is correctly installed.\n",
      "Package 'time' is correctly installed.\n",
      "Package 'sys' is correctly installed.\n",
      "Package 'pandas' is correctly installed.\n",
      "Package 'qgrid' is correctly installed.\n",
      "Package 'yaml' is correctly installed.\n"
     ]
    }
   ],
   "source": [
    "# Check if all packages are installed. If not, the program will automatically install the missing ones. \n",
    "\n",
    "import importlib.util\n",
    "import sys\n",
    "import subprocess\n",
    "# Packages list\n",
    "package_names = ['numpy', 'os.path','openmdao.api','logging','shutil','fastoad.api','math','matplotlib.pyplot','plotly.graph_objects','array','time','sys','pandas','qgrid','yaml']\n",
    "num_packages = len(package_names)\n",
    "\n",
    "# Function to install package\n",
    "def install(package):\n",
    "    #subprocess.check_call([sys.executable, '-m', 'pip', 'install', package])\n",
    "    print(\"install commented out\")\n",
    "# Test libraries: \n",
    "for i in range(num_packages):\n",
    "    spec = importlib.util.find_spec(package_names[i])\n",
    "    if spec is None:\n",
    "        print(\"-----------ERROR-----------: Package '\" + package_names[i] +\"'  is not installed.\")\n",
    "        # Install package: \n",
    "        install(package_names[i])\n",
    "        print(\"-----------UPDATE-----------: Package '\" + package_names[i] +\"'  is now correctly installed.\")\n",
    "        \n",
    "    else:\n",
    "        print(\"Package '\" + package_names[i] + \"' is correctly installed.\")\n",
    "        \n",
    "# Import packages once all of them are correctly installed: \n",
    "import openmdao.api as om\n",
    "from fastoad.module_management.constants import ModelDomain\n",
    "from fastoad.module_management.service_registry import RegisterOpenMDAOSystem, RegisterSubmodel\n",
    "import logging\n",
    "import shutil\n",
    "import fastoad.api as oad\n",
    "import os.path as pth\n",
    "import os\n",
    "import yaml\n",
    "from ruamel.yaml import YAML\n",
    "import matplotlib.pyplot as plt\n",
    "from IPython.display import Javascript, display, Image, HTML\n",
    "import numpy as np\n",
    "import math\n",
    "import plotly.graph_objects as go\n",
    "import array\n",
    "import time\n",
    "import sys\n",
    "import pandas as pd\n",
    "import qgrid\n"
   ]
  },
  {
   "attachments": {},
   "cell_type": "markdown",
   "metadata": {},
   "source": [
    "## 2. Directory set up "
   ]
  },
  {
   "cell_type": "code",
   "execution_count": 2,
   "metadata": {},
   "outputs": [
    {
     "name": "stdout",
     "output_type": "stream",
     "text": [
      "Directory:  e:\\KSHITIJ\\FastOAD\\THE_FINAL_FINAL\\BWB\n",
      "- Data folder path is:  e:\\KSHITIJ\\FastOAD\\THE_FINAL_FINAL\\BWB\\data\n",
      "- Work folder path is:  e:\\KSHITIJ\\FastOAD\\THE_FINAL_FINAL\\BWB\\workspace\n"
     ]
    }
   ],
   "source": [
    "# # Print the current working directory\n",
    "directory = \"{0}\".format(os.getcwd())\n",
    "print('Directory: ', directory)\n",
    "\n",
    "# Assign data and work folder paths: \n",
    "DATA_FOLDER_PATH = \"data\"\n",
    "WORK_FOLDER_PATH = \"workspace\"\n",
    "\n",
    "# Print data and work folder paths: \n",
    "print('- Data folder path is: ',directory +'\\data')\n",
    "print('- Work folder path is: ',directory +'\\workspace')"
   ]
  },
  {
   "attachments": {},
   "cell_type": "markdown",
   "metadata": {},
   "source": [
    "## 3. Initialization"
   ]
  },
  {
   "cell_type": "code",
   "execution_count": 3,
   "metadata": {},
   "outputs": [
    {
     "name": "stdout",
     "output_type": "stream",
     "text": [
      "Problem initialized correctly\n"
     ]
    }
   ],
   "source": [
    "# For having log messages on screen\n",
    "# logging.basicConfig(level=logging.INFO, format=\"%(levelname)-8s: %(message)s\")\n",
    "\n",
    "##################################################################################\n",
    "\n",
    "\n",
    "# BWB CONFIFURATION: \n",
    "CONFIGURATION_FILE_BWB = pth.join(WORK_FOLDER_PATH, \"BWB_configuration.yml\")\n",
    "SOURCE_FILE_BWB = pth.join(DATA_FOLDER_PATH, \"BWB_inputs.xml\")\n",
    "# oad.generate_configuration_file(CONFIGURATION_FILE_tubeWing, overwrite=True)\n",
    "\n",
    "\n",
    "print('Problem initialized correctly')"
   ]
  },
  {
   "attachments": {},
   "cell_type": "markdown",
   "metadata": {},
   "source": [
    "## 4. Generate inputs"
   ]
  },
  {
   "cell_type": "code",
   "execution_count": 4,
   "metadata": {},
   "outputs": [
    {
     "name": "stdout",
     "output_type": "stream",
     "text": [
      " - BWB inputs directory is:\n",
      " e:\\KSHITIJ\\FastOAD\\THE_FINAL_FINAL\\BWB\\workspace\\problem_inputs_BWB.xml\n"
     ]
    },
    {
     "data": {
      "application/vnd.jupyter.widget-view+json": {
       "model_id": "99c2482b7df24d059498eaf630dc4112",
       "version_major": 2,
       "version_minor": 0
      },
      "text/plain": [
       "VBox(children=(HBox(children=(Button(description='Load', icon='upload', style=ButtonStyle(), tooltip='Load the…"
      ]
     },
     "metadata": {},
     "output_type": "display_data"
    }
   ],
   "source": [
    "# Change inputs and outputs file names in the configuration file:\n",
    "yaml = YAML()\n",
    "yaml.preserve_quotes = True\n",
    "with open(CONFIGURATION_FILE_BWB) as f:\n",
    "    test = yaml.load(f)\n",
    "test['input_file'] = './problem_inputs_BWB.xml'\n",
    "test['output_file'] = './problem_outputs_BWB.xml'\n",
    "with open(CONFIGURATION_FILE_BWB, 'wb') as f:\n",
    "    yaml.dump(test, f)\n",
    "\n",
    "# Generate inputs - default simulation:\n",
    "inputsBWB = oad.generate_inputs(CONFIGURATION_FILE_BWB, SOURCE_FILE_BWB, overwrite=True)\n",
    "print(' - BWB inputs directory is:\\n', inputsBWB)\n",
    "\n",
    "# Visualize list of inputs: \n",
    "oad.variable_viewer(inputsBWB)"
   ]
  },
  {
   "attachments": {},
   "cell_type": "markdown",
   "metadata": {},
   "source": [
    "## 5. Evaluate problem"
   ]
  },
  {
   "cell_type": "code",
   "execution_count": 5,
   "metadata": {},
   "outputs": [
    {
     "name": "stderr",
     "output_type": "stream",
     "text": [
      "Variable \"data:propulsion:rubber_engine:turbine_inlet_temperature\" out of bound: value [1633.] degK is over upper limit ( 1600.0 ) in file e:\\KSHITIJ\\FastOAD\\Fastenvk1\\lib\\site-packages\\fastoad_cs25\\models\\propulsion\\fuel_propulsion\\rubber_engine\\openmdao.py\n",
      "Variable \"data:propulsion:rubber_engine:turbine_inlet_temperature\" out of bound: value [1633.] degK is over upper limit ( 1600.0 ) in file e:\\KSHITIJ\\FastOAD\\THE_FINAL_FINAL\\BWB\\modules\\propulsion\\fuel_propulsion\\rubber_engine\\openmdao.py\n"
     ]
    },
    {
     "name": "stdout",
     "output_type": "stream",
     "text": [
      "NL: NLBGS Converged in 13 iterations\n"
     ]
    }
   ],
   "source": [
    "    BWB_problem = oad.evaluate_problem(CONFIGURATION_FILE_BWB, overwrite=True)"
   ]
  },
  {
   "attachments": {},
   "cell_type": "markdown",
   "metadata": {},
   "source": [
    "## 6. Visualize output variables  "
   ]
  },
  {
   "cell_type": "code",
   "execution_count": 6,
   "metadata": {},
   "outputs": [
    {
     "data": {
      "application/vnd.jupyter.widget-view+json": {
       "model_id": "df42bddc8570467483e61a841da021bd",
       "version_major": 2,
       "version_minor": 0
      },
      "text/plain": [
       "VBox(children=(HBox(children=(Button(description='Load', icon='upload', style=ButtonStyle(), tooltip='Load the…"
      ]
     },
     "metadata": {},
     "output_type": "display_data"
    }
   ],
   "source": [
    "oad.variable_viewer(pth.join(WORK_FOLDER_PATH, \"problem_outputs_BWB.xml\"))"
   ]
  },
  {
   "attachments": {},
   "cell_type": "markdown",
   "metadata": {},
   "source": [
    "## 7. Plot XDSM and N2 diagrams"
   ]
  },
  {
   "cell_type": "code",
   "execution_count": 7,
   "metadata": {},
   "outputs": [
    {
     "name": "stderr",
     "output_type": "stream",
     "text": [
      "e:\\KSHITIJ\\FastOAD\\Fastenvk1\\lib\\site-packages\\openmdao\\visualization\\n2_viewer\\n2_viewer.py:168: OpenMDAOWarning:All-NaN slice encountered\n",
      "e:\\KSHITIJ\\FastOAD\\Fastenvk1\\lib\\site-packages\\openmdao\\visualization\\n2_viewer\\n2_viewer.py:168: OpenMDAOWarning:All-NaN slice encountered\n",
      "e:\\KSHITIJ\\FastOAD\\Fastenvk1\\lib\\site-packages\\openmdao\\visualization\\n2_viewer\\n2_viewer.py:168: OpenMDAOWarning:All-NaN slice encountered\n",
      "e:\\KSHITIJ\\FastOAD\\Fastenvk1\\lib\\site-packages\\openmdao\\visualization\\n2_viewer\\n2_viewer.py:168: OpenMDAOWarning:All-NaN slice encountered\n",
      "e:\\KSHITIJ\\FastOAD\\Fastenvk1\\lib\\site-packages\\openmdao\\visualization\\n2_viewer\\n2_viewer.py:168: OpenMDAOWarning:All-NaN slice encountered\n",
      "e:\\KSHITIJ\\FastOAD\\Fastenvk1\\lib\\site-packages\\openmdao\\visualization\\n2_viewer\\n2_viewer.py:168: OpenMDAOWarning:All-NaN slice encountered\n",
      "e:\\KSHITIJ\\FastOAD\\Fastenvk1\\lib\\site-packages\\openmdao\\visualization\\n2_viewer\\n2_viewer.py:168: OpenMDAOWarning:All-NaN slice encountered\n",
      "e:\\KSHITIJ\\FastOAD\\Fastenvk1\\lib\\site-packages\\openmdao\\visualization\\n2_viewer\\n2_viewer.py:168: OpenMDAOWarning:All-NaN slice encountered\n",
      "e:\\KSHITIJ\\FastOAD\\Fastenvk1\\lib\\site-packages\\openmdao\\visualization\\n2_viewer\\n2_viewer.py:168: OpenMDAOWarning:All-NaN slice encountered\n",
      "e:\\KSHITIJ\\FastOAD\\Fastenvk1\\lib\\site-packages\\openmdao\\visualization\\n2_viewer\\n2_viewer.py:168: OpenMDAOWarning:All-NaN slice encountered\n",
      "e:\\KSHITIJ\\FastOAD\\Fastenvk1\\lib\\site-packages\\openmdao\\visualization\\n2_viewer\\n2_viewer.py:168: OpenMDAOWarning:All-NaN slice encountered\n",
      "e:\\KSHITIJ\\FastOAD\\Fastenvk1\\lib\\site-packages\\openmdao\\visualization\\n2_viewer\\n2_viewer.py:168: OpenMDAOWarning:All-NaN slice encountered\n",
      "e:\\KSHITIJ\\FastOAD\\Fastenvk1\\lib\\site-packages\\openmdao\\visualization\\n2_viewer\\n2_viewer.py:168: OpenMDAOWarning:All-NaN slice encountered\n",
      "e:\\KSHITIJ\\FastOAD\\Fastenvk1\\lib\\site-packages\\openmdao\\visualization\\n2_viewer\\n2_viewer.py:168: OpenMDAOWarning:All-NaN slice encountered\n",
      "e:\\KSHITIJ\\FastOAD\\Fastenvk1\\lib\\site-packages\\openmdao\\visualization\\n2_viewer\\n2_viewer.py:168: OpenMDAOWarning:All-NaN slice encountered\n",
      "e:\\KSHITIJ\\FastOAD\\Fastenvk1\\lib\\site-packages\\openmdao\\visualization\\n2_viewer\\n2_viewer.py:168: OpenMDAOWarning:All-NaN slice encountered\n",
      "e:\\KSHITIJ\\FastOAD\\Fastenvk1\\lib\\site-packages\\openmdao\\visualization\\n2_viewer\\n2_viewer.py:168: OpenMDAOWarning:All-NaN slice encountered\n",
      "e:\\KSHITIJ\\FastOAD\\Fastenvk1\\lib\\site-packages\\openmdao\\visualization\\n2_viewer\\n2_viewer.py:168: OpenMDAOWarning:All-NaN slice encountered\n",
      "e:\\KSHITIJ\\FastOAD\\Fastenvk1\\lib\\site-packages\\openmdao\\visualization\\n2_viewer\\n2_viewer.py:168: OpenMDAOWarning:All-NaN slice encountered\n",
      "e:\\KSHITIJ\\FastOAD\\Fastenvk1\\lib\\site-packages\\openmdao\\visualization\\n2_viewer\\n2_viewer.py:168: OpenMDAOWarning:All-NaN slice encountered\n",
      "e:\\KSHITIJ\\FastOAD\\Fastenvk1\\lib\\site-packages\\openmdao\\visualization\\n2_viewer\\n2_viewer.py:168: OpenMDAOWarning:All-NaN slice encountered\n",
      "e:\\KSHITIJ\\FastOAD\\Fastenvk1\\lib\\site-packages\\openmdao\\visualization\\n2_viewer\\n2_viewer.py:168: OpenMDAOWarning:All-NaN slice encountered\n",
      "e:\\KSHITIJ\\FastOAD\\Fastenvk1\\lib\\site-packages\\openmdao\\visualization\\n2_viewer\\n2_viewer.py:168: OpenMDAOWarning:All-NaN slice encountered\n",
      "e:\\KSHITIJ\\FastOAD\\Fastenvk1\\lib\\site-packages\\openmdao\\visualization\\n2_viewer\\n2_viewer.py:168: OpenMDAOWarning:All-NaN slice encountered\n",
      "e:\\KSHITIJ\\FastOAD\\Fastenvk1\\lib\\site-packages\\openmdao\\visualization\\n2_viewer\\n2_viewer.py:168: OpenMDAOWarning:All-NaN slice encountered\n",
      "e:\\KSHITIJ\\FastOAD\\Fastenvk1\\lib\\site-packages\\openmdao\\visualization\\n2_viewer\\n2_viewer.py:168: OpenMDAOWarning:All-NaN slice encountered\n",
      "e:\\KSHITIJ\\FastOAD\\Fastenvk1\\lib\\site-packages\\openmdao\\visualization\\n2_viewer\\n2_viewer.py:168: OpenMDAOWarning:All-NaN slice encountered\n",
      "e:\\KSHITIJ\\FastOAD\\Fastenvk1\\lib\\site-packages\\openmdao\\visualization\\n2_viewer\\n2_viewer.py:168: OpenMDAOWarning:All-NaN slice encountered\n",
      "e:\\KSHITIJ\\FastOAD\\Fastenvk1\\lib\\site-packages\\openmdao\\visualization\\n2_viewer\\n2_viewer.py:168: OpenMDAOWarning:All-NaN slice encountered\n",
      "e:\\KSHITIJ\\FastOAD\\Fastenvk1\\lib\\site-packages\\openmdao\\visualization\\n2_viewer\\n2_viewer.py:168: OpenMDAOWarning:All-NaN slice encountered\n",
      "e:\\KSHITIJ\\FastOAD\\Fastenvk1\\lib\\site-packages\\openmdao\\visualization\\n2_viewer\\n2_viewer.py:168: OpenMDAOWarning:All-NaN slice encountered\n",
      "e:\\KSHITIJ\\FastOAD\\Fastenvk1\\lib\\site-packages\\openmdao\\visualization\\n2_viewer\\n2_viewer.py:168: OpenMDAOWarning:All-NaN slice encountered\n",
      "e:\\KSHITIJ\\FastOAD\\Fastenvk1\\lib\\site-packages\\openmdao\\visualization\\n2_viewer\\n2_viewer.py:168: OpenMDAOWarning:All-NaN slice encountered\n",
      "e:\\KSHITIJ\\FastOAD\\Fastenvk1\\lib\\site-packages\\openmdao\\visualization\\n2_viewer\\n2_viewer.py:168: OpenMDAOWarning:All-NaN slice encountered\n",
      "e:\\KSHITIJ\\FastOAD\\Fastenvk1\\lib\\site-packages\\openmdao\\visualization\\n2_viewer\\n2_viewer.py:168: OpenMDAOWarning:All-NaN slice encountered\n",
      "e:\\KSHITIJ\\FastOAD\\Fastenvk1\\lib\\site-packages\\openmdao\\visualization\\n2_viewer\\n2_viewer.py:168: OpenMDAOWarning:All-NaN slice encountered\n",
      "e:\\KSHITIJ\\FastOAD\\Fastenvk1\\lib\\site-packages\\openmdao\\visualization\\n2_viewer\\n2_viewer.py:168: OpenMDAOWarning:All-NaN slice encountered\n",
      "e:\\KSHITIJ\\FastOAD\\Fastenvk1\\lib\\site-packages\\openmdao\\visualization\\n2_viewer\\n2_viewer.py:168: OpenMDAOWarning:All-NaN slice encountered\n",
      "e:\\KSHITIJ\\FastOAD\\Fastenvk1\\lib\\site-packages\\openmdao\\visualization\\n2_viewer\\n2_viewer.py:168: OpenMDAOWarning:All-NaN slice encountered\n",
      "e:\\KSHITIJ\\FastOAD\\Fastenvk1\\lib\\site-packages\\openmdao\\visualization\\n2_viewer\\n2_viewer.py:168: OpenMDAOWarning:All-NaN slice encountered\n",
      "e:\\KSHITIJ\\FastOAD\\Fastenvk1\\lib\\site-packages\\openmdao\\visualization\\n2_viewer\\n2_viewer.py:168: OpenMDAOWarning:All-NaN slice encountered\n",
      "e:\\KSHITIJ\\FastOAD\\Fastenvk1\\lib\\site-packages\\openmdao\\visualization\\n2_viewer\\n2_viewer.py:168: OpenMDAOWarning:All-NaN slice encountered\n",
      "e:\\KSHITIJ\\FastOAD\\Fastenvk1\\lib\\site-packages\\openmdao\\visualization\\n2_viewer\\n2_viewer.py:168: OpenMDAOWarning:All-NaN slice encountered\n",
      "e:\\KSHITIJ\\FastOAD\\Fastenvk1\\lib\\site-packages\\openmdao\\visualization\\n2_viewer\\n2_viewer.py:168: OpenMDAOWarning:All-NaN slice encountered\n",
      "e:\\KSHITIJ\\FastOAD\\Fastenvk1\\lib\\site-packages\\openmdao\\visualization\\n2_viewer\\n2_viewer.py:168: OpenMDAOWarning:All-NaN slice encountered\n",
      "e:\\KSHITIJ\\FastOAD\\Fastenvk1\\lib\\site-packages\\openmdao\\visualization\\n2_viewer\\n2_viewer.py:168: OpenMDAOWarning:All-NaN slice encountered\n",
      "e:\\KSHITIJ\\FastOAD\\Fastenvk1\\lib\\site-packages\\openmdao\\visualization\\n2_viewer\\n2_viewer.py:168: OpenMDAOWarning:All-NaN slice encountered\n",
      "e:\\KSHITIJ\\FastOAD\\Fastenvk1\\lib\\site-packages\\openmdao\\visualization\\n2_viewer\\n2_viewer.py:168: OpenMDAOWarning:All-NaN slice encountered\n",
      "e:\\KSHITIJ\\FastOAD\\Fastenvk1\\lib\\site-packages\\openmdao\\visualization\\n2_viewer\\n2_viewer.py:168: OpenMDAOWarning:All-NaN slice encountered\n",
      "e:\\KSHITIJ\\FastOAD\\Fastenvk1\\lib\\site-packages\\openmdao\\visualization\\n2_viewer\\n2_viewer.py:168: OpenMDAOWarning:All-NaN slice encountered\n",
      "e:\\KSHITIJ\\FastOAD\\Fastenvk1\\lib\\site-packages\\openmdao\\visualization\\n2_viewer\\n2_viewer.py:168: OpenMDAOWarning:All-NaN slice encountered\n",
      "e:\\KSHITIJ\\FastOAD\\Fastenvk1\\lib\\site-packages\\openmdao\\visualization\\n2_viewer\\n2_viewer.py:168: OpenMDAOWarning:All-NaN slice encountered\n",
      "e:\\KSHITIJ\\FastOAD\\Fastenvk1\\lib\\site-packages\\openmdao\\visualization\\n2_viewer\\n2_viewer.py:168: OpenMDAOWarning:All-NaN slice encountered\n",
      "e:\\KSHITIJ\\FastOAD\\Fastenvk1\\lib\\site-packages\\openmdao\\visualization\\n2_viewer\\n2_viewer.py:168: OpenMDAOWarning:All-NaN slice encountered\n",
      "e:\\KSHITIJ\\FastOAD\\Fastenvk1\\lib\\site-packages\\openmdao\\visualization\\n2_viewer\\n2_viewer.py:168: OpenMDAOWarning:All-NaN slice encountered\n",
      "e:\\KSHITIJ\\FastOAD\\Fastenvk1\\lib\\site-packages\\openmdao\\visualization\\n2_viewer\\n2_viewer.py:168: OpenMDAOWarning:All-NaN slice encountered\n",
      "e:\\KSHITIJ\\FastOAD\\Fastenvk1\\lib\\site-packages\\openmdao\\visualization\\n2_viewer\\n2_viewer.py:168: OpenMDAOWarning:All-NaN slice encountered\n",
      "e:\\KSHITIJ\\FastOAD\\Fastenvk1\\lib\\site-packages\\openmdao\\visualization\\n2_viewer\\n2_viewer.py:168: OpenMDAOWarning:All-NaN slice encountered\n",
      "e:\\KSHITIJ\\FastOAD\\Fastenvk1\\lib\\site-packages\\openmdao\\visualization\\n2_viewer\\n2_viewer.py:168: OpenMDAOWarning:All-NaN slice encountered\n",
      "e:\\KSHITIJ\\FastOAD\\Fastenvk1\\lib\\site-packages\\openmdao\\visualization\\n2_viewer\\n2_viewer.py:168: OpenMDAOWarning:All-NaN slice encountered\n",
      "e:\\KSHITIJ\\FastOAD\\Fastenvk1\\lib\\site-packages\\openmdao\\visualization\\n2_viewer\\n2_viewer.py:168: OpenMDAOWarning:All-NaN slice encountered\n",
      "e:\\KSHITIJ\\FastOAD\\Fastenvk1\\lib\\site-packages\\openmdao\\visualization\\n2_viewer\\n2_viewer.py:168: OpenMDAOWarning:All-NaN slice encountered\n",
      "e:\\KSHITIJ\\FastOAD\\Fastenvk1\\lib\\site-packages\\openmdao\\visualization\\n2_viewer\\n2_viewer.py:168: OpenMDAOWarning:All-NaN slice encountered\n",
      "e:\\KSHITIJ\\FastOAD\\Fastenvk1\\lib\\site-packages\\openmdao\\visualization\\n2_viewer\\n2_viewer.py:168: OpenMDAOWarning:All-NaN slice encountered\n",
      "e:\\KSHITIJ\\FastOAD\\Fastenvk1\\lib\\site-packages\\openmdao\\visualization\\n2_viewer\\n2_viewer.py:168: OpenMDAOWarning:All-NaN slice encountered\n",
      "e:\\KSHITIJ\\FastOAD\\Fastenvk1\\lib\\site-packages\\openmdao\\visualization\\n2_viewer\\n2_viewer.py:168: OpenMDAOWarning:All-NaN slice encountered\n",
      "e:\\KSHITIJ\\FastOAD\\Fastenvk1\\lib\\site-packages\\openmdao\\visualization\\n2_viewer\\n2_viewer.py:168: OpenMDAOWarning:All-NaN slice encountered\n",
      "e:\\KSHITIJ\\FastOAD\\Fastenvk1\\lib\\site-packages\\openmdao\\visualization\\n2_viewer\\n2_viewer.py:168: OpenMDAOWarning:All-NaN slice encountered\n",
      "e:\\KSHITIJ\\FastOAD\\Fastenvk1\\lib\\site-packages\\openmdao\\visualization\\n2_viewer\\n2_viewer.py:168: OpenMDAOWarning:All-NaN slice encountered\n",
      "e:\\KSHITIJ\\FastOAD\\Fastenvk1\\lib\\site-packages\\openmdao\\visualization\\n2_viewer\\n2_viewer.py:168: OpenMDAOWarning:All-NaN slice encountered\n",
      "e:\\KSHITIJ\\FastOAD\\Fastenvk1\\lib\\site-packages\\openmdao\\visualization\\n2_viewer\\n2_viewer.py:168: OpenMDAOWarning:All-NaN slice encountered\n",
      "e:\\KSHITIJ\\FastOAD\\Fastenvk1\\lib\\site-packages\\openmdao\\visualization\\n2_viewer\\n2_viewer.py:168: OpenMDAOWarning:All-NaN slice encountered\n",
      "e:\\KSHITIJ\\FastOAD\\Fastenvk1\\lib\\site-packages\\openmdao\\visualization\\n2_viewer\\n2_viewer.py:168: OpenMDAOWarning:All-NaN slice encountered\n",
      "e:\\KSHITIJ\\FastOAD\\Fastenvk1\\lib\\site-packages\\openmdao\\visualization\\n2_viewer\\n2_viewer.py:168: OpenMDAOWarning:All-NaN slice encountered\n",
      "e:\\KSHITIJ\\FastOAD\\Fastenvk1\\lib\\site-packages\\openmdao\\visualization\\n2_viewer\\n2_viewer.py:168: OpenMDAOWarning:All-NaN slice encountered\n",
      "e:\\KSHITIJ\\FastOAD\\Fastenvk1\\lib\\site-packages\\openmdao\\visualization\\n2_viewer\\n2_viewer.py:168: OpenMDAOWarning:All-NaN slice encountered\n",
      "e:\\KSHITIJ\\FastOAD\\Fastenvk1\\lib\\site-packages\\openmdao\\visualization\\n2_viewer\\n2_viewer.py:168: OpenMDAOWarning:All-NaN slice encountered\n",
      "e:\\KSHITIJ\\FastOAD\\Fastenvk1\\lib\\site-packages\\openmdao\\visualization\\n2_viewer\\n2_viewer.py:168: OpenMDAOWarning:All-NaN slice encountered\n",
      "e:\\KSHITIJ\\FastOAD\\Fastenvk1\\lib\\site-packages\\openmdao\\visualization\\n2_viewer\\n2_viewer.py:168: OpenMDAOWarning:All-NaN slice encountered\n",
      "e:\\KSHITIJ\\FastOAD\\Fastenvk1\\lib\\site-packages\\openmdao\\visualization\\n2_viewer\\n2_viewer.py:168: OpenMDAOWarning:All-NaN slice encountered\n",
      "e:\\KSHITIJ\\FastOAD\\Fastenvk1\\lib\\site-packages\\openmdao\\visualization\\n2_viewer\\n2_viewer.py:168: OpenMDAOWarning:All-NaN slice encountered\n",
      "e:\\KSHITIJ\\FastOAD\\Fastenvk1\\lib\\site-packages\\openmdao\\visualization\\n2_viewer\\n2_viewer.py:168: OpenMDAOWarning:All-NaN slice encountered\n",
      "e:\\KSHITIJ\\FastOAD\\Fastenvk1\\lib\\site-packages\\openmdao\\visualization\\n2_viewer\\n2_viewer.py:168: OpenMDAOWarning:All-NaN slice encountered\n",
      "e:\\KSHITIJ\\FastOAD\\Fastenvk1\\lib\\site-packages\\openmdao\\visualization\\n2_viewer\\n2_viewer.py:168: OpenMDAOWarning:All-NaN slice encountered\n",
      "e:\\KSHITIJ\\FastOAD\\Fastenvk1\\lib\\site-packages\\openmdao\\visualization\\n2_viewer\\n2_viewer.py:168: OpenMDAOWarning:All-NaN slice encountered\n",
      "e:\\KSHITIJ\\FastOAD\\Fastenvk1\\lib\\site-packages\\openmdao\\visualization\\n2_viewer\\n2_viewer.py:168: OpenMDAOWarning:All-NaN slice encountered\n",
      "e:\\KSHITIJ\\FastOAD\\Fastenvk1\\lib\\site-packages\\openmdao\\visualization\\n2_viewer\\n2_viewer.py:168: OpenMDAOWarning:All-NaN slice encountered\n",
      "e:\\KSHITIJ\\FastOAD\\Fastenvk1\\lib\\site-packages\\openmdao\\visualization\\n2_viewer\\n2_viewer.py:168: OpenMDAOWarning:All-NaN slice encountered\n",
      "e:\\KSHITIJ\\FastOAD\\Fastenvk1\\lib\\site-packages\\openmdao\\visualization\\n2_viewer\\n2_viewer.py:168: OpenMDAOWarning:All-NaN slice encountered\n",
      "e:\\KSHITIJ\\FastOAD\\Fastenvk1\\lib\\site-packages\\openmdao\\visualization\\n2_viewer\\n2_viewer.py:168: OpenMDAOWarning:All-NaN slice encountered\n",
      "e:\\KSHITIJ\\FastOAD\\Fastenvk1\\lib\\site-packages\\openmdao\\visualization\\n2_viewer\\n2_viewer.py:168: OpenMDAOWarning:All-NaN slice encountered\n",
      "e:\\KSHITIJ\\FastOAD\\Fastenvk1\\lib\\site-packages\\openmdao\\visualization\\n2_viewer\\n2_viewer.py:168: OpenMDAOWarning:All-NaN slice encountered\n",
      "e:\\KSHITIJ\\FastOAD\\Fastenvk1\\lib\\site-packages\\openmdao\\visualization\\n2_viewer\\n2_viewer.py:168: OpenMDAOWarning:All-NaN slice encountered\n",
      "e:\\KSHITIJ\\FastOAD\\Fastenvk1\\lib\\site-packages\\openmdao\\visualization\\n2_viewer\\n2_viewer.py:168: OpenMDAOWarning:All-NaN slice encountered\n",
      "e:\\KSHITIJ\\FastOAD\\Fastenvk1\\lib\\site-packages\\openmdao\\visualization\\n2_viewer\\n2_viewer.py:168: OpenMDAOWarning:All-NaN slice encountered\n",
      "e:\\KSHITIJ\\FastOAD\\Fastenvk1\\lib\\site-packages\\openmdao\\visualization\\n2_viewer\\n2_viewer.py:168: OpenMDAOWarning:All-NaN slice encountered\n",
      "e:\\KSHITIJ\\FastOAD\\Fastenvk1\\lib\\site-packages\\openmdao\\visualization\\n2_viewer\\n2_viewer.py:168: OpenMDAOWarning:All-NaN slice encountered\n",
      "e:\\KSHITIJ\\FastOAD\\Fastenvk1\\lib\\site-packages\\openmdao\\visualization\\n2_viewer\\n2_viewer.py:168: OpenMDAOWarning:All-NaN slice encountered\n",
      "e:\\KSHITIJ\\FastOAD\\Fastenvk1\\lib\\site-packages\\openmdao\\visualization\\n2_viewer\\n2_viewer.py:168: OpenMDAOWarning:All-NaN slice encountered\n",
      "e:\\KSHITIJ\\FastOAD\\Fastenvk1\\lib\\site-packages\\openmdao\\visualization\\n2_viewer\\n2_viewer.py:168: OpenMDAOWarning:All-NaN slice encountered\n",
      "e:\\KSHITIJ\\FastOAD\\Fastenvk1\\lib\\site-packages\\openmdao\\visualization\\n2_viewer\\n2_viewer.py:168: OpenMDAOWarning:All-NaN slice encountered\n",
      "e:\\KSHITIJ\\FastOAD\\Fastenvk1\\lib\\site-packages\\openmdao\\visualization\\n2_viewer\\n2_viewer.py:168: OpenMDAOWarning:All-NaN slice encountered\n",
      "e:\\KSHITIJ\\FastOAD\\Fastenvk1\\lib\\site-packages\\openmdao\\visualization\\n2_viewer\\n2_viewer.py:168: OpenMDAOWarning:All-NaN slice encountered\n",
      "e:\\KSHITIJ\\FastOAD\\Fastenvk1\\lib\\site-packages\\openmdao\\visualization\\n2_viewer\\n2_viewer.py:168: OpenMDAOWarning:All-NaN slice encountered\n",
      "e:\\KSHITIJ\\FastOAD\\Fastenvk1\\lib\\site-packages\\openmdao\\visualization\\n2_viewer\\n2_viewer.py:168: OpenMDAOWarning:All-NaN slice encountered\n",
      "e:\\KSHITIJ\\FastOAD\\Fastenvk1\\lib\\site-packages\\openmdao\\visualization\\n2_viewer\\n2_viewer.py:168: OpenMDAOWarning:All-NaN slice encountered\n",
      "e:\\KSHITIJ\\FastOAD\\Fastenvk1\\lib\\site-packages\\openmdao\\visualization\\n2_viewer\\n2_viewer.py:168: OpenMDAOWarning:All-NaN slice encountered\n",
      "e:\\KSHITIJ\\FastOAD\\Fastenvk1\\lib\\site-packages\\openmdao\\visualization\\n2_viewer\\n2_viewer.py:168: OpenMDAOWarning:All-NaN slice encountered\n",
      "e:\\KSHITIJ\\FastOAD\\Fastenvk1\\lib\\site-packages\\openmdao\\visualization\\n2_viewer\\n2_viewer.py:168: OpenMDAOWarning:All-NaN slice encountered\n",
      "e:\\KSHITIJ\\FastOAD\\Fastenvk1\\lib\\site-packages\\openmdao\\visualization\\n2_viewer\\n2_viewer.py:168: OpenMDAOWarning:All-NaN slice encountered\n",
      "e:\\KSHITIJ\\FastOAD\\Fastenvk1\\lib\\site-packages\\openmdao\\visualization\\n2_viewer\\n2_viewer.py:168: OpenMDAOWarning:All-NaN slice encountered\n",
      "e:\\KSHITIJ\\FastOAD\\Fastenvk1\\lib\\site-packages\\openmdao\\visualization\\n2_viewer\\n2_viewer.py:168: OpenMDAOWarning:All-NaN slice encountered\n",
      "e:\\KSHITIJ\\FastOAD\\Fastenvk1\\lib\\site-packages\\openmdao\\visualization\\n2_viewer\\n2_viewer.py:168: OpenMDAOWarning:All-NaN slice encountered\n",
      "e:\\KSHITIJ\\FastOAD\\Fastenvk1\\lib\\site-packages\\openmdao\\visualization\\n2_viewer\\n2_viewer.py:168: OpenMDAOWarning:All-NaN slice encountered\n",
      "e:\\KSHITIJ\\FastOAD\\Fastenvk1\\lib\\site-packages\\openmdao\\visualization\\n2_viewer\\n2_viewer.py:168: OpenMDAOWarning:All-NaN slice encountered\n",
      "e:\\KSHITIJ\\FastOAD\\Fastenvk1\\lib\\site-packages\\openmdao\\visualization\\n2_viewer\\n2_viewer.py:168: OpenMDAOWarning:All-NaN slice encountered\n",
      "e:\\KSHITIJ\\FastOAD\\Fastenvk1\\lib\\site-packages\\openmdao\\visualization\\n2_viewer\\n2_viewer.py:168: OpenMDAOWarning:All-NaN slice encountered\n",
      "e:\\KSHITIJ\\FastOAD\\Fastenvk1\\lib\\site-packages\\openmdao\\visualization\\n2_viewer\\n2_viewer.py:168: OpenMDAOWarning:All-NaN slice encountered\n",
      "e:\\KSHITIJ\\FastOAD\\Fastenvk1\\lib\\site-packages\\openmdao\\visualization\\n2_viewer\\n2_viewer.py:168: OpenMDAOWarning:All-NaN slice encountered\n",
      "e:\\KSHITIJ\\FastOAD\\Fastenvk1\\lib\\site-packages\\openmdao\\visualization\\n2_viewer\\n2_viewer.py:168: OpenMDAOWarning:All-NaN slice encountered\n",
      "e:\\KSHITIJ\\FastOAD\\Fastenvk1\\lib\\site-packages\\openmdao\\visualization\\n2_viewer\\n2_viewer.py:168: OpenMDAOWarning:All-NaN slice encountered\n",
      "e:\\KSHITIJ\\FastOAD\\Fastenvk1\\lib\\site-packages\\openmdao\\visualization\\n2_viewer\\n2_viewer.py:168: OpenMDAOWarning:All-NaN slice encountered\n",
      "e:\\KSHITIJ\\FastOAD\\Fastenvk1\\lib\\site-packages\\openmdao\\visualization\\n2_viewer\\n2_viewer.py:168: OpenMDAOWarning:All-NaN slice encountered\n",
      "e:\\KSHITIJ\\FastOAD\\Fastenvk1\\lib\\site-packages\\openmdao\\visualization\\n2_viewer\\n2_viewer.py:168: OpenMDAOWarning:All-NaN slice encountered\n",
      "e:\\KSHITIJ\\FastOAD\\Fastenvk1\\lib\\site-packages\\openmdao\\visualization\\n2_viewer\\n2_viewer.py:168: OpenMDAOWarning:All-NaN slice encountered\n",
      "e:\\KSHITIJ\\FastOAD\\Fastenvk1\\lib\\site-packages\\openmdao\\visualization\\n2_viewer\\n2_viewer.py:168: OpenMDAOWarning:All-NaN slice encountered\n",
      "e:\\KSHITIJ\\FastOAD\\Fastenvk1\\lib\\site-packages\\openmdao\\visualization\\n2_viewer\\n2_viewer.py:168: OpenMDAOWarning:All-NaN slice encountered\n",
      "e:\\KSHITIJ\\FastOAD\\Fastenvk1\\lib\\site-packages\\openmdao\\visualization\\n2_viewer\\n2_viewer.py:168: OpenMDAOWarning:All-NaN slice encountered\n",
      "e:\\KSHITIJ\\FastOAD\\Fastenvk1\\lib\\site-packages\\openmdao\\visualization\\n2_viewer\\n2_viewer.py:168: OpenMDAOWarning:All-NaN slice encountered\n",
      "e:\\KSHITIJ\\FastOAD\\Fastenvk1\\lib\\site-packages\\openmdao\\visualization\\n2_viewer\\n2_viewer.py:168: OpenMDAOWarning:All-NaN slice encountered\n",
      "e:\\KSHITIJ\\FastOAD\\Fastenvk1\\lib\\site-packages\\openmdao\\visualization\\n2_viewer\\n2_viewer.py:168: OpenMDAOWarning:All-NaN slice encountered\n",
      "e:\\KSHITIJ\\FastOAD\\Fastenvk1\\lib\\site-packages\\openmdao\\visualization\\n2_viewer\\n2_viewer.py:168: OpenMDAOWarning:All-NaN slice encountered\n",
      "e:\\KSHITIJ\\FastOAD\\Fastenvk1\\lib\\site-packages\\openmdao\\visualization\\n2_viewer\\n2_viewer.py:168: OpenMDAOWarning:All-NaN slice encountered\n",
      "e:\\KSHITIJ\\FastOAD\\Fastenvk1\\lib\\site-packages\\openmdao\\visualization\\n2_viewer\\n2_viewer.py:168: OpenMDAOWarning:All-NaN slice encountered\n",
      "e:\\KSHITIJ\\FastOAD\\Fastenvk1\\lib\\site-packages\\openmdao\\visualization\\n2_viewer\\n2_viewer.py:168: OpenMDAOWarning:All-NaN slice encountered\n",
      "e:\\KSHITIJ\\FastOAD\\Fastenvk1\\lib\\site-packages\\openmdao\\visualization\\n2_viewer\\n2_viewer.py:168: OpenMDAOWarning:All-NaN slice encountered\n",
      "e:\\KSHITIJ\\FastOAD\\Fastenvk1\\lib\\site-packages\\openmdao\\visualization\\n2_viewer\\n2_viewer.py:168: OpenMDAOWarning:All-NaN slice encountered\n",
      "e:\\KSHITIJ\\FastOAD\\Fastenvk1\\lib\\site-packages\\openmdao\\visualization\\n2_viewer\\n2_viewer.py:168: OpenMDAOWarning:All-NaN slice encountered\n",
      "e:\\KSHITIJ\\FastOAD\\Fastenvk1\\lib\\site-packages\\openmdao\\visualization\\n2_viewer\\n2_viewer.py:168: OpenMDAOWarning:All-NaN slice encountered\n",
      "e:\\KSHITIJ\\FastOAD\\Fastenvk1\\lib\\site-packages\\openmdao\\visualization\\n2_viewer\\n2_viewer.py:168: OpenMDAOWarning:All-NaN slice encountered\n",
      "e:\\KSHITIJ\\FastOAD\\Fastenvk1\\lib\\site-packages\\openmdao\\visualization\\n2_viewer\\n2_viewer.py:168: OpenMDAOWarning:All-NaN slice encountered\n",
      "e:\\KSHITIJ\\FastOAD\\Fastenvk1\\lib\\site-packages\\openmdao\\visualization\\n2_viewer\\n2_viewer.py:168: OpenMDAOWarning:All-NaN slice encountered\n",
      "e:\\KSHITIJ\\FastOAD\\Fastenvk1\\lib\\site-packages\\openmdao\\visualization\\n2_viewer\\n2_viewer.py:168: OpenMDAOWarning:All-NaN slice encountered\n",
      "e:\\KSHITIJ\\FastOAD\\Fastenvk1\\lib\\site-packages\\openmdao\\visualization\\n2_viewer\\n2_viewer.py:168: OpenMDAOWarning:All-NaN slice encountered\n",
      "e:\\KSHITIJ\\FastOAD\\Fastenvk1\\lib\\site-packages\\openmdao\\visualization\\n2_viewer\\n2_viewer.py:168: OpenMDAOWarning:All-NaN slice encountered\n",
      "e:\\KSHITIJ\\FastOAD\\Fastenvk1\\lib\\site-packages\\openmdao\\visualization\\n2_viewer\\n2_viewer.py:168: OpenMDAOWarning:All-NaN slice encountered\n",
      "e:\\KSHITIJ\\FastOAD\\Fastenvk1\\lib\\site-packages\\openmdao\\visualization\\n2_viewer\\n2_viewer.py:168: OpenMDAOWarning:All-NaN slice encountered\n",
      "e:\\KSHITIJ\\FastOAD\\Fastenvk1\\lib\\site-packages\\openmdao\\visualization\\n2_viewer\\n2_viewer.py:168: OpenMDAOWarning:All-NaN slice encountered\n",
      "e:\\KSHITIJ\\FastOAD\\Fastenvk1\\lib\\site-packages\\openmdao\\visualization\\n2_viewer\\n2_viewer.py:168: OpenMDAOWarning:All-NaN slice encountered\n",
      "e:\\KSHITIJ\\FastOAD\\Fastenvk1\\lib\\site-packages\\openmdao\\visualization\\n2_viewer\\n2_viewer.py:168: OpenMDAOWarning:All-NaN slice encountered\n",
      "e:\\KSHITIJ\\FastOAD\\Fastenvk1\\lib\\site-packages\\openmdao\\visualization\\n2_viewer\\n2_viewer.py:168: OpenMDAOWarning:All-NaN slice encountered\n",
      "e:\\KSHITIJ\\FastOAD\\Fastenvk1\\lib\\site-packages\\openmdao\\visualization\\n2_viewer\\n2_viewer.py:168: OpenMDAOWarning:All-NaN slice encountered\n",
      "e:\\KSHITIJ\\FastOAD\\Fastenvk1\\lib\\site-packages\\openmdao\\visualization\\n2_viewer\\n2_viewer.py:168: OpenMDAOWarning:All-NaN slice encountered\n",
      "e:\\KSHITIJ\\FastOAD\\Fastenvk1\\lib\\site-packages\\openmdao\\visualization\\n2_viewer\\n2_viewer.py:168: OpenMDAOWarning:All-NaN slice encountered\n",
      "e:\\KSHITIJ\\FastOAD\\Fastenvk1\\lib\\site-packages\\openmdao\\visualization\\n2_viewer\\n2_viewer.py:168: OpenMDAOWarning:All-NaN slice encountered\n",
      "e:\\KSHITIJ\\FastOAD\\Fastenvk1\\lib\\site-packages\\openmdao\\visualization\\n2_viewer\\n2_viewer.py:168: OpenMDAOWarning:All-NaN slice encountered\n",
      "e:\\KSHITIJ\\FastOAD\\Fastenvk1\\lib\\site-packages\\openmdao\\visualization\\n2_viewer\\n2_viewer.py:168: OpenMDAOWarning:All-NaN slice encountered\n",
      "e:\\KSHITIJ\\FastOAD\\Fastenvk1\\lib\\site-packages\\openmdao\\visualization\\n2_viewer\\n2_viewer.py:168: OpenMDAOWarning:All-NaN slice encountered\n",
      "e:\\KSHITIJ\\FastOAD\\Fastenvk1\\lib\\site-packages\\openmdao\\visualization\\n2_viewer\\n2_viewer.py:168: OpenMDAOWarning:All-NaN slice encountered\n",
      "e:\\KSHITIJ\\FastOAD\\Fastenvk1\\lib\\site-packages\\openmdao\\visualization\\n2_viewer\\n2_viewer.py:168: OpenMDAOWarning:All-NaN slice encountered\n",
      "e:\\KSHITIJ\\FastOAD\\Fastenvk1\\lib\\site-packages\\openmdao\\visualization\\n2_viewer\\n2_viewer.py:168: OpenMDAOWarning:All-NaN slice encountered\n",
      "e:\\KSHITIJ\\FastOAD\\Fastenvk1\\lib\\site-packages\\openmdao\\visualization\\n2_viewer\\n2_viewer.py:168: OpenMDAOWarning:All-NaN slice encountered\n",
      "e:\\KSHITIJ\\FastOAD\\Fastenvk1\\lib\\site-packages\\openmdao\\visualization\\n2_viewer\\n2_viewer.py:168: OpenMDAOWarning:All-NaN slice encountered\n",
      "e:\\KSHITIJ\\FastOAD\\Fastenvk1\\lib\\site-packages\\openmdao\\visualization\\n2_viewer\\n2_viewer.py:168: OpenMDAOWarning:All-NaN slice encountered\n",
      "e:\\KSHITIJ\\FastOAD\\Fastenvk1\\lib\\site-packages\\openmdao\\visualization\\n2_viewer\\n2_viewer.py:168: OpenMDAOWarning:All-NaN slice encountered\n",
      "e:\\KSHITIJ\\FastOAD\\Fastenvk1\\lib\\site-packages\\openmdao\\visualization\\n2_viewer\\n2_viewer.py:168: OpenMDAOWarning:All-NaN slice encountered\n",
      "e:\\KSHITIJ\\FastOAD\\Fastenvk1\\lib\\site-packages\\openmdao\\visualization\\n2_viewer\\n2_viewer.py:168: OpenMDAOWarning:All-NaN slice encountered\n",
      "e:\\KSHITIJ\\FastOAD\\Fastenvk1\\lib\\site-packages\\openmdao\\visualization\\n2_viewer\\n2_viewer.py:168: OpenMDAOWarning:All-NaN slice encountered\n",
      "e:\\KSHITIJ\\FastOAD\\Fastenvk1\\lib\\site-packages\\openmdao\\visualization\\n2_viewer\\n2_viewer.py:168: OpenMDAOWarning:All-NaN slice encountered\n",
      "e:\\KSHITIJ\\FastOAD\\Fastenvk1\\lib\\site-packages\\openmdao\\visualization\\n2_viewer\\n2_viewer.py:168: OpenMDAOWarning:All-NaN slice encountered\n",
      "e:\\KSHITIJ\\FastOAD\\Fastenvk1\\lib\\site-packages\\openmdao\\visualization\\n2_viewer\\n2_viewer.py:168: OpenMDAOWarning:All-NaN slice encountered\n",
      "e:\\KSHITIJ\\FastOAD\\Fastenvk1\\lib\\site-packages\\openmdao\\visualization\\n2_viewer\\n2_viewer.py:168: OpenMDAOWarning:All-NaN slice encountered\n",
      "e:\\KSHITIJ\\FastOAD\\Fastenvk1\\lib\\site-packages\\openmdao\\visualization\\n2_viewer\\n2_viewer.py:168: OpenMDAOWarning:All-NaN slice encountered\n",
      "e:\\KSHITIJ\\FastOAD\\Fastenvk1\\lib\\site-packages\\openmdao\\visualization\\n2_viewer\\n2_viewer.py:168: OpenMDAOWarning:All-NaN slice encountered\n",
      "e:\\KSHITIJ\\FastOAD\\Fastenvk1\\lib\\site-packages\\openmdao\\visualization\\n2_viewer\\n2_viewer.py:168: OpenMDAOWarning:All-NaN slice encountered\n",
      "e:\\KSHITIJ\\FastOAD\\Fastenvk1\\lib\\site-packages\\openmdao\\visualization\\n2_viewer\\n2_viewer.py:168: OpenMDAOWarning:All-NaN slice encountered\n",
      "e:\\KSHITIJ\\FastOAD\\Fastenvk1\\lib\\site-packages\\openmdao\\visualization\\n2_viewer\\n2_viewer.py:168: OpenMDAOWarning:All-NaN slice encountered\n",
      "e:\\KSHITIJ\\FastOAD\\Fastenvk1\\lib\\site-packages\\openmdao\\visualization\\n2_viewer\\n2_viewer.py:168: OpenMDAOWarning:All-NaN slice encountered\n",
      "e:\\KSHITIJ\\FastOAD\\Fastenvk1\\lib\\site-packages\\openmdao\\visualization\\n2_viewer\\n2_viewer.py:168: OpenMDAOWarning:All-NaN slice encountered\n",
      "e:\\KSHITIJ\\FastOAD\\Fastenvk1\\lib\\site-packages\\openmdao\\visualization\\n2_viewer\\n2_viewer.py:168: OpenMDAOWarning:All-NaN slice encountered\n",
      "e:\\KSHITIJ\\FastOAD\\Fastenvk1\\lib\\site-packages\\openmdao\\visualization\\n2_viewer\\n2_viewer.py:168: OpenMDAOWarning:All-NaN slice encountered\n",
      "e:\\KSHITIJ\\FastOAD\\Fastenvk1\\lib\\site-packages\\openmdao\\visualization\\n2_viewer\\n2_viewer.py:168: OpenMDAOWarning:All-NaN slice encountered\n",
      "e:\\KSHITIJ\\FastOAD\\Fastenvk1\\lib\\site-packages\\openmdao\\visualization\\n2_viewer\\n2_viewer.py:168: OpenMDAOWarning:All-NaN slice encountered\n",
      "e:\\KSHITIJ\\FastOAD\\Fastenvk1\\lib\\site-packages\\openmdao\\visualization\\n2_viewer\\n2_viewer.py:168: OpenMDAOWarning:All-NaN slice encountered\n",
      "e:\\KSHITIJ\\FastOAD\\Fastenvk1\\lib\\site-packages\\openmdao\\visualization\\n2_viewer\\n2_viewer.py:168: OpenMDAOWarning:All-NaN slice encountered\n",
      "e:\\KSHITIJ\\FastOAD\\Fastenvk1\\lib\\site-packages\\openmdao\\visualization\\n2_viewer\\n2_viewer.py:168: OpenMDAOWarning:All-NaN slice encountered\n",
      "e:\\KSHITIJ\\FastOAD\\Fastenvk1\\lib\\site-packages\\openmdao\\visualization\\n2_viewer\\n2_viewer.py:168: OpenMDAOWarning:All-NaN slice encountered\n",
      "e:\\KSHITIJ\\FastOAD\\Fastenvk1\\lib\\site-packages\\openmdao\\visualization\\n2_viewer\\n2_viewer.py:168: OpenMDAOWarning:All-NaN slice encountered\n",
      "e:\\KSHITIJ\\FastOAD\\Fastenvk1\\lib\\site-packages\\openmdao\\visualization\\n2_viewer\\n2_viewer.py:168: OpenMDAOWarning:All-NaN slice encountered\n",
      "e:\\KSHITIJ\\FastOAD\\Fastenvk1\\lib\\site-packages\\openmdao\\visualization\\n2_viewer\\n2_viewer.py:168: OpenMDAOWarning:All-NaN slice encountered\n",
      "e:\\KSHITIJ\\FastOAD\\Fastenvk1\\lib\\site-packages\\openmdao\\visualization\\n2_viewer\\n2_viewer.py:168: OpenMDAOWarning:All-NaN slice encountered\n",
      "e:\\KSHITIJ\\FastOAD\\Fastenvk1\\lib\\site-packages\\openmdao\\visualization\\n2_viewer\\n2_viewer.py:168: OpenMDAOWarning:All-NaN slice encountered\n",
      "e:\\KSHITIJ\\FastOAD\\Fastenvk1\\lib\\site-packages\\openmdao\\visualization\\n2_viewer\\n2_viewer.py:168: OpenMDAOWarning:All-NaN slice encountered\n",
      "e:\\KSHITIJ\\FastOAD\\Fastenvk1\\lib\\site-packages\\openmdao\\visualization\\n2_viewer\\n2_viewer.py:168: OpenMDAOWarning:All-NaN slice encountered\n",
      "e:\\KSHITIJ\\FastOAD\\Fastenvk1\\lib\\site-packages\\openmdao\\visualization\\n2_viewer\\n2_viewer.py:168: OpenMDAOWarning:All-NaN slice encountered\n",
      "e:\\KSHITIJ\\FastOAD\\Fastenvk1\\lib\\site-packages\\openmdao\\visualization\\n2_viewer\\n2_viewer.py:168: OpenMDAOWarning:All-NaN slice encountered\n",
      "e:\\KSHITIJ\\FastOAD\\Fastenvk1\\lib\\site-packages\\openmdao\\visualization\\n2_viewer\\n2_viewer.py:168: OpenMDAOWarning:All-NaN slice encountered\n",
      "e:\\KSHITIJ\\FastOAD\\Fastenvk1\\lib\\site-packages\\openmdao\\visualization\\n2_viewer\\n2_viewer.py:168: OpenMDAOWarning:All-NaN slice encountered\n",
      "e:\\KSHITIJ\\FastOAD\\Fastenvk1\\lib\\site-packages\\openmdao\\visualization\\n2_viewer\\n2_viewer.py:168: OpenMDAOWarning:All-NaN slice encountered\n",
      "e:\\KSHITIJ\\FastOAD\\Fastenvk1\\lib\\site-packages\\openmdao\\visualization\\n2_viewer\\n2_viewer.py:168: OpenMDAOWarning:All-NaN slice encountered\n",
      "e:\\KSHITIJ\\FastOAD\\Fastenvk1\\lib\\site-packages\\openmdao\\visualization\\n2_viewer\\n2_viewer.py:168: OpenMDAOWarning:All-NaN slice encountered\n",
      "e:\\KSHITIJ\\FastOAD\\Fastenvk1\\lib\\site-packages\\openmdao\\visualization\\n2_viewer\\n2_viewer.py:168: OpenMDAOWarning:All-NaN slice encountered\n",
      "e:\\KSHITIJ\\FastOAD\\Fastenvk1\\lib\\site-packages\\openmdao\\visualization\\n2_viewer\\n2_viewer.py:168: OpenMDAOWarning:All-NaN slice encountered\n",
      "e:\\KSHITIJ\\FastOAD\\Fastenvk1\\lib\\site-packages\\openmdao\\visualization\\n2_viewer\\n2_viewer.py:168: OpenMDAOWarning:All-NaN slice encountered\n",
      "e:\\KSHITIJ\\FastOAD\\Fastenvk1\\lib\\site-packages\\openmdao\\visualization\\n2_viewer\\n2_viewer.py:168: OpenMDAOWarning:All-NaN slice encountered\n",
      "e:\\KSHITIJ\\FastOAD\\Fastenvk1\\lib\\site-packages\\openmdao\\visualization\\n2_viewer\\n2_viewer.py:168: OpenMDAOWarning:All-NaN slice encountered\n",
      "e:\\KSHITIJ\\FastOAD\\Fastenvk1\\lib\\site-packages\\openmdao\\visualization\\n2_viewer\\n2_viewer.py:168: OpenMDAOWarning:All-NaN slice encountered\n",
      "e:\\KSHITIJ\\FastOAD\\Fastenvk1\\lib\\site-packages\\openmdao\\visualization\\n2_viewer\\n2_viewer.py:168: OpenMDAOWarning:All-NaN slice encountered\n",
      "e:\\KSHITIJ\\FastOAD\\Fastenvk1\\lib\\site-packages\\openmdao\\visualization\\n2_viewer\\n2_viewer.py:168: OpenMDAOWarning:All-NaN slice encountered\n",
      "e:\\KSHITIJ\\FastOAD\\Fastenvk1\\lib\\site-packages\\openmdao\\visualization\\n2_viewer\\n2_viewer.py:168: OpenMDAOWarning:All-NaN slice encountered\n",
      "e:\\KSHITIJ\\FastOAD\\Fastenvk1\\lib\\site-packages\\openmdao\\visualization\\n2_viewer\\n2_viewer.py:168: OpenMDAOWarning:All-NaN slice encountered\n",
      "e:\\KSHITIJ\\FastOAD\\Fastenvk1\\lib\\site-packages\\openmdao\\visualization\\n2_viewer\\n2_viewer.py:168: OpenMDAOWarning:All-NaN slice encountered\n",
      "e:\\KSHITIJ\\FastOAD\\Fastenvk1\\lib\\site-packages\\openmdao\\visualization\\n2_viewer\\n2_viewer.py:168: OpenMDAOWarning:All-NaN slice encountered\n",
      "e:\\KSHITIJ\\FastOAD\\Fastenvk1\\lib\\site-packages\\openmdao\\visualization\\n2_viewer\\n2_viewer.py:168: OpenMDAOWarning:All-NaN slice encountered\n",
      "e:\\KSHITIJ\\FastOAD\\Fastenvk1\\lib\\site-packages\\openmdao\\visualization\\n2_viewer\\n2_viewer.py:168: OpenMDAOWarning:All-NaN slice encountered\n",
      "e:\\KSHITIJ\\FastOAD\\Fastenvk1\\lib\\site-packages\\openmdao\\visualization\\n2_viewer\\n2_viewer.py:168: OpenMDAOWarning:All-NaN slice encountered\n",
      "e:\\KSHITIJ\\FastOAD\\Fastenvk1\\lib\\site-packages\\openmdao\\visualization\\n2_viewer\\n2_viewer.py:168: OpenMDAOWarning:All-NaN slice encountered\n",
      "e:\\KSHITIJ\\FastOAD\\Fastenvk1\\lib\\site-packages\\openmdao\\visualization\\n2_viewer\\n2_viewer.py:168: OpenMDAOWarning:All-NaN slice encountered\n",
      "e:\\KSHITIJ\\FastOAD\\Fastenvk1\\lib\\site-packages\\openmdao\\visualization\\n2_viewer\\n2_viewer.py:168: OpenMDAOWarning:All-NaN slice encountered\n",
      "e:\\KSHITIJ\\FastOAD\\Fastenvk1\\lib\\site-packages\\openmdao\\visualization\\n2_viewer\\n2_viewer.py:168: OpenMDAOWarning:All-NaN slice encountered\n",
      "e:\\KSHITIJ\\FastOAD\\Fastenvk1\\lib\\site-packages\\openmdao\\visualization\\n2_viewer\\n2_viewer.py:168: OpenMDAOWarning:All-NaN slice encountered\n",
      "e:\\KSHITIJ\\FastOAD\\Fastenvk1\\lib\\site-packages\\openmdao\\visualization\\n2_viewer\\n2_viewer.py:168: OpenMDAOWarning:All-NaN slice encountered\n",
      "e:\\KSHITIJ\\FastOAD\\Fastenvk1\\lib\\site-packages\\openmdao\\visualization\\n2_viewer\\n2_viewer.py:168: OpenMDAOWarning:All-NaN slice encountered\n",
      "e:\\KSHITIJ\\FastOAD\\Fastenvk1\\lib\\site-packages\\openmdao\\visualization\\n2_viewer\\n2_viewer.py:168: OpenMDAOWarning:All-NaN slice encountered\n",
      "e:\\KSHITIJ\\FastOAD\\Fastenvk1\\lib\\site-packages\\openmdao\\visualization\\n2_viewer\\n2_viewer.py:168: OpenMDAOWarning:All-NaN slice encountered\n",
      "e:\\KSHITIJ\\FastOAD\\Fastenvk1\\lib\\site-packages\\openmdao\\visualization\\n2_viewer\\n2_viewer.py:168: OpenMDAOWarning:All-NaN slice encountered\n",
      "e:\\KSHITIJ\\FastOAD\\Fastenvk1\\lib\\site-packages\\openmdao\\visualization\\n2_viewer\\n2_viewer.py:168: OpenMDAOWarning:All-NaN slice encountered\n",
      "e:\\KSHITIJ\\FastOAD\\Fastenvk1\\lib\\site-packages\\openmdao\\visualization\\n2_viewer\\n2_viewer.py:168: OpenMDAOWarning:All-NaN slice encountered\n",
      "e:\\KSHITIJ\\FastOAD\\Fastenvk1\\lib\\site-packages\\openmdao\\visualization\\n2_viewer\\n2_viewer.py:168: OpenMDAOWarning:All-NaN slice encountered\n",
      "e:\\KSHITIJ\\FastOAD\\Fastenvk1\\lib\\site-packages\\openmdao\\visualization\\n2_viewer\\n2_viewer.py:168: OpenMDAOWarning:All-NaN slice encountered\n",
      "e:\\KSHITIJ\\FastOAD\\Fastenvk1\\lib\\site-packages\\openmdao\\visualization\\n2_viewer\\n2_viewer.py:168: OpenMDAOWarning:All-NaN slice encountered\n",
      "e:\\KSHITIJ\\FastOAD\\Fastenvk1\\lib\\site-packages\\openmdao\\visualization\\n2_viewer\\n2_viewer.py:168: OpenMDAOWarning:All-NaN slice encountered\n",
      "e:\\KSHITIJ\\FastOAD\\Fastenvk1\\lib\\site-packages\\openmdao\\visualization\\n2_viewer\\n2_viewer.py:168: OpenMDAOWarning:All-NaN slice encountered\n",
      "e:\\KSHITIJ\\FastOAD\\Fastenvk1\\lib\\site-packages\\openmdao\\visualization\\n2_viewer\\n2_viewer.py:168: OpenMDAOWarning:All-NaN slice encountered\n",
      "e:\\KSHITIJ\\FastOAD\\Fastenvk1\\lib\\site-packages\\openmdao\\visualization\\n2_viewer\\n2_viewer.py:168: OpenMDAOWarning:All-NaN slice encountered\n",
      "e:\\KSHITIJ\\FastOAD\\Fastenvk1\\lib\\site-packages\\openmdao\\visualization\\n2_viewer\\n2_viewer.py:168: OpenMDAOWarning:All-NaN slice encountered\n",
      "e:\\KSHITIJ\\FastOAD\\Fastenvk1\\lib\\site-packages\\openmdao\\visualization\\n2_viewer\\n2_viewer.py:168: OpenMDAOWarning:All-NaN slice encountered\n",
      "e:\\KSHITIJ\\FastOAD\\Fastenvk1\\lib\\site-packages\\openmdao\\visualization\\n2_viewer\\n2_viewer.py:168: OpenMDAOWarning:All-NaN slice encountered\n",
      "e:\\KSHITIJ\\FastOAD\\Fastenvk1\\lib\\site-packages\\openmdao\\visualization\\n2_viewer\\n2_viewer.py:168: OpenMDAOWarning:All-NaN slice encountered\n",
      "e:\\KSHITIJ\\FastOAD\\Fastenvk1\\lib\\site-packages\\openmdao\\visualization\\n2_viewer\\n2_viewer.py:168: OpenMDAOWarning:All-NaN slice encountered\n",
      "e:\\KSHITIJ\\FastOAD\\Fastenvk1\\lib\\site-packages\\openmdao\\visualization\\n2_viewer\\n2_viewer.py:168: OpenMDAOWarning:All-NaN slice encountered\n",
      "e:\\KSHITIJ\\FastOAD\\Fastenvk1\\lib\\site-packages\\openmdao\\visualization\\n2_viewer\\n2_viewer.py:168: OpenMDAOWarning:All-NaN slice encountered\n",
      "e:\\KSHITIJ\\FastOAD\\Fastenvk1\\lib\\site-packages\\openmdao\\visualization\\n2_viewer\\n2_viewer.py:168: OpenMDAOWarning:All-NaN slice encountered\n",
      "e:\\KSHITIJ\\FastOAD\\Fastenvk1\\lib\\site-packages\\openmdao\\visualization\\n2_viewer\\n2_viewer.py:168: OpenMDAOWarning:All-NaN slice encountered\n",
      "e:\\KSHITIJ\\FastOAD\\Fastenvk1\\lib\\site-packages\\openmdao\\visualization\\n2_viewer\\n2_viewer.py:168: OpenMDAOWarning:All-NaN slice encountered\n",
      "e:\\KSHITIJ\\FastOAD\\Fastenvk1\\lib\\site-packages\\openmdao\\visualization\\n2_viewer\\n2_viewer.py:168: OpenMDAOWarning:All-NaN slice encountered\n",
      "e:\\KSHITIJ\\FastOAD\\Fastenvk1\\lib\\site-packages\\openmdao\\visualization\\n2_viewer\\n2_viewer.py:168: OpenMDAOWarning:All-NaN slice encountered\n",
      "e:\\KSHITIJ\\FastOAD\\Fastenvk1\\lib\\site-packages\\openmdao\\visualization\\n2_viewer\\n2_viewer.py:168: OpenMDAOWarning:All-NaN slice encountered\n",
      "e:\\KSHITIJ\\FastOAD\\Fastenvk1\\lib\\site-packages\\openmdao\\visualization\\n2_viewer\\n2_viewer.py:168: OpenMDAOWarning:All-NaN slice encountered\n",
      "e:\\KSHITIJ\\FastOAD\\Fastenvk1\\lib\\site-packages\\openmdao\\visualization\\n2_viewer\\n2_viewer.py:168: OpenMDAOWarning:All-NaN slice encountered\n",
      "e:\\KSHITIJ\\FastOAD\\Fastenvk1\\lib\\site-packages\\openmdao\\visualization\\n2_viewer\\n2_viewer.py:168: OpenMDAOWarning:All-NaN slice encountered\n",
      "e:\\KSHITIJ\\FastOAD\\Fastenvk1\\lib\\site-packages\\openmdao\\visualization\\n2_viewer\\n2_viewer.py:168: OpenMDAOWarning:All-NaN slice encountered\n",
      "e:\\KSHITIJ\\FastOAD\\Fastenvk1\\lib\\site-packages\\openmdao\\visualization\\n2_viewer\\n2_viewer.py:168: OpenMDAOWarning:All-NaN slice encountered\n",
      "e:\\KSHITIJ\\FastOAD\\Fastenvk1\\lib\\site-packages\\openmdao\\visualization\\n2_viewer\\n2_viewer.py:168: OpenMDAOWarning:All-NaN slice encountered\n",
      "e:\\KSHITIJ\\FastOAD\\Fastenvk1\\lib\\site-packages\\openmdao\\visualization\\n2_viewer\\n2_viewer.py:168: OpenMDAOWarning:All-NaN slice encountered\n",
      "e:\\KSHITIJ\\FastOAD\\Fastenvk1\\lib\\site-packages\\openmdao\\visualization\\n2_viewer\\n2_viewer.py:168: OpenMDAOWarning:All-NaN slice encountered\n",
      "e:\\KSHITIJ\\FastOAD\\Fastenvk1\\lib\\site-packages\\openmdao\\visualization\\n2_viewer\\n2_viewer.py:168: OpenMDAOWarning:All-NaN slice encountered\n",
      "e:\\KSHITIJ\\FastOAD\\Fastenvk1\\lib\\site-packages\\openmdao\\visualization\\n2_viewer\\n2_viewer.py:168: OpenMDAOWarning:All-NaN slice encountered\n",
      "e:\\KSHITIJ\\FastOAD\\Fastenvk1\\lib\\site-packages\\openmdao\\visualization\\n2_viewer\\n2_viewer.py:168: OpenMDAOWarning:All-NaN slice encountered\n",
      "e:\\KSHITIJ\\FastOAD\\Fastenvk1\\lib\\site-packages\\openmdao\\visualization\\n2_viewer\\n2_viewer.py:168: OpenMDAOWarning:All-NaN slice encountered\n",
      "e:\\KSHITIJ\\FastOAD\\Fastenvk1\\lib\\site-packages\\openmdao\\visualization\\n2_viewer\\n2_viewer.py:168: OpenMDAOWarning:All-NaN slice encountered\n",
      "e:\\KSHITIJ\\FastOAD\\Fastenvk1\\lib\\site-packages\\openmdao\\visualization\\n2_viewer\\n2_viewer.py:168: OpenMDAOWarning:All-NaN slice encountered\n",
      "e:\\KSHITIJ\\FastOAD\\Fastenvk1\\lib\\site-packages\\openmdao\\visualization\\n2_viewer\\n2_viewer.py:168: OpenMDAOWarning:All-NaN slice encountered\n",
      "e:\\KSHITIJ\\FastOAD\\Fastenvk1\\lib\\site-packages\\openmdao\\visualization\\n2_viewer\\n2_viewer.py:168: OpenMDAOWarning:All-NaN slice encountered\n",
      "e:\\KSHITIJ\\FastOAD\\Fastenvk1\\lib\\site-packages\\openmdao\\visualization\\n2_viewer\\n2_viewer.py:168: OpenMDAOWarning:All-NaN slice encountered\n",
      "e:\\KSHITIJ\\FastOAD\\Fastenvk1\\lib\\site-packages\\openmdao\\visualization\\n2_viewer\\n2_viewer.py:168: OpenMDAOWarning:All-NaN slice encountered\n",
      "e:\\KSHITIJ\\FastOAD\\Fastenvk1\\lib\\site-packages\\openmdao\\visualization\\n2_viewer\\n2_viewer.py:168: OpenMDAOWarning:All-NaN slice encountered\n",
      "e:\\KSHITIJ\\FastOAD\\Fastenvk1\\lib\\site-packages\\openmdao\\visualization\\n2_viewer\\n2_viewer.py:168: OpenMDAOWarning:All-NaN slice encountered\n",
      "e:\\KSHITIJ\\FastOAD\\Fastenvk1\\lib\\site-packages\\openmdao\\visualization\\n2_viewer\\n2_viewer.py:168: OpenMDAOWarning:All-NaN slice encountered\n",
      "e:\\KSHITIJ\\FastOAD\\Fastenvk1\\lib\\site-packages\\openmdao\\visualization\\n2_viewer\\n2_viewer.py:168: OpenMDAOWarning:All-NaN slice encountered\n",
      "e:\\KSHITIJ\\FastOAD\\Fastenvk1\\lib\\site-packages\\openmdao\\visualization\\n2_viewer\\n2_viewer.py:168: OpenMDAOWarning:All-NaN slice encountered\n",
      "e:\\KSHITIJ\\FastOAD\\Fastenvk1\\lib\\site-packages\\openmdao\\visualization\\n2_viewer\\n2_viewer.py:168: OpenMDAOWarning:All-NaN slice encountered\n",
      "e:\\KSHITIJ\\FastOAD\\Fastenvk1\\lib\\site-packages\\openmdao\\visualization\\n2_viewer\\n2_viewer.py:168: OpenMDAOWarning:All-NaN slice encountered\n",
      "e:\\KSHITIJ\\FastOAD\\Fastenvk1\\lib\\site-packages\\openmdao\\visualization\\n2_viewer\\n2_viewer.py:168: OpenMDAOWarning:All-NaN slice encountered\n",
      "e:\\KSHITIJ\\FastOAD\\Fastenvk1\\lib\\site-packages\\openmdao\\visualization\\n2_viewer\\n2_viewer.py:168: OpenMDAOWarning:All-NaN slice encountered\n",
      "e:\\KSHITIJ\\FastOAD\\Fastenvk1\\lib\\site-packages\\openmdao\\visualization\\n2_viewer\\n2_viewer.py:168: OpenMDAOWarning:All-NaN slice encountered\n",
      "e:\\KSHITIJ\\FastOAD\\Fastenvk1\\lib\\site-packages\\openmdao\\visualization\\n2_viewer\\n2_viewer.py:168: OpenMDAOWarning:All-NaN slice encountered\n",
      "e:\\KSHITIJ\\FastOAD\\Fastenvk1\\lib\\site-packages\\openmdao\\visualization\\n2_viewer\\n2_viewer.py:168: OpenMDAOWarning:All-NaN slice encountered\n",
      "e:\\KSHITIJ\\FastOAD\\Fastenvk1\\lib\\site-packages\\openmdao\\visualization\\n2_viewer\\n2_viewer.py:168: OpenMDAOWarning:All-NaN slice encountered\n",
      "e:\\KSHITIJ\\FastOAD\\Fastenvk1\\lib\\site-packages\\openmdao\\visualization\\n2_viewer\\n2_viewer.py:168: OpenMDAOWarning:All-NaN slice encountered\n",
      "e:\\KSHITIJ\\FastOAD\\Fastenvk1\\lib\\site-packages\\openmdao\\visualization\\n2_viewer\\n2_viewer.py:168: OpenMDAOWarning:All-NaN slice encountered\n",
      "e:\\KSHITIJ\\FastOAD\\Fastenvk1\\lib\\site-packages\\openmdao\\visualization\\n2_viewer\\n2_viewer.py:168: OpenMDAOWarning:All-NaN slice encountered\n",
      "e:\\KSHITIJ\\FastOAD\\Fastenvk1\\lib\\site-packages\\openmdao\\visualization\\n2_viewer\\n2_viewer.py:168: OpenMDAOWarning:All-NaN slice encountered\n",
      "e:\\KSHITIJ\\FastOAD\\Fastenvk1\\lib\\site-packages\\openmdao\\visualization\\n2_viewer\\n2_viewer.py:168: OpenMDAOWarning:All-NaN slice encountered\n",
      "e:\\KSHITIJ\\FastOAD\\Fastenvk1\\lib\\site-packages\\openmdao\\visualization\\n2_viewer\\n2_viewer.py:168: OpenMDAOWarning:All-NaN slice encountered\n",
      "e:\\KSHITIJ\\FastOAD\\Fastenvk1\\lib\\site-packages\\openmdao\\visualization\\n2_viewer\\n2_viewer.py:168: OpenMDAOWarning:All-NaN slice encountered\n",
      "e:\\KSHITIJ\\FastOAD\\Fastenvk1\\lib\\site-packages\\openmdao\\visualization\\n2_viewer\\n2_viewer.py:168: OpenMDAOWarning:All-NaN slice encountered\n",
      "e:\\KSHITIJ\\FastOAD\\Fastenvk1\\lib\\site-packages\\openmdao\\visualization\\n2_viewer\\n2_viewer.py:168: OpenMDAOWarning:All-NaN slice encountered\n",
      "e:\\KSHITIJ\\FastOAD\\Fastenvk1\\lib\\site-packages\\openmdao\\visualization\\n2_viewer\\n2_viewer.py:168: OpenMDAOWarning:All-NaN slice encountered\n",
      "e:\\KSHITIJ\\FastOAD\\Fastenvk1\\lib\\site-packages\\openmdao\\visualization\\n2_viewer\\n2_viewer.py:168: OpenMDAOWarning:All-NaN slice encountered\n",
      "e:\\KSHITIJ\\FastOAD\\Fastenvk1\\lib\\site-packages\\openmdao\\visualization\\n2_viewer\\n2_viewer.py:168: OpenMDAOWarning:All-NaN slice encountered\n",
      "e:\\KSHITIJ\\FastOAD\\Fastenvk1\\lib\\site-packages\\openmdao\\visualization\\n2_viewer\\n2_viewer.py:168: OpenMDAOWarning:All-NaN slice encountered\n",
      "e:\\KSHITIJ\\FastOAD\\Fastenvk1\\lib\\site-packages\\openmdao\\visualization\\n2_viewer\\n2_viewer.py:168: OpenMDAOWarning:All-NaN slice encountered\n",
      "e:\\KSHITIJ\\FastOAD\\Fastenvk1\\lib\\site-packages\\openmdao\\visualization\\n2_viewer\\n2_viewer.py:168: OpenMDAOWarning:All-NaN slice encountered\n",
      "e:\\KSHITIJ\\FastOAD\\Fastenvk1\\lib\\site-packages\\openmdao\\visualization\\n2_viewer\\n2_viewer.py:168: OpenMDAOWarning:All-NaN slice encountered\n",
      "e:\\KSHITIJ\\FastOAD\\Fastenvk1\\lib\\site-packages\\openmdao\\visualization\\n2_viewer\\n2_viewer.py:168: OpenMDAOWarning:All-NaN slice encountered\n",
      "e:\\KSHITIJ\\FastOAD\\Fastenvk1\\lib\\site-packages\\openmdao\\visualization\\n2_viewer\\n2_viewer.py:168: OpenMDAOWarning:All-NaN slice encountered\n",
      "e:\\KSHITIJ\\FastOAD\\Fastenvk1\\lib\\site-packages\\openmdao\\visualization\\n2_viewer\\n2_viewer.py:168: OpenMDAOWarning:All-NaN slice encountered\n",
      "e:\\KSHITIJ\\FastOAD\\Fastenvk1\\lib\\site-packages\\openmdao\\visualization\\n2_viewer\\n2_viewer.py:168: OpenMDAOWarning:All-NaN slice encountered\n"
     ]
    },
    {
     "name": "stdout",
     "output_type": "stream",
     "text": [
      "Analysis FASTOADModel pushed\u001b[0m\n"
     ]
    },
    {
     "data": {
      "text/html": [
       "\n",
       "        <iframe\n",
       "            width=\"100%\"\n",
       "            height=\"500px\"\n",
       "            src=\"workspace\\xdsm.html\"\n",
       "            frameborder=\"0\"\n",
       "            allowfullscreen\n",
       "            \n",
       "        ></iframe>\n",
       "        "
      ],
      "text/plain": [
       "<IPython.lib.display.IFrame at 0x1b3c4001fc0>"
      ]
     },
     "execution_count": 7,
     "metadata": {},
     "output_type": "execute_result"
    }
   ],
   "source": [
    "# XDSM FILE\n",
    "XDSM_FILE = pth.join(WORK_FOLDER_PATH, 'xdsm.html')\n",
    "oad.write_xdsm(CONFIGURATION_FILE_BWB, XDSM_FILE, overwrite=True)\n",
    "from IPython.display import IFrame\n",
    "IFrame(src=XDSM_FILE, width='100%', height='500px')"
   ]
  },
  {
   "cell_type": "code",
   "execution_count": 8,
   "metadata": {},
   "outputs": [
    {
     "data": {
      "text/html": [
       "\n",
       "        <iframe\n",
       "            width=\"100%\"\n",
       "            height=\"500px\"\n",
       "            src=\"workspace\\n2.html\"\n",
       "            frameborder=\"0\"\n",
       "            allowfullscreen\n",
       "            \n",
       "        ></iframe>\n",
       "        "
      ],
      "text/plain": [
       "<IPython.lib.display.IFrame at 0x1b3c3e72f20>"
      ]
     },
     "execution_count": 8,
     "metadata": {},
     "output_type": "execute_result"
    }
   ],
   "source": [
    "# N2 FILE\n",
    "N2_FILE = pth.join(WORK_FOLDER_PATH, \"n2.html\")\n",
    "oad.write_n2(CONFIGURATION_FILE_BWB, N2_FILE, overwrite=True)\n",
    "from IPython.display import IFrame\n",
    "#ADD THE LINE BELOW, IT IS MISSING ON THE TEAMS VERSION\n",
    "IFrame(src=N2_FILE, width='100%', height='500px')"
   ]
  },
  {
   "cell_type": "code",
   "execution_count": null,
   "metadata": {},
   "outputs": [],
   "source": []
  }
 ],
 "metadata": {
  "kernelspec": {
   "display_name": "Python 3 (ipykernel)",
   "language": "python",
   "name": "python3"
  },
  "language_info": {
   "codemirror_mode": {
    "name": "ipython",
    "version": 3
   },
   "file_extension": ".py",
   "mimetype": "text/x-python",
   "name": "python",
   "nbconvert_exporter": "python",
   "pygments_lexer": "ipython3",
   "version": "3.10.11"
  }
 },
 "nbformat": 4,
 "nbformat_minor": 4
}
