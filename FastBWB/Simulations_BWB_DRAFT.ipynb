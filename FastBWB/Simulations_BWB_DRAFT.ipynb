{
 "cells": [
  {
   "cell_type": "markdown",
   "metadata": {},
   "source": [
    "<div class=\"row\">\n",
    "  <div class=\"column\">\n",
    "    <img src=\"./img/logo-ISAE_SUPAERO.png\" width=\"200\">\n",
    "  </div>\n",
    "</div>"
   ]
  },
  {
   "cell_type": "markdown",
   "metadata": {},
   "source": [
    "# BWB SIMULATIONS\n",
    "#### Notes: Optimization not done\n",
    "23 March 2023\n"
   ]
  },
  {
   "cell_type": "markdown",
   "metadata": {},
   "source": [
    "## 1. Import libraries"
   ]
  },
  {
   "cell_type": "code",
   "execution_count": 1,
   "metadata": {},
   "outputs": [
    {
     "name": "stdout",
     "output_type": "stream",
     "text": [
      "Package 'numpy' is correctly installed.\n",
      "Package 'os.path' is correctly installed.\n",
      "Package 'openmdao.api' is correctly installed.\n",
      "Package 'logging' is correctly installed.\n",
      "Package 'shutil' is correctly installed.\n",
      "Package 'fastoad.api' is correctly installed.\n",
      "Package 'math' is correctly installed.\n",
      "Package 'matplotlib.pyplot' is correctly installed.\n",
      "Package 'plotly.graph_objects' is correctly installed.\n",
      "Package 'array' is correctly installed.\n",
      "Package 'time' is correctly installed.\n",
      "Package 'sys' is correctly installed.\n",
      "Package 'pandas' is correctly installed.\n",
      "Package 'qgrid' is correctly installed.\n",
      "Package 'yaml' is correctly installed.\n"
     ]
    }
   ],
   "source": [
    "# Check if all packages are installed. If not, the program will automatically install the missing ones. \n",
    "\n",
    "import importlib.util\n",
    "import sys\n",
    "import subprocess\n",
    "# Packages list\n",
    "package_names = ['numpy', 'os.path','openmdao.api','logging','shutil','fastoad.api','math','matplotlib.pyplot','plotly.graph_objects','array','time','sys','pandas','qgrid','yaml']\n",
    "num_packages = len(package_names)\n",
    "\n",
    "# Function to install package\n",
    "def install(package):\n",
    "    subprocess.check_call([sys.executable, '-m', 'pip', 'install', package])\n",
    "    \n",
    "# Test libraries: \n",
    "for i in range(num_packages):\n",
    "    spec = importlib.util.find_spec(package_names[i])\n",
    "    if spec is None:\n",
    "        print(\"-----------ERROR-----------: Package '\" + package_names[i] +\"'  is not installed.\")\n",
    "        # Install package: \n",
    "        install(package_names[i])\n",
    "        print(\"-----------UPDATE-----------: Package '\" + package_names[i] +\"'  is now correctly installed.\")\n",
    "        \n",
    "    else:\n",
    "        print(\"Package '\" + package_names[i] + \"' is correctly installed.\")\n",
    "        \n",
    "# Import packages once all of them are correctly installed: \n",
    "import openmdao.api as om\n",
    "from fastoad.module_management.constants import ModelDomain\n",
    "from fastoad.module_management.service_registry import RegisterOpenMDAOSystem, RegisterSubmodel\n",
    "import logging\n",
    "import shutil\n",
    "import fastoad.api as oad\n",
    "import os.path as pth\n",
    "import os\n",
    "import yaml\n",
    "from ruamel.yaml import YAML\n",
    "import matplotlib.pyplot as plt\n",
    "from IPython.display import Javascript, display, Image, HTML\n",
    "import numpy as np\n",
    "import math\n",
    "import plotly.graph_objects as go\n",
    "import array\n",
    "import time\n",
    "import sys\n",
    "import pandas as pd\n",
    "import qgrid\n"
   ]
  },
  {
   "cell_type": "markdown",
   "metadata": {},
   "source": [
    "## 2. Directory set up "
   ]
  },
  {
   "cell_type": "code",
   "execution_count": 2,
   "metadata": {},
   "outputs": [
    {
     "name": "stdout",
     "output_type": "stream",
     "text": [
      "Directory:  C:\\Users\\migue\\Documents\\MV\\ISAE Supaero\\Research Project\\FAST-OAD\\fast_BWB_final\n",
      "- Data folder path is:  C:\\Users\\migue\\Documents\\MV\\ISAE Supaero\\Research Project\\FAST-OAD\\fast_BWB_final\\data\n",
      "- Work folder path is:  C:\\Users\\migue\\Documents\\MV\\ISAE Supaero\\Research Project\\FAST-OAD\\fast_BWB_final\\workspace\n"
     ]
    }
   ],
   "source": [
    "# # Print the current working directory\n",
    "directory = \"{0}\".format(os.getcwd())\n",
    "print('Directory: ', directory)\n",
    "\n",
    "# Assign data and work folder paths: \n",
    "DATA_FOLDER_PATH = \"data\"\n",
    "WORK_FOLDER_PATH = \"workspace\"\n",
    "\n",
    "# Print data and work folder paths: \n",
    "print('- Data folder path is: ',directory +'\\data')\n",
    "print('- Work folder path is: ',directory +'\\workspace')"
   ]
  },
  {
   "cell_type": "markdown",
   "metadata": {},
   "source": [
    "## 3. Initialization"
   ]
  },
  {
   "cell_type": "code",
   "execution_count": 3,
   "metadata": {},
   "outputs": [
    {
     "name": "stdout",
     "output_type": "stream",
     "text": [
      "Problem initialized correctly\n"
     ]
    }
   ],
   "source": [
    "# For having log messages on screen\n",
    "# logging.basicConfig(level=logging.INFO, format=\"%(levelname)-8s: %(message)s\")\n",
    "\n",
    "##################################################################################\n",
    "\n",
    "\n",
    "# BWB CONFIFURATION: \n",
    "CONFIGURATION_FILE_BWB = pth.join(WORK_FOLDER_PATH, \"BWB_configuration.yml\")\n",
    "SOURCE_FILE_BWB = pth.join(DATA_FOLDER_PATH, \"BWB_inputs.xml\")\n",
    "# oad.generate_configuration_file(CONFIGURATION_FILE_tubeWing, overwrite=True)\n",
    "\n",
    "\n",
    "##################################################################################\n",
    "\n",
    "# TUBE AND WING CONFIGURATION\n",
    "# Upload the inputs and outputs directly: \n",
    "inputs_tubeWing = pth.join(WORK_FOLDER_PATH, \"problem_inputs_tubeWing_saved.xml\")\n",
    "outputs_tubeWing = pth.join(WORK_FOLDER_PATH, \"problem_outputs_tubeWing_saved.xml\")\n",
    "\n",
    "print('Problem initialized correctly')"
   ]
  },
  {
   "cell_type": "markdown",
   "metadata": {},
   "source": [
    "## 4. Generate inputs"
   ]
  },
  {
   "cell_type": "code",
   "execution_count": 4,
   "metadata": {},
   "outputs": [
    {
     "name": "stdout",
     "output_type": "stream",
     "text": [
      " - BWB inputs directory is:\n",
      " C:\\Users\\migue\\Documents\\MV\\ISAE Supaero\\Research Project\\FAST-OAD\\fast_BWB_final\\workspace\\problem_inputs_BWB.xml\n"
     ]
    },
    {
     "data": {
      "application/vnd.jupyter.widget-view+json": {
       "model_id": "6045df3d0a7c46678cce981f567ae4f3",
       "version_major": 2,
       "version_minor": 0
      },
      "text/plain": [
       "VBox(children=(HBox(children=(Button(description='Load', icon='upload', style=ButtonStyle(), tooltip='Load the…"
      ]
     },
     "metadata": {},
     "output_type": "display_data"
    }
   ],
   "source": [
    "yaml = YAML()\n",
    "yaml.preserve_quotes = True\n",
    "with open(CONFIGURATION_FILE_BWB) as f:\n",
    "    test = yaml.load(f)\n",
    "test['input_file'] = './problem_inputs_BWB.xml'\n",
    "test['output_file'] = './problem_outputs_BWB.xml'\n",
    "with open(CONFIGURATION_FILE_BWB, 'wb') as f:\n",
    "    yaml.dump(test, f)\n",
    "\n",
    "\n",
    "# BWB CONFIFURATION - default simulation:\n",
    "inputsBWB = oad.generate_inputs(CONFIGURATION_FILE_BWB, SOURCE_FILE_BWB, overwrite=True)\n",
    "print(' - BWB inputs directory is:\\n', inputsBWB)\n",
    "oad.variable_viewer(inputsBWB)"
   ]
  },
  {
   "cell_type": "markdown",
   "metadata": {},
   "source": [
    "## 5. Evaluate problem"
   ]
  },
  {
   "cell_type": "markdown",
   "metadata": {},
   "source": [
    "#### PROBLEM PARAMETERS "
   ]
  },
  {
   "cell_type": "code",
   "execution_count": 9,
   "metadata": {},
   "outputs": [
    {
     "name": "stdout",
     "output_type": "stream",
     "text": [
      "-------------------------------------------------------------\n",
      "SIMULATION INFORMATION: \n",
      "-------------------------------------------------------------\n",
      "- A total of 10 simulations will be performed.\n",
      "- BWB simulations directory is:  C:\\Users\\migue\\Documents\\MV\\ISAE Supaero\\Research Project\\FAST-OAD\\fast_BWB_final\\workspace\\BWBsimulations\n",
      "- The Cruise Altitude vector is:  [ 1261.2929  2522.5858  3783.8787  5045.1716  6306.4645  7567.7574\n",
      "  8829.0503 10090.3432 11351.6361 12612.929 ]\n"
     ]
    }
   ],
   "source": [
    "# Set up simulation parameters: \n",
    "print('-------------------------------------------------------------')\n",
    "print('SIMULATION INFORMATION: ')\n",
    "print('-------------------------------------------------------------')\n",
    "\n",
    "simDir = directory +'\\workspace\\BWBsimulations'\n",
    "CONFIGURATION_FILE_sims = pth.join(simDir, \"BWB_configuration.yml\")\n",
    "input_data = oad.DataFile(inputsBWB)\n",
    "\n",
    "# RANGE SIMULATION:\n",
    "# range0 = input_data[\"data:TLAR:range\"].value[0]\n",
    "# range_increment = 50\n",
    "# rangefinal = range0+range_increment*(nsim-1)\n",
    "# range_vec = np.linspace(range0,rangefinal,nsim)\n",
    "# nsim = len(range_vec)\n",
    "\n",
    "# SWEEP SIMULATION: \n",
    "#sweep0 = 20\n",
    "# DEFAULT VALUE: data:geometry:wing:sweep_25 = 25 deg (index 10)\n",
    "# sweep_increment = 1\n",
    "# sweepfinal = sweep0+sweep_increment*(nsim-1)\n",
    "# sweep_vec = np.linspace(sweep0,sweepfinal,nsim)\n",
    "# sweep_vec = [15]\n",
    "# nsim = len(sweep_vec)\n",
    "\n",
    "\n",
    "# ASPECT RATIO SIMULATION\n",
    "#AR_original = input_data[\"data:geometry:wing:aspect_ratio\"].value[0]\n",
    "#aux_vector_1 = np.arange(0.75, 1.3, 0.05)\n",
    "#aux_vector = np.arange(0.85, 1.40, 0.05)\n",
    "#AR_vec = AR_original * aux_vector\n",
    "#nsim = len(AR_vec)\n",
    "\n",
    "# Cruise altitude SIMULATION\n",
    "cruise_altitude_original = input_data[\"data:mission:sizing:main_route:cruise:altitude\"].value[0]\n",
    "#aux_vector_1 = np.arange(0.75, 1.3, 0.05)\n",
    "aux_vector = np.arange(0.1, 1.10, 0.10)\n",
    "cruise_vec = cruise_altitude_original * aux_vector\n",
    "nsim = len(cruise_vec)\n",
    "\n",
    "print('- A total of', nsim,'simulations will be performed.')\n",
    "print('- BWB simulations directory is: ', simDir)\n",
    "# print('- The range vector is: ', range_vec)\n",
    "#print('- The sweep vector is: ', sweep_vec)\n",
    "#print('- The Aspect Ratio vector is: ', AR_vec)\n",
    "print('- The Cruise Altitude vector is: ', cruise_vec)"
   ]
  },
  {
   "cell_type": "markdown",
   "metadata": {},
   "source": [
    "#### RUN SIMULATION RANGE"
   ]
  },
  {
   "cell_type": "code",
   "execution_count": null,
   "metadata": {},
   "outputs": [],
   "source": [
    "# #  RUN SIMULATION\n",
    "# for i in range(0, nsim):\n",
    "#     print('-------------------------------------------------------------')\n",
    "#     print('START OF SIMULATION ', i+1, ', Range =', range_vec[i], 'NM')\n",
    "#     print('-------------------------------------------------------------')\n",
    "#     yaml = YAML()\n",
    "#     yaml.preserve_quotes = True\n",
    "#     with open(CONFIGURATION_FILE_sims) as f:\n",
    "#         test = yaml.load(f)\n",
    "#     test['input_file'] = './problem_inputs_BWB_range%d.xml' %(range_vec[i]) \n",
    "#     test['output_file'] = './problem_outputs_BWB_range%d.xml' %(range_vec[i]) \n",
    "#     with open(CONFIGURATION_FILE_sims, 'wb') as f:\n",
    "#         yaml.dump(test, f)\n",
    "    \n",
    "#     #FAST-OAD set up\n",
    "#     CONFIGURATION_FILE_BWB = pth.join(simDir, \"BWB_configuration.yml\")\n",
    "#     SOURCE_FILE_BWB = pth.join(DATA_FOLDER_PATH, \"BWB_inputs.xml\") \n",
    "#     oad.generate_inputs(CONFIGURATION_FILE_sims, SOURCE_FILE_BWB, overwrite=True)\n",
    "    \n",
    "#     #Input definition              \n",
    "#     input_data = oad.DataFile(pth.join(simDir, \"problem_inputs_BWB_range%d.xml\" %(range_vec[i])))\n",
    "#     input_data[\"data:TLAR:range\"].value[0] = range_vec[i]\n",
    "#     input_data[\"data:mission:sizing:main_route:range\"].value[0] = range_vec[i]\n",
    "#     input_data.save()\n",
    "#     #Run the simulation\n",
    "#     eval_problem = oad.evaluate_problem(CONFIGURATION_FILE_sims, overwrite=True)\n",
    "#     #Post-process\n",
    "#     output_data = oad.DataFile(pth.join(simDir, \"problem_outputs_BWB_range%d.xml\"%(range_vec[i])))\n",
    "#     output_data.save()\n",
    "#     print('-------------------------------------------------------------')\n",
    "#     print('END OF SIMULATION %d' % (i+1))\n",
    "#     print('-------------------------------------------------------------')\n",
    "\n",
    "# # IDEA: RUN 15-20 SIMULATIONS CHANGING THE RANGE IN ORDER TO OBTAIN THE PAYLOAD- RANGE DIAGRAM\n",
    "# # SAVE THE SIMULATIONS IN BWBSimulations\n",
    "# # OTHER IDEAS: run other simulations changing other parameters?, vary Mach number\n",
    "\n",
    "# # POST PROCESSING: P-L plot, aircraft plot, wing plot, bwb vs. TW, sensitivity?, drag polar, weight plots (and bwb vs.tw). \n",
    "# # mass fuel?, constraint plot? \n",
    "\n",
    "# print('-------------------------------------------------------------')\n",
    "# print('ALL SIMULATIONS COMPLETED')\n",
    "# print('-------------------------------------------------------------')"
   ]
  },
  {
   "cell_type": "markdown",
   "metadata": {},
   "source": [
    "#### RUN SIMULATION SWEEP"
   ]
  },
  {
   "cell_type": "code",
   "execution_count": null,
   "metadata": {},
   "outputs": [],
   "source": [
    "\"\"\"\n",
    "\n",
    "#  RUN SIMULATION\n",
    "for i in range(0, nsim):\n",
    "    print('-------------------------------------------------------------')\n",
    "    print('START OF SIMULATION ', i+1, ', Sweep =', sweep_vec[i], 'deg')\n",
    "    print('-------------------------------------------------------------')\n",
    "    yaml = YAML()\n",
    "    yaml.preserve_quotes = True\n",
    "    with open(CONFIGURATION_FILE_sims) as f:\n",
    "        test = yaml.load(f)\n",
    "    test['input_file'] = './problem_inputs_BWB_sweep%d.xml' %(sweep_vec[i]) \n",
    "    test['output_file'] = './problem_outputs_BWB_sweep%d.xml' %(sweep_vec[i]) \n",
    "    with open(CONFIGURATION_FILE_sims, 'wb') as f:\n",
    "        yaml.dump(test, f)\n",
    "    \n",
    "    #FAST-OAD set up\n",
    "    CONFIGURATION_FILE_BWB = pth.join(simDir, \"BWB_configuration.yml\")\n",
    "    SOURCE_FILE_BWB = pth.join(DATA_FOLDER_PATH, \"BWB_inputs.xml\") \n",
    "    oad.generate_inputs(CONFIGURATION_FILE_sims, SOURCE_FILE_BWB, overwrite=True)\n",
    "    \n",
    "    #Input definition              \n",
    "    input_data = oad.DataFile(pth.join(simDir, \"problem_inputs_BWB_sweep%d.xml\" %(sweep_vec[i])))\n",
    "    input_data[\"data:geometry:wing:sweep_25\"].value[0] = sweep_vec[i]\n",
    "    input_data.save()\n",
    "    #Run the simulation\n",
    "    eval_problem = oad.evaluate_problem(CONFIGURATION_FILE_sims, overwrite=True)\n",
    "    #Post-process\n",
    "    output_data = oad.DataFile(pth.join(simDir, \"problem_outputs_BWB_sweep%d.xml\"%(sweep_vec[i])))\n",
    "    output_data.save()\n",
    "    print('-------------------------------------------------------------')\n",
    "    print('END OF SIMULATION %d' % (i+1))\n",
    "    print('-------------------------------------------------------------')\n",
    "\n",
    "\n",
    "print('-------------------------------------------------------------')\n",
    "print('ALL SIMULATIONS COMPLETED')\n",
    "print('-------------------------------------------------------------')\n",
    "\n",
    "\"\"\""
   ]
  },
  {
   "cell_type": "markdown",
   "metadata": {},
   "source": [
    "### Run Simulations Aspect Ratio"
   ]
  },
  {
   "cell_type": "code",
   "execution_count": null,
   "metadata": {},
   "outputs": [],
   "source": [
    "\"\"\"\n",
    "#  RUN SIMULATION\n",
    "for i in range(0, nsim):\n",
    "    print('-------------------------------------------------------------')\n",
    "    print('START OF SIMULATION ', i+1, ', Aspect Ratio =', AR_vec[i])\n",
    "    print('-------------------------------------------------------------')\n",
    "    yaml = YAML()\n",
    "    yaml.preserve_quotes = True\n",
    "    with open(CONFIGURATION_FILE_sims) as f:\n",
    "        test = yaml.load(f)\n",
    "    test['input_file'] = './problem_inputs_BWB_AR%d.xml' %(i+1) \n",
    "    test['output_file'] = './problem_outputs_BWB_AR%d.xml' %(i+1) \n",
    "    with open(CONFIGURATION_FILE_sims, 'wb') as f:\n",
    "        yaml.dump(test, f)\n",
    "    \n",
    "    #FAST-OAD set up\n",
    "    CONFIGURATION_FILE_BWB = pth.join(simDir, \"BWB_configuration.yml\")\n",
    "    SOURCE_FILE_BWB = pth.join(DATA_FOLDER_PATH, \"BWB_inputs.xml\") \n",
    "    oad.generate_inputs(CONFIGURATION_FILE_sims, SOURCE_FILE_BWB, overwrite=True)\n",
    "    \n",
    "    #Input definition              \n",
    "    input_data = oad.DataFile(pth.join(simDir, \"problem_inputs_BWB_AR%d.xml\" %(i+1)))\n",
    "    input_data[\"data:geometry:wing:aspect_ratio\"].value[0] = AR_vec[i]\n",
    "    input_data.save()\n",
    "    #Run the simulation\n",
    "    eval_problem = oad.evaluate_problem(CONFIGURATION_FILE_sims, overwrite=True)\n",
    "    #Post-process\n",
    "    output_data = oad.DataFile(pth.join(simDir, \"problem_outputs_BWB_AR%d.xml\"%(i+1)))\n",
    "    output_data.save()\n",
    "    print('-------------------------------------------------------------')\n",
    "    print('END OF SIMULATION %d' % (i+1))\n",
    "    print('-------------------------------------------------------------')\n",
    "\n",
    "\n",
    "print('-------------------------------------------------------------')\n",
    "print('ALL SIMULATIONS COMPLETED')\n",
    "print('-------------------------------------------------------------')\n",
    "\"\"\""
   ]
  },
  {
   "cell_type": "markdown",
   "metadata": {},
   "source": [
    "#### Run Simulations Cruise Altitude"
   ]
  },
  {
   "cell_type": "code",
   "execution_count": 10,
   "metadata": {},
   "outputs": [
    {
     "name": "stdout",
     "output_type": "stream",
     "text": [
      "-------------------------------------------------------------\n",
      "START OF SIMULATION  1 , Cruise Altitude = 1261.2929000000001\n",
      "-------------------------------------------------------------\n"
     ]
    },
    {
     "name": "stderr",
     "output_type": "stream",
     "text": [
      "Variable \"data:propulsion:rubber_engine:turbine_inlet_temperature\" out of bound: value [1633.] degK is over upper limit ( 1600.0 ) in file C:\\Users\\migue\\anaconda3\\lib\\site-packages\\fastoad_cs25\\models\\propulsion\\fuel_propulsion\\rubber_engine\\openmdao.py\n",
      "Variable \"data:propulsion:rubber_engine:turbine_inlet_temperature\" out of bound: value [1633.] degK is over upper limit ( 1600.0 ) in file C:\\Users\\migue\\Documents\\MV\\ISAE Supaero\\Research Project\\FAST-OAD\\fast_BWB_final\\modules\\propulsion\\fuel_propulsion\\rubber_engine\\openmdao.py\n"
     ]
    },
    {
     "name": "stdout",
     "output_type": "stream",
     "text": [
      "NL: NLBGS Converged in 12 iterations\n",
      "-------------------------------------------------------------\n",
      "END OF SIMULATION 1\n",
      "-------------------------------------------------------------\n",
      "-------------------------------------------------------------\n",
      "START OF SIMULATION  2 , Cruise Altitude = 2522.5858000000003\n",
      "-------------------------------------------------------------\n"
     ]
    },
    {
     "name": "stderr",
     "output_type": "stream",
     "text": [
      "Variable \"data:propulsion:rubber_engine:turbine_inlet_temperature\" out of bound: value [1633.] degK is over upper limit ( 1600.0 ) in file C:\\Users\\migue\\anaconda3\\lib\\site-packages\\fastoad_cs25\\models\\propulsion\\fuel_propulsion\\rubber_engine\\openmdao.py\n",
      "Variable \"data:propulsion:rubber_engine:turbine_inlet_temperature\" out of bound: value [1633.] degK is over upper limit ( 1600.0 ) in file C:\\Users\\migue\\Documents\\MV\\ISAE Supaero\\Research Project\\FAST-OAD\\fast_BWB_final\\modules\\propulsion\\fuel_propulsion\\rubber_engine\\openmdao.py\n"
     ]
    },
    {
     "name": "stdout",
     "output_type": "stream",
     "text": [
      "NL: NLBGS Converged in 12 iterations\n",
      "-------------------------------------------------------------\n",
      "END OF SIMULATION 2\n",
      "-------------------------------------------------------------\n",
      "-------------------------------------------------------------\n",
      "START OF SIMULATION  3 , Cruise Altitude = 3783.8787000000007\n",
      "-------------------------------------------------------------\n"
     ]
    },
    {
     "name": "stderr",
     "output_type": "stream",
     "text": [
      "Variable \"data:propulsion:rubber_engine:turbine_inlet_temperature\" out of bound: value [1633.] degK is over upper limit ( 1600.0 ) in file C:\\Users\\migue\\anaconda3\\lib\\site-packages\\fastoad_cs25\\models\\propulsion\\fuel_propulsion\\rubber_engine\\openmdao.py\n",
      "Variable \"data:propulsion:rubber_engine:turbine_inlet_temperature\" out of bound: value [1633.] degK is over upper limit ( 1600.0 ) in file C:\\Users\\migue\\Documents\\MV\\ISAE Supaero\\Research Project\\FAST-OAD\\fast_BWB_final\\modules\\propulsion\\fuel_propulsion\\rubber_engine\\openmdao.py\n"
     ]
    },
    {
     "name": "stdout",
     "output_type": "stream",
     "text": [
      "NL: NLBGS Converged in 12 iterations\n",
      "-------------------------------------------------------------\n",
      "END OF SIMULATION 3\n",
      "-------------------------------------------------------------\n",
      "-------------------------------------------------------------\n",
      "START OF SIMULATION  4 , Cruise Altitude = 5045.171600000001\n",
      "-------------------------------------------------------------\n"
     ]
    },
    {
     "name": "stderr",
     "output_type": "stream",
     "text": [
      "Variable \"data:propulsion:rubber_engine:turbine_inlet_temperature\" out of bound: value [1633.] degK is over upper limit ( 1600.0 ) in file C:\\Users\\migue\\anaconda3\\lib\\site-packages\\fastoad_cs25\\models\\propulsion\\fuel_propulsion\\rubber_engine\\openmdao.py\n",
      "Variable \"data:propulsion:rubber_engine:turbine_inlet_temperature\" out of bound: value [1633.] degK is over upper limit ( 1600.0 ) in file C:\\Users\\migue\\Documents\\MV\\ISAE Supaero\\Research Project\\FAST-OAD\\fast_BWB_final\\modules\\propulsion\\fuel_propulsion\\rubber_engine\\openmdao.py\n"
     ]
    },
    {
     "name": "stdout",
     "output_type": "stream",
     "text": [
      "NL: NLBGS Converged in 12 iterations\n",
      "-------------------------------------------------------------\n",
      "END OF SIMULATION 4\n",
      "-------------------------------------------------------------\n",
      "-------------------------------------------------------------\n",
      "START OF SIMULATION  5 , Cruise Altitude = 6306.4645\n",
      "-------------------------------------------------------------\n"
     ]
    },
    {
     "name": "stderr",
     "output_type": "stream",
     "text": [
      "Variable \"data:propulsion:rubber_engine:turbine_inlet_temperature\" out of bound: value [1633.] degK is over upper limit ( 1600.0 ) in file C:\\Users\\migue\\anaconda3\\lib\\site-packages\\fastoad_cs25\\models\\propulsion\\fuel_propulsion\\rubber_engine\\openmdao.py\n",
      "Variable \"data:propulsion:rubber_engine:turbine_inlet_temperature\" out of bound: value [1633.] degK is over upper limit ( 1600.0 ) in file C:\\Users\\migue\\Documents\\MV\\ISAE Supaero\\Research Project\\FAST-OAD\\fast_BWB_final\\modules\\propulsion\\fuel_propulsion\\rubber_engine\\openmdao.py\n"
     ]
    },
    {
     "name": "stdout",
     "output_type": "stream",
     "text": [
      "NL: NLBGS Converged in 12 iterations\n",
      "-------------------------------------------------------------\n",
      "END OF SIMULATION 5\n",
      "-------------------------------------------------------------\n",
      "-------------------------------------------------------------\n",
      "START OF SIMULATION  6 , Cruise Altitude = 7567.7573999999995\n",
      "-------------------------------------------------------------\n"
     ]
    },
    {
     "name": "stderr",
     "output_type": "stream",
     "text": [
      "Variable \"data:propulsion:rubber_engine:turbine_inlet_temperature\" out of bound: value [1633.] degK is over upper limit ( 1600.0 ) in file C:\\Users\\migue\\anaconda3\\lib\\site-packages\\fastoad_cs25\\models\\propulsion\\fuel_propulsion\\rubber_engine\\openmdao.py\n"
     ]
    },
    {
     "name": "stdout",
     "output_type": "stream",
     "text": [
      "NL: NLBGS Converged in 12 iterations\n"
     ]
    },
    {
     "name": "stderr",
     "output_type": "stream",
     "text": [
      "Variable \"data:propulsion:rubber_engine:turbine_inlet_temperature\" out of bound: value [1633.] degK is over upper limit ( 1600.0 ) in file C:\\Users\\migue\\Documents\\MV\\ISAE Supaero\\Research Project\\FAST-OAD\\fast_BWB_final\\modules\\propulsion\\fuel_propulsion\\rubber_engine\\openmdao.py\n"
     ]
    },
    {
     "name": "stdout",
     "output_type": "stream",
     "text": [
      "-------------------------------------------------------------\n",
      "END OF SIMULATION 6\n",
      "-------------------------------------------------------------\n",
      "-------------------------------------------------------------\n",
      "START OF SIMULATION  7 , Cruise Altitude = 8829.0503\n",
      "-------------------------------------------------------------\n"
     ]
    },
    {
     "name": "stderr",
     "output_type": "stream",
     "text": [
      "Variable \"data:propulsion:rubber_engine:turbine_inlet_temperature\" out of bound: value [1633.] degK is over upper limit ( 1600.0 ) in file C:\\Users\\migue\\anaconda3\\lib\\site-packages\\fastoad_cs25\\models\\propulsion\\fuel_propulsion\\rubber_engine\\openmdao.py\n",
      "Variable \"data:propulsion:rubber_engine:turbine_inlet_temperature\" out of bound: value [1633.] degK is over upper limit ( 1600.0 ) in file C:\\Users\\migue\\Documents\\MV\\ISAE Supaero\\Research Project\\FAST-OAD\\fast_BWB_final\\modules\\propulsion\\fuel_propulsion\\rubber_engine\\openmdao.py\n"
     ]
    },
    {
     "name": "stdout",
     "output_type": "stream",
     "text": [
      "NL: NLBGS Converged in 13 iterations\n",
      "-------------------------------------------------------------\n",
      "END OF SIMULATION 7\n",
      "-------------------------------------------------------------\n",
      "-------------------------------------------------------------\n",
      "START OF SIMULATION  8 , Cruise Altitude = 10090.343200000001\n",
      "-------------------------------------------------------------\n"
     ]
    },
    {
     "name": "stderr",
     "output_type": "stream",
     "text": [
      "Variable \"data:propulsion:rubber_engine:turbine_inlet_temperature\" out of bound: value [1633.] degK is over upper limit ( 1600.0 ) in file C:\\Users\\migue\\anaconda3\\lib\\site-packages\\fastoad_cs25\\models\\propulsion\\fuel_propulsion\\rubber_engine\\openmdao.py\n",
      "Variable \"data:propulsion:rubber_engine:turbine_inlet_temperature\" out of bound: value [1633.] degK is over upper limit ( 1600.0 ) in file C:\\Users\\migue\\Documents\\MV\\ISAE Supaero\\Research Project\\FAST-OAD\\fast_BWB_final\\modules\\propulsion\\fuel_propulsion\\rubber_engine\\openmdao.py\n"
     ]
    },
    {
     "name": "stdout",
     "output_type": "stream",
     "text": [
      "NL: NLBGS Converged in 13 iterations\n",
      "-------------------------------------------------------------\n",
      "END OF SIMULATION 8\n",
      "-------------------------------------------------------------\n",
      "-------------------------------------------------------------\n",
      "START OF SIMULATION  9 , Cruise Altitude = 11351.6361\n",
      "-------------------------------------------------------------\n"
     ]
    },
    {
     "name": "stderr",
     "output_type": "stream",
     "text": [
      "Variable \"data:propulsion:rubber_engine:turbine_inlet_temperature\" out of bound: value [1633.] degK is over upper limit ( 1600.0 ) in file C:\\Users\\migue\\anaconda3\\lib\\site-packages\\fastoad_cs25\\models\\propulsion\\fuel_propulsion\\rubber_engine\\openmdao.py\n",
      "Variable \"data:propulsion:rubber_engine:turbine_inlet_temperature\" out of bound: value [1633.] degK is over upper limit ( 1600.0 ) in file C:\\Users\\migue\\Documents\\MV\\ISAE Supaero\\Research Project\\FAST-OAD\\fast_BWB_final\\modules\\propulsion\\fuel_propulsion\\rubber_engine\\openmdao.py\n"
     ]
    },
    {
     "name": "stdout",
     "output_type": "stream",
     "text": [
      "NL: NLBGS Converged in 13 iterations\n",
      "-------------------------------------------------------------\n",
      "END OF SIMULATION 9\n",
      "-------------------------------------------------------------\n",
      "-------------------------------------------------------------\n",
      "START OF SIMULATION  10 , Cruise Altitude = 12612.929\n",
      "-------------------------------------------------------------\n"
     ]
    },
    {
     "name": "stderr",
     "output_type": "stream",
     "text": [
      "Variable \"data:propulsion:rubber_engine:turbine_inlet_temperature\" out of bound: value [1633.] degK is over upper limit ( 1600.0 ) in file C:\\Users\\migue\\anaconda3\\lib\\site-packages\\fastoad_cs25\\models\\propulsion\\fuel_propulsion\\rubber_engine\\openmdao.py\n",
      "Variable \"data:propulsion:rubber_engine:turbine_inlet_temperature\" out of bound: value [1633.] degK is over upper limit ( 1600.0 ) in file C:\\Users\\migue\\Documents\\MV\\ISAE Supaero\\Research Project\\FAST-OAD\\fast_BWB_final\\modules\\propulsion\\fuel_propulsion\\rubber_engine\\openmdao.py\n"
     ]
    },
    {
     "name": "stdout",
     "output_type": "stream",
     "text": [
      "NL: NLBGS Converged in 13 iterations\n",
      "-------------------------------------------------------------\n",
      "END OF SIMULATION 10\n",
      "-------------------------------------------------------------\n",
      "-------------------------------------------------------------\n",
      "ALL SIMULATIONS COMPLETED\n",
      "-------------------------------------------------------------\n"
     ]
    }
   ],
   "source": [
    "for i in range(0, nsim):\n",
    "    print('-------------------------------------------------------------')\n",
    "    print('START OF SIMULATION ', i+1, ', Cruise Altitude =', cruise_vec[i])\n",
    "    print('-------------------------------------------------------------')\n",
    "    yaml = YAML()\n",
    "    yaml.preserve_quotes = True\n",
    "    with open(CONFIGURATION_FILE_sims) as f:\n",
    "        test = yaml.load(f)\n",
    "    test['input_file'] = './problem_inputs_BWB_cruise_altitude%d.xml' %(i+1) \n",
    "    test['output_file'] = './problem_outputs_BWB_cruise_altitude%d.xml' %(i+1) \n",
    "    with open(CONFIGURATION_FILE_sims, 'wb') as f:\n",
    "        yaml.dump(test, f)\n",
    "    \n",
    "    #FAST-OAD set up\n",
    "    CONFIGURATION_FILE_BWB = pth.join(simDir, \"BWB_configuration.yml\")\n",
    "    SOURCE_FILE_BWB = pth.join(DATA_FOLDER_PATH, \"BWB_inputs.xml\") \n",
    "    oad.generate_inputs(CONFIGURATION_FILE_sims, SOURCE_FILE_BWB, overwrite=True)\n",
    "    \n",
    "    #Input definition              \n",
    "    input_data = oad.DataFile(pth.join(simDir, \"problem_inputs_BWB_cruise_altitude%d.xml\" %(i+1)))\n",
    "    input_data[\"data:mission:sizing:main_route:cruise:altitude\"].value[0] = cruise_vec[i]\n",
    "    input_data.save()\n",
    "    #Run the simulation\n",
    "    eval_problem = oad.evaluate_problem(CONFIGURATION_FILE_sims, overwrite=True)\n",
    "    #Post-process\n",
    "    output_data = oad.DataFile(pth.join(simDir, \"problem_outputs_BWB_cruise_altitude%d.xml\"%(i+1)))\n",
    "    output_data.save()\n",
    "    print('-------------------------------------------------------------')\n",
    "    print('END OF SIMULATION %d' % (i+1))\n",
    "    print('-------------------------------------------------------------')\n",
    "\n",
    "\n",
    "print('-------------------------------------------------------------')\n",
    "print('ALL SIMULATIONS COMPLETED')\n",
    "print('-------------------------------------------------------------')"
   ]
  }
 ],
 "metadata": {
  "kernelspec": {
   "display_name": "Python 3 (ipykernel)",
   "language": "python",
   "name": "python3"
  },
  "language_info": {
   "codemirror_mode": {
    "name": "ipython",
    "version": 3
   },
   "file_extension": ".py",
   "mimetype": "text/x-python",
   "name": "python",
   "nbconvert_exporter": "python",
   "pygments_lexer": "ipython3",
   "version": "3.9.7"
  }
 },
 "nbformat": 4,
 "nbformat_minor": 4
}
