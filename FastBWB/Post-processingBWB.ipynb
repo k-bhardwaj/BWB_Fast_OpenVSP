{
 "cells": [
  {
   "cell_type": "markdown",
   "metadata": {},
   "source": [
    "<div class=\"row\">\n",
    "  <div class=\"column\">\n",
    "    <img src=\"./img/logo-ISAE_SUPAERO.png\" width=\"200\">\n",
    "  </div>\n",
    "</div>"
   ]
  },
  {
   "cell_type": "markdown",
   "metadata": {},
   "source": [
    "# [POST-PROCESSING] FAST-OAD with BWB integrated architecture\n",
    "#### Sandra MUÑOZ \n",
    "#### Justo RODRÍGUEZ\n",
    "#### Miguel VALADAS\n",
    "\n",
    "Latest update: 26 March 2023\n",
    "\n",
    "------------------------------------------\n",
    "This part is dedicated to the generation of graphs and plots. The outputs are directly uploaded from the \"Simulation results\" folder. To see how these outputs are generate, refer to [SIMULATIONS] Jupyter Notebook. As an example, the wing sweep angle sensitivity analysis is given. \n"
   ]
  },
  {
   "cell_type": "markdown",
   "metadata": {},
   "source": [
    "## 1. Import libraries"
   ]
  },
  {
   "cell_type": "code",
   "execution_count": 1,
   "metadata": {},
   "outputs": [
    {
     "name": "stdout",
     "output_type": "stream",
     "text": [
      "Package 'numpy' is correctly installed.\n",
      "Package 'os.path' is correctly installed.\n",
      "Package 'openmdao.api' is correctly installed.\n",
      "Package 'logging' is correctly installed.\n",
      "Package 'shutil' is correctly installed.\n",
      "Package 'fastoad.api' is correctly installed.\n",
      "Package 'math' is correctly installed.\n",
      "Package 'matplotlib.pyplot' is correctly installed.\n",
      "Package 'plotly.graph_objects' is correctly installed.\n",
      "Package 'array' is correctly installed.\n",
      "Package 'time' is correctly installed.\n",
      "Package 'sys' is correctly installed.\n",
      "Package 'pandas' is correctly installed.\n",
      "Package 'qgrid' is correctly installed.\n",
      "Package 'yaml' is correctly installed.\n"
     ]
    }
   ],
   "source": [
    "# Check if all packages are installed. If not, the program will automatically install the missing ones. \n",
    "\n",
    "import importlib.util\n",
    "import sys\n",
    "import subprocess\n",
    "# Packages list\n",
    "package_names = ['numpy', 'os.path','openmdao.api','logging','shutil','fastoad.api','math','matplotlib.pyplot','plotly.graph_objects','array','time','sys','pandas','qgrid','yaml']\n",
    "num_packages = len(package_names)\n",
    "\n",
    "# Function to install package\n",
    "def install(package):\n",
    "    subprocess.check_call([sys.executable, '-m', 'pip', 'install', package])\n",
    "    \n",
    "# Test libraries: \n",
    "for i in range(num_packages):\n",
    "    spec = importlib.util.find_spec(package_names[i])\n",
    "    if spec is None:\n",
    "        print(\"-----------ERROR-----------: Package '\" + package_names[i] +\"'  is not installed.\")\n",
    "        # Install package: \n",
    "        install(package_names[i])\n",
    "        print(\"-----------UPDATE-----------: Package '\" + package_names[i] +\"'  is now correctly installed.\")\n",
    "        \n",
    "    else:\n",
    "        print(\"Package '\" + package_names[i] + \"' is correctly installed.\")\n",
    "        \n",
    "# Import packages once all of them are correctly installed: \n",
    "import openmdao.api as om\n",
    "from fastoad.module_management.constants import ModelDomain\n",
    "from fastoad.module_management.service_registry import RegisterOpenMDAOSystem, RegisterSubmodel\n",
    "import logging\n",
    "import shutil\n",
    "import fastoad.api as oad\n",
    "import os.path as pth\n",
    "import os\n",
    "import yaml\n",
    "from ruamel.yaml import YAML\n",
    "import matplotlib.pyplot as plt\n",
    "from IPython.display import Javascript, display, Image, HTML\n",
    "import numpy as np\n",
    "import math\n",
    "import plotly.graph_objects as go\n",
    "import array\n",
    "import time\n",
    "import sys\n",
    "import pandas as pd\n",
    "import qgrid\n"
   ]
  },
  {
   "cell_type": "markdown",
   "metadata": {},
   "source": [
    "## 2. Directory set up and outputs initialization"
   ]
  },
  {
   "cell_type": "code",
   "execution_count": 2,
   "metadata": {},
   "outputs": [
    {
     "name": "stdout",
     "output_type": "stream",
     "text": [
      "Directory:  e:\\KSHITIJ\\FastOAD\\Code\\Swept_Wing_API\\BWB\\BWB_with_model\\FastBWB\n",
      "- Data folder path is:  e:\\KSHITIJ\\FastOAD\\Code\\Swept_Wing_API\\BWB\\BWB_with_model\\FastBWB\\data\n",
      "- Work folder path is:  e:\\KSHITIJ\\FastOAD\\Code\\Swept_Wing_API\\BWB\\BWB_with_model\\FastBWB\\workspace\n",
      "-------------------------------------------------------------\n",
      " SWEEP SIMULATION INFORMATION: \n",
      "-------------------------------------------------------------\n",
      "- BWB simulations directory is:  e:\\KSHITIJ\\FastOAD\\Code\\Swept_Wing_API\\BWB\\BWB_with_model\\FastBWB\\workspace\\Simulation_results\\Sensitivity analysis\\Sweep angle\\Outputs\n",
      "- The sweep vector is:  [15. 16. 17. 18. 19. 20. 21. 22. 23. 24. 25. 26. 27. 28. 29. 30. 31. 32.\n",
      " 33. 34. 35.]\n"
     ]
    }
   ],
   "source": [
    "# Print the current working directory\n",
    "directory = \"{0}\".format(os.getcwd())\n",
    "print('Directory: ', directory)\n",
    "\n",
    "# Assign data and work folder paths: \n",
    "DATA_FOLDER_PATH = \"data\"\n",
    "WORK_FOLDER_PATH = \"workspace\"\n",
    "CONFIGURATION_FILE_BWB = pth.join(WORK_FOLDER_PATH, \"BWB_configuration.yml\")\n",
    "\n",
    "# Print data and work folder paths: \n",
    "print('- Data folder path is: ',directory +'\\data')\n",
    "print('- Work folder path is: ',directory +'\\workspace')\n",
    "\n",
    "# TUBE AND WING CONFIGURATION\n",
    "# Upload the inputs and outputs directly: \n",
    "inputs_tubeWing = pth.join(WORK_FOLDER_PATH, \"problem_inputs_tubeWing_saved.xml\")\n",
    "outputs_tubeWing = pth.join(WORK_FOLDER_PATH, \"problem_outputs_tubeWing_saved.xml\")\n",
    "\n",
    "\n",
    "# BWB CONFIGURATION\n",
    "# Example: wing sweep angle simulation parameters: \n",
    "print('-------------------------------------------------------------')\n",
    "print(' SWEEP SIMULATION INFORMATION: ')\n",
    "print('-------------------------------------------------------------')\n",
    "\n",
    "sweep_vec = np.linspace(15,35,21)\n",
    "simDirS = directory +'\\workspace\\Simulation_results\\Sensitivity analysis\\Sweep angle\\Outputs'\n",
    "print('- BWB simulations directory is: ', simDirS)\n",
    "print('- The sweep vector is: ', sweep_vec)"
   ]
  },
  {
   "cell_type": "markdown",
   "metadata": {},
   "source": [
    "## 3. Variable viewer"
   ]
  },
  {
   "cell_type": "code",
   "execution_count": 3,
   "metadata": {},
   "outputs": [
    {
     "name": "stdout",
     "output_type": "stream",
     "text": [
      "-------------------------------------------------------------\n",
      "BWB CONFIGURATION\n",
      "-------------------------------------------------------------\n"
     ]
    },
    {
     "data": {
      "application/vnd.jupyter.widget-view+json": {
       "model_id": "f321338bf8434a60838e76955f318c6d",
       "version_major": 2,
       "version_minor": 0
      },
      "text/plain": [
       "VBox(children=(HBox(children=(Button(description='Load', icon='upload', style=ButtonStyle(), tooltip='Load the…"
      ]
     },
     "metadata": {},
     "output_type": "display_data"
    }
   ],
   "source": [
    "# BWB CONFIFURATION:\n",
    "print('-------------------------------------------------------------')\n",
    "print('BWB CONFIGURATION')\n",
    "print('-------------------------------------------------------------')\n",
    "oad.variable_viewer(pth.join(simDirS, \"problem_outputs_BWB_sweep15.xml\")) # sweep_25 = 15deg as an example. \n"
   ]
  },
  {
   "cell_type": "markdown",
   "metadata": {},
   "source": [
    "#### XSDM FILE "
   ]
  },
  {
   "cell_type": "code",
   "execution_count": 4,
   "metadata": {
    "scrolled": true
   },
   "outputs": [
    {
     "name": "stderr",
     "output_type": "stream",
     "text": [
      "e:\\KSHITIJ\\FastOAD\\Fastenvk1\\lib\\site-packages\\openmdao\\visualization\\n2_viewer\\n2_viewer.py:168: OpenMDAOWarning:All-NaN slice encountered\n",
      "e:\\KSHITIJ\\FastOAD\\Fastenvk1\\lib\\site-packages\\openmdao\\visualization\\n2_viewer\\n2_viewer.py:168: OpenMDAOWarning:All-NaN slice encountered\n",
      "e:\\KSHITIJ\\FastOAD\\Fastenvk1\\lib\\site-packages\\openmdao\\visualization\\n2_viewer\\n2_viewer.py:168: OpenMDAOWarning:All-NaN slice encountered\n",
      "e:\\KSHITIJ\\FastOAD\\Fastenvk1\\lib\\site-packages\\openmdao\\visualization\\n2_viewer\\n2_viewer.py:168: OpenMDAOWarning:All-NaN slice encountered\n",
      "e:\\KSHITIJ\\FastOAD\\Fastenvk1\\lib\\site-packages\\openmdao\\visualization\\n2_viewer\\n2_viewer.py:168: OpenMDAOWarning:All-NaN slice encountered\n",
      "e:\\KSHITIJ\\FastOAD\\Fastenvk1\\lib\\site-packages\\openmdao\\visualization\\n2_viewer\\n2_viewer.py:168: OpenMDAOWarning:All-NaN slice encountered\n",
      "e:\\KSHITIJ\\FastOAD\\Fastenvk1\\lib\\site-packages\\openmdao\\visualization\\n2_viewer\\n2_viewer.py:168: OpenMDAOWarning:All-NaN slice encountered\n",
      "e:\\KSHITIJ\\FastOAD\\Fastenvk1\\lib\\site-packages\\openmdao\\visualization\\n2_viewer\\n2_viewer.py:168: OpenMDAOWarning:All-NaN slice encountered\n",
      "e:\\KSHITIJ\\FastOAD\\Fastenvk1\\lib\\site-packages\\openmdao\\visualization\\n2_viewer\\n2_viewer.py:168: OpenMDAOWarning:All-NaN slice encountered\n",
      "e:\\KSHITIJ\\FastOAD\\Fastenvk1\\lib\\site-packages\\openmdao\\visualization\\n2_viewer\\n2_viewer.py:168: OpenMDAOWarning:All-NaN slice encountered\n",
      "e:\\KSHITIJ\\FastOAD\\Fastenvk1\\lib\\site-packages\\openmdao\\visualization\\n2_viewer\\n2_viewer.py:168: OpenMDAOWarning:All-NaN slice encountered\n",
      "e:\\KSHITIJ\\FastOAD\\Fastenvk1\\lib\\site-packages\\openmdao\\visualization\\n2_viewer\\n2_viewer.py:168: OpenMDAOWarning:All-NaN slice encountered\n",
      "e:\\KSHITIJ\\FastOAD\\Fastenvk1\\lib\\site-packages\\openmdao\\visualization\\n2_viewer\\n2_viewer.py:168: OpenMDAOWarning:All-NaN slice encountered\n",
      "e:\\KSHITIJ\\FastOAD\\Fastenvk1\\lib\\site-packages\\openmdao\\visualization\\n2_viewer\\n2_viewer.py:168: OpenMDAOWarning:All-NaN slice encountered\n",
      "e:\\KSHITIJ\\FastOAD\\Fastenvk1\\lib\\site-packages\\openmdao\\visualization\\n2_viewer\\n2_viewer.py:168: OpenMDAOWarning:All-NaN slice encountered\n",
      "e:\\KSHITIJ\\FastOAD\\Fastenvk1\\lib\\site-packages\\openmdao\\visualization\\n2_viewer\\n2_viewer.py:168: OpenMDAOWarning:All-NaN slice encountered\n",
      "e:\\KSHITIJ\\FastOAD\\Fastenvk1\\lib\\site-packages\\openmdao\\visualization\\n2_viewer\\n2_viewer.py:168: OpenMDAOWarning:All-NaN slice encountered\n",
      "e:\\KSHITIJ\\FastOAD\\Fastenvk1\\lib\\site-packages\\openmdao\\visualization\\n2_viewer\\n2_viewer.py:168: OpenMDAOWarning:All-NaN slice encountered\n",
      "e:\\KSHITIJ\\FastOAD\\Fastenvk1\\lib\\site-packages\\openmdao\\visualization\\n2_viewer\\n2_viewer.py:168: OpenMDAOWarning:All-NaN slice encountered\n",
      "e:\\KSHITIJ\\FastOAD\\Fastenvk1\\lib\\site-packages\\openmdao\\visualization\\n2_viewer\\n2_viewer.py:168: OpenMDAOWarning:All-NaN slice encountered\n",
      "e:\\KSHITIJ\\FastOAD\\Fastenvk1\\lib\\site-packages\\openmdao\\visualization\\n2_viewer\\n2_viewer.py:168: OpenMDAOWarning:All-NaN slice encountered\n",
      "e:\\KSHITIJ\\FastOAD\\Fastenvk1\\lib\\site-packages\\openmdao\\visualization\\n2_viewer\\n2_viewer.py:168: OpenMDAOWarning:All-NaN slice encountered\n",
      "e:\\KSHITIJ\\FastOAD\\Fastenvk1\\lib\\site-packages\\openmdao\\visualization\\n2_viewer\\n2_viewer.py:168: OpenMDAOWarning:All-NaN slice encountered\n",
      "e:\\KSHITIJ\\FastOAD\\Fastenvk1\\lib\\site-packages\\openmdao\\visualization\\n2_viewer\\n2_viewer.py:168: OpenMDAOWarning:All-NaN slice encountered\n",
      "e:\\KSHITIJ\\FastOAD\\Fastenvk1\\lib\\site-packages\\openmdao\\visualization\\n2_viewer\\n2_viewer.py:168: OpenMDAOWarning:All-NaN slice encountered\n",
      "e:\\KSHITIJ\\FastOAD\\Fastenvk1\\lib\\site-packages\\openmdao\\visualization\\n2_viewer\\n2_viewer.py:168: OpenMDAOWarning:All-NaN slice encountered\n",
      "e:\\KSHITIJ\\FastOAD\\Fastenvk1\\lib\\site-packages\\openmdao\\visualization\\n2_viewer\\n2_viewer.py:168: OpenMDAOWarning:All-NaN slice encountered\n",
      "e:\\KSHITIJ\\FastOAD\\Fastenvk1\\lib\\site-packages\\openmdao\\visualization\\n2_viewer\\n2_viewer.py:168: OpenMDAOWarning:All-NaN slice encountered\n",
      "e:\\KSHITIJ\\FastOAD\\Fastenvk1\\lib\\site-packages\\openmdao\\visualization\\n2_viewer\\n2_viewer.py:168: OpenMDAOWarning:All-NaN slice encountered\n",
      "e:\\KSHITIJ\\FastOAD\\Fastenvk1\\lib\\site-packages\\openmdao\\visualization\\n2_viewer\\n2_viewer.py:168: OpenMDAOWarning:All-NaN slice encountered\n",
      "e:\\KSHITIJ\\FastOAD\\Fastenvk1\\lib\\site-packages\\openmdao\\visualization\\n2_viewer\\n2_viewer.py:168: OpenMDAOWarning:All-NaN slice encountered\n",
      "e:\\KSHITIJ\\FastOAD\\Fastenvk1\\lib\\site-packages\\openmdao\\visualization\\n2_viewer\\n2_viewer.py:168: OpenMDAOWarning:All-NaN slice encountered\n",
      "e:\\KSHITIJ\\FastOAD\\Fastenvk1\\lib\\site-packages\\openmdao\\visualization\\n2_viewer\\n2_viewer.py:168: OpenMDAOWarning:All-NaN slice encountered\n",
      "e:\\KSHITIJ\\FastOAD\\Fastenvk1\\lib\\site-packages\\openmdao\\visualization\\n2_viewer\\n2_viewer.py:168: OpenMDAOWarning:All-NaN slice encountered\n",
      "e:\\KSHITIJ\\FastOAD\\Fastenvk1\\lib\\site-packages\\openmdao\\visualization\\n2_viewer\\n2_viewer.py:168: OpenMDAOWarning:All-NaN slice encountered\n",
      "e:\\KSHITIJ\\FastOAD\\Fastenvk1\\lib\\site-packages\\openmdao\\visualization\\n2_viewer\\n2_viewer.py:168: OpenMDAOWarning:All-NaN slice encountered\n",
      "e:\\KSHITIJ\\FastOAD\\Fastenvk1\\lib\\site-packages\\openmdao\\visualization\\n2_viewer\\n2_viewer.py:168: OpenMDAOWarning:All-NaN slice encountered\n",
      "e:\\KSHITIJ\\FastOAD\\Fastenvk1\\lib\\site-packages\\openmdao\\visualization\\n2_viewer\\n2_viewer.py:168: OpenMDAOWarning:All-NaN slice encountered\n",
      "e:\\KSHITIJ\\FastOAD\\Fastenvk1\\lib\\site-packages\\openmdao\\visualization\\n2_viewer\\n2_viewer.py:168: OpenMDAOWarning:All-NaN slice encountered\n",
      "e:\\KSHITIJ\\FastOAD\\Fastenvk1\\lib\\site-packages\\openmdao\\visualization\\n2_viewer\\n2_viewer.py:168: OpenMDAOWarning:All-NaN slice encountered\n",
      "e:\\KSHITIJ\\FastOAD\\Fastenvk1\\lib\\site-packages\\openmdao\\visualization\\n2_viewer\\n2_viewer.py:168: OpenMDAOWarning:All-NaN slice encountered\n",
      "e:\\KSHITIJ\\FastOAD\\Fastenvk1\\lib\\site-packages\\openmdao\\visualization\\n2_viewer\\n2_viewer.py:168: OpenMDAOWarning:All-NaN slice encountered\n",
      "e:\\KSHITIJ\\FastOAD\\Fastenvk1\\lib\\site-packages\\openmdao\\visualization\\n2_viewer\\n2_viewer.py:168: OpenMDAOWarning:All-NaN slice encountered\n",
      "e:\\KSHITIJ\\FastOAD\\Fastenvk1\\lib\\site-packages\\openmdao\\visualization\\n2_viewer\\n2_viewer.py:168: OpenMDAOWarning:All-NaN slice encountered\n",
      "e:\\KSHITIJ\\FastOAD\\Fastenvk1\\lib\\site-packages\\openmdao\\visualization\\n2_viewer\\n2_viewer.py:168: OpenMDAOWarning:All-NaN slice encountered\n",
      "e:\\KSHITIJ\\FastOAD\\Fastenvk1\\lib\\site-packages\\openmdao\\visualization\\n2_viewer\\n2_viewer.py:168: OpenMDAOWarning:All-NaN slice encountered\n",
      "e:\\KSHITIJ\\FastOAD\\Fastenvk1\\lib\\site-packages\\openmdao\\visualization\\n2_viewer\\n2_viewer.py:168: OpenMDAOWarning:All-NaN slice encountered\n",
      "e:\\KSHITIJ\\FastOAD\\Fastenvk1\\lib\\site-packages\\openmdao\\visualization\\n2_viewer\\n2_viewer.py:168: OpenMDAOWarning:All-NaN slice encountered\n",
      "e:\\KSHITIJ\\FastOAD\\Fastenvk1\\lib\\site-packages\\openmdao\\visualization\\n2_viewer\\n2_viewer.py:168: OpenMDAOWarning:All-NaN slice encountered\n",
      "e:\\KSHITIJ\\FastOAD\\Fastenvk1\\lib\\site-packages\\openmdao\\visualization\\n2_viewer\\n2_viewer.py:168: OpenMDAOWarning:All-NaN slice encountered\n",
      "e:\\KSHITIJ\\FastOAD\\Fastenvk1\\lib\\site-packages\\openmdao\\visualization\\n2_viewer\\n2_viewer.py:168: OpenMDAOWarning:All-NaN slice encountered\n",
      "e:\\KSHITIJ\\FastOAD\\Fastenvk1\\lib\\site-packages\\openmdao\\visualization\\n2_viewer\\n2_viewer.py:168: OpenMDAOWarning:All-NaN slice encountered\n",
      "e:\\KSHITIJ\\FastOAD\\Fastenvk1\\lib\\site-packages\\openmdao\\visualization\\n2_viewer\\n2_viewer.py:168: OpenMDAOWarning:All-NaN slice encountered\n",
      "e:\\KSHITIJ\\FastOAD\\Fastenvk1\\lib\\site-packages\\openmdao\\visualization\\n2_viewer\\n2_viewer.py:168: OpenMDAOWarning:All-NaN slice encountered\n",
      "e:\\KSHITIJ\\FastOAD\\Fastenvk1\\lib\\site-packages\\openmdao\\visualization\\n2_viewer\\n2_viewer.py:168: OpenMDAOWarning:All-NaN slice encountered\n",
      "e:\\KSHITIJ\\FastOAD\\Fastenvk1\\lib\\site-packages\\openmdao\\visualization\\n2_viewer\\n2_viewer.py:168: OpenMDAOWarning:All-NaN slice encountered\n",
      "e:\\KSHITIJ\\FastOAD\\Fastenvk1\\lib\\site-packages\\openmdao\\visualization\\n2_viewer\\n2_viewer.py:168: OpenMDAOWarning:All-NaN slice encountered\n",
      "e:\\KSHITIJ\\FastOAD\\Fastenvk1\\lib\\site-packages\\openmdao\\visualization\\n2_viewer\\n2_viewer.py:168: OpenMDAOWarning:All-NaN slice encountered\n",
      "e:\\KSHITIJ\\FastOAD\\Fastenvk1\\lib\\site-packages\\openmdao\\visualization\\n2_viewer\\n2_viewer.py:168: OpenMDAOWarning:All-NaN slice encountered\n",
      "e:\\KSHITIJ\\FastOAD\\Fastenvk1\\lib\\site-packages\\openmdao\\visualization\\n2_viewer\\n2_viewer.py:168: OpenMDAOWarning:All-NaN slice encountered\n",
      "e:\\KSHITIJ\\FastOAD\\Fastenvk1\\lib\\site-packages\\openmdao\\visualization\\n2_viewer\\n2_viewer.py:168: OpenMDAOWarning:All-NaN slice encountered\n",
      "e:\\KSHITIJ\\FastOAD\\Fastenvk1\\lib\\site-packages\\openmdao\\visualization\\n2_viewer\\n2_viewer.py:168: OpenMDAOWarning:All-NaN slice encountered\n",
      "e:\\KSHITIJ\\FastOAD\\Fastenvk1\\lib\\site-packages\\openmdao\\visualization\\n2_viewer\\n2_viewer.py:168: OpenMDAOWarning:All-NaN slice encountered\n",
      "e:\\KSHITIJ\\FastOAD\\Fastenvk1\\lib\\site-packages\\openmdao\\visualization\\n2_viewer\\n2_viewer.py:168: OpenMDAOWarning:All-NaN slice encountered\n",
      "e:\\KSHITIJ\\FastOAD\\Fastenvk1\\lib\\site-packages\\openmdao\\visualization\\n2_viewer\\n2_viewer.py:168: OpenMDAOWarning:All-NaN slice encountered\n",
      "e:\\KSHITIJ\\FastOAD\\Fastenvk1\\lib\\site-packages\\openmdao\\visualization\\n2_viewer\\n2_viewer.py:168: OpenMDAOWarning:All-NaN slice encountered\n",
      "e:\\KSHITIJ\\FastOAD\\Fastenvk1\\lib\\site-packages\\openmdao\\visualization\\n2_viewer\\n2_viewer.py:168: OpenMDAOWarning:All-NaN slice encountered\n",
      "e:\\KSHITIJ\\FastOAD\\Fastenvk1\\lib\\site-packages\\openmdao\\visualization\\n2_viewer\\n2_viewer.py:168: OpenMDAOWarning:All-NaN slice encountered\n",
      "e:\\KSHITIJ\\FastOAD\\Fastenvk1\\lib\\site-packages\\openmdao\\visualization\\n2_viewer\\n2_viewer.py:168: OpenMDAOWarning:All-NaN slice encountered\n",
      "e:\\KSHITIJ\\FastOAD\\Fastenvk1\\lib\\site-packages\\openmdao\\visualization\\n2_viewer\\n2_viewer.py:168: OpenMDAOWarning:All-NaN slice encountered\n",
      "e:\\KSHITIJ\\FastOAD\\Fastenvk1\\lib\\site-packages\\openmdao\\visualization\\n2_viewer\\n2_viewer.py:168: OpenMDAOWarning:All-NaN slice encountered\n",
      "e:\\KSHITIJ\\FastOAD\\Fastenvk1\\lib\\site-packages\\openmdao\\visualization\\n2_viewer\\n2_viewer.py:168: OpenMDAOWarning:All-NaN slice encountered\n",
      "e:\\KSHITIJ\\FastOAD\\Fastenvk1\\lib\\site-packages\\openmdao\\visualization\\n2_viewer\\n2_viewer.py:168: OpenMDAOWarning:All-NaN slice encountered\n",
      "e:\\KSHITIJ\\FastOAD\\Fastenvk1\\lib\\site-packages\\openmdao\\visualization\\n2_viewer\\n2_viewer.py:168: OpenMDAOWarning:All-NaN slice encountered\n",
      "e:\\KSHITIJ\\FastOAD\\Fastenvk1\\lib\\site-packages\\openmdao\\visualization\\n2_viewer\\n2_viewer.py:168: OpenMDAOWarning:All-NaN slice encountered\n",
      "e:\\KSHITIJ\\FastOAD\\Fastenvk1\\lib\\site-packages\\openmdao\\visualization\\n2_viewer\\n2_viewer.py:168: OpenMDAOWarning:All-NaN slice encountered\n",
      "e:\\KSHITIJ\\FastOAD\\Fastenvk1\\lib\\site-packages\\openmdao\\visualization\\n2_viewer\\n2_viewer.py:168: OpenMDAOWarning:All-NaN slice encountered\n",
      "e:\\KSHITIJ\\FastOAD\\Fastenvk1\\lib\\site-packages\\openmdao\\visualization\\n2_viewer\\n2_viewer.py:168: OpenMDAOWarning:All-NaN slice encountered\n",
      "e:\\KSHITIJ\\FastOAD\\Fastenvk1\\lib\\site-packages\\openmdao\\visualization\\n2_viewer\\n2_viewer.py:168: OpenMDAOWarning:All-NaN slice encountered\n",
      "e:\\KSHITIJ\\FastOAD\\Fastenvk1\\lib\\site-packages\\openmdao\\visualization\\n2_viewer\\n2_viewer.py:168: OpenMDAOWarning:All-NaN slice encountered\n",
      "e:\\KSHITIJ\\FastOAD\\Fastenvk1\\lib\\site-packages\\openmdao\\visualization\\n2_viewer\\n2_viewer.py:168: OpenMDAOWarning:All-NaN slice encountered\n",
      "e:\\KSHITIJ\\FastOAD\\Fastenvk1\\lib\\site-packages\\openmdao\\visualization\\n2_viewer\\n2_viewer.py:168: OpenMDAOWarning:All-NaN slice encountered\n",
      "e:\\KSHITIJ\\FastOAD\\Fastenvk1\\lib\\site-packages\\openmdao\\visualization\\n2_viewer\\n2_viewer.py:168: OpenMDAOWarning:All-NaN slice encountered\n",
      "e:\\KSHITIJ\\FastOAD\\Fastenvk1\\lib\\site-packages\\openmdao\\visualization\\n2_viewer\\n2_viewer.py:168: OpenMDAOWarning:All-NaN slice encountered\n",
      "e:\\KSHITIJ\\FastOAD\\Fastenvk1\\lib\\site-packages\\openmdao\\visualization\\n2_viewer\\n2_viewer.py:168: OpenMDAOWarning:All-NaN slice encountered\n",
      "e:\\KSHITIJ\\FastOAD\\Fastenvk1\\lib\\site-packages\\openmdao\\visualization\\n2_viewer\\n2_viewer.py:168: OpenMDAOWarning:All-NaN slice encountered\n",
      "e:\\KSHITIJ\\FastOAD\\Fastenvk1\\lib\\site-packages\\openmdao\\visualization\\n2_viewer\\n2_viewer.py:168: OpenMDAOWarning:All-NaN slice encountered\n",
      "e:\\KSHITIJ\\FastOAD\\Fastenvk1\\lib\\site-packages\\openmdao\\visualization\\n2_viewer\\n2_viewer.py:168: OpenMDAOWarning:All-NaN slice encountered\n",
      "e:\\KSHITIJ\\FastOAD\\Fastenvk1\\lib\\site-packages\\openmdao\\visualization\\n2_viewer\\n2_viewer.py:168: OpenMDAOWarning:All-NaN slice encountered\n",
      "e:\\KSHITIJ\\FastOAD\\Fastenvk1\\lib\\site-packages\\openmdao\\visualization\\n2_viewer\\n2_viewer.py:168: OpenMDAOWarning:All-NaN slice encountered\n",
      "e:\\KSHITIJ\\FastOAD\\Fastenvk1\\lib\\site-packages\\openmdao\\visualization\\n2_viewer\\n2_viewer.py:168: OpenMDAOWarning:All-NaN slice encountered\n",
      "e:\\KSHITIJ\\FastOAD\\Fastenvk1\\lib\\site-packages\\openmdao\\visualization\\n2_viewer\\n2_viewer.py:168: OpenMDAOWarning:All-NaN slice encountered\n",
      "e:\\KSHITIJ\\FastOAD\\Fastenvk1\\lib\\site-packages\\openmdao\\visualization\\n2_viewer\\n2_viewer.py:168: OpenMDAOWarning:All-NaN slice encountered\n",
      "e:\\KSHITIJ\\FastOAD\\Fastenvk1\\lib\\site-packages\\openmdao\\visualization\\n2_viewer\\n2_viewer.py:168: OpenMDAOWarning:All-NaN slice encountered\n",
      "e:\\KSHITIJ\\FastOAD\\Fastenvk1\\lib\\site-packages\\openmdao\\visualization\\n2_viewer\\n2_viewer.py:168: OpenMDAOWarning:All-NaN slice encountered\n",
      "e:\\KSHITIJ\\FastOAD\\Fastenvk1\\lib\\site-packages\\openmdao\\visualization\\n2_viewer\\n2_viewer.py:168: OpenMDAOWarning:All-NaN slice encountered\n",
      "e:\\KSHITIJ\\FastOAD\\Fastenvk1\\lib\\site-packages\\openmdao\\visualization\\n2_viewer\\n2_viewer.py:168: OpenMDAOWarning:All-NaN slice encountered\n",
      "e:\\KSHITIJ\\FastOAD\\Fastenvk1\\lib\\site-packages\\openmdao\\visualization\\n2_viewer\\n2_viewer.py:168: OpenMDAOWarning:All-NaN slice encountered\n",
      "e:\\KSHITIJ\\FastOAD\\Fastenvk1\\lib\\site-packages\\openmdao\\visualization\\n2_viewer\\n2_viewer.py:168: OpenMDAOWarning:All-NaN slice encountered\n",
      "e:\\KSHITIJ\\FastOAD\\Fastenvk1\\lib\\site-packages\\openmdao\\visualization\\n2_viewer\\n2_viewer.py:168: OpenMDAOWarning:All-NaN slice encountered\n",
      "e:\\KSHITIJ\\FastOAD\\Fastenvk1\\lib\\site-packages\\openmdao\\visualization\\n2_viewer\\n2_viewer.py:168: OpenMDAOWarning:All-NaN slice encountered\n",
      "e:\\KSHITIJ\\FastOAD\\Fastenvk1\\lib\\site-packages\\openmdao\\visualization\\n2_viewer\\n2_viewer.py:168: OpenMDAOWarning:All-NaN slice encountered\n",
      "e:\\KSHITIJ\\FastOAD\\Fastenvk1\\lib\\site-packages\\openmdao\\visualization\\n2_viewer\\n2_viewer.py:168: OpenMDAOWarning:All-NaN slice encountered\n",
      "e:\\KSHITIJ\\FastOAD\\Fastenvk1\\lib\\site-packages\\openmdao\\visualization\\n2_viewer\\n2_viewer.py:168: OpenMDAOWarning:All-NaN slice encountered\n",
      "e:\\KSHITIJ\\FastOAD\\Fastenvk1\\lib\\site-packages\\openmdao\\visualization\\n2_viewer\\n2_viewer.py:168: OpenMDAOWarning:All-NaN slice encountered\n",
      "e:\\KSHITIJ\\FastOAD\\Fastenvk1\\lib\\site-packages\\openmdao\\visualization\\n2_viewer\\n2_viewer.py:168: OpenMDAOWarning:All-NaN slice encountered\n",
      "e:\\KSHITIJ\\FastOAD\\Fastenvk1\\lib\\site-packages\\openmdao\\visualization\\n2_viewer\\n2_viewer.py:168: OpenMDAOWarning:All-NaN slice encountered\n",
      "e:\\KSHITIJ\\FastOAD\\Fastenvk1\\lib\\site-packages\\openmdao\\visualization\\n2_viewer\\n2_viewer.py:168: OpenMDAOWarning:All-NaN slice encountered\n",
      "e:\\KSHITIJ\\FastOAD\\Fastenvk1\\lib\\site-packages\\openmdao\\visualization\\n2_viewer\\n2_viewer.py:168: OpenMDAOWarning:All-NaN slice encountered\n",
      "e:\\KSHITIJ\\FastOAD\\Fastenvk1\\lib\\site-packages\\openmdao\\visualization\\n2_viewer\\n2_viewer.py:168: OpenMDAOWarning:All-NaN slice encountered\n",
      "e:\\KSHITIJ\\FastOAD\\Fastenvk1\\lib\\site-packages\\openmdao\\visualization\\n2_viewer\\n2_viewer.py:168: OpenMDAOWarning:All-NaN slice encountered\n",
      "e:\\KSHITIJ\\FastOAD\\Fastenvk1\\lib\\site-packages\\openmdao\\visualization\\n2_viewer\\n2_viewer.py:168: OpenMDAOWarning:All-NaN slice encountered\n",
      "e:\\KSHITIJ\\FastOAD\\Fastenvk1\\lib\\site-packages\\openmdao\\visualization\\n2_viewer\\n2_viewer.py:168: OpenMDAOWarning:All-NaN slice encountered\n",
      "e:\\KSHITIJ\\FastOAD\\Fastenvk1\\lib\\site-packages\\openmdao\\visualization\\n2_viewer\\n2_viewer.py:168: OpenMDAOWarning:All-NaN slice encountered\n",
      "e:\\KSHITIJ\\FastOAD\\Fastenvk1\\lib\\site-packages\\openmdao\\visualization\\n2_viewer\\n2_viewer.py:168: OpenMDAOWarning:All-NaN slice encountered\n",
      "e:\\KSHITIJ\\FastOAD\\Fastenvk1\\lib\\site-packages\\openmdao\\visualization\\n2_viewer\\n2_viewer.py:168: OpenMDAOWarning:All-NaN slice encountered\n",
      "e:\\KSHITIJ\\FastOAD\\Fastenvk1\\lib\\site-packages\\openmdao\\visualization\\n2_viewer\\n2_viewer.py:168: OpenMDAOWarning:All-NaN slice encountered\n",
      "e:\\KSHITIJ\\FastOAD\\Fastenvk1\\lib\\site-packages\\openmdao\\visualization\\n2_viewer\\n2_viewer.py:168: OpenMDAOWarning:All-NaN slice encountered\n",
      "e:\\KSHITIJ\\FastOAD\\Fastenvk1\\lib\\site-packages\\openmdao\\visualization\\n2_viewer\\n2_viewer.py:168: OpenMDAOWarning:All-NaN slice encountered\n",
      "e:\\KSHITIJ\\FastOAD\\Fastenvk1\\lib\\site-packages\\openmdao\\visualization\\n2_viewer\\n2_viewer.py:168: OpenMDAOWarning:All-NaN slice encountered\n",
      "e:\\KSHITIJ\\FastOAD\\Fastenvk1\\lib\\site-packages\\openmdao\\visualization\\n2_viewer\\n2_viewer.py:168: OpenMDAOWarning:All-NaN slice encountered\n",
      "e:\\KSHITIJ\\FastOAD\\Fastenvk1\\lib\\site-packages\\openmdao\\visualization\\n2_viewer\\n2_viewer.py:168: OpenMDAOWarning:All-NaN slice encountered\n",
      "e:\\KSHITIJ\\FastOAD\\Fastenvk1\\lib\\site-packages\\openmdao\\visualization\\n2_viewer\\n2_viewer.py:168: OpenMDAOWarning:All-NaN slice encountered\n",
      "e:\\KSHITIJ\\FastOAD\\Fastenvk1\\lib\\site-packages\\openmdao\\visualization\\n2_viewer\\n2_viewer.py:168: OpenMDAOWarning:All-NaN slice encountered\n",
      "e:\\KSHITIJ\\FastOAD\\Fastenvk1\\lib\\site-packages\\openmdao\\visualization\\n2_viewer\\n2_viewer.py:168: OpenMDAOWarning:All-NaN slice encountered\n",
      "e:\\KSHITIJ\\FastOAD\\Fastenvk1\\lib\\site-packages\\openmdao\\visualization\\n2_viewer\\n2_viewer.py:168: OpenMDAOWarning:All-NaN slice encountered\n",
      "e:\\KSHITIJ\\FastOAD\\Fastenvk1\\lib\\site-packages\\openmdao\\visualization\\n2_viewer\\n2_viewer.py:168: OpenMDAOWarning:All-NaN slice encountered\n",
      "e:\\KSHITIJ\\FastOAD\\Fastenvk1\\lib\\site-packages\\openmdao\\visualization\\n2_viewer\\n2_viewer.py:168: OpenMDAOWarning:All-NaN slice encountered\n",
      "e:\\KSHITIJ\\FastOAD\\Fastenvk1\\lib\\site-packages\\openmdao\\visualization\\n2_viewer\\n2_viewer.py:168: OpenMDAOWarning:All-NaN slice encountered\n",
      "e:\\KSHITIJ\\FastOAD\\Fastenvk1\\lib\\site-packages\\openmdao\\visualization\\n2_viewer\\n2_viewer.py:168: OpenMDAOWarning:All-NaN slice encountered\n",
      "e:\\KSHITIJ\\FastOAD\\Fastenvk1\\lib\\site-packages\\openmdao\\visualization\\n2_viewer\\n2_viewer.py:168: OpenMDAOWarning:All-NaN slice encountered\n",
      "e:\\KSHITIJ\\FastOAD\\Fastenvk1\\lib\\site-packages\\openmdao\\visualization\\n2_viewer\\n2_viewer.py:168: OpenMDAOWarning:All-NaN slice encountered\n",
      "e:\\KSHITIJ\\FastOAD\\Fastenvk1\\lib\\site-packages\\openmdao\\visualization\\n2_viewer\\n2_viewer.py:168: OpenMDAOWarning:All-NaN slice encountered\n",
      "e:\\KSHITIJ\\FastOAD\\Fastenvk1\\lib\\site-packages\\openmdao\\visualization\\n2_viewer\\n2_viewer.py:168: OpenMDAOWarning:All-NaN slice encountered\n",
      "e:\\KSHITIJ\\FastOAD\\Fastenvk1\\lib\\site-packages\\openmdao\\visualization\\n2_viewer\\n2_viewer.py:168: OpenMDAOWarning:All-NaN slice encountered\n",
      "e:\\KSHITIJ\\FastOAD\\Fastenvk1\\lib\\site-packages\\openmdao\\visualization\\n2_viewer\\n2_viewer.py:168: OpenMDAOWarning:All-NaN slice encountered\n",
      "e:\\KSHITIJ\\FastOAD\\Fastenvk1\\lib\\site-packages\\openmdao\\visualization\\n2_viewer\\n2_viewer.py:168: OpenMDAOWarning:All-NaN slice encountered\n",
      "e:\\KSHITIJ\\FastOAD\\Fastenvk1\\lib\\site-packages\\openmdao\\visualization\\n2_viewer\\n2_viewer.py:168: OpenMDAOWarning:All-NaN slice encountered\n",
      "e:\\KSHITIJ\\FastOAD\\Fastenvk1\\lib\\site-packages\\openmdao\\visualization\\n2_viewer\\n2_viewer.py:168: OpenMDAOWarning:All-NaN slice encountered\n",
      "e:\\KSHITIJ\\FastOAD\\Fastenvk1\\lib\\site-packages\\openmdao\\visualization\\n2_viewer\\n2_viewer.py:168: OpenMDAOWarning:All-NaN slice encountered\n",
      "e:\\KSHITIJ\\FastOAD\\Fastenvk1\\lib\\site-packages\\openmdao\\visualization\\n2_viewer\\n2_viewer.py:168: OpenMDAOWarning:All-NaN slice encountered\n",
      "e:\\KSHITIJ\\FastOAD\\Fastenvk1\\lib\\site-packages\\openmdao\\visualization\\n2_viewer\\n2_viewer.py:168: OpenMDAOWarning:All-NaN slice encountered\n",
      "e:\\KSHITIJ\\FastOAD\\Fastenvk1\\lib\\site-packages\\openmdao\\visualization\\n2_viewer\\n2_viewer.py:168: OpenMDAOWarning:All-NaN slice encountered\n",
      "e:\\KSHITIJ\\FastOAD\\Fastenvk1\\lib\\site-packages\\openmdao\\visualization\\n2_viewer\\n2_viewer.py:168: OpenMDAOWarning:All-NaN slice encountered\n",
      "e:\\KSHITIJ\\FastOAD\\Fastenvk1\\lib\\site-packages\\openmdao\\visualization\\n2_viewer\\n2_viewer.py:168: OpenMDAOWarning:All-NaN slice encountered\n",
      "e:\\KSHITIJ\\FastOAD\\Fastenvk1\\lib\\site-packages\\openmdao\\visualization\\n2_viewer\\n2_viewer.py:168: OpenMDAOWarning:All-NaN slice encountered\n",
      "e:\\KSHITIJ\\FastOAD\\Fastenvk1\\lib\\site-packages\\openmdao\\visualization\\n2_viewer\\n2_viewer.py:168: OpenMDAOWarning:All-NaN slice encountered\n",
      "e:\\KSHITIJ\\FastOAD\\Fastenvk1\\lib\\site-packages\\openmdao\\visualization\\n2_viewer\\n2_viewer.py:168: OpenMDAOWarning:All-NaN slice encountered\n",
      "e:\\KSHITIJ\\FastOAD\\Fastenvk1\\lib\\site-packages\\openmdao\\visualization\\n2_viewer\\n2_viewer.py:168: OpenMDAOWarning:All-NaN slice encountered\n",
      "e:\\KSHITIJ\\FastOAD\\Fastenvk1\\lib\\site-packages\\openmdao\\visualization\\n2_viewer\\n2_viewer.py:168: OpenMDAOWarning:All-NaN slice encountered\n",
      "e:\\KSHITIJ\\FastOAD\\Fastenvk1\\lib\\site-packages\\openmdao\\visualization\\n2_viewer\\n2_viewer.py:168: OpenMDAOWarning:All-NaN slice encountered\n",
      "e:\\KSHITIJ\\FastOAD\\Fastenvk1\\lib\\site-packages\\openmdao\\visualization\\n2_viewer\\n2_viewer.py:168: OpenMDAOWarning:All-NaN slice encountered\n",
      "e:\\KSHITIJ\\FastOAD\\Fastenvk1\\lib\\site-packages\\openmdao\\visualization\\n2_viewer\\n2_viewer.py:168: OpenMDAOWarning:All-NaN slice encountered\n",
      "e:\\KSHITIJ\\FastOAD\\Fastenvk1\\lib\\site-packages\\openmdao\\visualization\\n2_viewer\\n2_viewer.py:168: OpenMDAOWarning:All-NaN slice encountered\n",
      "e:\\KSHITIJ\\FastOAD\\Fastenvk1\\lib\\site-packages\\openmdao\\visualization\\n2_viewer\\n2_viewer.py:168: OpenMDAOWarning:All-NaN slice encountered\n",
      "e:\\KSHITIJ\\FastOAD\\Fastenvk1\\lib\\site-packages\\openmdao\\visualization\\n2_viewer\\n2_viewer.py:168: OpenMDAOWarning:All-NaN slice encountered\n",
      "e:\\KSHITIJ\\FastOAD\\Fastenvk1\\lib\\site-packages\\openmdao\\visualization\\n2_viewer\\n2_viewer.py:168: OpenMDAOWarning:All-NaN slice encountered\n",
      "e:\\KSHITIJ\\FastOAD\\Fastenvk1\\lib\\site-packages\\openmdao\\visualization\\n2_viewer\\n2_viewer.py:168: OpenMDAOWarning:All-NaN slice encountered\n",
      "e:\\KSHITIJ\\FastOAD\\Fastenvk1\\lib\\site-packages\\openmdao\\visualization\\n2_viewer\\n2_viewer.py:168: OpenMDAOWarning:All-NaN slice encountered\n",
      "e:\\KSHITIJ\\FastOAD\\Fastenvk1\\lib\\site-packages\\openmdao\\visualization\\n2_viewer\\n2_viewer.py:168: OpenMDAOWarning:All-NaN slice encountered\n",
      "e:\\KSHITIJ\\FastOAD\\Fastenvk1\\lib\\site-packages\\openmdao\\visualization\\n2_viewer\\n2_viewer.py:168: OpenMDAOWarning:All-NaN slice encountered\n",
      "e:\\KSHITIJ\\FastOAD\\Fastenvk1\\lib\\site-packages\\openmdao\\visualization\\n2_viewer\\n2_viewer.py:168: OpenMDAOWarning:All-NaN slice encountered\n",
      "e:\\KSHITIJ\\FastOAD\\Fastenvk1\\lib\\site-packages\\openmdao\\visualization\\n2_viewer\\n2_viewer.py:168: OpenMDAOWarning:All-NaN slice encountered\n",
      "e:\\KSHITIJ\\FastOAD\\Fastenvk1\\lib\\site-packages\\openmdao\\visualization\\n2_viewer\\n2_viewer.py:168: OpenMDAOWarning:All-NaN slice encountered\n",
      "e:\\KSHITIJ\\FastOAD\\Fastenvk1\\lib\\site-packages\\openmdao\\visualization\\n2_viewer\\n2_viewer.py:168: OpenMDAOWarning:All-NaN slice encountered\n",
      "e:\\KSHITIJ\\FastOAD\\Fastenvk1\\lib\\site-packages\\openmdao\\visualization\\n2_viewer\\n2_viewer.py:168: OpenMDAOWarning:All-NaN slice encountered\n",
      "e:\\KSHITIJ\\FastOAD\\Fastenvk1\\lib\\site-packages\\openmdao\\visualization\\n2_viewer\\n2_viewer.py:168: OpenMDAOWarning:All-NaN slice encountered\n",
      "e:\\KSHITIJ\\FastOAD\\Fastenvk1\\lib\\site-packages\\openmdao\\visualization\\n2_viewer\\n2_viewer.py:168: OpenMDAOWarning:All-NaN slice encountered\n",
      "e:\\KSHITIJ\\FastOAD\\Fastenvk1\\lib\\site-packages\\openmdao\\visualization\\n2_viewer\\n2_viewer.py:168: OpenMDAOWarning:All-NaN slice encountered\n",
      "e:\\KSHITIJ\\FastOAD\\Fastenvk1\\lib\\site-packages\\openmdao\\visualization\\n2_viewer\\n2_viewer.py:168: OpenMDAOWarning:All-NaN slice encountered\n",
      "e:\\KSHITIJ\\FastOAD\\Fastenvk1\\lib\\site-packages\\openmdao\\visualization\\n2_viewer\\n2_viewer.py:168: OpenMDAOWarning:All-NaN slice encountered\n",
      "e:\\KSHITIJ\\FastOAD\\Fastenvk1\\lib\\site-packages\\openmdao\\visualization\\n2_viewer\\n2_viewer.py:168: OpenMDAOWarning:All-NaN slice encountered\n",
      "e:\\KSHITIJ\\FastOAD\\Fastenvk1\\lib\\site-packages\\openmdao\\visualization\\n2_viewer\\n2_viewer.py:168: OpenMDAOWarning:All-NaN slice encountered\n",
      "e:\\KSHITIJ\\FastOAD\\Fastenvk1\\lib\\site-packages\\openmdao\\visualization\\n2_viewer\\n2_viewer.py:168: OpenMDAOWarning:All-NaN slice encountered\n",
      "e:\\KSHITIJ\\FastOAD\\Fastenvk1\\lib\\site-packages\\openmdao\\visualization\\n2_viewer\\n2_viewer.py:168: OpenMDAOWarning:All-NaN slice encountered\n",
      "e:\\KSHITIJ\\FastOAD\\Fastenvk1\\lib\\site-packages\\openmdao\\visualization\\n2_viewer\\n2_viewer.py:168: OpenMDAOWarning:All-NaN slice encountered\n",
      "e:\\KSHITIJ\\FastOAD\\Fastenvk1\\lib\\site-packages\\openmdao\\visualization\\n2_viewer\\n2_viewer.py:168: OpenMDAOWarning:All-NaN slice encountered\n",
      "e:\\KSHITIJ\\FastOAD\\Fastenvk1\\lib\\site-packages\\openmdao\\visualization\\n2_viewer\\n2_viewer.py:168: OpenMDAOWarning:All-NaN slice encountered\n",
      "e:\\KSHITIJ\\FastOAD\\Fastenvk1\\lib\\site-packages\\openmdao\\visualization\\n2_viewer\\n2_viewer.py:168: OpenMDAOWarning:All-NaN slice encountered\n",
      "e:\\KSHITIJ\\FastOAD\\Fastenvk1\\lib\\site-packages\\openmdao\\visualization\\n2_viewer\\n2_viewer.py:168: OpenMDAOWarning:All-NaN slice encountered\n",
      "e:\\KSHITIJ\\FastOAD\\Fastenvk1\\lib\\site-packages\\openmdao\\visualization\\n2_viewer\\n2_viewer.py:168: OpenMDAOWarning:All-NaN slice encountered\n",
      "e:\\KSHITIJ\\FastOAD\\Fastenvk1\\lib\\site-packages\\openmdao\\visualization\\n2_viewer\\n2_viewer.py:168: OpenMDAOWarning:All-NaN slice encountered\n",
      "e:\\KSHITIJ\\FastOAD\\Fastenvk1\\lib\\site-packages\\openmdao\\visualization\\n2_viewer\\n2_viewer.py:168: OpenMDAOWarning:All-NaN slice encountered\n",
      "e:\\KSHITIJ\\FastOAD\\Fastenvk1\\lib\\site-packages\\openmdao\\visualization\\n2_viewer\\n2_viewer.py:168: OpenMDAOWarning:All-NaN slice encountered\n",
      "e:\\KSHITIJ\\FastOAD\\Fastenvk1\\lib\\site-packages\\openmdao\\visualization\\n2_viewer\\n2_viewer.py:168: OpenMDAOWarning:All-NaN slice encountered\n",
      "e:\\KSHITIJ\\FastOAD\\Fastenvk1\\lib\\site-packages\\openmdao\\visualization\\n2_viewer\\n2_viewer.py:168: OpenMDAOWarning:All-NaN slice encountered\n",
      "e:\\KSHITIJ\\FastOAD\\Fastenvk1\\lib\\site-packages\\openmdao\\visualization\\n2_viewer\\n2_viewer.py:168: OpenMDAOWarning:All-NaN slice encountered\n",
      "e:\\KSHITIJ\\FastOAD\\Fastenvk1\\lib\\site-packages\\openmdao\\visualization\\n2_viewer\\n2_viewer.py:168: OpenMDAOWarning:All-NaN slice encountered\n",
      "e:\\KSHITIJ\\FastOAD\\Fastenvk1\\lib\\site-packages\\openmdao\\visualization\\n2_viewer\\n2_viewer.py:168: OpenMDAOWarning:All-NaN slice encountered\n",
      "e:\\KSHITIJ\\FastOAD\\Fastenvk1\\lib\\site-packages\\openmdao\\visualization\\n2_viewer\\n2_viewer.py:168: OpenMDAOWarning:All-NaN slice encountered\n",
      "e:\\KSHITIJ\\FastOAD\\Fastenvk1\\lib\\site-packages\\openmdao\\visualization\\n2_viewer\\n2_viewer.py:168: OpenMDAOWarning:All-NaN slice encountered\n",
      "e:\\KSHITIJ\\FastOAD\\Fastenvk1\\lib\\site-packages\\openmdao\\visualization\\n2_viewer\\n2_viewer.py:168: OpenMDAOWarning:All-NaN slice encountered\n",
      "e:\\KSHITIJ\\FastOAD\\Fastenvk1\\lib\\site-packages\\openmdao\\visualization\\n2_viewer\\n2_viewer.py:168: OpenMDAOWarning:All-NaN slice encountered\n",
      "e:\\KSHITIJ\\FastOAD\\Fastenvk1\\lib\\site-packages\\openmdao\\visualization\\n2_viewer\\n2_viewer.py:168: OpenMDAOWarning:All-NaN slice encountered\n",
      "e:\\KSHITIJ\\FastOAD\\Fastenvk1\\lib\\site-packages\\openmdao\\visualization\\n2_viewer\\n2_viewer.py:168: OpenMDAOWarning:All-NaN slice encountered\n",
      "e:\\KSHITIJ\\FastOAD\\Fastenvk1\\lib\\site-packages\\openmdao\\visualization\\n2_viewer\\n2_viewer.py:168: OpenMDAOWarning:All-NaN slice encountered\n",
      "e:\\KSHITIJ\\FastOAD\\Fastenvk1\\lib\\site-packages\\openmdao\\visualization\\n2_viewer\\n2_viewer.py:168: OpenMDAOWarning:All-NaN slice encountered\n",
      "e:\\KSHITIJ\\FastOAD\\Fastenvk1\\lib\\site-packages\\openmdao\\visualization\\n2_viewer\\n2_viewer.py:168: OpenMDAOWarning:All-NaN slice encountered\n",
      "e:\\KSHITIJ\\FastOAD\\Fastenvk1\\lib\\site-packages\\openmdao\\visualization\\n2_viewer\\n2_viewer.py:168: OpenMDAOWarning:All-NaN slice encountered\n",
      "e:\\KSHITIJ\\FastOAD\\Fastenvk1\\lib\\site-packages\\openmdao\\visualization\\n2_viewer\\n2_viewer.py:168: OpenMDAOWarning:All-NaN slice encountered\n",
      "e:\\KSHITIJ\\FastOAD\\Fastenvk1\\lib\\site-packages\\openmdao\\visualization\\n2_viewer\\n2_viewer.py:168: OpenMDAOWarning:All-NaN slice encountered\n",
      "e:\\KSHITIJ\\FastOAD\\Fastenvk1\\lib\\site-packages\\openmdao\\visualization\\n2_viewer\\n2_viewer.py:168: OpenMDAOWarning:All-NaN slice encountered\n",
      "e:\\KSHITIJ\\FastOAD\\Fastenvk1\\lib\\site-packages\\openmdao\\visualization\\n2_viewer\\n2_viewer.py:168: OpenMDAOWarning:All-NaN slice encountered\n",
      "e:\\KSHITIJ\\FastOAD\\Fastenvk1\\lib\\site-packages\\openmdao\\visualization\\n2_viewer\\n2_viewer.py:168: OpenMDAOWarning:All-NaN slice encountered\n",
      "e:\\KSHITIJ\\FastOAD\\Fastenvk1\\lib\\site-packages\\openmdao\\visualization\\n2_viewer\\n2_viewer.py:168: OpenMDAOWarning:All-NaN slice encountered\n",
      "e:\\KSHITIJ\\FastOAD\\Fastenvk1\\lib\\site-packages\\openmdao\\visualization\\n2_viewer\\n2_viewer.py:168: OpenMDAOWarning:All-NaN slice encountered\n",
      "e:\\KSHITIJ\\FastOAD\\Fastenvk1\\lib\\site-packages\\openmdao\\visualization\\n2_viewer\\n2_viewer.py:168: OpenMDAOWarning:All-NaN slice encountered\n",
      "e:\\KSHITIJ\\FastOAD\\Fastenvk1\\lib\\site-packages\\openmdao\\visualization\\n2_viewer\\n2_viewer.py:168: OpenMDAOWarning:All-NaN slice encountered\n",
      "e:\\KSHITIJ\\FastOAD\\Fastenvk1\\lib\\site-packages\\openmdao\\visualization\\n2_viewer\\n2_viewer.py:168: OpenMDAOWarning:All-NaN slice encountered\n",
      "e:\\KSHITIJ\\FastOAD\\Fastenvk1\\lib\\site-packages\\openmdao\\visualization\\n2_viewer\\n2_viewer.py:168: OpenMDAOWarning:All-NaN slice encountered\n",
      "e:\\KSHITIJ\\FastOAD\\Fastenvk1\\lib\\site-packages\\openmdao\\visualization\\n2_viewer\\n2_viewer.py:168: OpenMDAOWarning:All-NaN slice encountered\n",
      "e:\\KSHITIJ\\FastOAD\\Fastenvk1\\lib\\site-packages\\openmdao\\visualization\\n2_viewer\\n2_viewer.py:168: OpenMDAOWarning:All-NaN slice encountered\n",
      "e:\\KSHITIJ\\FastOAD\\Fastenvk1\\lib\\site-packages\\openmdao\\visualization\\n2_viewer\\n2_viewer.py:168: OpenMDAOWarning:All-NaN slice encountered\n",
      "e:\\KSHITIJ\\FastOAD\\Fastenvk1\\lib\\site-packages\\openmdao\\visualization\\n2_viewer\\n2_viewer.py:168: OpenMDAOWarning:All-NaN slice encountered\n",
      "e:\\KSHITIJ\\FastOAD\\Fastenvk1\\lib\\site-packages\\openmdao\\visualization\\n2_viewer\\n2_viewer.py:168: OpenMDAOWarning:All-NaN slice encountered\n",
      "e:\\KSHITIJ\\FastOAD\\Fastenvk1\\lib\\site-packages\\openmdao\\visualization\\n2_viewer\\n2_viewer.py:168: OpenMDAOWarning:All-NaN slice encountered\n",
      "e:\\KSHITIJ\\FastOAD\\Fastenvk1\\lib\\site-packages\\openmdao\\visualization\\n2_viewer\\n2_viewer.py:168: OpenMDAOWarning:All-NaN slice encountered\n",
      "e:\\KSHITIJ\\FastOAD\\Fastenvk1\\lib\\site-packages\\openmdao\\visualization\\n2_viewer\\n2_viewer.py:168: OpenMDAOWarning:All-NaN slice encountered\n",
      "e:\\KSHITIJ\\FastOAD\\Fastenvk1\\lib\\site-packages\\openmdao\\visualization\\n2_viewer\\n2_viewer.py:168: OpenMDAOWarning:All-NaN slice encountered\n",
      "e:\\KSHITIJ\\FastOAD\\Fastenvk1\\lib\\site-packages\\openmdao\\visualization\\n2_viewer\\n2_viewer.py:168: OpenMDAOWarning:All-NaN slice encountered\n",
      "e:\\KSHITIJ\\FastOAD\\Fastenvk1\\lib\\site-packages\\openmdao\\visualization\\n2_viewer\\n2_viewer.py:168: OpenMDAOWarning:All-NaN slice encountered\n",
      "e:\\KSHITIJ\\FastOAD\\Fastenvk1\\lib\\site-packages\\openmdao\\visualization\\n2_viewer\\n2_viewer.py:168: OpenMDAOWarning:All-NaN slice encountered\n",
      "e:\\KSHITIJ\\FastOAD\\Fastenvk1\\lib\\site-packages\\openmdao\\visualization\\n2_viewer\\n2_viewer.py:168: OpenMDAOWarning:All-NaN slice encountered\n",
      "e:\\KSHITIJ\\FastOAD\\Fastenvk1\\lib\\site-packages\\openmdao\\visualization\\n2_viewer\\n2_viewer.py:168: OpenMDAOWarning:All-NaN slice encountered\n",
      "e:\\KSHITIJ\\FastOAD\\Fastenvk1\\lib\\site-packages\\openmdao\\visualization\\n2_viewer\\n2_viewer.py:168: OpenMDAOWarning:All-NaN slice encountered\n",
      "e:\\KSHITIJ\\FastOAD\\Fastenvk1\\lib\\site-packages\\openmdao\\visualization\\n2_viewer\\n2_viewer.py:168: OpenMDAOWarning:All-NaN slice encountered\n",
      "e:\\KSHITIJ\\FastOAD\\Fastenvk1\\lib\\site-packages\\openmdao\\visualization\\n2_viewer\\n2_viewer.py:168: OpenMDAOWarning:All-NaN slice encountered\n",
      "e:\\KSHITIJ\\FastOAD\\Fastenvk1\\lib\\site-packages\\openmdao\\visualization\\n2_viewer\\n2_viewer.py:168: OpenMDAOWarning:All-NaN slice encountered\n",
      "e:\\KSHITIJ\\FastOAD\\Fastenvk1\\lib\\site-packages\\openmdao\\visualization\\n2_viewer\\n2_viewer.py:168: OpenMDAOWarning:All-NaN slice encountered\n",
      "e:\\KSHITIJ\\FastOAD\\Fastenvk1\\lib\\site-packages\\openmdao\\visualization\\n2_viewer\\n2_viewer.py:168: OpenMDAOWarning:All-NaN slice encountered\n",
      "e:\\KSHITIJ\\FastOAD\\Fastenvk1\\lib\\site-packages\\openmdao\\visualization\\n2_viewer\\n2_viewer.py:168: OpenMDAOWarning:All-NaN slice encountered\n",
      "e:\\KSHITIJ\\FastOAD\\Fastenvk1\\lib\\site-packages\\openmdao\\visualization\\n2_viewer\\n2_viewer.py:168: OpenMDAOWarning:All-NaN slice encountered\n",
      "e:\\KSHITIJ\\FastOAD\\Fastenvk1\\lib\\site-packages\\openmdao\\visualization\\n2_viewer\\n2_viewer.py:168: OpenMDAOWarning:All-NaN slice encountered\n",
      "e:\\KSHITIJ\\FastOAD\\Fastenvk1\\lib\\site-packages\\openmdao\\visualization\\n2_viewer\\n2_viewer.py:168: OpenMDAOWarning:All-NaN slice encountered\n",
      "e:\\KSHITIJ\\FastOAD\\Fastenvk1\\lib\\site-packages\\openmdao\\visualization\\n2_viewer\\n2_viewer.py:168: OpenMDAOWarning:All-NaN slice encountered\n",
      "e:\\KSHITIJ\\FastOAD\\Fastenvk1\\lib\\site-packages\\openmdao\\visualization\\n2_viewer\\n2_viewer.py:168: OpenMDAOWarning:All-NaN slice encountered\n",
      "e:\\KSHITIJ\\FastOAD\\Fastenvk1\\lib\\site-packages\\openmdao\\visualization\\n2_viewer\\n2_viewer.py:168: OpenMDAOWarning:All-NaN slice encountered\n",
      "e:\\KSHITIJ\\FastOAD\\Fastenvk1\\lib\\site-packages\\openmdao\\visualization\\n2_viewer\\n2_viewer.py:168: OpenMDAOWarning:All-NaN slice encountered\n",
      "e:\\KSHITIJ\\FastOAD\\Fastenvk1\\lib\\site-packages\\openmdao\\visualization\\n2_viewer\\n2_viewer.py:168: OpenMDAOWarning:All-NaN slice encountered\n",
      "e:\\KSHITIJ\\FastOAD\\Fastenvk1\\lib\\site-packages\\openmdao\\visualization\\n2_viewer\\n2_viewer.py:168: OpenMDAOWarning:All-NaN slice encountered\n",
      "e:\\KSHITIJ\\FastOAD\\Fastenvk1\\lib\\site-packages\\openmdao\\visualization\\n2_viewer\\n2_viewer.py:168: OpenMDAOWarning:All-NaN slice encountered\n",
      "e:\\KSHITIJ\\FastOAD\\Fastenvk1\\lib\\site-packages\\openmdao\\visualization\\n2_viewer\\n2_viewer.py:168: OpenMDAOWarning:All-NaN slice encountered\n",
      "e:\\KSHITIJ\\FastOAD\\Fastenvk1\\lib\\site-packages\\openmdao\\visualization\\n2_viewer\\n2_viewer.py:168: OpenMDAOWarning:All-NaN slice encountered\n",
      "e:\\KSHITIJ\\FastOAD\\Fastenvk1\\lib\\site-packages\\openmdao\\visualization\\n2_viewer\\n2_viewer.py:168: OpenMDAOWarning:All-NaN slice encountered\n",
      "e:\\KSHITIJ\\FastOAD\\Fastenvk1\\lib\\site-packages\\openmdao\\visualization\\n2_viewer\\n2_viewer.py:168: OpenMDAOWarning:All-NaN slice encountered\n",
      "e:\\KSHITIJ\\FastOAD\\Fastenvk1\\lib\\site-packages\\openmdao\\visualization\\n2_viewer\\n2_viewer.py:168: OpenMDAOWarning:All-NaN slice encountered\n",
      "e:\\KSHITIJ\\FastOAD\\Fastenvk1\\lib\\site-packages\\openmdao\\visualization\\n2_viewer\\n2_viewer.py:168: OpenMDAOWarning:All-NaN slice encountered\n",
      "e:\\KSHITIJ\\FastOAD\\Fastenvk1\\lib\\site-packages\\openmdao\\visualization\\n2_viewer\\n2_viewer.py:168: OpenMDAOWarning:All-NaN slice encountered\n",
      "e:\\KSHITIJ\\FastOAD\\Fastenvk1\\lib\\site-packages\\openmdao\\visualization\\n2_viewer\\n2_viewer.py:168: OpenMDAOWarning:All-NaN slice encountered\n",
      "e:\\KSHITIJ\\FastOAD\\Fastenvk1\\lib\\site-packages\\openmdao\\visualization\\n2_viewer\\n2_viewer.py:168: OpenMDAOWarning:All-NaN slice encountered\n",
      "e:\\KSHITIJ\\FastOAD\\Fastenvk1\\lib\\site-packages\\openmdao\\visualization\\n2_viewer\\n2_viewer.py:168: OpenMDAOWarning:All-NaN slice encountered\n",
      "e:\\KSHITIJ\\FastOAD\\Fastenvk1\\lib\\site-packages\\openmdao\\visualization\\n2_viewer\\n2_viewer.py:168: OpenMDAOWarning:All-NaN slice encountered\n",
      "e:\\KSHITIJ\\FastOAD\\Fastenvk1\\lib\\site-packages\\openmdao\\visualization\\n2_viewer\\n2_viewer.py:168: OpenMDAOWarning:All-NaN slice encountered\n",
      "e:\\KSHITIJ\\FastOAD\\Fastenvk1\\lib\\site-packages\\openmdao\\visualization\\n2_viewer\\n2_viewer.py:168: OpenMDAOWarning:All-NaN slice encountered\n",
      "e:\\KSHITIJ\\FastOAD\\Fastenvk1\\lib\\site-packages\\openmdao\\visualization\\n2_viewer\\n2_viewer.py:168: OpenMDAOWarning:All-NaN slice encountered\n",
      "e:\\KSHITIJ\\FastOAD\\Fastenvk1\\lib\\site-packages\\openmdao\\visualization\\n2_viewer\\n2_viewer.py:168: OpenMDAOWarning:All-NaN slice encountered\n",
      "e:\\KSHITIJ\\FastOAD\\Fastenvk1\\lib\\site-packages\\openmdao\\visualization\\n2_viewer\\n2_viewer.py:168: OpenMDAOWarning:All-NaN slice encountered\n",
      "e:\\KSHITIJ\\FastOAD\\Fastenvk1\\lib\\site-packages\\openmdao\\visualization\\n2_viewer\\n2_viewer.py:168: OpenMDAOWarning:All-NaN slice encountered\n",
      "e:\\KSHITIJ\\FastOAD\\Fastenvk1\\lib\\site-packages\\openmdao\\visualization\\n2_viewer\\n2_viewer.py:168: OpenMDAOWarning:All-NaN slice encountered\n",
      "e:\\KSHITIJ\\FastOAD\\Fastenvk1\\lib\\site-packages\\openmdao\\visualization\\n2_viewer\\n2_viewer.py:168: OpenMDAOWarning:All-NaN slice encountered\n",
      "e:\\KSHITIJ\\FastOAD\\Fastenvk1\\lib\\site-packages\\openmdao\\visualization\\n2_viewer\\n2_viewer.py:168: OpenMDAOWarning:All-NaN slice encountered\n",
      "e:\\KSHITIJ\\FastOAD\\Fastenvk1\\lib\\site-packages\\openmdao\\visualization\\n2_viewer\\n2_viewer.py:168: OpenMDAOWarning:All-NaN slice encountered\n",
      "e:\\KSHITIJ\\FastOAD\\Fastenvk1\\lib\\site-packages\\openmdao\\visualization\\n2_viewer\\n2_viewer.py:168: OpenMDAOWarning:All-NaN slice encountered\n",
      "e:\\KSHITIJ\\FastOAD\\Fastenvk1\\lib\\site-packages\\openmdao\\visualization\\n2_viewer\\n2_viewer.py:168: OpenMDAOWarning:All-NaN slice encountered\n",
      "e:\\KSHITIJ\\FastOAD\\Fastenvk1\\lib\\site-packages\\openmdao\\visualization\\n2_viewer\\n2_viewer.py:168: OpenMDAOWarning:All-NaN slice encountered\n",
      "e:\\KSHITIJ\\FastOAD\\Fastenvk1\\lib\\site-packages\\openmdao\\visualization\\n2_viewer\\n2_viewer.py:168: OpenMDAOWarning:All-NaN slice encountered\n",
      "e:\\KSHITIJ\\FastOAD\\Fastenvk1\\lib\\site-packages\\openmdao\\visualization\\n2_viewer\\n2_viewer.py:168: OpenMDAOWarning:All-NaN slice encountered\n",
      "e:\\KSHITIJ\\FastOAD\\Fastenvk1\\lib\\site-packages\\openmdao\\visualization\\n2_viewer\\n2_viewer.py:168: OpenMDAOWarning:All-NaN slice encountered\n",
      "e:\\KSHITIJ\\FastOAD\\Fastenvk1\\lib\\site-packages\\openmdao\\visualization\\n2_viewer\\n2_viewer.py:168: OpenMDAOWarning:All-NaN slice encountered\n",
      "e:\\KSHITIJ\\FastOAD\\Fastenvk1\\lib\\site-packages\\openmdao\\visualization\\n2_viewer\\n2_viewer.py:168: OpenMDAOWarning:All-NaN slice encountered\n",
      "e:\\KSHITIJ\\FastOAD\\Fastenvk1\\lib\\site-packages\\openmdao\\visualization\\n2_viewer\\n2_viewer.py:168: OpenMDAOWarning:All-NaN slice encountered\n",
      "e:\\KSHITIJ\\FastOAD\\Fastenvk1\\lib\\site-packages\\openmdao\\visualization\\n2_viewer\\n2_viewer.py:168: OpenMDAOWarning:All-NaN slice encountered\n",
      "e:\\KSHITIJ\\FastOAD\\Fastenvk1\\lib\\site-packages\\openmdao\\visualization\\n2_viewer\\n2_viewer.py:168: OpenMDAOWarning:All-NaN slice encountered\n",
      "e:\\KSHITIJ\\FastOAD\\Fastenvk1\\lib\\site-packages\\openmdao\\visualization\\n2_viewer\\n2_viewer.py:168: OpenMDAOWarning:All-NaN slice encountered\n",
      "e:\\KSHITIJ\\FastOAD\\Fastenvk1\\lib\\site-packages\\openmdao\\visualization\\n2_viewer\\n2_viewer.py:168: OpenMDAOWarning:All-NaN slice encountered\n",
      "e:\\KSHITIJ\\FastOAD\\Fastenvk1\\lib\\site-packages\\openmdao\\visualization\\n2_viewer\\n2_viewer.py:168: OpenMDAOWarning:All-NaN slice encountered\n",
      "e:\\KSHITIJ\\FastOAD\\Fastenvk1\\lib\\site-packages\\openmdao\\visualization\\n2_viewer\\n2_viewer.py:168: OpenMDAOWarning:All-NaN slice encountered\n",
      "e:\\KSHITIJ\\FastOAD\\Fastenvk1\\lib\\site-packages\\openmdao\\visualization\\n2_viewer\\n2_viewer.py:168: OpenMDAOWarning:All-NaN slice encountered\n",
      "e:\\KSHITIJ\\FastOAD\\Fastenvk1\\lib\\site-packages\\openmdao\\visualization\\n2_viewer\\n2_viewer.py:168: OpenMDAOWarning:All-NaN slice encountered\n",
      "e:\\KSHITIJ\\FastOAD\\Fastenvk1\\lib\\site-packages\\openmdao\\visualization\\n2_viewer\\n2_viewer.py:168: OpenMDAOWarning:All-NaN slice encountered\n",
      "e:\\KSHITIJ\\FastOAD\\Fastenvk1\\lib\\site-packages\\openmdao\\visualization\\n2_viewer\\n2_viewer.py:168: OpenMDAOWarning:All-NaN slice encountered\n",
      "e:\\KSHITIJ\\FastOAD\\Fastenvk1\\lib\\site-packages\\openmdao\\visualization\\n2_viewer\\n2_viewer.py:168: OpenMDAOWarning:All-NaN slice encountered\n",
      "e:\\KSHITIJ\\FastOAD\\Fastenvk1\\lib\\site-packages\\openmdao\\visualization\\n2_viewer\\n2_viewer.py:168: OpenMDAOWarning:All-NaN slice encountered\n",
      "e:\\KSHITIJ\\FastOAD\\Fastenvk1\\lib\\site-packages\\openmdao\\visualization\\n2_viewer\\n2_viewer.py:168: OpenMDAOWarning:All-NaN slice encountered\n",
      "e:\\KSHITIJ\\FastOAD\\Fastenvk1\\lib\\site-packages\\openmdao\\visualization\\n2_viewer\\n2_viewer.py:168: OpenMDAOWarning:All-NaN slice encountered\n",
      "e:\\KSHITIJ\\FastOAD\\Fastenvk1\\lib\\site-packages\\openmdao\\visualization\\n2_viewer\\n2_viewer.py:168: OpenMDAOWarning:All-NaN slice encountered\n",
      "e:\\KSHITIJ\\FastOAD\\Fastenvk1\\lib\\site-packages\\openmdao\\visualization\\n2_viewer\\n2_viewer.py:168: OpenMDAOWarning:All-NaN slice encountered\n",
      "e:\\KSHITIJ\\FastOAD\\Fastenvk1\\lib\\site-packages\\openmdao\\visualization\\n2_viewer\\n2_viewer.py:168: OpenMDAOWarning:All-NaN slice encountered\n",
      "e:\\KSHITIJ\\FastOAD\\Fastenvk1\\lib\\site-packages\\openmdao\\visualization\\n2_viewer\\n2_viewer.py:168: OpenMDAOWarning:All-NaN slice encountered\n",
      "e:\\KSHITIJ\\FastOAD\\Fastenvk1\\lib\\site-packages\\openmdao\\visualization\\n2_viewer\\n2_viewer.py:168: OpenMDAOWarning:All-NaN slice encountered\n",
      "e:\\KSHITIJ\\FastOAD\\Fastenvk1\\lib\\site-packages\\openmdao\\visualization\\n2_viewer\\n2_viewer.py:168: OpenMDAOWarning:All-NaN slice encountered\n",
      "e:\\KSHITIJ\\FastOAD\\Fastenvk1\\lib\\site-packages\\openmdao\\visualization\\n2_viewer\\n2_viewer.py:168: OpenMDAOWarning:All-NaN slice encountered\n",
      "e:\\KSHITIJ\\FastOAD\\Fastenvk1\\lib\\site-packages\\openmdao\\visualization\\n2_viewer\\n2_viewer.py:168: OpenMDAOWarning:All-NaN slice encountered\n",
      "e:\\KSHITIJ\\FastOAD\\Fastenvk1\\lib\\site-packages\\openmdao\\visualization\\n2_viewer\\n2_viewer.py:168: OpenMDAOWarning:All-NaN slice encountered\n",
      "e:\\KSHITIJ\\FastOAD\\Fastenvk1\\lib\\site-packages\\openmdao\\visualization\\n2_viewer\\n2_viewer.py:168: OpenMDAOWarning:All-NaN slice encountered\n",
      "e:\\KSHITIJ\\FastOAD\\Fastenvk1\\lib\\site-packages\\openmdao\\visualization\\n2_viewer\\n2_viewer.py:168: OpenMDAOWarning:All-NaN slice encountered\n",
      "e:\\KSHITIJ\\FastOAD\\Fastenvk1\\lib\\site-packages\\openmdao\\visualization\\n2_viewer\\n2_viewer.py:168: OpenMDAOWarning:All-NaN slice encountered\n",
      "e:\\KSHITIJ\\FastOAD\\Fastenvk1\\lib\\site-packages\\openmdao\\visualization\\n2_viewer\\n2_viewer.py:168: OpenMDAOWarning:All-NaN slice encountered\n",
      "e:\\KSHITIJ\\FastOAD\\Fastenvk1\\lib\\site-packages\\openmdao\\visualization\\n2_viewer\\n2_viewer.py:168: OpenMDAOWarning:All-NaN slice encountered\n"
     ]
    },
    {
     "name": "stdout",
     "output_type": "stream",
     "text": [
      "Analysis FASTOADModel pushed\u001b[0m\n"
     ]
    },
    {
     "data": {
      "text/html": [
       "\n",
       "        <iframe\n",
       "            width=\"100%\"\n",
       "            height=\"500px\"\n",
       "            src=\"workspace\\xdsm.html\"\n",
       "            frameborder=\"0\"\n",
       "            allowfullscreen\n",
       "            \n",
       "        ></iframe>\n",
       "        "
      ],
      "text/plain": [
       "<IPython.lib.display.IFrame at 0x1b1f5f17c40>"
      ]
     },
     "execution_count": 4,
     "metadata": {},
     "output_type": "execute_result"
    }
   ],
   "source": [
    "XDSM_FILE = pth.join(WORK_FOLDER_PATH, 'xdsm.html')\n",
    "oad.write_xdsm(CONFIGURATION_FILE_BWB, XDSM_FILE, overwrite=True)\n",
    "from IPython.display import IFrame\n",
    "IFrame(src=XDSM_FILE, width='100%', height='500px')"
   ]
  },
  {
   "cell_type": "markdown",
   "metadata": {},
   "source": [
    "#### N2 FILE "
   ]
  },
  {
   "cell_type": "code",
   "execution_count": 5,
   "metadata": {},
   "outputs": [
    {
     "data": {
      "text/html": [
       "\n",
       "        <iframe\n",
       "            width=\"100%\"\n",
       "            height=\"500px\"\n",
       "            src=\"workspace\\n2.html\"\n",
       "            frameborder=\"0\"\n",
       "            allowfullscreen\n",
       "            \n",
       "        ></iframe>\n",
       "        "
      ],
      "text/plain": [
       "<IPython.lib.display.IFrame at 0x1b1f5f88100>"
      ]
     },
     "execution_count": 5,
     "metadata": {},
     "output_type": "execute_result"
    }
   ],
   "source": [
    "N2_FILE = pth.join(WORK_FOLDER_PATH, \"n2.html\")\n",
    "oad.write_n2(CONFIGURATION_FILE_BWB, N2_FILE, overwrite=True)\n",
    "from IPython.display import IFrame\n",
    "\n",
    "IFrame(src=N2_FILE, width=\"100%\", height=\"500px\")"
   ]
  },
  {
   "cell_type": "markdown",
   "metadata": {},
   "source": [
    "## 4. Visualization\n",
    "#### A. Wing plot - BWB vs. TW - Fastoad code"
   ]
  },
  {
   "cell_type": "code",
   "execution_count": 6,
   "metadata": {},
   "outputs": [
    {
     "name": "stdout",
     "output_type": "stream",
     "text": [
      "Output data comes from: \n",
      "\n",
      "- BWB curve: e:\\KSHITIJ\\FastOAD\\Code\\Swept_Wing_API\\BWB\\BWB_with_model\\FastBWB\\workspace\\Simulation_results\\Sensitivity analysis\\Sweep angle\\Outputs\\problem_outputs_BWB_sweep25.xml\n",
      "\n",
      " - TW curve: workspace\\problem_outputs_tubeWing_saved.xml\n"
     ]
    },
    {
     "data": {
      "application/vnd.plotly.v1+json": {
       "config": {
        "plotlyServerURL": "https://plot.ly"
       },
       "data": [
        {
         "mode": "lines+markers",
         "name": "BWB",
         "type": "scatter",
         "uid": "187f9bef-c5fd-427f-a50a-109759b1d501",
         "x": [
          0,
          -3.692,
          -6.16338293282208,
          -16.43568782085888,
          -16.43568782085888,
          -6.16338293282208,
          -3.692,
          0,
          0,
          0,
          3.692,
          6.16338293282208,
          16.43568782085888,
          16.43568782085888,
          6.16338293282208,
          3.692,
          0,
          0
         ],
         "y": [
          3.47132915650549,
          3.47132915650549,
          5.108722407488079,
          11.914548599910766,
          18.045395589412916,
          19.302656421902636,
          19.605137023616415,
          19.605137023616415,
          3.47132915650549,
          3.47132915650549,
          3.47132915650549,
          5.108722407488079,
          11.914548599910766,
          18.045395589412916,
          19.302656421902636,
          19.605137023616415,
          19.605137023616415,
          3.47132915650549
         ]
        },
        {
         "mode": "lines+markers",
         "name": "Tube and wing",
         "type": "scatter",
         "uid": "5831e75f-d492-4413-868d-92aa416bebf9",
         "x": [
          0,
          -1.95994,
          -6.4990894089907165,
          -17.33090509064191,
          -17.33090509064191,
          -6.4990894089907165,
          -1.95994,
          0,
          0,
          0,
          1.95994,
          6.4990894089907165,
          17.33090509064191,
          17.33090509064191,
          6.4990894089907165,
          1.95994,
          0,
          0
         ],
         "y": [
          7.585510700768351,
          7.585510700768351,
          9.900715064646434,
          15.425509398406419,
          16.923686083647098,
          13.716155985444747,
          13.716155985444747,
          13.716155985444747,
          7.585510700768351,
          7.585510700768351,
          7.585510700768351,
          9.900715064646434,
          15.425509398406419,
          16.923686083647098,
          13.716155985444747,
          13.716155985444747,
          13.716155985444747,
          7.585510700768351
         ]
        }
       ],
       "layout": {
        "showlegend": true,
        "template": {
         "data": {
          "bar": [
           {
            "error_x": {
             "color": "#2a3f5f"
            },
            "error_y": {
             "color": "#2a3f5f"
            },
            "marker": {
             "line": {
              "color": "#E5ECF6",
              "width": 0.5
             },
             "pattern": {
              "fillmode": "overlay",
              "size": 10,
              "solidity": 0.2
             }
            },
            "type": "bar"
           }
          ],
          "barpolar": [
           {
            "marker": {
             "line": {
              "color": "#E5ECF6",
              "width": 0.5
             },
             "pattern": {
              "fillmode": "overlay",
              "size": 10,
              "solidity": 0.2
             }
            },
            "type": "barpolar"
           }
          ],
          "carpet": [
           {
            "aaxis": {
             "endlinecolor": "#2a3f5f",
             "gridcolor": "white",
             "linecolor": "white",
             "minorgridcolor": "white",
             "startlinecolor": "#2a3f5f"
            },
            "baxis": {
             "endlinecolor": "#2a3f5f",
             "gridcolor": "white",
             "linecolor": "white",
             "minorgridcolor": "white",
             "startlinecolor": "#2a3f5f"
            },
            "type": "carpet"
           }
          ],
          "choropleth": [
           {
            "colorbar": {
             "outlinewidth": 0,
             "ticks": ""
            },
            "type": "choropleth"
           }
          ],
          "contour": [
           {
            "colorbar": {
             "outlinewidth": 0,
             "ticks": ""
            },
            "colorscale": [
             [
              0,
              "#0d0887"
             ],
             [
              0.1111111111111111,
              "#46039f"
             ],
             [
              0.2222222222222222,
              "#7201a8"
             ],
             [
              0.3333333333333333,
              "#9c179e"
             ],
             [
              0.4444444444444444,
              "#bd3786"
             ],
             [
              0.5555555555555556,
              "#d8576b"
             ],
             [
              0.6666666666666666,
              "#ed7953"
             ],
             [
              0.7777777777777778,
              "#fb9f3a"
             ],
             [
              0.8888888888888888,
              "#fdca26"
             ],
             [
              1,
              "#f0f921"
             ]
            ],
            "type": "contour"
           }
          ],
          "contourcarpet": [
           {
            "colorbar": {
             "outlinewidth": 0,
             "ticks": ""
            },
            "type": "contourcarpet"
           }
          ],
          "heatmap": [
           {
            "colorbar": {
             "outlinewidth": 0,
             "ticks": ""
            },
            "colorscale": [
             [
              0,
              "#0d0887"
             ],
             [
              0.1111111111111111,
              "#46039f"
             ],
             [
              0.2222222222222222,
              "#7201a8"
             ],
             [
              0.3333333333333333,
              "#9c179e"
             ],
             [
              0.4444444444444444,
              "#bd3786"
             ],
             [
              0.5555555555555556,
              "#d8576b"
             ],
             [
              0.6666666666666666,
              "#ed7953"
             ],
             [
              0.7777777777777778,
              "#fb9f3a"
             ],
             [
              0.8888888888888888,
              "#fdca26"
             ],
             [
              1,
              "#f0f921"
             ]
            ],
            "type": "heatmap"
           }
          ],
          "heatmapgl": [
           {
            "colorbar": {
             "outlinewidth": 0,
             "ticks": ""
            },
            "colorscale": [
             [
              0,
              "#0d0887"
             ],
             [
              0.1111111111111111,
              "#46039f"
             ],
             [
              0.2222222222222222,
              "#7201a8"
             ],
             [
              0.3333333333333333,
              "#9c179e"
             ],
             [
              0.4444444444444444,
              "#bd3786"
             ],
             [
              0.5555555555555556,
              "#d8576b"
             ],
             [
              0.6666666666666666,
              "#ed7953"
             ],
             [
              0.7777777777777778,
              "#fb9f3a"
             ],
             [
              0.8888888888888888,
              "#fdca26"
             ],
             [
              1,
              "#f0f921"
             ]
            ],
            "type": "heatmapgl"
           }
          ],
          "histogram": [
           {
            "marker": {
             "pattern": {
              "fillmode": "overlay",
              "size": 10,
              "solidity": 0.2
             }
            },
            "type": "histogram"
           }
          ],
          "histogram2d": [
           {
            "colorbar": {
             "outlinewidth": 0,
             "ticks": ""
            },
            "colorscale": [
             [
              0,
              "#0d0887"
             ],
             [
              0.1111111111111111,
              "#46039f"
             ],
             [
              0.2222222222222222,
              "#7201a8"
             ],
             [
              0.3333333333333333,
              "#9c179e"
             ],
             [
              0.4444444444444444,
              "#bd3786"
             ],
             [
              0.5555555555555556,
              "#d8576b"
             ],
             [
              0.6666666666666666,
              "#ed7953"
             ],
             [
              0.7777777777777778,
              "#fb9f3a"
             ],
             [
              0.8888888888888888,
              "#fdca26"
             ],
             [
              1,
              "#f0f921"
             ]
            ],
            "type": "histogram2d"
           }
          ],
          "histogram2dcontour": [
           {
            "colorbar": {
             "outlinewidth": 0,
             "ticks": ""
            },
            "colorscale": [
             [
              0,
              "#0d0887"
             ],
             [
              0.1111111111111111,
              "#46039f"
             ],
             [
              0.2222222222222222,
              "#7201a8"
             ],
             [
              0.3333333333333333,
              "#9c179e"
             ],
             [
              0.4444444444444444,
              "#bd3786"
             ],
             [
              0.5555555555555556,
              "#d8576b"
             ],
             [
              0.6666666666666666,
              "#ed7953"
             ],
             [
              0.7777777777777778,
              "#fb9f3a"
             ],
             [
              0.8888888888888888,
              "#fdca26"
             ],
             [
              1,
              "#f0f921"
             ]
            ],
            "type": "histogram2dcontour"
           }
          ],
          "mesh3d": [
           {
            "colorbar": {
             "outlinewidth": 0,
             "ticks": ""
            },
            "type": "mesh3d"
           }
          ],
          "parcoords": [
           {
            "line": {
             "colorbar": {
              "outlinewidth": 0,
              "ticks": ""
             }
            },
            "type": "parcoords"
           }
          ],
          "pie": [
           {
            "automargin": true,
            "type": "pie"
           }
          ],
          "scatter": [
           {
            "fillpattern": {
             "fillmode": "overlay",
             "size": 10,
             "solidity": 0.2
            },
            "type": "scatter"
           }
          ],
          "scatter3d": [
           {
            "line": {
             "colorbar": {
              "outlinewidth": 0,
              "ticks": ""
             }
            },
            "marker": {
             "colorbar": {
              "outlinewidth": 0,
              "ticks": ""
             }
            },
            "type": "scatter3d"
           }
          ],
          "scattercarpet": [
           {
            "marker": {
             "colorbar": {
              "outlinewidth": 0,
              "ticks": ""
             }
            },
            "type": "scattercarpet"
           }
          ],
          "scattergeo": [
           {
            "marker": {
             "colorbar": {
              "outlinewidth": 0,
              "ticks": ""
             }
            },
            "type": "scattergeo"
           }
          ],
          "scattergl": [
           {
            "marker": {
             "colorbar": {
              "outlinewidth": 0,
              "ticks": ""
             }
            },
            "type": "scattergl"
           }
          ],
          "scattermapbox": [
           {
            "marker": {
             "colorbar": {
              "outlinewidth": 0,
              "ticks": ""
             }
            },
            "type": "scattermapbox"
           }
          ],
          "scatterpolar": [
           {
            "marker": {
             "colorbar": {
              "outlinewidth": 0,
              "ticks": ""
             }
            },
            "type": "scatterpolar"
           }
          ],
          "scatterpolargl": [
           {
            "marker": {
             "colorbar": {
              "outlinewidth": 0,
              "ticks": ""
             }
            },
            "type": "scatterpolargl"
           }
          ],
          "scatterternary": [
           {
            "marker": {
             "colorbar": {
              "outlinewidth": 0,
              "ticks": ""
             }
            },
            "type": "scatterternary"
           }
          ],
          "surface": [
           {
            "colorbar": {
             "outlinewidth": 0,
             "ticks": ""
            },
            "colorscale": [
             [
              0,
              "#0d0887"
             ],
             [
              0.1111111111111111,
              "#46039f"
             ],
             [
              0.2222222222222222,
              "#7201a8"
             ],
             [
              0.3333333333333333,
              "#9c179e"
             ],
             [
              0.4444444444444444,
              "#bd3786"
             ],
             [
              0.5555555555555556,
              "#d8576b"
             ],
             [
              0.6666666666666666,
              "#ed7953"
             ],
             [
              0.7777777777777778,
              "#fb9f3a"
             ],
             [
              0.8888888888888888,
              "#fdca26"
             ],
             [
              1,
              "#f0f921"
             ]
            ],
            "type": "surface"
           }
          ],
          "table": [
           {
            "cells": {
             "fill": {
              "color": "#EBF0F8"
             },
             "line": {
              "color": "white"
             }
            },
            "header": {
             "fill": {
              "color": "#C8D4E3"
             },
             "line": {
              "color": "white"
             }
            },
            "type": "table"
           }
          ]
         },
         "layout": {
          "annotationdefaults": {
           "arrowcolor": "#2a3f5f",
           "arrowhead": 0,
           "arrowwidth": 1
          },
          "autotypenumbers": "strict",
          "coloraxis": {
           "colorbar": {
            "outlinewidth": 0,
            "ticks": ""
           }
          },
          "colorscale": {
           "diverging": [
            [
             0,
             "#8e0152"
            ],
            [
             0.1,
             "#c51b7d"
            ],
            [
             0.2,
             "#de77ae"
            ],
            [
             0.3,
             "#f1b6da"
            ],
            [
             0.4,
             "#fde0ef"
            ],
            [
             0.5,
             "#f7f7f7"
            ],
            [
             0.6,
             "#e6f5d0"
            ],
            [
             0.7,
             "#b8e186"
            ],
            [
             0.8,
             "#7fbc41"
            ],
            [
             0.9,
             "#4d9221"
            ],
            [
             1,
             "#276419"
            ]
           ],
           "sequential": [
            [
             0,
             "#0d0887"
            ],
            [
             0.1111111111111111,
             "#46039f"
            ],
            [
             0.2222222222222222,
             "#7201a8"
            ],
            [
             0.3333333333333333,
             "#9c179e"
            ],
            [
             0.4444444444444444,
             "#bd3786"
            ],
            [
             0.5555555555555556,
             "#d8576b"
            ],
            [
             0.6666666666666666,
             "#ed7953"
            ],
            [
             0.7777777777777778,
             "#fb9f3a"
            ],
            [
             0.8888888888888888,
             "#fdca26"
            ],
            [
             1,
             "#f0f921"
            ]
           ],
           "sequentialminus": [
            [
             0,
             "#0d0887"
            ],
            [
             0.1111111111111111,
             "#46039f"
            ],
            [
             0.2222222222222222,
             "#7201a8"
            ],
            [
             0.3333333333333333,
             "#9c179e"
            ],
            [
             0.4444444444444444,
             "#bd3786"
            ],
            [
             0.5555555555555556,
             "#d8576b"
            ],
            [
             0.6666666666666666,
             "#ed7953"
            ],
            [
             0.7777777777777778,
             "#fb9f3a"
            ],
            [
             0.8888888888888888,
             "#fdca26"
            ],
            [
             1,
             "#f0f921"
            ]
           ]
          },
          "colorway": [
           "#636efa",
           "#EF553B",
           "#00cc96",
           "#ab63fa",
           "#FFA15A",
           "#19d3f3",
           "#FF6692",
           "#B6E880",
           "#FF97FF",
           "#FECB52"
          ],
          "font": {
           "color": "#2a3f5f"
          },
          "geo": {
           "bgcolor": "white",
           "lakecolor": "white",
           "landcolor": "#E5ECF6",
           "showlakes": true,
           "showland": true,
           "subunitcolor": "white"
          },
          "hoverlabel": {
           "align": "left"
          },
          "hovermode": "closest",
          "mapbox": {
           "style": "light"
          },
          "paper_bgcolor": "white",
          "plot_bgcolor": "#E5ECF6",
          "polar": {
           "angularaxis": {
            "gridcolor": "white",
            "linecolor": "white",
            "ticks": ""
           },
           "bgcolor": "#E5ECF6",
           "radialaxis": {
            "gridcolor": "white",
            "linecolor": "white",
            "ticks": ""
           }
          },
          "scene": {
           "xaxis": {
            "backgroundcolor": "#E5ECF6",
            "gridcolor": "white",
            "gridwidth": 2,
            "linecolor": "white",
            "showbackground": true,
            "ticks": "",
            "zerolinecolor": "white"
           },
           "yaxis": {
            "backgroundcolor": "#E5ECF6",
            "gridcolor": "white",
            "gridwidth": 2,
            "linecolor": "white",
            "showbackground": true,
            "ticks": "",
            "zerolinecolor": "white"
           },
           "zaxis": {
            "backgroundcolor": "#E5ECF6",
            "gridcolor": "white",
            "gridwidth": 2,
            "linecolor": "white",
            "showbackground": true,
            "ticks": "",
            "zerolinecolor": "white"
           }
          },
          "shapedefaults": {
           "line": {
            "color": "#2a3f5f"
           }
          },
          "ternary": {
           "aaxis": {
            "gridcolor": "white",
            "linecolor": "white",
            "ticks": ""
           },
           "baxis": {
            "gridcolor": "white",
            "linecolor": "white",
            "ticks": ""
           },
           "bgcolor": "#E5ECF6",
           "caxis": {
            "gridcolor": "white",
            "linecolor": "white",
            "ticks": ""
           }
          },
          "title": {
           "x": 0.05
          },
          "xaxis": {
           "automargin": true,
           "gridcolor": "white",
           "linecolor": "white",
           "ticks": "",
           "title": {
            "standoff": 15
           },
           "zerolinecolor": "white",
           "zerolinewidth": 2
          },
          "yaxis": {
           "automargin": true,
           "gridcolor": "white",
           "linecolor": "white",
           "ticks": "",
           "title": {
            "standoff": 15
           },
           "zerolinecolor": "white",
           "zerolinewidth": 2
          }
         }
        },
        "title": {
         "text": "Wing Geometry",
         "x": 0.5
        },
        "xaxis": {
         "title": {
          "text": "y [m]"
         }
        },
        "yaxis": {
         "scaleanchor": "x",
         "scaleratio": 1,
         "title": {
          "text": "x [m]"
         }
        }
       }
      }
     },
     "metadata": {},
     "output_type": "display_data"
    }
   ],
   "source": [
    "# BWB\n",
    "sweep_outputsBWB_directory = pth.join(simDirS, \"problem_outputs_BWB_sweep25.xml\") #reference case\n",
    "output_dataBWBsim1 = oad.DataFile(sweep_outputsBWB_directory)\n",
    "\n",
    "wing_kink_leading_edge_xBWB = output_dataBWBsim1[\"data:geometry:wing:kink:leading_edge:x:local\"].value[0]\n",
    "wing_tip_leading_edge_xBWB = output_dataBWBsim1[\"data:geometry:wing:tip:leading_edge:x:local\"].value[0]\n",
    "wing_root_yBWB = output_dataBWBsim1[\"data:geometry:wing:root:y\"].value[0]\n",
    "wing_kink_yBWB = output_dataBWBsim1[\"data:geometry:wing:kink:y\"].value[0]\n",
    "wing_tip_yBWB = output_dataBWBsim1[\"data:geometry:wing:tip:y\"].value[0]\n",
    "wing_root_chordBWB = output_dataBWBsim1[\"data:geometry:wing:root:chord\"].value[0]\n",
    "wing_kink_chordBWB = output_dataBWBsim1[\"data:geometry:wing:kink:chord\"].value[0]\n",
    "wing_tip_chordBWB = output_dataBWBsim1[\"data:geometry:wing:tip:chord\"].value[0]\n",
    "\n",
    "mean_aerodynamic_chordBWB = output_dataBWBsim1[\"data:geometry:wing:MAC:length\"].value[0]\n",
    "mac25_x_positionBWB = output_dataBWBsim1[\"data:geometry:wing:MAC:at25percent:x\"].value[0]\n",
    "distance_root_mac_chordsBWB = output_dataBWBsim1[\"data:geometry:wing:MAC:leading_edge:x:local\"].value[0]\n",
    "\n",
    "\n",
    "\n",
    "# pylint: disable=invalid-name # that's a common naming\n",
    "yBWB = np.array(\n",
    "    [0, wing_root_yBWB, wing_kink_yBWB, wing_tip_yBWB, wing_tip_yBWB, wing_kink_yBWB, wing_root_yBWB, 0, 0]\n",
    ")\n",
    "# pylint: disable=invalid-name # that's a common naming\n",
    "yBWB = np.concatenate((-yBWB, yBWB))\n",
    "\n",
    "# pylint: disable=invalid-name # that's a common naming\n",
    "xBWB = np.array(\n",
    "    [\n",
    "        0,\n",
    "        0,\n",
    "        wing_kink_leading_edge_xBWB,\n",
    "        wing_tip_leading_edge_xBWB,\n",
    "        wing_tip_leading_edge_xBWB + wing_tip_chordBWB,\n",
    "        wing_kink_leading_edge_xBWB + wing_kink_chordBWB,\n",
    "        wing_root_chordBWB,\n",
    "        wing_root_chordBWB,\n",
    "        0,\n",
    "    ]\n",
    ")\n",
    "\n",
    "xBWB = xBWB + mac25_x_positionBWB - 0.25 * mean_aerodynamic_chordBWB - distance_root_mac_chordsBWB\n",
    "# pylint: disable=invalid-name # that's a common naming\n",
    "xBWB = np.concatenate((xBWB, xBWB))\n",
    "\n",
    "\n",
    "# TUBE WING\n",
    "output_dataTW = oad.DataFile(outputs_tubeWing)\n",
    "wing_kink_leading_edge_xTW = output_dataTW[\"data:geometry:wing:kink:leading_edge:x:local\"].value[0]\n",
    "wing_tip_leading_edge_xTW = output_dataTW[\"data:geometry:wing:tip:leading_edge:x:local\"].value[0]\n",
    "wing_root_yTW = output_dataTW[\"data:geometry:wing:root:y\"].value[0]\n",
    "wing_kink_yTW = output_dataTW[\"data:geometry:wing:kink:y\"].value[0]\n",
    "wing_tip_yTW = output_dataTW[\"data:geometry:wing:tip:y\"].value[0]\n",
    "wing_root_chordTW = output_dataTW[\"data:geometry:wing:root:chord\"].value[0]\n",
    "wing_kink_chordTW = output_dataTW[\"data:geometry:wing:kink:chord\"].value[0]\n",
    "wing_tip_chordTW = output_dataTW[\"data:geometry:wing:tip:chord\"].value[0]\n",
    "\n",
    "mean_aerodynamic_chordTW = output_dataTW[\"data:geometry:wing:MAC:length\"].value[0]\n",
    "mac25_x_positionTW = output_dataTW[\"data:geometry:wing:MAC:at25percent:x\"].value[0]\n",
    "distance_root_mac_chordsTW = output_dataTW[\"data:geometry:wing:MAC:leading_edge:x:local\"].value[0]\n",
    "# pylint: disable=invalid-name # that's a common naming\n",
    "yTW = np.array(\n",
    "    [0, wing_root_yTW, wing_kink_yTW, wing_tip_yTW, wing_tip_yTW, wing_kink_yTW, wing_root_yTW, 0, 0]\n",
    ")\n",
    "# pylint: disable=invalid-name # that's a common naming\n",
    "yTW = np.concatenate((-yTW, yTW))\n",
    "\n",
    "# pylint: disable=invalid-name # that's a common naming\n",
    "xTW = np.array(\n",
    "    [\n",
    "        0,\n",
    "        0,\n",
    "        wing_kink_leading_edge_xTW,\n",
    "        wing_tip_leading_edge_xTW,\n",
    "        wing_tip_leading_edge_xTW + wing_tip_chordTW,\n",
    "        wing_kink_leading_edge_xTW + wing_kink_chordTW,\n",
    "        wing_root_chordTW,\n",
    "        wing_root_chordTW,\n",
    "        0,\n",
    "    ]\n",
    ")\n",
    "\n",
    "xTW = -6 + xTW + mac25_x_positionTW - 0.25 * mean_aerodynamic_chordTW - distance_root_mac_chordsTW\n",
    "# pylint: disable=invalid-name # that's a common naming\n",
    "xTW = np.concatenate((xTW, xTW))\n",
    "\n",
    "print('Output data comes from: \\n')\n",
    "print('- BWB curve:',sweep_outputsBWB_directory)\n",
    "print('\\n - TW curve:',outputs_tubeWing)\n",
    "\n",
    "# CREATE FIGURE\n",
    "\n",
    "fig = go.Figure()\n",
    "\n",
    "scatterBWB = go.Scatter(x=yBWB, y=xBWB, mode=\"lines+markers\", name='BWB')\n",
    "\n",
    "fig.add_trace(scatterBWB)\n",
    "\n",
    "scatterTW = go.Scatter(x=yTW, y=xTW, mode=\"lines+markers\", name='Tube and wing')\n",
    "\n",
    "fig.add_trace(scatterTW)\n",
    "\n",
    "fig.layout = go.Layout(yaxis=dict(scaleanchor=\"x\", scaleratio=1))\n",
    "\n",
    "fig = go.FigureWidget(fig)\n",
    "\n",
    "fig.update_layout(title_text=\"Wing Geometry\", title_x=0.5, xaxis_title=\"y [m]\", yaxis_title=\"x [m]\",showlegend = True)\n",
    "\n",
    "fig.show()\n"
   ]
  },
  {
   "cell_type": "markdown",
   "metadata": {},
   "source": [
    "#### Wing plot BWB sweep effect: 15,20,25,30,35 deg"
   ]
  },
  {
   "cell_type": "code",
   "execution_count": 7,
   "metadata": {},
   "outputs": [
    {
     "data": {
      "application/vnd.plotly.v1+json": {
       "config": {
        "plotlyServerURL": "https://plot.ly"
       },
       "data": [
        {
         "mode": "lines+markers",
         "name": "Sweep 15°",
         "type": "scatter",
         "uid": "b052e8aa-1d41-40e3-9708-a337c73a6db7",
         "x": [
          0,
          -3.692,
          -5.99946448644388,
          -15.998571963850349,
          -15.998571963850349,
          -5.99946448644388,
          -3.692,
          0,
          0,
          0,
          3.692,
          5.99946448644388,
          15.998571963850349,
          15.998571963850349,
          5.99946448644388,
          3.692,
          0,
          0
         ],
         "y": [
          4.239750515449136,
          4.239750515449136,
          5.318090300656455,
          9.990940293710345,
          16.006349509205602,
          19.307888393955025,
          20.06977476675245,
          20.06977476675245,
          4.239750515449136,
          4.239750515449136,
          4.239750515449136,
          5.318090300656455,
          9.990940293710345,
          16.006349509205602,
          19.307888393955025,
          20.06977476675245,
          20.06977476675245,
          4.239750515449136
         ]
        },
        {
         "mode": "lines+markers",
         "name": "Sweep 20°",
         "type": "scatter",
         "uid": "63c989fa-afa6-4aa4-aab6-5cc6e53da08d",
         "x": [
          0,
          -3.692,
          -6.067495277470293,
          -16.179987406587447,
          -16.179987406587447,
          -6.067495277470293,
          -3.692,
          0,
          0,
          0,
          3.692,
          6.067495277470293,
          16.179987406587447,
          16.179987406587447,
          6.067495277470293,
          3.692,
          0,
          0
         ],
         "y": [
          3.8948219457701456,
          3.8948219457701456,
          5.22988161424945,
          10.913235530985474,
          16.976461309462888,
          19.30393854267137,
          19.85067925755281,
          19.85067925755281,
          3.8948219457701456,
          3.8948219457701456,
          3.8948219457701456,
          5.22988161424945,
          10.913235530985474,
          16.976461309462888,
          19.30393854267137,
          19.85067925755281,
          19.85067925755281,
          3.8948219457701456
         ]
        },
        {
         "mode": "lines+markers",
         "name": "Sweep 25°",
         "type": "scatter",
         "uid": "34dab48a-1668-46ce-a49a-3407977b93fb",
         "x": [
          0,
          -3.692,
          -6.16338293282208,
          -16.43568782085888,
          -16.43568782085888,
          -6.16338293282208,
          -3.692,
          0,
          0,
          0,
          3.692,
          6.16338293282208,
          16.43568782085888,
          16.43568782085888,
          6.16338293282208,
          3.692,
          0,
          0
         ],
         "y": [
          3.47132915650549,
          3.47132915650549,
          5.108722407488079,
          11.914548599910766,
          18.045395589412916,
          19.302656421902636,
          19.605137023616415,
          19.605137023616415,
          3.47132915650549,
          3.47132915650549,
          3.47132915650549,
          5.108722407488079,
          11.914548599910766,
          18.045395589412916,
          19.302656421902636,
          19.605137023616415,
          19.605137023616415,
          3.47132915650549
         ]
        },
        {
         "mode": "lines+markers",
         "name": "Sweep 30°",
         "type": "scatter",
         "uid": "4d910527-4098-46e1-a0bf-6067c495ccca",
         "x": [
          0,
          -3.692,
          -6.299392777296951,
          -16.798380739458537,
          -16.798380739458537,
          -6.299392777296951,
          -3.692,
          0,
          0,
          0,
          3.692,
          6.299392777296951,
          16.798380739458537,
          16.798380739458537,
          6.299392777296951,
          3.692,
          0,
          0
         ],
         "y": [
          2.325934929551261,
          2.325934929551261,
          4.336630578545254,
          12.432944106054263,
          18.660130924250772,
          18.70269740208728,
          18.713268661647334,
          18.713268661647334,
          2.325934929551261,
          2.325934929551261,
          2.325934929551261,
          4.336630578545254,
          12.432944106054263,
          18.660130924250772,
          18.70269740208728,
          18.713268661647334,
          18.713268661647334,
          2.325934929551261
         ]
        },
        {
         "mode": "lines+markers",
         "name": "Sweep 35°",
         "type": "scatter",
         "uid": "3031658a-b4ab-459b-87ac-ee97a3fa9b1c",
         "x": [
          0,
          -3.692,
          -6.505218868393827,
          -17.347250315716874,
          -17.347250315716874,
          -6.505218868393827,
          -3.692,
          0,
          0,
          0,
          3.692,
          6.505218868393827,
          17.347250315716874,
          17.347250315716874,
          6.505218868393827,
          3.692,
          0,
          0
         ],
         "y": [
          2.183313820260187,
          2.183313820260187,
          4.688766723965081,
          14.344680622788164,
          20.71852505003043,
          19.319578150810376,
          18.956588628792467,
          18.956588628792467,
          2.183313820260187,
          2.183313820260187,
          2.183313820260187,
          4.688766723965081,
          14.344680622788164,
          20.71852505003043,
          19.319578150810376,
          18.956588628792467,
          18.956588628792467,
          2.183313820260187
         ]
        }
       ],
       "layout": {
        "height": 500,
        "legend": {
         "x": 1,
         "xanchor": "right",
         "y": 1,
         "yanchor": "top"
        },
        "margin": {
         "b": 50,
         "l": 50,
         "pad": 4,
         "r": 50,
         "t": 50
        },
        "paper_bgcolor": "white",
        "plot_bgcolor": "white",
        "template": {
         "data": {
          "bar": [
           {
            "error_x": {
             "color": "#2a3f5f"
            },
            "error_y": {
             "color": "#2a3f5f"
            },
            "marker": {
             "line": {
              "color": "#E5ECF6",
              "width": 0.5
             },
             "pattern": {
              "fillmode": "overlay",
              "size": 10,
              "solidity": 0.2
             }
            },
            "type": "bar"
           }
          ],
          "barpolar": [
           {
            "marker": {
             "line": {
              "color": "#E5ECF6",
              "width": 0.5
             },
             "pattern": {
              "fillmode": "overlay",
              "size": 10,
              "solidity": 0.2
             }
            },
            "type": "barpolar"
           }
          ],
          "carpet": [
           {
            "aaxis": {
             "endlinecolor": "#2a3f5f",
             "gridcolor": "white",
             "linecolor": "white",
             "minorgridcolor": "white",
             "startlinecolor": "#2a3f5f"
            },
            "baxis": {
             "endlinecolor": "#2a3f5f",
             "gridcolor": "white",
             "linecolor": "white",
             "minorgridcolor": "white",
             "startlinecolor": "#2a3f5f"
            },
            "type": "carpet"
           }
          ],
          "choropleth": [
           {
            "colorbar": {
             "outlinewidth": 0,
             "ticks": ""
            },
            "type": "choropleth"
           }
          ],
          "contour": [
           {
            "colorbar": {
             "outlinewidth": 0,
             "ticks": ""
            },
            "colorscale": [
             [
              0,
              "#0d0887"
             ],
             [
              0.1111111111111111,
              "#46039f"
             ],
             [
              0.2222222222222222,
              "#7201a8"
             ],
             [
              0.3333333333333333,
              "#9c179e"
             ],
             [
              0.4444444444444444,
              "#bd3786"
             ],
             [
              0.5555555555555556,
              "#d8576b"
             ],
             [
              0.6666666666666666,
              "#ed7953"
             ],
             [
              0.7777777777777778,
              "#fb9f3a"
             ],
             [
              0.8888888888888888,
              "#fdca26"
             ],
             [
              1,
              "#f0f921"
             ]
            ],
            "type": "contour"
           }
          ],
          "contourcarpet": [
           {
            "colorbar": {
             "outlinewidth": 0,
             "ticks": ""
            },
            "type": "contourcarpet"
           }
          ],
          "heatmap": [
           {
            "colorbar": {
             "outlinewidth": 0,
             "ticks": ""
            },
            "colorscale": [
             [
              0,
              "#0d0887"
             ],
             [
              0.1111111111111111,
              "#46039f"
             ],
             [
              0.2222222222222222,
              "#7201a8"
             ],
             [
              0.3333333333333333,
              "#9c179e"
             ],
             [
              0.4444444444444444,
              "#bd3786"
             ],
             [
              0.5555555555555556,
              "#d8576b"
             ],
             [
              0.6666666666666666,
              "#ed7953"
             ],
             [
              0.7777777777777778,
              "#fb9f3a"
             ],
             [
              0.8888888888888888,
              "#fdca26"
             ],
             [
              1,
              "#f0f921"
             ]
            ],
            "type": "heatmap"
           }
          ],
          "heatmapgl": [
           {
            "colorbar": {
             "outlinewidth": 0,
             "ticks": ""
            },
            "colorscale": [
             [
              0,
              "#0d0887"
             ],
             [
              0.1111111111111111,
              "#46039f"
             ],
             [
              0.2222222222222222,
              "#7201a8"
             ],
             [
              0.3333333333333333,
              "#9c179e"
             ],
             [
              0.4444444444444444,
              "#bd3786"
             ],
             [
              0.5555555555555556,
              "#d8576b"
             ],
             [
              0.6666666666666666,
              "#ed7953"
             ],
             [
              0.7777777777777778,
              "#fb9f3a"
             ],
             [
              0.8888888888888888,
              "#fdca26"
             ],
             [
              1,
              "#f0f921"
             ]
            ],
            "type": "heatmapgl"
           }
          ],
          "histogram": [
           {
            "marker": {
             "pattern": {
              "fillmode": "overlay",
              "size": 10,
              "solidity": 0.2
             }
            },
            "type": "histogram"
           }
          ],
          "histogram2d": [
           {
            "colorbar": {
             "outlinewidth": 0,
             "ticks": ""
            },
            "colorscale": [
             [
              0,
              "#0d0887"
             ],
             [
              0.1111111111111111,
              "#46039f"
             ],
             [
              0.2222222222222222,
              "#7201a8"
             ],
             [
              0.3333333333333333,
              "#9c179e"
             ],
             [
              0.4444444444444444,
              "#bd3786"
             ],
             [
              0.5555555555555556,
              "#d8576b"
             ],
             [
              0.6666666666666666,
              "#ed7953"
             ],
             [
              0.7777777777777778,
              "#fb9f3a"
             ],
             [
              0.8888888888888888,
              "#fdca26"
             ],
             [
              1,
              "#f0f921"
             ]
            ],
            "type": "histogram2d"
           }
          ],
          "histogram2dcontour": [
           {
            "colorbar": {
             "outlinewidth": 0,
             "ticks": ""
            },
            "colorscale": [
             [
              0,
              "#0d0887"
             ],
             [
              0.1111111111111111,
              "#46039f"
             ],
             [
              0.2222222222222222,
              "#7201a8"
             ],
             [
              0.3333333333333333,
              "#9c179e"
             ],
             [
              0.4444444444444444,
              "#bd3786"
             ],
             [
              0.5555555555555556,
              "#d8576b"
             ],
             [
              0.6666666666666666,
              "#ed7953"
             ],
             [
              0.7777777777777778,
              "#fb9f3a"
             ],
             [
              0.8888888888888888,
              "#fdca26"
             ],
             [
              1,
              "#f0f921"
             ]
            ],
            "type": "histogram2dcontour"
           }
          ],
          "mesh3d": [
           {
            "colorbar": {
             "outlinewidth": 0,
             "ticks": ""
            },
            "type": "mesh3d"
           }
          ],
          "parcoords": [
           {
            "line": {
             "colorbar": {
              "outlinewidth": 0,
              "ticks": ""
             }
            },
            "type": "parcoords"
           }
          ],
          "pie": [
           {
            "automargin": true,
            "type": "pie"
           }
          ],
          "scatter": [
           {
            "fillpattern": {
             "fillmode": "overlay",
             "size": 10,
             "solidity": 0.2
            },
            "type": "scatter"
           }
          ],
          "scatter3d": [
           {
            "line": {
             "colorbar": {
              "outlinewidth": 0,
              "ticks": ""
             }
            },
            "marker": {
             "colorbar": {
              "outlinewidth": 0,
              "ticks": ""
             }
            },
            "type": "scatter3d"
           }
          ],
          "scattercarpet": [
           {
            "marker": {
             "colorbar": {
              "outlinewidth": 0,
              "ticks": ""
             }
            },
            "type": "scattercarpet"
           }
          ],
          "scattergeo": [
           {
            "marker": {
             "colorbar": {
              "outlinewidth": 0,
              "ticks": ""
             }
            },
            "type": "scattergeo"
           }
          ],
          "scattergl": [
           {
            "marker": {
             "colorbar": {
              "outlinewidth": 0,
              "ticks": ""
             }
            },
            "type": "scattergl"
           }
          ],
          "scattermapbox": [
           {
            "marker": {
             "colorbar": {
              "outlinewidth": 0,
              "ticks": ""
             }
            },
            "type": "scattermapbox"
           }
          ],
          "scatterpolar": [
           {
            "marker": {
             "colorbar": {
              "outlinewidth": 0,
              "ticks": ""
             }
            },
            "type": "scatterpolar"
           }
          ],
          "scatterpolargl": [
           {
            "marker": {
             "colorbar": {
              "outlinewidth": 0,
              "ticks": ""
             }
            },
            "type": "scatterpolargl"
           }
          ],
          "scatterternary": [
           {
            "marker": {
             "colorbar": {
              "outlinewidth": 0,
              "ticks": ""
             }
            },
            "type": "scatterternary"
           }
          ],
          "surface": [
           {
            "colorbar": {
             "outlinewidth": 0,
             "ticks": ""
            },
            "colorscale": [
             [
              0,
              "#0d0887"
             ],
             [
              0.1111111111111111,
              "#46039f"
             ],
             [
              0.2222222222222222,
              "#7201a8"
             ],
             [
              0.3333333333333333,
              "#9c179e"
             ],
             [
              0.4444444444444444,
              "#bd3786"
             ],
             [
              0.5555555555555556,
              "#d8576b"
             ],
             [
              0.6666666666666666,
              "#ed7953"
             ],
             [
              0.7777777777777778,
              "#fb9f3a"
             ],
             [
              0.8888888888888888,
              "#fdca26"
             ],
             [
              1,
              "#f0f921"
             ]
            ],
            "type": "surface"
           }
          ],
          "table": [
           {
            "cells": {
             "fill": {
              "color": "#EBF0F8"
             },
             "line": {
              "color": "white"
             }
            },
            "header": {
             "fill": {
              "color": "#C8D4E3"
             },
             "line": {
              "color": "white"
             }
            },
            "type": "table"
           }
          ]
         },
         "layout": {
          "annotationdefaults": {
           "arrowcolor": "#2a3f5f",
           "arrowhead": 0,
           "arrowwidth": 1
          },
          "autotypenumbers": "strict",
          "coloraxis": {
           "colorbar": {
            "outlinewidth": 0,
            "ticks": ""
           }
          },
          "colorscale": {
           "diverging": [
            [
             0,
             "#8e0152"
            ],
            [
             0.1,
             "#c51b7d"
            ],
            [
             0.2,
             "#de77ae"
            ],
            [
             0.3,
             "#f1b6da"
            ],
            [
             0.4,
             "#fde0ef"
            ],
            [
             0.5,
             "#f7f7f7"
            ],
            [
             0.6,
             "#e6f5d0"
            ],
            [
             0.7,
             "#b8e186"
            ],
            [
             0.8,
             "#7fbc41"
            ],
            [
             0.9,
             "#4d9221"
            ],
            [
             1,
             "#276419"
            ]
           ],
           "sequential": [
            [
             0,
             "#0d0887"
            ],
            [
             0.1111111111111111,
             "#46039f"
            ],
            [
             0.2222222222222222,
             "#7201a8"
            ],
            [
             0.3333333333333333,
             "#9c179e"
            ],
            [
             0.4444444444444444,
             "#bd3786"
            ],
            [
             0.5555555555555556,
             "#d8576b"
            ],
            [
             0.6666666666666666,
             "#ed7953"
            ],
            [
             0.7777777777777778,
             "#fb9f3a"
            ],
            [
             0.8888888888888888,
             "#fdca26"
            ],
            [
             1,
             "#f0f921"
            ]
           ],
           "sequentialminus": [
            [
             0,
             "#0d0887"
            ],
            [
             0.1111111111111111,
             "#46039f"
            ],
            [
             0.2222222222222222,
             "#7201a8"
            ],
            [
             0.3333333333333333,
             "#9c179e"
            ],
            [
             0.4444444444444444,
             "#bd3786"
            ],
            [
             0.5555555555555556,
             "#d8576b"
            ],
            [
             0.6666666666666666,
             "#ed7953"
            ],
            [
             0.7777777777777778,
             "#fb9f3a"
            ],
            [
             0.8888888888888888,
             "#fdca26"
            ],
            [
             1,
             "#f0f921"
            ]
           ]
          },
          "colorway": [
           "#636efa",
           "#EF553B",
           "#00cc96",
           "#ab63fa",
           "#FFA15A",
           "#19d3f3",
           "#FF6692",
           "#B6E880",
           "#FF97FF",
           "#FECB52"
          ],
          "font": {
           "color": "#2a3f5f"
          },
          "geo": {
           "bgcolor": "white",
           "lakecolor": "white",
           "landcolor": "#E5ECF6",
           "showlakes": true,
           "showland": true,
           "subunitcolor": "white"
          },
          "hoverlabel": {
           "align": "left"
          },
          "hovermode": "closest",
          "mapbox": {
           "style": "light"
          },
          "paper_bgcolor": "white",
          "plot_bgcolor": "#E5ECF6",
          "polar": {
           "angularaxis": {
            "gridcolor": "white",
            "linecolor": "white",
            "ticks": ""
           },
           "bgcolor": "#E5ECF6",
           "radialaxis": {
            "gridcolor": "white",
            "linecolor": "white",
            "ticks": ""
           }
          },
          "scene": {
           "xaxis": {
            "backgroundcolor": "#E5ECF6",
            "gridcolor": "white",
            "gridwidth": 2,
            "linecolor": "white",
            "showbackground": true,
            "ticks": "",
            "zerolinecolor": "white"
           },
           "yaxis": {
            "backgroundcolor": "#E5ECF6",
            "gridcolor": "white",
            "gridwidth": 2,
            "linecolor": "white",
            "showbackground": true,
            "ticks": "",
            "zerolinecolor": "white"
           },
           "zaxis": {
            "backgroundcolor": "#E5ECF6",
            "gridcolor": "white",
            "gridwidth": 2,
            "linecolor": "white",
            "showbackground": true,
            "ticks": "",
            "zerolinecolor": "white"
           }
          },
          "shapedefaults": {
           "line": {
            "color": "#2a3f5f"
           }
          },
          "ternary": {
           "aaxis": {
            "gridcolor": "white",
            "linecolor": "white",
            "ticks": ""
           },
           "baxis": {
            "gridcolor": "white",
            "linecolor": "white",
            "ticks": ""
           },
           "bgcolor": "#E5ECF6",
           "caxis": {
            "gridcolor": "white",
            "linecolor": "white",
            "ticks": ""
           }
          },
          "title": {
           "x": 0.05
          },
          "xaxis": {
           "automargin": true,
           "gridcolor": "white",
           "linecolor": "white",
           "ticks": "",
           "title": {
            "standoff": 15
           },
           "zerolinecolor": "white",
           "zerolinewidth": 2
          },
          "yaxis": {
           "automargin": true,
           "gridcolor": "white",
           "linecolor": "white",
           "ticks": "",
           "title": {
            "standoff": 15
           },
           "zerolinecolor": "white",
           "zerolinewidth": 2
          }
         }
        },
        "title": {
         "text": "Sweep effect",
         "x": 0.5
        },
        "width": 500,
        "xaxis": {
         "gridcolor": "lightgrey",
         "range": [
          -20,
          20
         ],
         "showgrid": true,
         "tickfont": {
          "size": 10
         },
         "title": {
          "text": "y [m]"
         }
        },
        "yaxis": {
         "gridcolor": "lightgrey",
         "range": [
          0,
          30
         ],
         "scaleanchor": "x",
         "scaleratio": 1,
         "showgrid": true,
         "tickfont": {
          "size": 10
         },
         "title": {
          "text": "x[m]"
         }
        }
       }
      }
     },
     "metadata": {},
     "output_type": "display_data"
    }
   ],
   "source": [
    "# BWB sweep 15\n",
    "sweep15_outputsBWB_directory = pth.join(simDirS, \"problem_outputs_BWB_sweep15.xml\")\n",
    "output_dataBWBs15 = oad.DataFile(sweep15_outputsBWB_directory)\n",
    "\n",
    "wing_kink_leading_edge_xBWBs15 = output_dataBWBs15[\"data:geometry:wing:kink:leading_edge:x:local\"].value[0]\n",
    "wing_tip_leading_edge_xBWBs15 = output_dataBWBs15[\"data:geometry:wing:tip:leading_edge:x:local\"].value[0]\n",
    "wing_root_yBWBs15 = output_dataBWBs15[\"data:geometry:wing:root:y\"].value[0]\n",
    "wing_kink_yBWBs15 = output_dataBWBs15[\"data:geometry:wing:kink:y\"].value[0]\n",
    "wing_tip_yBWBs15 = output_dataBWBs15[\"data:geometry:wing:tip:y\"].value[0]\n",
    "wing_root_chordBWBs15 = output_dataBWBs15[\"data:geometry:wing:root:chord\"].value[0]\n",
    "wing_kink_chordBWBs15 = output_dataBWBs15[\"data:geometry:wing:kink:chord\"].value[0]\n",
    "wing_tip_chordBWBs15 = output_dataBWBs15[\"data:geometry:wing:tip:chord\"].value[0]\n",
    "\n",
    "mean_aerodynamic_chordBWBs15 = output_dataBWBs15[\"data:geometry:wing:MAC:length\"].value[0]\n",
    "mac25_x_positionBWBs15 = output_dataBWBs15[\"data:geometry:wing:MAC:at25percent:x\"].value[0]\n",
    "distance_root_mac_chordsBWBs15 = output_dataBWBs15[\"data:geometry:wing:MAC:leading_edge:x:local\"].value[0]\n",
    "\n",
    "\n",
    "\n",
    "# pylint: disable=invalid-name # that's a common naming\n",
    "yBWBs15 = np.array(\n",
    "    [0, wing_root_yBWBs15, wing_kink_yBWBs15, wing_tip_yBWBs15, wing_tip_yBWBs15, wing_kink_yBWBs15, wing_root_yBWBs15, 0, 0]\n",
    ")\n",
    "# pylint: disable=invalid-name # that's a common naming\n",
    "yBWBs15 = np.concatenate((-yBWBs15, yBWBs15))\n",
    "\n",
    "# pylint: disable=invalid-name # that's a common naming\n",
    "xBWBs15 = np.array(\n",
    "    [\n",
    "        0,\n",
    "        0,\n",
    "        wing_kink_leading_edge_xBWBs15,\n",
    "        wing_tip_leading_edge_xBWBs15,\n",
    "        wing_tip_leading_edge_xBWBs15 + wing_tip_chordBWBs15,\n",
    "        wing_kink_leading_edge_xBWBs15 + wing_kink_chordBWBs15,\n",
    "        wing_root_chordBWBs15,\n",
    "        wing_root_chordBWBs15,\n",
    "        0,\n",
    "    ]\n",
    ")\n",
    "\n",
    "xBWBs15 = xBWBs15 + mac25_x_positionBWBs15 - 0.25 * mean_aerodynamic_chordBWBs15 - distance_root_mac_chordsBWBs15\n",
    "# pylint: disable=invalid-name # that's a common naming\n",
    "xBWBs15 = np.concatenate((xBWBs15, xBWBs15))\n",
    "\n",
    "# BWB sweep 20\n",
    "sweep20_outputsBWB_directory = pth.join(simDirS, \"problem_outputs_BWB_sweep20.xml\")\n",
    "output_dataBWBs20 = oad.DataFile(sweep20_outputsBWB_directory)\n",
    "\n",
    "wing_kink_leading_edge_xBWBs20 = output_dataBWBs20[\"data:geometry:wing:kink:leading_edge:x:local\"].value[0]\n",
    "wing_tip_leading_edge_xBWBs20 = output_dataBWBs20[\"data:geometry:wing:tip:leading_edge:x:local\"].value[0]\n",
    "wing_root_yBWBs20 = output_dataBWBs20[\"data:geometry:wing:root:y\"].value[0]\n",
    "wing_kink_yBWBs20 = output_dataBWBs20[\"data:geometry:wing:kink:y\"].value[0]\n",
    "wing_tip_yBWBs20 = output_dataBWBs20[\"data:geometry:wing:tip:y\"].value[0]\n",
    "wing_root_chordBWBs20 = output_dataBWBs20[\"data:geometry:wing:root:chord\"].value[0]\n",
    "wing_kink_chordBWBs20 = output_dataBWBs20[\"data:geometry:wing:kink:chord\"].value[0]\n",
    "wing_tip_chordBWBs20 = output_dataBWBs20[\"data:geometry:wing:tip:chord\"].value[0]\n",
    "\n",
    "mean_aerodynamic_chordBWBs20 = output_dataBWBs20[\"data:geometry:wing:MAC:length\"].value[0]\n",
    "mac25_x_positionBWBs20 = output_dataBWBs20[\"data:geometry:wing:MAC:at25percent:x\"].value[0]\n",
    "distance_root_mac_chordsBWBs20 = output_dataBWBs20[\"data:geometry:wing:MAC:leading_edge:x:local\"].value[0]\n",
    "\n",
    "\n",
    "\n",
    "# pylint: disable=invalid-name # that's a common naming\n",
    "yBWBs20 = np.array(\n",
    "    [0, wing_root_yBWBs20, wing_kink_yBWBs20, wing_tip_yBWBs20, wing_tip_yBWBs20, wing_kink_yBWBs20, wing_root_yBWBs20, 0, 0]\n",
    ")\n",
    "# pylint: disable=invalid-name # that's a common naming\n",
    "yBWBs20 = np.concatenate((-yBWBs20, yBWBs20))\n",
    "\n",
    "# pylint: disable=invalid-name # that's a common naming\n",
    "xBWBs20 = np.array(\n",
    "    [\n",
    "        0,\n",
    "        0,\n",
    "        wing_kink_leading_edge_xBWBs20,\n",
    "        wing_tip_leading_edge_xBWBs20,\n",
    "        wing_tip_leading_edge_xBWBs20 + wing_tip_chordBWBs20,\n",
    "        wing_kink_leading_edge_xBWBs20 + wing_kink_chordBWBs20,\n",
    "        wing_root_chordBWBs20,\n",
    "        wing_root_chordBWBs20,\n",
    "        0,\n",
    "    ]\n",
    ")\n",
    "\n",
    "xBWBs20 = xBWBs20 + mac25_x_positionBWBs20 - 0.25 * mean_aerodynamic_chordBWBs20 - distance_root_mac_chordsBWBs20\n",
    "# pylint: disable=invalid-name # that's a common naming\n",
    "xBWBs20 = np.concatenate((xBWBs20, xBWBs20))\n",
    "# BWB sweep 25\n",
    "sweep25_outputsBWB_directory = pth.join(simDirS, \"problem_outputs_BWB_sweep25.xml\")\n",
    "output_dataBWBs25 = oad.DataFile(sweep25_outputsBWB_directory)\n",
    "\n",
    "wing_kink_leading_edge_xBWBs25 = output_dataBWBs25[\"data:geometry:wing:kink:leading_edge:x:local\"].value[0]\n",
    "wing_tip_leading_edge_xBWBs25 = output_dataBWBs25[\"data:geometry:wing:tip:leading_edge:x:local\"].value[0]\n",
    "wing_root_yBWBs25 = output_dataBWBs25[\"data:geometry:wing:root:y\"].value[0]\n",
    "wing_kink_yBWBs25 = output_dataBWBs25[\"data:geometry:wing:kink:y\"].value[0]\n",
    "wing_tip_yBWBs25 = output_dataBWBs25[\"data:geometry:wing:tip:y\"].value[0]\n",
    "wing_root_chordBWBs25 = output_dataBWBs25[\"data:geometry:wing:root:chord\"].value[0]\n",
    "wing_kink_chordBWBs25 = output_dataBWBs25[\"data:geometry:wing:kink:chord\"].value[0]\n",
    "wing_tip_chordBWBs25 = output_dataBWBs25[\"data:geometry:wing:tip:chord\"].value[0]\n",
    "\n",
    "mean_aerodynamic_chordBWBs25 = output_dataBWBs25[\"data:geometry:wing:MAC:length\"].value[0]\n",
    "mac25_x_positionBWBs25 = output_dataBWBs25[\"data:geometry:wing:MAC:at25percent:x\"].value[0]\n",
    "distance_root_mac_chordsBWBs25 = output_dataBWBs25[\"data:geometry:wing:MAC:leading_edge:x:local\"].value[0]\n",
    "\n",
    "\n",
    "\n",
    "# pylint: disable=invalid-name # that's a common naming\n",
    "yBWBs25 = np.array(\n",
    "    [0, wing_root_yBWBs25, wing_kink_yBWBs25, wing_tip_yBWBs25, wing_tip_yBWBs25, wing_kink_yBWBs25, wing_root_yBWBs25, 0, 0]\n",
    ")\n",
    "# pylint: disable=invalid-name # that's a common naming\n",
    "yBWBs25 = np.concatenate((-yBWBs25, yBWBs25))\n",
    "\n",
    "# pylint: disable=invalid-name # that's a common naming\n",
    "xBWBs25 = np.array(\n",
    "    [\n",
    "        0,\n",
    "        0,\n",
    "        wing_kink_leading_edge_xBWBs25,\n",
    "        wing_tip_leading_edge_xBWBs25,\n",
    "        wing_tip_leading_edge_xBWBs25 + wing_tip_chordBWBs25,\n",
    "        wing_kink_leading_edge_xBWBs25 + wing_kink_chordBWBs25,\n",
    "        wing_root_chordBWBs25,\n",
    "        wing_root_chordBWBs25,\n",
    "        0,\n",
    "    ]\n",
    ")\n",
    "\n",
    "xBWBs25 = xBWBs25 + mac25_x_positionBWBs25 - 0.25 * mean_aerodynamic_chordBWBs25 - distance_root_mac_chordsBWBs25\n",
    "# pylint: disable=invalid-name # that's a common naming\n",
    "xBWBs25 = np.concatenate((xBWBs25, xBWBs25))\n",
    "\n",
    "# BWB sweep 30\n",
    "sweep30_outputsBWB_directory = pth.join(simDirS, \"problem_outputs_BWB_sweep30.xml\")\n",
    "output_dataBWBs30 = oad.DataFile(sweep30_outputsBWB_directory)\n",
    "\n",
    "wing_kink_leading_edge_xBWBs30 = output_dataBWBs30[\"data:geometry:wing:kink:leading_edge:x:local\"].value[0]\n",
    "wing_tip_leading_edge_xBWBs30 = output_dataBWBs30[\"data:geometry:wing:tip:leading_edge:x:local\"].value[0]\n",
    "wing_root_yBWBs30 = output_dataBWBs30[\"data:geometry:wing:root:y\"].value[0]\n",
    "wing_kink_yBWBs30 = output_dataBWBs30[\"data:geometry:wing:kink:y\"].value[0]\n",
    "wing_tip_yBWBs30 = output_dataBWBs30[\"data:geometry:wing:tip:y\"].value[0]\n",
    "wing_root_chordBWBs30 = output_dataBWBs30[\"data:geometry:wing:root:chord\"].value[0]\n",
    "wing_kink_chordBWBs30 = output_dataBWBs30[\"data:geometry:wing:kink:chord\"].value[0]\n",
    "wing_tip_chordBWBs30 = output_dataBWBs30[\"data:geometry:wing:tip:chord\"].value[0]\n",
    "\n",
    "mean_aerodynamic_chordBWBs30 = output_dataBWBs30[\"data:geometry:wing:MAC:length\"].value[0]\n",
    "mac30_x_positionBWBs30 = output_dataBWBs30[\"data:geometry:wing:MAC:at25percent:x\"].value[0]\n",
    "distance_root_mac_chordsBWBs30 = output_dataBWBs30[\"data:geometry:wing:MAC:leading_edge:x:local\"].value[0]\n",
    "\n",
    "\n",
    "\n",
    "# pylint: disable=invalid-name # that's a common naming\n",
    "yBWBs30 = np.array(\n",
    "    [0, wing_root_yBWBs30, wing_kink_yBWBs30, wing_tip_yBWBs30, wing_tip_yBWBs30, wing_kink_yBWBs30, wing_root_yBWBs30, 0, 0]\n",
    ")\n",
    "# pylint: disable=invalid-name # that's a common naming\n",
    "yBWBs30 = np.concatenate((-yBWBs30, yBWBs30))\n",
    "\n",
    "# pylint: disable=invalid-name # that's a common naming\n",
    "xBWBs30 = np.array(\n",
    "    [\n",
    "        0,\n",
    "        0,\n",
    "        wing_kink_leading_edge_xBWBs30,\n",
    "        wing_tip_leading_edge_xBWBs30,\n",
    "        wing_tip_leading_edge_xBWBs30 + wing_tip_chordBWBs30,\n",
    "        wing_kink_leading_edge_xBWBs30 + wing_kink_chordBWBs30,\n",
    "        wing_root_chordBWBs30,\n",
    "        wing_root_chordBWBs30,\n",
    "        0,\n",
    "    ]\n",
    ")\n",
    "\n",
    "xBWBs30 = xBWBs30 + mac30_x_positionBWBs30 - 0.30 * mean_aerodynamic_chordBWBs30 - distance_root_mac_chordsBWBs30\n",
    "# pylint: disable=invalid-name # that's a common naming\n",
    "xBWBs30 = np.concatenate((xBWBs30, xBWBs30))\n",
    "\n",
    "# BWB sweep 35\n",
    "sweep35_outputsBWB_directory = pth.join(simDirS, \"problem_outputs_BWB_sweep35.xml\")\n",
    "output_dataBWBs35 = oad.DataFile(sweep35_outputsBWB_directory)\n",
    "\n",
    "wing_kink_leading_edge_xBWBs35 = output_dataBWBs35[\"data:geometry:wing:kink:leading_edge:x:local\"].value[0]\n",
    "wing_tip_leading_edge_xBWBs35 = output_dataBWBs35[\"data:geometry:wing:tip:leading_edge:x:local\"].value[0]\n",
    "wing_root_yBWBs35 = output_dataBWBs35[\"data:geometry:wing:root:y\"].value[0]\n",
    "wing_kink_yBWBs35 = output_dataBWBs35[\"data:geometry:wing:kink:y\"].value[0]\n",
    "wing_tip_yBWBs35 = output_dataBWBs35[\"data:geometry:wing:tip:y\"].value[0]\n",
    "wing_root_chordBWBs35 = output_dataBWBs35[\"data:geometry:wing:root:chord\"].value[0]\n",
    "wing_kink_chordBWBs35 = output_dataBWBs35[\"data:geometry:wing:kink:chord\"].value[0]\n",
    "wing_tip_chordBWBs35 = output_dataBWBs35[\"data:geometry:wing:tip:chord\"].value[0]\n",
    "\n",
    "mean_aerodynamic_chordBWBs35 = output_dataBWBs35[\"data:geometry:wing:MAC:length\"].value[0]\n",
    "mac25_x_positionBWBs35 = output_dataBWBs35[\"data:geometry:wing:MAC:at25percent:x\"].value[0]\n",
    "distance_root_mac_chordsBWBs35 = output_dataBWBs35[\"data:geometry:wing:MAC:leading_edge:x:local\"].value[0]\n",
    "\n",
    "\n",
    "\n",
    "# pylint: disable=invalid-name # that's a common naming\n",
    "yBWBs35 = np.array(\n",
    "    [0, wing_root_yBWBs35, wing_kink_yBWBs35, wing_tip_yBWBs35, wing_tip_yBWBs35, wing_kink_yBWBs35, wing_root_yBWBs35, 0, 0]\n",
    ")\n",
    "# pylint: disable=invalid-name # that's a common naming\n",
    "yBWBs35 = np.concatenate((-yBWBs35, yBWBs35))\n",
    "\n",
    "# pylint: disable=invalid-name # that's a common naming\n",
    "xBWBs35 = np.array(\n",
    "    [\n",
    "        0,\n",
    "        0,\n",
    "        wing_kink_leading_edge_xBWBs35,\n",
    "        wing_tip_leading_edge_xBWBs35,\n",
    "        wing_tip_leading_edge_xBWBs35 + wing_tip_chordBWBs35,\n",
    "        wing_kink_leading_edge_xBWBs35 + wing_kink_chordBWBs35,\n",
    "        wing_root_chordBWBs35,\n",
    "        wing_root_chordBWBs35,\n",
    "        0,\n",
    "    ]\n",
    ")\n",
    "\n",
    "xBWBs35 = xBWBs35 + mac25_x_positionBWBs35 - 0.25 * mean_aerodynamic_chordBWBs35 - distance_root_mac_chordsBWBs35\n",
    "# pylint: disable=invalid-name # that's a common naming\n",
    "xBWBs35 = np.concatenate((xBWBs35, xBWBs35))\n",
    "\n",
    "######################\n",
    "\n",
    "\n",
    "# CREATE FIGURE\n",
    "\n",
    "fig = go.Figure()\n",
    "\n",
    "scatterBWBs15 = go.Scatter(x=yBWBs15, y=xBWBs15, mode=\"lines+markers\", name='Sweep 15°')\n",
    "\n",
    "fig.add_trace(scatterBWBs15)\n",
    "\n",
    "scatterBWBs20 = go.Scatter(x=yBWBs20, y=xBWBs20, mode=\"lines+markers\", name='Sweep 20°')\n",
    "\n",
    "fig.add_trace(scatterBWBs20)\n",
    "\n",
    "scatterBWBs25 = go.Scatter(x=yBWBs25, y=xBWBs25, mode=\"lines+markers\", name='Sweep 25°')\n",
    "\n",
    "fig.add_trace(scatterBWBs25)\n",
    "\n",
    "scatterBWBs30 = go.Scatter(x=yBWBs30, y=xBWBs30, mode=\"lines+markers\", name='Sweep 30°')\n",
    "\n",
    "fig.add_trace(scatterBWBs30)\n",
    "\n",
    "scatterBWBs35 = go.Scatter(x=yBWBs35, y=xBWBs35, mode=\"lines+markers\", name='Sweep 35°')\n",
    "\n",
    "fig.add_trace(scatterBWBs35)\n",
    "\n",
    "fig.layout = go.Layout(yaxis=dict(scaleanchor=\"x\", scaleratio=1))\n",
    "\n",
    "fig = go.FigureWidget(fig)\n",
    "\n",
    "# fig.update_layout(title_text=\"BWB Wing Geometry\", title_x=0.5, xaxis_title=\"y [m]\", yaxis_title=\"x [m]\",showlegend = True)\n",
    "fig.update_layout(\n",
    "    title_text=\"Sweep effect\",\n",
    "    title_x=0.5,\n",
    "    xaxis_title=\"y [m]\",\n",
    "    yaxis_title=\"x[m]\",\n",
    "    legend=dict(\n",
    "        x=1,\n",
    "        y=1,\n",
    "        xanchor='right',\n",
    "        yanchor='top'\n",
    "    ),\n",
    "    width=500,\n",
    "    height=500,\n",
    "    margin=dict(\n",
    "        l=50,\n",
    "        r=50,\n",
    "        b=50,\n",
    "        t=50,\n",
    "        pad=4\n",
    "    ),\n",
    "    paper_bgcolor='white',\n",
    "    plot_bgcolor='white',\n",
    "    xaxis=dict(\n",
    "        showgrid=True,\n",
    "        gridcolor='lightgrey',\n",
    "        range=[-20, 20],\n",
    "        tickfont=dict(size=10)\n",
    "    ),\n",
    "    yaxis=dict(\n",
    "        showgrid=True,\n",
    "        gridcolor='lightgrey',\n",
    "        range=[0, 30],\n",
    "        tickfont=dict(size=10)\n",
    "    )\n",
    ")\n",
    "\n",
    "fig.show()"
   ]
  },
  {
   "cell_type": "markdown",
   "metadata": {},
   "source": [
    "#### B. Aircraft plot"
   ]
  },
  {
   "cell_type": "code",
   "execution_count": 8,
   "metadata": {},
   "outputs": [],
   "source": [
    "# BWB or TW aircraft, individual: \n",
    "# print('-------------------------------------------------------------')\n",
    "# print('BWB CONFIGURATION')\n",
    "# print('-------------------------------------------------------------')\n",
    "# fig = oad.aircraft_geometry_plot(pth.join(simDirR, \"problem_outputs_BWB_range2750.xml\"))\n",
    "# fig.show()\n",
    "\n",
    "# print('-------------------------------------------------------------')\n",
    "# print('TW CONFIGURATION')\n",
    "# print('-------------------------------------------------------------')\n",
    "# fig = oad.aircraft_geometry_plot(outputs_tubeWing)\n",
    "# fig.show()"
   ]
  },
  {
   "cell_type": "code",
   "execution_count": 9,
   "metadata": {},
   "outputs": [
    {
     "data": {
      "application/vnd.plotly.v1+json": {
       "config": {
        "plotlyServerURL": "https://plot.ly"
       },
       "data": [
        {
         "mode": "lines+markers",
         "name": "BWB",
         "type": "scatter",
         "uid": "078a4890-f178-435e-982b-1530531f197a",
         "x": [
          0,
          -1.846,
          -3.692,
          -3.692,
          -1.846,
          0,
          0,
          -3.692,
          -6.16338293282208,
          -16.43568782085888,
          -16.43568782085888,
          -6.16338293282208,
          -3.692,
          0,
          0,
          0,
          1.846,
          3.692,
          3.692,
          1.846,
          0,
          0,
          3.692,
          6.16338293282208,
          16.43568782085888,
          16.43568782085888,
          6.16338293282208,
          3.692,
          0,
          0
         ],
         "y": [
          0,
          0,
          3.6919999999999997,
          15.382000000000001,
          21.974285714285717,
          21.974285714285717,
          3.47132915650549,
          3.47132915650549,
          5.108722407488079,
          11.914548599910766,
          18.045395589412916,
          19.302656421902636,
          19.605137023616415,
          19.605137023616415,
          3.47132915650549,
          0,
          0,
          3.6919999999999997,
          15.382000000000001,
          21.974285714285717,
          21.974285714285717,
          3.47132915650549,
          3.47132915650549,
          5.108722407488079,
          11.914548599910766,
          18.045395589412916,
          19.302656421902636,
          19.605137023616415,
          19.605137023616415,
          3.47132915650549
         ]
        },
        {
         "mode": "lines+markers",
         "name": "Tube and wing",
         "type": "scatter",
         "uid": "d9bf8ab5-a1d9-4e5a-a998-4c8cb589ff13",
         "x": [
          0,
          -0.97997,
          -1.95994,
          -1.95994,
          -0.97997,
          0,
          0,
          -1.95994,
          -6.4990894089907165,
          -17.33090509064191,
          -17.33090509064191,
          -6.4990894089907165,
          -1.95994,
          0,
          0,
          0,
          -6.202807059924053,
          -6.202807059924053,
          0,
          0,
          0,
          0.97997,
          1.95994,
          1.95994,
          0.97997,
          0,
          0,
          1.95994,
          6.4990894089907165,
          17.33090509064191,
          17.33090509064191,
          6.4990894089907165,
          1.95994,
          0,
          0,
          0,
          6.202807059924053,
          6.202807059924053,
          0,
          0
         ],
         "y": [
          0,
          0,
          6.901795999999999,
          22.891796000000003,
          37.507364,
          37.507364,
          13.585510700768353,
          13.585510700768353,
          15.900715064646434,
          21.42550939840642,
          22.923686083647098,
          19.716155985444747,
          19.716155985444747,
          19.716155985444747,
          13.585510700768353,
          32.45906836965324,
          36.536110884363666,
          37.871456309802056,
          36.91021978778122,
          32.45906836965324,
          0,
          0,
          6.901795999999999,
          22.891796000000003,
          37.507364,
          37.507364,
          13.585510700768353,
          13.585510700768353,
          15.900715064646434,
          21.42550939840642,
          22.923686083647098,
          19.716155985444747,
          19.716155985444747,
          19.716155985444747,
          13.585510700768353,
          32.45906836965324,
          36.536110884363666,
          37.871456309802056,
          36.91021978778122,
          32.45906836965324
         ]
        }
       ],
       "layout": {
        "height": 500,
        "legend": {
         "x": 1,
         "xanchor": "right",
         "y": 0,
         "yanchor": "bottom"
        },
        "margin": {
         "b": 50,
         "l": 50,
         "pad": 4,
         "r": 50,
         "t": 50
        },
        "paper_bgcolor": "white",
        "plot_bgcolor": "white",
        "template": {
         "data": {
          "bar": [
           {
            "error_x": {
             "color": "#2a3f5f"
            },
            "error_y": {
             "color": "#2a3f5f"
            },
            "marker": {
             "line": {
              "color": "#E5ECF6",
              "width": 0.5
             },
             "pattern": {
              "fillmode": "overlay",
              "size": 10,
              "solidity": 0.2
             }
            },
            "type": "bar"
           }
          ],
          "barpolar": [
           {
            "marker": {
             "line": {
              "color": "#E5ECF6",
              "width": 0.5
             },
             "pattern": {
              "fillmode": "overlay",
              "size": 10,
              "solidity": 0.2
             }
            },
            "type": "barpolar"
           }
          ],
          "carpet": [
           {
            "aaxis": {
             "endlinecolor": "#2a3f5f",
             "gridcolor": "white",
             "linecolor": "white",
             "minorgridcolor": "white",
             "startlinecolor": "#2a3f5f"
            },
            "baxis": {
             "endlinecolor": "#2a3f5f",
             "gridcolor": "white",
             "linecolor": "white",
             "minorgridcolor": "white",
             "startlinecolor": "#2a3f5f"
            },
            "type": "carpet"
           }
          ],
          "choropleth": [
           {
            "colorbar": {
             "outlinewidth": 0,
             "ticks": ""
            },
            "type": "choropleth"
           }
          ],
          "contour": [
           {
            "colorbar": {
             "outlinewidth": 0,
             "ticks": ""
            },
            "colorscale": [
             [
              0,
              "#0d0887"
             ],
             [
              0.1111111111111111,
              "#46039f"
             ],
             [
              0.2222222222222222,
              "#7201a8"
             ],
             [
              0.3333333333333333,
              "#9c179e"
             ],
             [
              0.4444444444444444,
              "#bd3786"
             ],
             [
              0.5555555555555556,
              "#d8576b"
             ],
             [
              0.6666666666666666,
              "#ed7953"
             ],
             [
              0.7777777777777778,
              "#fb9f3a"
             ],
             [
              0.8888888888888888,
              "#fdca26"
             ],
             [
              1,
              "#f0f921"
             ]
            ],
            "type": "contour"
           }
          ],
          "contourcarpet": [
           {
            "colorbar": {
             "outlinewidth": 0,
             "ticks": ""
            },
            "type": "contourcarpet"
           }
          ],
          "heatmap": [
           {
            "colorbar": {
             "outlinewidth": 0,
             "ticks": ""
            },
            "colorscale": [
             [
              0,
              "#0d0887"
             ],
             [
              0.1111111111111111,
              "#46039f"
             ],
             [
              0.2222222222222222,
              "#7201a8"
             ],
             [
              0.3333333333333333,
              "#9c179e"
             ],
             [
              0.4444444444444444,
              "#bd3786"
             ],
             [
              0.5555555555555556,
              "#d8576b"
             ],
             [
              0.6666666666666666,
              "#ed7953"
             ],
             [
              0.7777777777777778,
              "#fb9f3a"
             ],
             [
              0.8888888888888888,
              "#fdca26"
             ],
             [
              1,
              "#f0f921"
             ]
            ],
            "type": "heatmap"
           }
          ],
          "heatmapgl": [
           {
            "colorbar": {
             "outlinewidth": 0,
             "ticks": ""
            },
            "colorscale": [
             [
              0,
              "#0d0887"
             ],
             [
              0.1111111111111111,
              "#46039f"
             ],
             [
              0.2222222222222222,
              "#7201a8"
             ],
             [
              0.3333333333333333,
              "#9c179e"
             ],
             [
              0.4444444444444444,
              "#bd3786"
             ],
             [
              0.5555555555555556,
              "#d8576b"
             ],
             [
              0.6666666666666666,
              "#ed7953"
             ],
             [
              0.7777777777777778,
              "#fb9f3a"
             ],
             [
              0.8888888888888888,
              "#fdca26"
             ],
             [
              1,
              "#f0f921"
             ]
            ],
            "type": "heatmapgl"
           }
          ],
          "histogram": [
           {
            "marker": {
             "pattern": {
              "fillmode": "overlay",
              "size": 10,
              "solidity": 0.2
             }
            },
            "type": "histogram"
           }
          ],
          "histogram2d": [
           {
            "colorbar": {
             "outlinewidth": 0,
             "ticks": ""
            },
            "colorscale": [
             [
              0,
              "#0d0887"
             ],
             [
              0.1111111111111111,
              "#46039f"
             ],
             [
              0.2222222222222222,
              "#7201a8"
             ],
             [
              0.3333333333333333,
              "#9c179e"
             ],
             [
              0.4444444444444444,
              "#bd3786"
             ],
             [
              0.5555555555555556,
              "#d8576b"
             ],
             [
              0.6666666666666666,
              "#ed7953"
             ],
             [
              0.7777777777777778,
              "#fb9f3a"
             ],
             [
              0.8888888888888888,
              "#fdca26"
             ],
             [
              1,
              "#f0f921"
             ]
            ],
            "type": "histogram2d"
           }
          ],
          "histogram2dcontour": [
           {
            "colorbar": {
             "outlinewidth": 0,
             "ticks": ""
            },
            "colorscale": [
             [
              0,
              "#0d0887"
             ],
             [
              0.1111111111111111,
              "#46039f"
             ],
             [
              0.2222222222222222,
              "#7201a8"
             ],
             [
              0.3333333333333333,
              "#9c179e"
             ],
             [
              0.4444444444444444,
              "#bd3786"
             ],
             [
              0.5555555555555556,
              "#d8576b"
             ],
             [
              0.6666666666666666,
              "#ed7953"
             ],
             [
              0.7777777777777778,
              "#fb9f3a"
             ],
             [
              0.8888888888888888,
              "#fdca26"
             ],
             [
              1,
              "#f0f921"
             ]
            ],
            "type": "histogram2dcontour"
           }
          ],
          "mesh3d": [
           {
            "colorbar": {
             "outlinewidth": 0,
             "ticks": ""
            },
            "type": "mesh3d"
           }
          ],
          "parcoords": [
           {
            "line": {
             "colorbar": {
              "outlinewidth": 0,
              "ticks": ""
             }
            },
            "type": "parcoords"
           }
          ],
          "pie": [
           {
            "automargin": true,
            "type": "pie"
           }
          ],
          "scatter": [
           {
            "fillpattern": {
             "fillmode": "overlay",
             "size": 10,
             "solidity": 0.2
            },
            "type": "scatter"
           }
          ],
          "scatter3d": [
           {
            "line": {
             "colorbar": {
              "outlinewidth": 0,
              "ticks": ""
             }
            },
            "marker": {
             "colorbar": {
              "outlinewidth": 0,
              "ticks": ""
             }
            },
            "type": "scatter3d"
           }
          ],
          "scattercarpet": [
           {
            "marker": {
             "colorbar": {
              "outlinewidth": 0,
              "ticks": ""
             }
            },
            "type": "scattercarpet"
           }
          ],
          "scattergeo": [
           {
            "marker": {
             "colorbar": {
              "outlinewidth": 0,
              "ticks": ""
             }
            },
            "type": "scattergeo"
           }
          ],
          "scattergl": [
           {
            "marker": {
             "colorbar": {
              "outlinewidth": 0,
              "ticks": ""
             }
            },
            "type": "scattergl"
           }
          ],
          "scattermapbox": [
           {
            "marker": {
             "colorbar": {
              "outlinewidth": 0,
              "ticks": ""
             }
            },
            "type": "scattermapbox"
           }
          ],
          "scatterpolar": [
           {
            "marker": {
             "colorbar": {
              "outlinewidth": 0,
              "ticks": ""
             }
            },
            "type": "scatterpolar"
           }
          ],
          "scatterpolargl": [
           {
            "marker": {
             "colorbar": {
              "outlinewidth": 0,
              "ticks": ""
             }
            },
            "type": "scatterpolargl"
           }
          ],
          "scatterternary": [
           {
            "marker": {
             "colorbar": {
              "outlinewidth": 0,
              "ticks": ""
             }
            },
            "type": "scatterternary"
           }
          ],
          "surface": [
           {
            "colorbar": {
             "outlinewidth": 0,
             "ticks": ""
            },
            "colorscale": [
             [
              0,
              "#0d0887"
             ],
             [
              0.1111111111111111,
              "#46039f"
             ],
             [
              0.2222222222222222,
              "#7201a8"
             ],
             [
              0.3333333333333333,
              "#9c179e"
             ],
             [
              0.4444444444444444,
              "#bd3786"
             ],
             [
              0.5555555555555556,
              "#d8576b"
             ],
             [
              0.6666666666666666,
              "#ed7953"
             ],
             [
              0.7777777777777778,
              "#fb9f3a"
             ],
             [
              0.8888888888888888,
              "#fdca26"
             ],
             [
              1,
              "#f0f921"
             ]
            ],
            "type": "surface"
           }
          ],
          "table": [
           {
            "cells": {
             "fill": {
              "color": "#EBF0F8"
             },
             "line": {
              "color": "white"
             }
            },
            "header": {
             "fill": {
              "color": "#C8D4E3"
             },
             "line": {
              "color": "white"
             }
            },
            "type": "table"
           }
          ]
         },
         "layout": {
          "annotationdefaults": {
           "arrowcolor": "#2a3f5f",
           "arrowhead": 0,
           "arrowwidth": 1
          },
          "autotypenumbers": "strict",
          "coloraxis": {
           "colorbar": {
            "outlinewidth": 0,
            "ticks": ""
           }
          },
          "colorscale": {
           "diverging": [
            [
             0,
             "#8e0152"
            ],
            [
             0.1,
             "#c51b7d"
            ],
            [
             0.2,
             "#de77ae"
            ],
            [
             0.3,
             "#f1b6da"
            ],
            [
             0.4,
             "#fde0ef"
            ],
            [
             0.5,
             "#f7f7f7"
            ],
            [
             0.6,
             "#e6f5d0"
            ],
            [
             0.7,
             "#b8e186"
            ],
            [
             0.8,
             "#7fbc41"
            ],
            [
             0.9,
             "#4d9221"
            ],
            [
             1,
             "#276419"
            ]
           ],
           "sequential": [
            [
             0,
             "#0d0887"
            ],
            [
             0.1111111111111111,
             "#46039f"
            ],
            [
             0.2222222222222222,
             "#7201a8"
            ],
            [
             0.3333333333333333,
             "#9c179e"
            ],
            [
             0.4444444444444444,
             "#bd3786"
            ],
            [
             0.5555555555555556,
             "#d8576b"
            ],
            [
             0.6666666666666666,
             "#ed7953"
            ],
            [
             0.7777777777777778,
             "#fb9f3a"
            ],
            [
             0.8888888888888888,
             "#fdca26"
            ],
            [
             1,
             "#f0f921"
            ]
           ],
           "sequentialminus": [
            [
             0,
             "#0d0887"
            ],
            [
             0.1111111111111111,
             "#46039f"
            ],
            [
             0.2222222222222222,
             "#7201a8"
            ],
            [
             0.3333333333333333,
             "#9c179e"
            ],
            [
             0.4444444444444444,
             "#bd3786"
            ],
            [
             0.5555555555555556,
             "#d8576b"
            ],
            [
             0.6666666666666666,
             "#ed7953"
            ],
            [
             0.7777777777777778,
             "#fb9f3a"
            ],
            [
             0.8888888888888888,
             "#fdca26"
            ],
            [
             1,
             "#f0f921"
            ]
           ]
          },
          "colorway": [
           "#636efa",
           "#EF553B",
           "#00cc96",
           "#ab63fa",
           "#FFA15A",
           "#19d3f3",
           "#FF6692",
           "#B6E880",
           "#FF97FF",
           "#FECB52"
          ],
          "font": {
           "color": "#2a3f5f"
          },
          "geo": {
           "bgcolor": "white",
           "lakecolor": "white",
           "landcolor": "#E5ECF6",
           "showlakes": true,
           "showland": true,
           "subunitcolor": "white"
          },
          "hoverlabel": {
           "align": "left"
          },
          "hovermode": "closest",
          "mapbox": {
           "style": "light"
          },
          "paper_bgcolor": "white",
          "plot_bgcolor": "#E5ECF6",
          "polar": {
           "angularaxis": {
            "gridcolor": "white",
            "linecolor": "white",
            "ticks": ""
           },
           "bgcolor": "#E5ECF6",
           "radialaxis": {
            "gridcolor": "white",
            "linecolor": "white",
            "ticks": ""
           }
          },
          "scene": {
           "xaxis": {
            "backgroundcolor": "#E5ECF6",
            "gridcolor": "white",
            "gridwidth": 2,
            "linecolor": "white",
            "showbackground": true,
            "ticks": "",
            "zerolinecolor": "white"
           },
           "yaxis": {
            "backgroundcolor": "#E5ECF6",
            "gridcolor": "white",
            "gridwidth": 2,
            "linecolor": "white",
            "showbackground": true,
            "ticks": "",
            "zerolinecolor": "white"
           },
           "zaxis": {
            "backgroundcolor": "#E5ECF6",
            "gridcolor": "white",
            "gridwidth": 2,
            "linecolor": "white",
            "showbackground": true,
            "ticks": "",
            "zerolinecolor": "white"
           }
          },
          "shapedefaults": {
           "line": {
            "color": "#2a3f5f"
           }
          },
          "ternary": {
           "aaxis": {
            "gridcolor": "white",
            "linecolor": "white",
            "ticks": ""
           },
           "baxis": {
            "gridcolor": "white",
            "linecolor": "white",
            "ticks": ""
           },
           "bgcolor": "#E5ECF6",
           "caxis": {
            "gridcolor": "white",
            "linecolor": "white",
            "ticks": ""
           }
          },
          "title": {
           "x": 0.05
          },
          "xaxis": {
           "automargin": true,
           "gridcolor": "white",
           "linecolor": "white",
           "ticks": "",
           "title": {
            "standoff": 15
           },
           "zerolinecolor": "white",
           "zerolinewidth": 2
          },
          "yaxis": {
           "automargin": true,
           "gridcolor": "white",
           "linecolor": "white",
           "ticks": "",
           "title": {
            "standoff": 15
           },
           "zerolinecolor": "white",
           "zerolinewidth": 2
          }
         }
        },
        "title": {
         "text": "Aircraft Geometry",
         "x": 0.5
        },
        "width": 500,
        "xaxis": {
         "gridcolor": "lightgrey",
         "range": [
          -10,
          13
         ],
         "showgrid": true,
         "tickfont": {
          "size": 10
         },
         "title": {
          "text": "y [m]"
         }
        },
        "yaxis": {
         "gridcolor": "lightgrey",
         "range": [
          0,
          40
         ],
         "scaleanchor": "x",
         "scaleratio": 1,
         "showgrid": true,
         "tickfont": {
          "size": 10
         },
         "title": {
          "text": "x[m]"
         }
        }
       }
      }
     },
     "metadata": {},
     "output_type": "display_data"
    }
   ],
   "source": [
    "# BWB\n",
    "y_wingBWB = np.array(\n",
    "    [0, wing_root_yBWB, wing_kink_yBWB, wing_tip_yBWB, wing_tip_yBWB, wing_kink_yBWB, wing_root_yBWB, 0, 0]\n",
    ")\n",
    "\n",
    "x_wingBWB = np.array(\n",
    "    [\n",
    "        0,\n",
    "        0,\n",
    "        wing_kink_leading_edge_xBWB,\n",
    "        wing_tip_leading_edge_xBWB,\n",
    "        wing_tip_leading_edge_xBWB + wing_tip_chordBWB,\n",
    "        wing_kink_leading_edge_xBWB + wing_kink_chordBWB,\n",
    "        wing_root_chordBWB,\n",
    "        wing_root_chordBWB,\n",
    "        0,\n",
    "    ]\n",
    ")\n",
    "\"\"\"\n",
    "#####################################\n",
    "# Horizontal Tail parameters - NOT INTERESTED IN THIS FOR A BWB, ALL SET TO ZERO!! (non existent tail!! )\n",
    "# ht_root_chord = variables[\"data:geometry:horizontal_tail:root:chord\"].value[0]\n",
    "# ht_tip_chord = variables[\"data:geometry:horizontal_tail:tip:chord\"].value[0]\n",
    "# ht_span = variables[\"data:geometry:horizontal_tail:span\"].value[0]\n",
    "# ht_sweep_0 = variables[\"data:geometry:horizontal_tail:sweep_0\"].value[0]\n",
    "\n",
    "# ht_tip_leading_edge_x = ht_span / 2.0 * np.tan(ht_sweep_0 * np.pi / 180.0)\n",
    "\n",
    "# y_ht = np.array([0, ht_span / 2.0, ht_span / 2.0, 0.0, 0.0])\n",
    "\n",
    "# x_ht = np.array(\n",
    "#     [0, ht_tip_leading_edge_x, ht_tip_leading_edge_x + ht_tip_chord, ht_root_chord, 0]\n",
    "# )\n",
    "########################################\n",
    "\"\"\"\n",
    "# Fuselage parameters\n",
    "fuselage_max_widthBWB = output_dataBWBsim1[\"data:geometry:fuselage:maximum_width\"].value[0]\n",
    "fuselage_lengthBWB = output_dataBWBsim1[\"data:geometry:fuselage:length\"].value[0]\n",
    "fuselage_front_lengthBWB = output_dataBWBsim1[\"data:geometry:fuselage:front_length\"].value[0]\n",
    "fuselage_rear_lengthBWB = output_dataBWBsim1[\"data:geometry:fuselage:rear_length\"].value[0]\n",
    "\n",
    "x_fuselageBWB = np.array(\n",
    "    [\n",
    "        0.0,\n",
    "        0.0,\n",
    "        fuselage_front_lengthBWB,\n",
    "        fuselage_lengthBWB - fuselage_rear_lengthBWB,\n",
    "        fuselage_lengthBWB,\n",
    "        fuselage_lengthBWB,\n",
    "    ]\n",
    ")\n",
    "\n",
    "y_fuselageBWB = np.array(\n",
    "    [\n",
    "        0.0,\n",
    "        fuselage_max_widthBWB / 4.0,\n",
    "        fuselage_max_widthBWB / 2.0,\n",
    "        fuselage_max_widthBWB / 2.0,\n",
    "        fuselage_max_widthBWB / 4.0,\n",
    "        0.0,\n",
    "    ]\n",
    ")\n",
    "\n",
    "# CGs\n",
    "wing_25mac_xBWB = output_dataBWBsim1[\"data:geometry:wing:MAC:at25percent:x\"].value[0]\n",
    "wing_mac_lengthBWB = output_dataBWBsim1[\"data:geometry:wing:MAC:length\"].value[0]\n",
    "local_wing_mac_le_xBWB = output_dataBWBsim1[\"data:geometry:wing:MAC:leading_edge:x:local\"].value[0]\n",
    "local_ht_25mac_xBWB = output_dataBWBsim1[\"data:geometry:horizontal_tail:MAC:at25percent:x:local\"].value[0]\n",
    "ht_distance_from_wingBWB = output_dataBWBsim1[\n",
    "    \"data:geometry:horizontal_tail:MAC:at25percent:x:from_wingMAC25\"\n",
    "].value[0]\n",
    "\n",
    "x_wingBWB = x_wingBWB + wing_25mac_xBWB - 0.25 * wing_mac_lengthBWB - local_wing_mac_le_xBWB\n",
    "# x_ht = x_ht + wing_25mac_x + ht_distance_from_wing - local_ht_25mac_x # WON'T BE CONSIDERED FOR A BWB\n",
    "\n",
    "# pylint: disable=invalid-name # that's a common naming\n",
    "# x = np.concatenate((x_fuselage, x_wing, x_ht)) # ORIGINAL CODE, TUBE WING\n",
    "xBWB = np.concatenate((x_fuselageBWB, x_wingBWB)) # BWB CONFIG, NO HT!!\n",
    "\n",
    "# pylint: disable=invalid-name # that's a common naming\n",
    "# y = np.concatenate((y_fuselage, y_wing, y_ht))\n",
    "yBWB = np.concatenate((y_fuselageBWB, y_wingBWB))\n",
    "\n",
    "# pylint: disable=invalid-name # that's a common naming\n",
    "yBWB = np.concatenate((-yBWB, yBWB))\n",
    "# pylint: disable=invalid-name # that's a common naming\n",
    "xBWB = np.concatenate((xBWB, xBWB))\n",
    "\n",
    "################# \n",
    "# TUBE AND WING\n",
    "y_wingTW = np.array(\n",
    "    [0, wing_root_yTW, wing_kink_yTW, wing_tip_yTW, wing_tip_yTW, wing_kink_yTW, wing_root_yTW, 0, 0]\n",
    ")\n",
    "\n",
    "x_wingTW = np.array(\n",
    "    [\n",
    "        0,\n",
    "        0,\n",
    "        wing_kink_leading_edge_xTW,\n",
    "        wing_tip_leading_edge_xTW,\n",
    "        wing_tip_leading_edge_xTW + wing_tip_chordTW,\n",
    "        wing_kink_leading_edge_xTW + wing_kink_chordTW,\n",
    "        wing_root_chordTW,\n",
    "        wing_root_chordTW,\n",
    "        0,\n",
    "    ]\n",
    ")\n",
    "\n",
    "#####################################\n",
    "# Horizontal Tail parameters - NOT INTERESTED IN THIS FOR A TW, ALL SET TO ZERO!! (non existent tail!! )\n",
    "ht_root_chordTW = output_dataTW[\"data:geometry:horizontal_tail:root:chord\"].value[0]\n",
    "ht_tip_chordTW = output_dataTW[\"data:geometry:horizontal_tail:tip:chord\"].value[0]\n",
    "ht_spanTW = output_dataTW[\"data:geometry:horizontal_tail:span\"].value[0]\n",
    "ht_sweep_0TW = output_dataTW[\"data:geometry:horizontal_tail:sweep_0\"].value[0]\n",
    "\n",
    "ht_tip_leading_edge_xTW = ht_spanTW / 2.0 * np.tan(ht_sweep_0TW * np.pi / 180.0)\n",
    "\n",
    "y_htTW = np.array([0, ht_spanTW / 2.0, ht_spanTW / 2.0, 0.0, 0.0])\n",
    "\n",
    "x_htTW = np.array(\n",
    "    [0, ht_tip_leading_edge_xTW, ht_tip_leading_edge_xTW + ht_tip_chordTW, ht_root_chordTW, 0]\n",
    ")\n",
    "########################################\n",
    "\n",
    "# Fuselage parameters\n",
    "fuselage_max_widthTW = output_dataTW[\"data:geometry:fuselage:maximum_width\"].value[0]\n",
    "fuselage_lengthTW = output_dataTW[\"data:geometry:fuselage:length\"].value[0]\n",
    "fuselage_front_lengthTW = output_dataTW[\"data:geometry:fuselage:front_length\"].value[0]\n",
    "fuselage_rear_lengthTW = output_dataTW[\"data:geometry:fuselage:rear_length\"].value[0]\n",
    "\n",
    "x_fuselageTW = np.array(\n",
    "    [\n",
    "        0.0,\n",
    "        0.0,\n",
    "        fuselage_front_lengthTW,\n",
    "        fuselage_lengthTW - fuselage_rear_lengthTW,\n",
    "        fuselage_lengthTW,\n",
    "        fuselage_lengthTW,\n",
    "    ]\n",
    ")\n",
    "\n",
    "y_fuselageTW = np.array(\n",
    "    [\n",
    "        0.0,\n",
    "        fuselage_max_widthTW / 4.0,\n",
    "        fuselage_max_widthTW / 2.0,\n",
    "        fuselage_max_widthTW / 2.0,\n",
    "        fuselage_max_widthTW / 4.0,\n",
    "        0.0,\n",
    "    ]\n",
    ")\n",
    "\n",
    "# CGs\n",
    "wing_25mac_xTW = output_dataTW[\"data:geometry:wing:MAC:at25percent:x\"].value[0]\n",
    "wing_mac_lengthTW = output_dataTW[\"data:geometry:wing:MAC:length\"].value[0]\n",
    "local_wing_mac_le_xTW = output_dataTW[\"data:geometry:wing:MAC:leading_edge:x:local\"].value[0]\n",
    "local_ht_25mac_xTW = output_dataTW[\"data:geometry:horizontal_tail:MAC:at25percent:x:local\"].value[0]\n",
    "ht_distance_from_wingTW = output_dataTW[\n",
    "    \"data:geometry:horizontal_tail:MAC:at25percent:x:from_wingMAC25\"\n",
    "].value[0]\n",
    "\n",
    "x_wingTW = x_wingTW + wing_25mac_xTW - 0.25 * wing_mac_lengthTW - local_wing_mac_le_xTW\n",
    "x_htTW = x_htTW + wing_25mac_xTW + ht_distance_from_wingTW - local_ht_25mac_xTW # WON'T BE CONSIDERED FOR A TW\n",
    "\n",
    "# pylint: disable=invalid-name # that's a common naming\n",
    "xTW = np.concatenate((x_fuselageTW, x_wingTW, x_htTW)) # ORIGINAL CODE, TUBE WING\n",
    "# xTW = np.concatenate((x_fuselageTW, x_wingTW)) # TW CONFIG, NO HT!!\n",
    "\n",
    "# pylint: disable=invalid-name # that's a common naming\n",
    "yTW = np.concatenate((y_fuselageTW, y_wingTW, y_htTW))\n",
    "# yTW = np.concatenate((y_fuselageTW, y_wingTW))\n",
    "\n",
    "# pylint: disable=invalid-name # that's a common naming\n",
    "yTW = np.concatenate((-yTW, yTW))\n",
    "# pylint: disable=invalid-name # that's a common naming\n",
    "xTW = np.concatenate((xTW, xTW))\n",
    "\n",
    "\n",
    "# PLOT FIGURE\n",
    "fig = go.Figure()\n",
    "\n",
    "scatterBWB = go.Scatter(x=yBWB, y=xBWB, mode=\"lines+markers\", name=\"BWB\")\n",
    "fig.add_trace(scatterBWB)\n",
    "\n",
    "scatterTW = go.Scatter(x=yTW, y=xTW, mode=\"lines+markers\", name=\"Tube and wing\")\n",
    "fig.add_trace(scatterTW)\n",
    "\n",
    "fig.layout = go.Layout(yaxis=dict(scaleanchor=\"x\", scaleratio=1))\n",
    "\n",
    "fig = go.FigureWidget(fig)\n",
    "\n",
    "# fig.update_layout(title_text=\"Aircraft Geometry\", title_x=0.5, xaxis_title=\"y [m]\", yaxis_title=\"x[m]\", showlegend = True)\n",
    "\n",
    "fig.update_layout(\n",
    "    title_text=\"Aircraft Geometry\",\n",
    "    title_x=0.5,\n",
    "    xaxis_title=\"y [m]\",\n",
    "    yaxis_title=\"x[m]\",\n",
    "    legend=dict(\n",
    "        x=1,\n",
    "        y=0,\n",
    "        xanchor='right',\n",
    "        yanchor='bottom'\n",
    "    ),\n",
    "    width=500,\n",
    "    height=500,\n",
    "    margin=dict(\n",
    "        l=50,\n",
    "        r=50,\n",
    "        b=50,\n",
    "        t=50,\n",
    "        pad=4\n",
    "    ),\n",
    "    paper_bgcolor='white',\n",
    "    plot_bgcolor='white',\n",
    "    xaxis=dict(\n",
    "        showgrid=True,\n",
    "        gridcolor='lightgrey',\n",
    "        range=[-10, 13],\n",
    "        tickfont=dict(size=10)\n",
    "    ),\n",
    "    yaxis=dict(\n",
    "        showgrid=True,\n",
    "        gridcolor='lightgrey',\n",
    "        range=[0, 40],\n",
    "        tickfont=dict(size=10)\n",
    "    )\n",
    ")\n",
    "\n",
    "fig.show()\n"
   ]
  },
  {
   "cell_type": "code",
   "execution_count": 14,
   "metadata": {},
   "outputs": [
    {
     "name": "stdout",
     "output_type": "stream",
     "text": [
      "[ 0.          0.          1.63739325  8.44321944 14.57406643 15.83132727\n",
      " 16.13380787 16.13380787  0.        ]\n",
      "[ 3.47132916  3.47132916  5.10872241 11.9145486  18.04539559 19.30265642\n",
      " 19.60513702 19.60513702  3.47132916]\n"
     ]
    }
   ],
   "source": [
    "# BWB\n",
    "y_wingBWB = np.array(\n",
    "    [0, wing_root_yBWB, wing_kink_yBWB, wing_tip_yBWB, wing_tip_yBWB, wing_kink_yBWB, wing_root_yBWB, 0, 0]\n",
    ")\n",
    "\n",
    "x_wingBWB = np.array(\n",
    "    [\n",
    "        0,\n",
    "        0,\n",
    "        wing_kink_leading_edge_xBWB,\n",
    "        wing_tip_leading_edge_xBWB,\n",
    "        wing_tip_leading_edge_xBWB + wing_tip_chordBWB,\n",
    "        wing_kink_leading_edge_xBWB + wing_kink_chordBWB,\n",
    "        wing_root_chordBWB,\n",
    "        wing_root_chordBWB,\n",
    "        0,\n",
    "    ]\n",
    ")\n",
    "print(x_wingBWB)\n",
    "# Fuselage parameters\n",
    "fuselage_max_widthBWB = output_dataBWBsim1[\"data:geometry:fuselage:maximum_width\"].value[0]\n",
    "fuselage_lengthBWB = output_dataBWBsim1[\"data:geometry:fuselage:length\"].value[0]\n",
    "fuselage_front_lengthBWB = output_dataBWBsim1[\"data:geometry:fuselage:front_length\"].value[0]\n",
    "fuselage_rear_lengthBWB = output_dataBWBsim1[\"data:geometry:fuselage:rear_length\"].value[0]\n",
    "\n",
    "x_fuselageBWB = np.array(\n",
    "    [\n",
    "        0.0,\n",
    "        0.0,\n",
    "        fuselage_front_lengthBWB,\n",
    "        fuselage_lengthBWB - fuselage_rear_lengthBWB,\n",
    "        fuselage_lengthBWB,\n",
    "        fuselage_lengthBWB,\n",
    "    ]\n",
    ")\n",
    "\n",
    "y_fuselageBWB = np.array(\n",
    "    [\n",
    "        0.0,\n",
    "        fuselage_max_widthBWB / 4.0,\n",
    "        fuselage_max_widthBWB / 2.0,\n",
    "        fuselage_max_widthBWB / 2.0,\n",
    "        fuselage_max_widthBWB / 4.0,\n",
    "        0.0,\n",
    "    ]\n",
    ")\n",
    "\n",
    "# CGs\n",
    "wing_25mac_xBWB = output_dataBWBsim1[\"data:geometry:wing:MAC:at25percent:x\"].value[0]\n",
    "wing_mac_lengthBWB = output_dataBWBsim1[\"data:geometry:wing:MAC:length\"].value[0]\n",
    "local_wing_mac_le_xBWB = output_dataBWBsim1[\"data:geometry:wing:MAC:leading_edge:x:local\"].value[0]\n",
    "local_ht_25mac_xBWB = output_dataBWBsim1[\"data:geometry:horizontal_tail:MAC:at25percent:x:local\"].value[0]\n",
    "ht_distance_from_wingBWB = output_dataBWBsim1[\n",
    "    \"data:geometry:horizontal_tail:MAC:at25percent:x:from_wingMAC25\"\n",
    "].value[0]\n",
    "\n",
    "x_wingBWB = x_wingBWB + wing_25mac_xBWB - 0.25 * wing_mac_lengthBWB - local_wing_mac_le_xBWB\n",
    "# x_ht = x_ht + wing_25mac_x + ht_distance_from_wing - local_ht_25mac_x # WON'T BE CONSIDERED FOR A BWB\n",
    "print(x_wingBWB)\n",
    "# pylint: disable=invalid-name # that's a common naming\n",
    "# x = np.concatenate((x_fuselage, x_wing, x_ht)) # ORIGINAL CODE, TUBE WING\n",
    "xBWB = np.concatenate((x_fuselageBWB, x_wingBWB)) # BWB CONFIG, NO HT!!\n",
    "\n",
    "# pylint: disable=invalid-name # that's a common naming\n",
    "# y = np.concatenate((y_fuselage, y_wing, y_ht))\n",
    "yBWB = np.concatenate((y_fuselageBWB, y_wingBWB))\n",
    "\n",
    "# pylint: disable=invalid-name # that's a common naming\n",
    "yBWB = np.concatenate((-yBWB, yBWB))\n",
    "# pylint: disable=invalid-name # that's a common naming\n",
    "xBWB = np.concatenate((xBWB, xBWB))"
   ]
  },
  {
   "cell_type": "markdown",
   "metadata": {},
   "source": [
    "#### C. Drag polar plot"
   ]
  },
  {
   "cell_type": "code",
   "execution_count": 10,
   "metadata": {},
   "outputs": [
    {
     "data": {
      "application/vnd.plotly.v1+json": {
       "config": {
        "plotlyServerURL": "https://plot.ly"
       },
       "data": [
        {
         "mode": "lines+markers",
         "name": "BWB",
         "type": "scatter",
         "x": [
          0.009677118515658905,
          0.009286658189304539,
          0.008976177824752369,
          0.008734236289405168,
          0.008551563493323784,
          0.008420629447414434,
          0.008335303071343671,
          0.008290581269196564,
          0.008282373177808373,
          0.008307327858870193,
          0.0083626962960019,
          0.008446220556412051,
          0.008556044522891864,
          0.008690641801329677,
          0.008848757341925048,
          0.009029360039956242,
          0.00923160415100093,
          0.009454797801681965,
          0.009698377227759273,
          0.00996188564784551,
          0.010244955899493912,
          0.010547296137507958,
          0.010868678031840108,
          0.0112089270119906,
          0.011567914192320878,
          0.01194554968279718,
          0.012341777046014147,
          0.012756568706773427,
          0.0131899221572623,
          0.01364185683077459,
          0.014112411541358217,
          0.014601642406890264,
          0.015109621189781253,
          0.015636434003529247,
          0.016182180345284604,
          0.016746972424946757,
          0.01733093477051847,
          0.01793420409785821,
          0.018556929440927745,
          0.01919927254643794,
          0.019861408544751963,
          0.0205435269173205,
          0.021245832790127678,
          0.021968548592986827,
          0.022711916136465313,
          0.023476199172237096,
          0.024261686519361725,
          0.025068695859105806,
          0.025897578325364295,
          0.026748724047636976,
          0.027622568840284845,
          0.02851960227721664,
          0.029440377447490115,
          0.03038552275741325,
          0.0313557562322346,
          0.03235190288005547,
          0.03337491581811421,
          0.0344259020346944,
          0.03550615387837896,
          0.03661718764282958,
          0.037760790966019114,
          0.03893908120901759,
          0.04015457754847765,
          0.04141029024464064,
          0.0427098314796767,
          0.04405755336061177,
          0.04545872022722201,
          0.046919724403702096,
          0.04844835712300702,
          0.05005414971893714,
          0.051748804567950925,
          0.05354674099584648,
          0.05546578887806717,
          0.05752807253730146,
          0.05976114055740851,
          0.062199414336571106,
          0.06488605100873424,
          0.0678753466833169,
          0.07123584638340952,
          0.07505438113205001,
          0.07944132516099284,
          0.08453746378727695,
          0.09052299416487863,
          0.09762935932177692,
          0.10615485782427464,
          0.11648530086859069,
          0.12912143863485648,
          0.14471549438834863,
          0.16411999239959746,
          0.1884532344223906,
          0.21918739593280404,
          0.25826745626864406,
          0.30827229893636693,
          0.3726336782305983,
          0.45593485625378416
         ],
         "y": [
          0,
          0.01,
          0.02,
          0.03,
          0.04,
          0.05,
          0.06,
          0.07,
          0.08,
          0.09,
          0.1,
          0.11,
          0.12,
          0.13,
          0.14,
          0.15,
          0.16,
          0.17,
          0.18,
          0.19,
          0.2,
          0.21,
          0.22,
          0.23,
          0.24,
          0.25,
          0.26,
          0.27,
          0.28,
          0.29,
          0.3,
          0.31,
          0.32,
          0.33,
          0.34,
          0.35000000000000003,
          0.36,
          0.37,
          0.38,
          0.39,
          0.4,
          0.41000000000000003,
          0.42,
          0.43,
          0.44,
          0.45,
          0.46,
          0.47000000000000003,
          0.48,
          0.49,
          0.5,
          0.51,
          0.52,
          0.53,
          0.54,
          0.55,
          0.56,
          0.5700000000000001,
          0.58,
          0.59,
          0.6,
          0.61,
          0.62,
          0.63,
          0.64,
          0.65,
          0.66,
          0.67,
          0.68,
          0.6900000000000001,
          0.7000000000000001,
          0.71,
          0.72,
          0.73,
          0.74,
          0.75,
          0.76,
          0.77,
          0.78,
          0.79,
          0.8,
          0.81,
          0.8200000000000001,
          0.8300000000000001,
          0.84,
          0.85,
          0.86,
          0.87,
          0.88,
          0.89,
          0.9,
          0.91,
          0.92,
          0.93,
          0.9400000000000001
         ]
        },
        {
         "mode": "lines+markers",
         "name": "Tube and wing",
         "type": "scatter",
         "x": [
          0.020581484341672188,
          0.02058323880608008,
          0.02059127629212987,
          0.020605694453550635,
          0.02062659094407143,
          0.020654063417421323,
          0.020688209527329377,
          0.02072912692752467,
          0.02077691327173626,
          0.020831666213693204,
          0.020893483407124578,
          0.020962462505759446,
          0.021038701163326876,
          0.02112229703355593,
          0.02121334777017567,
          0.02131195102691517,
          0.021418204457503486,
          0.021532205715669696,
          0.021654052455142854,
          0.021783842329652033,
          0.0219216729929263,
          0.02206764209869471,
          0.02222184730068634,
          0.022384386252630253,
          0.02255535660825551,
          0.022734856021291185,
          0.022922982145466335,
          0.023119832634510028,
          0.02332550514215133,
          0.023540097322119306,
          0.02376370682814303,
          0.023996431313951554,
          0.024238368433273958,
          0.024489615839839295,
          0.02475027118737664,
          0.02502043212961505,
          0.025301265978753252,
          0.025593953341428007,
          0.025898632030449825,
          0.02621546755859422,
          0.026544654557836018,
          0.026886418824108655,
          0.027241020048024943,
          0.027608755313120344,
          0.02798996346743906,
          0.028385030502662344,
          0.02879439610865613,
          0.029218561611726236,
          0.02965809955378114,
          0.030113665229201725,
          0.030586010569237026,
          0.03107600085360641,
          0.03158463484000267,
          0.03211306903979635,
          0.032662647039335475,
          0.03323493497957253,
          0.033831764573488535,
          0.034455285375169474,
          0.03510802843466101,
          0.03579298400229642,
          0.036513696615178434,
          0.0372743817457531,
          0.03808006926817717,
          0.03893678036757443,
          0.03985174626492515,
          0.04083367936649049,
          0.041893110315338905,
          0.04304280811227863,
          0.04429830523185141,
          0.045678555811840396,
          0.04720676297196302,
          0.04891142168798175,
          0.05082763716611839,
          0.05299879633334725,
          0.05547869322087536,
          0.0583342394616235,
          0.06164893124914017,
          0.06552729714412278,
          0.07010062141949941,
          0.07553433109283213,
          0.0820375593877667,
          0.08987556494772163,
          0.09938590949399807,
          0.11099959701362247,
          0.12526878273074404,
          0.14290320822524152,
          0.16481826275432854,
          0.1921985829248827,
          0.22658248437779077,
          0.26997441064439176,
          0.3249951819799222,
          0.39508340533305375,
          0.48476635112516303
         ],
         "y": [
          0,
          0.01,
          0.02,
          0.03,
          0.04,
          0.05,
          0.06,
          0.07,
          0.08,
          0.09,
          0.1,
          0.11,
          0.12,
          0.13,
          0.14,
          0.15,
          0.16,
          0.17,
          0.18,
          0.19,
          0.2,
          0.21,
          0.22,
          0.23,
          0.24,
          0.25,
          0.26,
          0.27,
          0.28,
          0.29,
          0.3,
          0.31,
          0.32,
          0.33,
          0.34,
          0.35000000000000003,
          0.36,
          0.37,
          0.38,
          0.39,
          0.4,
          0.41000000000000003,
          0.42,
          0.43,
          0.44,
          0.45,
          0.46,
          0.47000000000000003,
          0.48,
          0.49,
          0.5,
          0.51,
          0.52,
          0.53,
          0.54,
          0.55,
          0.56,
          0.5700000000000001,
          0.58,
          0.59,
          0.6,
          0.61,
          0.62,
          0.63,
          0.64,
          0.65,
          0.66,
          0.67,
          0.68,
          0.6900000000000001,
          0.7000000000000001,
          0.71,
          0.72,
          0.73,
          0.74,
          0.75,
          0.76,
          0.77,
          0.78,
          0.79,
          0.8,
          0.81,
          0.8200000000000001,
          0.8300000000000001,
          0.84,
          0.85,
          0.86,
          0.87,
          0.88,
          0.89,
          0.9,
          0.91,
          0.92
         ]
        }
       ],
       "layout": {
        "height": 600,
        "template": {
         "data": {
          "bar": [
           {
            "error_x": {
             "color": "#2a3f5f"
            },
            "error_y": {
             "color": "#2a3f5f"
            },
            "marker": {
             "line": {
              "color": "#E5ECF6",
              "width": 0.5
             },
             "pattern": {
              "fillmode": "overlay",
              "size": 10,
              "solidity": 0.2
             }
            },
            "type": "bar"
           }
          ],
          "barpolar": [
           {
            "marker": {
             "line": {
              "color": "#E5ECF6",
              "width": 0.5
             },
             "pattern": {
              "fillmode": "overlay",
              "size": 10,
              "solidity": 0.2
             }
            },
            "type": "barpolar"
           }
          ],
          "carpet": [
           {
            "aaxis": {
             "endlinecolor": "#2a3f5f",
             "gridcolor": "white",
             "linecolor": "white",
             "minorgridcolor": "white",
             "startlinecolor": "#2a3f5f"
            },
            "baxis": {
             "endlinecolor": "#2a3f5f",
             "gridcolor": "white",
             "linecolor": "white",
             "minorgridcolor": "white",
             "startlinecolor": "#2a3f5f"
            },
            "type": "carpet"
           }
          ],
          "choropleth": [
           {
            "colorbar": {
             "outlinewidth": 0,
             "ticks": ""
            },
            "type": "choropleth"
           }
          ],
          "contour": [
           {
            "colorbar": {
             "outlinewidth": 0,
             "ticks": ""
            },
            "colorscale": [
             [
              0,
              "#0d0887"
             ],
             [
              0.1111111111111111,
              "#46039f"
             ],
             [
              0.2222222222222222,
              "#7201a8"
             ],
             [
              0.3333333333333333,
              "#9c179e"
             ],
             [
              0.4444444444444444,
              "#bd3786"
             ],
             [
              0.5555555555555556,
              "#d8576b"
             ],
             [
              0.6666666666666666,
              "#ed7953"
             ],
             [
              0.7777777777777778,
              "#fb9f3a"
             ],
             [
              0.8888888888888888,
              "#fdca26"
             ],
             [
              1,
              "#f0f921"
             ]
            ],
            "type": "contour"
           }
          ],
          "contourcarpet": [
           {
            "colorbar": {
             "outlinewidth": 0,
             "ticks": ""
            },
            "type": "contourcarpet"
           }
          ],
          "heatmap": [
           {
            "colorbar": {
             "outlinewidth": 0,
             "ticks": ""
            },
            "colorscale": [
             [
              0,
              "#0d0887"
             ],
             [
              0.1111111111111111,
              "#46039f"
             ],
             [
              0.2222222222222222,
              "#7201a8"
             ],
             [
              0.3333333333333333,
              "#9c179e"
             ],
             [
              0.4444444444444444,
              "#bd3786"
             ],
             [
              0.5555555555555556,
              "#d8576b"
             ],
             [
              0.6666666666666666,
              "#ed7953"
             ],
             [
              0.7777777777777778,
              "#fb9f3a"
             ],
             [
              0.8888888888888888,
              "#fdca26"
             ],
             [
              1,
              "#f0f921"
             ]
            ],
            "type": "heatmap"
           }
          ],
          "heatmapgl": [
           {
            "colorbar": {
             "outlinewidth": 0,
             "ticks": ""
            },
            "colorscale": [
             [
              0,
              "#0d0887"
             ],
             [
              0.1111111111111111,
              "#46039f"
             ],
             [
              0.2222222222222222,
              "#7201a8"
             ],
             [
              0.3333333333333333,
              "#9c179e"
             ],
             [
              0.4444444444444444,
              "#bd3786"
             ],
             [
              0.5555555555555556,
              "#d8576b"
             ],
             [
              0.6666666666666666,
              "#ed7953"
             ],
             [
              0.7777777777777778,
              "#fb9f3a"
             ],
             [
              0.8888888888888888,
              "#fdca26"
             ],
             [
              1,
              "#f0f921"
             ]
            ],
            "type": "heatmapgl"
           }
          ],
          "histogram": [
           {
            "marker": {
             "pattern": {
              "fillmode": "overlay",
              "size": 10,
              "solidity": 0.2
             }
            },
            "type": "histogram"
           }
          ],
          "histogram2d": [
           {
            "colorbar": {
             "outlinewidth": 0,
             "ticks": ""
            },
            "colorscale": [
             [
              0,
              "#0d0887"
             ],
             [
              0.1111111111111111,
              "#46039f"
             ],
             [
              0.2222222222222222,
              "#7201a8"
             ],
             [
              0.3333333333333333,
              "#9c179e"
             ],
             [
              0.4444444444444444,
              "#bd3786"
             ],
             [
              0.5555555555555556,
              "#d8576b"
             ],
             [
              0.6666666666666666,
              "#ed7953"
             ],
             [
              0.7777777777777778,
              "#fb9f3a"
             ],
             [
              0.8888888888888888,
              "#fdca26"
             ],
             [
              1,
              "#f0f921"
             ]
            ],
            "type": "histogram2d"
           }
          ],
          "histogram2dcontour": [
           {
            "colorbar": {
             "outlinewidth": 0,
             "ticks": ""
            },
            "colorscale": [
             [
              0,
              "#0d0887"
             ],
             [
              0.1111111111111111,
              "#46039f"
             ],
             [
              0.2222222222222222,
              "#7201a8"
             ],
             [
              0.3333333333333333,
              "#9c179e"
             ],
             [
              0.4444444444444444,
              "#bd3786"
             ],
             [
              0.5555555555555556,
              "#d8576b"
             ],
             [
              0.6666666666666666,
              "#ed7953"
             ],
             [
              0.7777777777777778,
              "#fb9f3a"
             ],
             [
              0.8888888888888888,
              "#fdca26"
             ],
             [
              1,
              "#f0f921"
             ]
            ],
            "type": "histogram2dcontour"
           }
          ],
          "mesh3d": [
           {
            "colorbar": {
             "outlinewidth": 0,
             "ticks": ""
            },
            "type": "mesh3d"
           }
          ],
          "parcoords": [
           {
            "line": {
             "colorbar": {
              "outlinewidth": 0,
              "ticks": ""
             }
            },
            "type": "parcoords"
           }
          ],
          "pie": [
           {
            "automargin": true,
            "type": "pie"
           }
          ],
          "scatter": [
           {
            "fillpattern": {
             "fillmode": "overlay",
             "size": 10,
             "solidity": 0.2
            },
            "type": "scatter"
           }
          ],
          "scatter3d": [
           {
            "line": {
             "colorbar": {
              "outlinewidth": 0,
              "ticks": ""
             }
            },
            "marker": {
             "colorbar": {
              "outlinewidth": 0,
              "ticks": ""
             }
            },
            "type": "scatter3d"
           }
          ],
          "scattercarpet": [
           {
            "marker": {
             "colorbar": {
              "outlinewidth": 0,
              "ticks": ""
             }
            },
            "type": "scattercarpet"
           }
          ],
          "scattergeo": [
           {
            "marker": {
             "colorbar": {
              "outlinewidth": 0,
              "ticks": ""
             }
            },
            "type": "scattergeo"
           }
          ],
          "scattergl": [
           {
            "marker": {
             "colorbar": {
              "outlinewidth": 0,
              "ticks": ""
             }
            },
            "type": "scattergl"
           }
          ],
          "scattermapbox": [
           {
            "marker": {
             "colorbar": {
              "outlinewidth": 0,
              "ticks": ""
             }
            },
            "type": "scattermapbox"
           }
          ],
          "scatterpolar": [
           {
            "marker": {
             "colorbar": {
              "outlinewidth": 0,
              "ticks": ""
             }
            },
            "type": "scatterpolar"
           }
          ],
          "scatterpolargl": [
           {
            "marker": {
             "colorbar": {
              "outlinewidth": 0,
              "ticks": ""
             }
            },
            "type": "scatterpolargl"
           }
          ],
          "scatterternary": [
           {
            "marker": {
             "colorbar": {
              "outlinewidth": 0,
              "ticks": ""
             }
            },
            "type": "scatterternary"
           }
          ],
          "surface": [
           {
            "colorbar": {
             "outlinewidth": 0,
             "ticks": ""
            },
            "colorscale": [
             [
              0,
              "#0d0887"
             ],
             [
              0.1111111111111111,
              "#46039f"
             ],
             [
              0.2222222222222222,
              "#7201a8"
             ],
             [
              0.3333333333333333,
              "#9c179e"
             ],
             [
              0.4444444444444444,
              "#bd3786"
             ],
             [
              0.5555555555555556,
              "#d8576b"
             ],
             [
              0.6666666666666666,
              "#ed7953"
             ],
             [
              0.7777777777777778,
              "#fb9f3a"
             ],
             [
              0.8888888888888888,
              "#fdca26"
             ],
             [
              1,
              "#f0f921"
             ]
            ],
            "type": "surface"
           }
          ],
          "table": [
           {
            "cells": {
             "fill": {
              "color": "#EBF0F8"
             },
             "line": {
              "color": "white"
             }
            },
            "header": {
             "fill": {
              "color": "#C8D4E3"
             },
             "line": {
              "color": "white"
             }
            },
            "type": "table"
           }
          ]
         },
         "layout": {
          "annotationdefaults": {
           "arrowcolor": "#2a3f5f",
           "arrowhead": 0,
           "arrowwidth": 1
          },
          "autotypenumbers": "strict",
          "coloraxis": {
           "colorbar": {
            "outlinewidth": 0,
            "ticks": ""
           }
          },
          "colorscale": {
           "diverging": [
            [
             0,
             "#8e0152"
            ],
            [
             0.1,
             "#c51b7d"
            ],
            [
             0.2,
             "#de77ae"
            ],
            [
             0.3,
             "#f1b6da"
            ],
            [
             0.4,
             "#fde0ef"
            ],
            [
             0.5,
             "#f7f7f7"
            ],
            [
             0.6,
             "#e6f5d0"
            ],
            [
             0.7,
             "#b8e186"
            ],
            [
             0.8,
             "#7fbc41"
            ],
            [
             0.9,
             "#4d9221"
            ],
            [
             1,
             "#276419"
            ]
           ],
           "sequential": [
            [
             0,
             "#0d0887"
            ],
            [
             0.1111111111111111,
             "#46039f"
            ],
            [
             0.2222222222222222,
             "#7201a8"
            ],
            [
             0.3333333333333333,
             "#9c179e"
            ],
            [
             0.4444444444444444,
             "#bd3786"
            ],
            [
             0.5555555555555556,
             "#d8576b"
            ],
            [
             0.6666666666666666,
             "#ed7953"
            ],
            [
             0.7777777777777778,
             "#fb9f3a"
            ],
            [
             0.8888888888888888,
             "#fdca26"
            ],
            [
             1,
             "#f0f921"
            ]
           ],
           "sequentialminus": [
            [
             0,
             "#0d0887"
            ],
            [
             0.1111111111111111,
             "#46039f"
            ],
            [
             0.2222222222222222,
             "#7201a8"
            ],
            [
             0.3333333333333333,
             "#9c179e"
            ],
            [
             0.4444444444444444,
             "#bd3786"
            ],
            [
             0.5555555555555556,
             "#d8576b"
            ],
            [
             0.6666666666666666,
             "#ed7953"
            ],
            [
             0.7777777777777778,
             "#fb9f3a"
            ],
            [
             0.8888888888888888,
             "#fdca26"
            ],
            [
             1,
             "#f0f921"
            ]
           ]
          },
          "colorway": [
           "#636efa",
           "#EF553B",
           "#00cc96",
           "#ab63fa",
           "#FFA15A",
           "#19d3f3",
           "#FF6692",
           "#B6E880",
           "#FF97FF",
           "#FECB52"
          ],
          "font": {
           "color": "#2a3f5f"
          },
          "geo": {
           "bgcolor": "white",
           "lakecolor": "white",
           "landcolor": "#E5ECF6",
           "showlakes": true,
           "showland": true,
           "subunitcolor": "white"
          },
          "hoverlabel": {
           "align": "left"
          },
          "hovermode": "closest",
          "mapbox": {
           "style": "light"
          },
          "paper_bgcolor": "white",
          "plot_bgcolor": "#E5ECF6",
          "polar": {
           "angularaxis": {
            "gridcolor": "white",
            "linecolor": "white",
            "ticks": ""
           },
           "bgcolor": "#E5ECF6",
           "radialaxis": {
            "gridcolor": "white",
            "linecolor": "white",
            "ticks": ""
           }
          },
          "scene": {
           "xaxis": {
            "backgroundcolor": "#E5ECF6",
            "gridcolor": "white",
            "gridwidth": 2,
            "linecolor": "white",
            "showbackground": true,
            "ticks": "",
            "zerolinecolor": "white"
           },
           "yaxis": {
            "backgroundcolor": "#E5ECF6",
            "gridcolor": "white",
            "gridwidth": 2,
            "linecolor": "white",
            "showbackground": true,
            "ticks": "",
            "zerolinecolor": "white"
           },
           "zaxis": {
            "backgroundcolor": "#E5ECF6",
            "gridcolor": "white",
            "gridwidth": 2,
            "linecolor": "white",
            "showbackground": true,
            "ticks": "",
            "zerolinecolor": "white"
           }
          },
          "shapedefaults": {
           "line": {
            "color": "#2a3f5f"
           }
          },
          "ternary": {
           "aaxis": {
            "gridcolor": "white",
            "linecolor": "white",
            "ticks": ""
           },
           "baxis": {
            "gridcolor": "white",
            "linecolor": "white",
            "ticks": ""
           },
           "bgcolor": "#E5ECF6",
           "caxis": {
            "gridcolor": "white",
            "linecolor": "white",
            "ticks": ""
           }
          },
          "title": {
           "x": 0.05
          },
          "xaxis": {
           "automargin": true,
           "gridcolor": "white",
           "linecolor": "white",
           "ticks": "",
           "title": {
            "standoff": 15
           },
           "zerolinecolor": "white",
           "zerolinewidth": 2
          },
          "yaxis": {
           "automargin": true,
           "gridcolor": "white",
           "linecolor": "white",
           "ticks": "",
           "title": {
            "standoff": 15
           },
           "zerolinecolor": "white",
           "zerolinewidth": 2
          }
         }
        },
        "title": {
         "text": "Drag Polar",
         "x": 0.5
        },
        "width": 600,
        "xaxis": {
         "title": {
          "text": "Cd"
         }
        },
        "yaxis": {
         "title": {
          "text": "Cl"
         }
        }
       }
      }
     },
     "metadata": {},
     "output_type": "display_data"
    }
   ],
   "source": [
    "# BWB\n",
    "output_dataTW = oad.DataFile(outputs_tubeWing)\n",
    "\n",
    "sweep_outputsBWB_directory = pth.join(simDirS, \"problem_outputs_BWB_sweep25.xml\")\n",
    "output_dataBWBsim1 = oad.DataFile(sweep_outputsBWB_directory)\n",
    "# BWB DATA\n",
    "cdBWB = np.asarray(output_dataBWBsim1[\"data:aerodynamics:aircraft:cruise:CD\"].value)\n",
    "clBWB = np.asarray(output_dataBWBsim1[\"data:aerodynamics:aircraft:cruise:CL\"].value)\n",
    "cd_shortBWB = cdBWB[cdBWB <= 0.5]\n",
    "cl_shortBWB = clBWB[cdBWB <= 0.5]\n",
    "\n",
    "# TUBE AND WING DATA\n",
    "cdTW = np.asarray(output_dataTW[\"data:aerodynamics:aircraft:cruise:CD\"].value)\n",
    "clTW = np.asarray(output_dataTW[\"data:aerodynamics:aircraft:cruise:CL\"].value)\n",
    "cd_shortTW = cdTW[cdTW <= 0.5]\n",
    "cl_shortTW = clTW[cdTW <= 0.5]\n",
    "\n",
    "# PLOT FIGURE\n",
    "fig = go.Figure()\n",
    "\n",
    "scatterBWB = go.Scatter(x=cd_shortBWB, y=cl_shortBWB, mode=\"lines+markers\", name=\"BWB\")\n",
    "fig.add_trace(scatterBWB)\n",
    "\n",
    "scatterTW = go.Scatter(x=cd_shortTW, y=cl_shortTW, mode=\"lines+markers\", name=\"Tube and wing\")\n",
    "fig.add_trace(scatterTW)\n",
    "\n",
    "fig.update_layout(title_text=\"Drag Polar\", title_x=0.5, xaxis_title=\"Cd\", yaxis_title=\"Cl\", \n",
    "                  width=600, height=600)\n",
    "\n",
    "fig.show()\n",
    "\n"
   ]
  },
  {
   "cell_type": "markdown",
   "metadata": {},
   "source": [
    "##### D. Mass breakdown plot"
   ]
  },
  {
   "cell_type": "code",
   "execution_count": 11,
   "metadata": {},
   "outputs": [
    {
     "name": "stdout",
     "output_type": "stream",
     "text": [
      "-------------------------------------------------------------\n",
      "BWB CONFIGURATION\n",
      "-------------------------------------------------------------\n"
     ]
    },
    {
     "data": {
      "application/vnd.plotly.v1+json": {
       "config": {
        "plotlyServerURL": "https://plot.ly"
       },
       "data": [
        {
         "marker": {
          "color": "#636EFA"
         },
         "name": "",
         "showlegend": false,
         "type": "bar",
         "x": [
          "MTOW",
          "OWE",
          "Fuel - Mission",
          "Payload"
         ],
         "xaxis": "x",
         "y": [
          88124.0578780029,
          59493.052374594634,
          15023.005458612553,
          13608
         ],
         "yaxis": "y"
        },
        {
         "marker": {
          "color": "#636EFA"
         },
         "type": "bar",
         "x": [
          "airframe",
          "crew",
          "furniture",
          "propulsion",
          "systems"
         ],
         "xaxis": "x2",
         "y": [
          41106.546791137,
          470,
          3112.5,
          8247.821186889458,
          6556.184396568176
         ],
         "yaxis": "y2"
        }
       ],
       "layout": {
        "annotations": [
         {
          "font": {
           "size": 16
          },
          "showarrow": false,
          "text": "Maximum Take-Off Weight Breakdown",
          "x": 0.225,
          "xanchor": "center",
          "xref": "paper",
          "y": 1,
          "yanchor": "bottom",
          "yref": "paper"
         },
         {
          "font": {
           "size": 16
          },
          "showarrow": false,
          "text": "Overall Weight Empty Breakdown",
          "x": 0.775,
          "xanchor": "center",
          "xref": "paper",
          "y": 1,
          "yanchor": "bottom",
          "yref": "paper"
         }
        ],
        "template": {
         "data": {
          "bar": [
           {
            "error_x": {
             "color": "#2a3f5f"
            },
            "error_y": {
             "color": "#2a3f5f"
            },
            "marker": {
             "line": {
              "color": "#E5ECF6",
              "width": 0.5
             },
             "pattern": {
              "fillmode": "overlay",
              "size": 10,
              "solidity": 0.2
             }
            },
            "type": "bar"
           }
          ],
          "barpolar": [
           {
            "marker": {
             "line": {
              "color": "#E5ECF6",
              "width": 0.5
             },
             "pattern": {
              "fillmode": "overlay",
              "size": 10,
              "solidity": 0.2
             }
            },
            "type": "barpolar"
           }
          ],
          "carpet": [
           {
            "aaxis": {
             "endlinecolor": "#2a3f5f",
             "gridcolor": "white",
             "linecolor": "white",
             "minorgridcolor": "white",
             "startlinecolor": "#2a3f5f"
            },
            "baxis": {
             "endlinecolor": "#2a3f5f",
             "gridcolor": "white",
             "linecolor": "white",
             "minorgridcolor": "white",
             "startlinecolor": "#2a3f5f"
            },
            "type": "carpet"
           }
          ],
          "choropleth": [
           {
            "colorbar": {
             "outlinewidth": 0,
             "ticks": ""
            },
            "type": "choropleth"
           }
          ],
          "contour": [
           {
            "colorbar": {
             "outlinewidth": 0,
             "ticks": ""
            },
            "colorscale": [
             [
              0,
              "#0d0887"
             ],
             [
              0.1111111111111111,
              "#46039f"
             ],
             [
              0.2222222222222222,
              "#7201a8"
             ],
             [
              0.3333333333333333,
              "#9c179e"
             ],
             [
              0.4444444444444444,
              "#bd3786"
             ],
             [
              0.5555555555555556,
              "#d8576b"
             ],
             [
              0.6666666666666666,
              "#ed7953"
             ],
             [
              0.7777777777777778,
              "#fb9f3a"
             ],
             [
              0.8888888888888888,
              "#fdca26"
             ],
             [
              1,
              "#f0f921"
             ]
            ],
            "type": "contour"
           }
          ],
          "contourcarpet": [
           {
            "colorbar": {
             "outlinewidth": 0,
             "ticks": ""
            },
            "type": "contourcarpet"
           }
          ],
          "heatmap": [
           {
            "colorbar": {
             "outlinewidth": 0,
             "ticks": ""
            },
            "colorscale": [
             [
              0,
              "#0d0887"
             ],
             [
              0.1111111111111111,
              "#46039f"
             ],
             [
              0.2222222222222222,
              "#7201a8"
             ],
             [
              0.3333333333333333,
              "#9c179e"
             ],
             [
              0.4444444444444444,
              "#bd3786"
             ],
             [
              0.5555555555555556,
              "#d8576b"
             ],
             [
              0.6666666666666666,
              "#ed7953"
             ],
             [
              0.7777777777777778,
              "#fb9f3a"
             ],
             [
              0.8888888888888888,
              "#fdca26"
             ],
             [
              1,
              "#f0f921"
             ]
            ],
            "type": "heatmap"
           }
          ],
          "heatmapgl": [
           {
            "colorbar": {
             "outlinewidth": 0,
             "ticks": ""
            },
            "colorscale": [
             [
              0,
              "#0d0887"
             ],
             [
              0.1111111111111111,
              "#46039f"
             ],
             [
              0.2222222222222222,
              "#7201a8"
             ],
             [
              0.3333333333333333,
              "#9c179e"
             ],
             [
              0.4444444444444444,
              "#bd3786"
             ],
             [
              0.5555555555555556,
              "#d8576b"
             ],
             [
              0.6666666666666666,
              "#ed7953"
             ],
             [
              0.7777777777777778,
              "#fb9f3a"
             ],
             [
              0.8888888888888888,
              "#fdca26"
             ],
             [
              1,
              "#f0f921"
             ]
            ],
            "type": "heatmapgl"
           }
          ],
          "histogram": [
           {
            "marker": {
             "pattern": {
              "fillmode": "overlay",
              "size": 10,
              "solidity": 0.2
             }
            },
            "type": "histogram"
           }
          ],
          "histogram2d": [
           {
            "colorbar": {
             "outlinewidth": 0,
             "ticks": ""
            },
            "colorscale": [
             [
              0,
              "#0d0887"
             ],
             [
              0.1111111111111111,
              "#46039f"
             ],
             [
              0.2222222222222222,
              "#7201a8"
             ],
             [
              0.3333333333333333,
              "#9c179e"
             ],
             [
              0.4444444444444444,
              "#bd3786"
             ],
             [
              0.5555555555555556,
              "#d8576b"
             ],
             [
              0.6666666666666666,
              "#ed7953"
             ],
             [
              0.7777777777777778,
              "#fb9f3a"
             ],
             [
              0.8888888888888888,
              "#fdca26"
             ],
             [
              1,
              "#f0f921"
             ]
            ],
            "type": "histogram2d"
           }
          ],
          "histogram2dcontour": [
           {
            "colorbar": {
             "outlinewidth": 0,
             "ticks": ""
            },
            "colorscale": [
             [
              0,
              "#0d0887"
             ],
             [
              0.1111111111111111,
              "#46039f"
             ],
             [
              0.2222222222222222,
              "#7201a8"
             ],
             [
              0.3333333333333333,
              "#9c179e"
             ],
             [
              0.4444444444444444,
              "#bd3786"
             ],
             [
              0.5555555555555556,
              "#d8576b"
             ],
             [
              0.6666666666666666,
              "#ed7953"
             ],
             [
              0.7777777777777778,
              "#fb9f3a"
             ],
             [
              0.8888888888888888,
              "#fdca26"
             ],
             [
              1,
              "#f0f921"
             ]
            ],
            "type": "histogram2dcontour"
           }
          ],
          "mesh3d": [
           {
            "colorbar": {
             "outlinewidth": 0,
             "ticks": ""
            },
            "type": "mesh3d"
           }
          ],
          "parcoords": [
           {
            "line": {
             "colorbar": {
              "outlinewidth": 0,
              "ticks": ""
             }
            },
            "type": "parcoords"
           }
          ],
          "pie": [
           {
            "automargin": true,
            "type": "pie"
           }
          ],
          "scatter": [
           {
            "fillpattern": {
             "fillmode": "overlay",
             "size": 10,
             "solidity": 0.2
            },
            "type": "scatter"
           }
          ],
          "scatter3d": [
           {
            "line": {
             "colorbar": {
              "outlinewidth": 0,
              "ticks": ""
             }
            },
            "marker": {
             "colorbar": {
              "outlinewidth": 0,
              "ticks": ""
             }
            },
            "type": "scatter3d"
           }
          ],
          "scattercarpet": [
           {
            "marker": {
             "colorbar": {
              "outlinewidth": 0,
              "ticks": ""
             }
            },
            "type": "scattercarpet"
           }
          ],
          "scattergeo": [
           {
            "marker": {
             "colorbar": {
              "outlinewidth": 0,
              "ticks": ""
             }
            },
            "type": "scattergeo"
           }
          ],
          "scattergl": [
           {
            "marker": {
             "colorbar": {
              "outlinewidth": 0,
              "ticks": ""
             }
            },
            "type": "scattergl"
           }
          ],
          "scattermapbox": [
           {
            "marker": {
             "colorbar": {
              "outlinewidth": 0,
              "ticks": ""
             }
            },
            "type": "scattermapbox"
           }
          ],
          "scatterpolar": [
           {
            "marker": {
             "colorbar": {
              "outlinewidth": 0,
              "ticks": ""
             }
            },
            "type": "scatterpolar"
           }
          ],
          "scatterpolargl": [
           {
            "marker": {
             "colorbar": {
              "outlinewidth": 0,
              "ticks": ""
             }
            },
            "type": "scatterpolargl"
           }
          ],
          "scatterternary": [
           {
            "marker": {
             "colorbar": {
              "outlinewidth": 0,
              "ticks": ""
             }
            },
            "type": "scatterternary"
           }
          ],
          "surface": [
           {
            "colorbar": {
             "outlinewidth": 0,
             "ticks": ""
            },
            "colorscale": [
             [
              0,
              "#0d0887"
             ],
             [
              0.1111111111111111,
              "#46039f"
             ],
             [
              0.2222222222222222,
              "#7201a8"
             ],
             [
              0.3333333333333333,
              "#9c179e"
             ],
             [
              0.4444444444444444,
              "#bd3786"
             ],
             [
              0.5555555555555556,
              "#d8576b"
             ],
             [
              0.6666666666666666,
              "#ed7953"
             ],
             [
              0.7777777777777778,
              "#fb9f3a"
             ],
             [
              0.8888888888888888,
              "#fdca26"
             ],
             [
              1,
              "#f0f921"
             ]
            ],
            "type": "surface"
           }
          ],
          "table": [
           {
            "cells": {
             "fill": {
              "color": "#EBF0F8"
             },
             "line": {
              "color": "white"
             }
            },
            "header": {
             "fill": {
              "color": "#C8D4E3"
             },
             "line": {
              "color": "white"
             }
            },
            "type": "table"
           }
          ]
         },
         "layout": {
          "annotationdefaults": {
           "arrowcolor": "#2a3f5f",
           "arrowhead": 0,
           "arrowwidth": 1
          },
          "autotypenumbers": "strict",
          "coloraxis": {
           "colorbar": {
            "outlinewidth": 0,
            "ticks": ""
           }
          },
          "colorscale": {
           "diverging": [
            [
             0,
             "#8e0152"
            ],
            [
             0.1,
             "#c51b7d"
            ],
            [
             0.2,
             "#de77ae"
            ],
            [
             0.3,
             "#f1b6da"
            ],
            [
             0.4,
             "#fde0ef"
            ],
            [
             0.5,
             "#f7f7f7"
            ],
            [
             0.6,
             "#e6f5d0"
            ],
            [
             0.7,
             "#b8e186"
            ],
            [
             0.8,
             "#7fbc41"
            ],
            [
             0.9,
             "#4d9221"
            ],
            [
             1,
             "#276419"
            ]
           ],
           "sequential": [
            [
             0,
             "#0d0887"
            ],
            [
             0.1111111111111111,
             "#46039f"
            ],
            [
             0.2222222222222222,
             "#7201a8"
            ],
            [
             0.3333333333333333,
             "#9c179e"
            ],
            [
             0.4444444444444444,
             "#bd3786"
            ],
            [
             0.5555555555555556,
             "#d8576b"
            ],
            [
             0.6666666666666666,
             "#ed7953"
            ],
            [
             0.7777777777777778,
             "#fb9f3a"
            ],
            [
             0.8888888888888888,
             "#fdca26"
            ],
            [
             1,
             "#f0f921"
            ]
           ],
           "sequentialminus": [
            [
             0,
             "#0d0887"
            ],
            [
             0.1111111111111111,
             "#46039f"
            ],
            [
             0.2222222222222222,
             "#7201a8"
            ],
            [
             0.3333333333333333,
             "#9c179e"
            ],
            [
             0.4444444444444444,
             "#bd3786"
            ],
            [
             0.5555555555555556,
             "#d8576b"
            ],
            [
             0.6666666666666666,
             "#ed7953"
            ],
            [
             0.7777777777777778,
             "#fb9f3a"
            ],
            [
             0.8888888888888888,
             "#fdca26"
            ],
            [
             1,
             "#f0f921"
            ]
           ]
          },
          "colorway": [
           "#636efa",
           "#EF553B",
           "#00cc96",
           "#ab63fa",
           "#FFA15A",
           "#19d3f3",
           "#FF6692",
           "#B6E880",
           "#FF97FF",
           "#FECB52"
          ],
          "font": {
           "color": "#2a3f5f"
          },
          "geo": {
           "bgcolor": "white",
           "lakecolor": "white",
           "landcolor": "#E5ECF6",
           "showlakes": true,
           "showland": true,
           "subunitcolor": "white"
          },
          "hoverlabel": {
           "align": "left"
          },
          "hovermode": "closest",
          "mapbox": {
           "style": "light"
          },
          "paper_bgcolor": "white",
          "plot_bgcolor": "#E5ECF6",
          "polar": {
           "angularaxis": {
            "gridcolor": "white",
            "linecolor": "white",
            "ticks": ""
           },
           "bgcolor": "#E5ECF6",
           "radialaxis": {
            "gridcolor": "white",
            "linecolor": "white",
            "ticks": ""
           }
          },
          "scene": {
           "xaxis": {
            "backgroundcolor": "#E5ECF6",
            "gridcolor": "white",
            "gridwidth": 2,
            "linecolor": "white",
            "showbackground": true,
            "ticks": "",
            "zerolinecolor": "white"
           },
           "yaxis": {
            "backgroundcolor": "#E5ECF6",
            "gridcolor": "white",
            "gridwidth": 2,
            "linecolor": "white",
            "showbackground": true,
            "ticks": "",
            "zerolinecolor": "white"
           },
           "zaxis": {
            "backgroundcolor": "#E5ECF6",
            "gridcolor": "white",
            "gridwidth": 2,
            "linecolor": "white",
            "showbackground": true,
            "ticks": "",
            "zerolinecolor": "white"
           }
          },
          "shapedefaults": {
           "line": {
            "color": "#2a3f5f"
           }
          },
          "ternary": {
           "aaxis": {
            "gridcolor": "white",
            "linecolor": "white",
            "ticks": ""
           },
           "baxis": {
            "gridcolor": "white",
            "linecolor": "white",
            "ticks": ""
           },
           "bgcolor": "#E5ECF6",
           "caxis": {
            "gridcolor": "white",
            "linecolor": "white",
            "ticks": ""
           }
          },
          "title": {
           "x": 0.05
          },
          "xaxis": {
           "automargin": true,
           "gridcolor": "white",
           "linecolor": "white",
           "ticks": "",
           "title": {
            "standoff": 15
           },
           "zerolinecolor": "white",
           "zerolinewidth": 2
          },
          "yaxis": {
           "automargin": true,
           "gridcolor": "white",
           "linecolor": "white",
           "ticks": "",
           "title": {
            "standoff": 15
           },
           "zerolinecolor": "white",
           "zerolinewidth": 2
          }
         }
        },
        "xaxis": {
         "anchor": "y",
         "domain": [
          0,
          0.45
         ]
        },
        "xaxis2": {
         "anchor": "y2",
         "domain": [
          0.55,
          1
         ]
        },
        "yaxis": {
         "anchor": "x",
         "domain": [
          0,
          1
         ],
         "title": {
          "text": "[kg]"
         }
        },
        "yaxis2": {
         "anchor": "x2",
         "domain": [
          0,
          1
         ]
        }
       }
      }
     },
     "metadata": {},
     "output_type": "display_data"
    },
    {
     "data": {
      "application/vnd.plotly.v1+json": {
       "config": {
        "plotlyServerURL": "https://plot.ly"
       },
       "data": [
        {
         "branchvalues": "total",
         "domain": {
          "x": [
           0,
           0.45
          ],
          "y": [
           0,
           1
          ]
         },
         "labels": [
          "MTOW<br>88124 [kg]",
          "payload<br>13608 [kg] (15.4%)",
          "onboard_fuel_at_takeoff<br>15023 [kg] (17.0%)",
          "OWE<br>59493 [kg] (67.5%)"
         ],
         "parents": [
          "",
          "MTOW<br>88124 [kg]",
          "MTOW<br>88124 [kg]",
          "MTOW<br>88124 [kg]"
         ],
         "type": "sunburst",
         "values": [
          88124.0578780029,
          13608,
          15023.005458612553,
          59493.052374594634
         ]
        },
        {
         "branchvalues": "total",
         "domain": {
          "x": [
           0.55,
           1
          ],
          "y": [
           0,
           1
          ]
         },
         "labels": [
          "OWE<br>59493 [kg]",
          "airframe<br>41106 [kg] (69.1%)",
          "crew<br>470 [kg] (0.8%)",
          "furniture<br>3112 [kg] (5.2%)",
          "propulsion<br>8247 [kg] (13.9%)",
          "systems<br>6556 [kg] (11.0%)",
          "flight_controls",
          "fuselage",
          "horizontal_tail",
          "paint",
          "pylon",
          "vertical_tail",
          "wing",
          "landing_gear_front",
          "landing_gear_main",
          "food_water",
          "passenger_seats",
          "security_kit",
          "toilets",
          "engine",
          "fuel_lines",
          "unconsumables",
          "flight_kit",
          "navigation",
          "transmission",
          "life_support_air_conditioning",
          "life_support_cabin_lighting",
          "life_support_de-icing",
          "life_support_insulation",
          "life_support_oxygen",
          "life_support_safety_equipment",
          "life_support_seats_crew_accommodation",
          "operational_cargo_hold",
          "operational_radar",
          "power_auxiliary_power_unit",
          "power_electric_systems",
          "power_hydraulic_systems"
         ],
         "parents": [
          "",
          "OWE<br>59493 [kg]",
          "OWE<br>59493 [kg]",
          "OWE<br>59493 [kg]",
          "OWE<br>59493 [kg]",
          "OWE<br>59493 [kg]",
          "airframe<br>41106 [kg] (69.1%)",
          "airframe<br>41106 [kg] (69.1%)",
          "airframe<br>41106 [kg] (69.1%)",
          "airframe<br>41106 [kg] (69.1%)",
          "airframe<br>41106 [kg] (69.1%)",
          "airframe<br>41106 [kg] (69.1%)",
          "airframe<br>41106 [kg] (69.1%)",
          "airframe<br>41106 [kg] (69.1%)",
          "airframe<br>41106 [kg] (69.1%)",
          "furniture<br>3112 [kg] (5.2%)",
          "furniture<br>3112 [kg] (5.2%)",
          "furniture<br>3112 [kg] (5.2%)",
          "furniture<br>3112 [kg] (5.2%)",
          "propulsion<br>8247 [kg] (13.9%)",
          "propulsion<br>8247 [kg] (13.9%)",
          "propulsion<br>8247 [kg] (13.9%)",
          "systems<br>6556 [kg] (11.0%)",
          "systems<br>6556 [kg] (11.0%)",
          "systems<br>6556 [kg] (11.0%)",
          "systems<br>6556 [kg] (11.0%)",
          "systems<br>6556 [kg] (11.0%)",
          "systems<br>6556 [kg] (11.0%)",
          "systems<br>6556 [kg] (11.0%)",
          "systems<br>6556 [kg] (11.0%)",
          "systems<br>6556 [kg] (11.0%)",
          "systems<br>6556 [kg] (11.0%)",
          "systems<br>6556 [kg] (11.0%)",
          "systems<br>6556 [kg] (11.0%)",
          "systems<br>6556 [kg] (11.0%)",
          "systems<br>6556 [kg] (11.0%)",
          "systems<br>6556 [kg] (11.0%)"
         ],
         "type": "sunburst",
         "values": [
          59493.052374594634,
          41106.546791137,
          470,
          3112.5,
          8247.821186889458,
          6556.184396568176,
          755.5496870054914,
          26809.139140989813,
          0,
          130.0349212383444,
          1211.8837953053956,
          319.7771391711203,
          8945.911760630775,
          430.27169148248186,
          2503.9786553135696,
          1312.5,
          1500,
          225,
          75,
          7161.3348000000005,
          780.0538798118578,
          306.4325070776,
          45,
          474.6907509967542,
          200,
          920.2710820949874,
          88.44678006647833,
          155.83507354101704,
          1175.0786494546408,
          275,
          416.613348,
          126,
          113.04431672768347,
          100,
          279.11093350942633,
          1387.8865816343905,
          799.2068805427992
         ]
        }
       ],
       "layout": {
        "template": {
         "data": {
          "bar": [
           {
            "error_x": {
             "color": "#2a3f5f"
            },
            "error_y": {
             "color": "#2a3f5f"
            },
            "marker": {
             "line": {
              "color": "#E5ECF6",
              "width": 0.5
             },
             "pattern": {
              "fillmode": "overlay",
              "size": 10,
              "solidity": 0.2
             }
            },
            "type": "bar"
           }
          ],
          "barpolar": [
           {
            "marker": {
             "line": {
              "color": "#E5ECF6",
              "width": 0.5
             },
             "pattern": {
              "fillmode": "overlay",
              "size": 10,
              "solidity": 0.2
             }
            },
            "type": "barpolar"
           }
          ],
          "carpet": [
           {
            "aaxis": {
             "endlinecolor": "#2a3f5f",
             "gridcolor": "white",
             "linecolor": "white",
             "minorgridcolor": "white",
             "startlinecolor": "#2a3f5f"
            },
            "baxis": {
             "endlinecolor": "#2a3f5f",
             "gridcolor": "white",
             "linecolor": "white",
             "minorgridcolor": "white",
             "startlinecolor": "#2a3f5f"
            },
            "type": "carpet"
           }
          ],
          "choropleth": [
           {
            "colorbar": {
             "outlinewidth": 0,
             "ticks": ""
            },
            "type": "choropleth"
           }
          ],
          "contour": [
           {
            "colorbar": {
             "outlinewidth": 0,
             "ticks": ""
            },
            "colorscale": [
             [
              0,
              "#0d0887"
             ],
             [
              0.1111111111111111,
              "#46039f"
             ],
             [
              0.2222222222222222,
              "#7201a8"
             ],
             [
              0.3333333333333333,
              "#9c179e"
             ],
             [
              0.4444444444444444,
              "#bd3786"
             ],
             [
              0.5555555555555556,
              "#d8576b"
             ],
             [
              0.6666666666666666,
              "#ed7953"
             ],
             [
              0.7777777777777778,
              "#fb9f3a"
             ],
             [
              0.8888888888888888,
              "#fdca26"
             ],
             [
              1,
              "#f0f921"
             ]
            ],
            "type": "contour"
           }
          ],
          "contourcarpet": [
           {
            "colorbar": {
             "outlinewidth": 0,
             "ticks": ""
            },
            "type": "contourcarpet"
           }
          ],
          "heatmap": [
           {
            "colorbar": {
             "outlinewidth": 0,
             "ticks": ""
            },
            "colorscale": [
             [
              0,
              "#0d0887"
             ],
             [
              0.1111111111111111,
              "#46039f"
             ],
             [
              0.2222222222222222,
              "#7201a8"
             ],
             [
              0.3333333333333333,
              "#9c179e"
             ],
             [
              0.4444444444444444,
              "#bd3786"
             ],
             [
              0.5555555555555556,
              "#d8576b"
             ],
             [
              0.6666666666666666,
              "#ed7953"
             ],
             [
              0.7777777777777778,
              "#fb9f3a"
             ],
             [
              0.8888888888888888,
              "#fdca26"
             ],
             [
              1,
              "#f0f921"
             ]
            ],
            "type": "heatmap"
           }
          ],
          "heatmapgl": [
           {
            "colorbar": {
             "outlinewidth": 0,
             "ticks": ""
            },
            "colorscale": [
             [
              0,
              "#0d0887"
             ],
             [
              0.1111111111111111,
              "#46039f"
             ],
             [
              0.2222222222222222,
              "#7201a8"
             ],
             [
              0.3333333333333333,
              "#9c179e"
             ],
             [
              0.4444444444444444,
              "#bd3786"
             ],
             [
              0.5555555555555556,
              "#d8576b"
             ],
             [
              0.6666666666666666,
              "#ed7953"
             ],
             [
              0.7777777777777778,
              "#fb9f3a"
             ],
             [
              0.8888888888888888,
              "#fdca26"
             ],
             [
              1,
              "#f0f921"
             ]
            ],
            "type": "heatmapgl"
           }
          ],
          "histogram": [
           {
            "marker": {
             "pattern": {
              "fillmode": "overlay",
              "size": 10,
              "solidity": 0.2
             }
            },
            "type": "histogram"
           }
          ],
          "histogram2d": [
           {
            "colorbar": {
             "outlinewidth": 0,
             "ticks": ""
            },
            "colorscale": [
             [
              0,
              "#0d0887"
             ],
             [
              0.1111111111111111,
              "#46039f"
             ],
             [
              0.2222222222222222,
              "#7201a8"
             ],
             [
              0.3333333333333333,
              "#9c179e"
             ],
             [
              0.4444444444444444,
              "#bd3786"
             ],
             [
              0.5555555555555556,
              "#d8576b"
             ],
             [
              0.6666666666666666,
              "#ed7953"
             ],
             [
              0.7777777777777778,
              "#fb9f3a"
             ],
             [
              0.8888888888888888,
              "#fdca26"
             ],
             [
              1,
              "#f0f921"
             ]
            ],
            "type": "histogram2d"
           }
          ],
          "histogram2dcontour": [
           {
            "colorbar": {
             "outlinewidth": 0,
             "ticks": ""
            },
            "colorscale": [
             [
              0,
              "#0d0887"
             ],
             [
              0.1111111111111111,
              "#46039f"
             ],
             [
              0.2222222222222222,
              "#7201a8"
             ],
             [
              0.3333333333333333,
              "#9c179e"
             ],
             [
              0.4444444444444444,
              "#bd3786"
             ],
             [
              0.5555555555555556,
              "#d8576b"
             ],
             [
              0.6666666666666666,
              "#ed7953"
             ],
             [
              0.7777777777777778,
              "#fb9f3a"
             ],
             [
              0.8888888888888888,
              "#fdca26"
             ],
             [
              1,
              "#f0f921"
             ]
            ],
            "type": "histogram2dcontour"
           }
          ],
          "mesh3d": [
           {
            "colorbar": {
             "outlinewidth": 0,
             "ticks": ""
            },
            "type": "mesh3d"
           }
          ],
          "parcoords": [
           {
            "line": {
             "colorbar": {
              "outlinewidth": 0,
              "ticks": ""
             }
            },
            "type": "parcoords"
           }
          ],
          "pie": [
           {
            "automargin": true,
            "type": "pie"
           }
          ],
          "scatter": [
           {
            "fillpattern": {
             "fillmode": "overlay",
             "size": 10,
             "solidity": 0.2
            },
            "type": "scatter"
           }
          ],
          "scatter3d": [
           {
            "line": {
             "colorbar": {
              "outlinewidth": 0,
              "ticks": ""
             }
            },
            "marker": {
             "colorbar": {
              "outlinewidth": 0,
              "ticks": ""
             }
            },
            "type": "scatter3d"
           }
          ],
          "scattercarpet": [
           {
            "marker": {
             "colorbar": {
              "outlinewidth": 0,
              "ticks": ""
             }
            },
            "type": "scattercarpet"
           }
          ],
          "scattergeo": [
           {
            "marker": {
             "colorbar": {
              "outlinewidth": 0,
              "ticks": ""
             }
            },
            "type": "scattergeo"
           }
          ],
          "scattergl": [
           {
            "marker": {
             "colorbar": {
              "outlinewidth": 0,
              "ticks": ""
             }
            },
            "type": "scattergl"
           }
          ],
          "scattermapbox": [
           {
            "marker": {
             "colorbar": {
              "outlinewidth": 0,
              "ticks": ""
             }
            },
            "type": "scattermapbox"
           }
          ],
          "scatterpolar": [
           {
            "marker": {
             "colorbar": {
              "outlinewidth": 0,
              "ticks": ""
             }
            },
            "type": "scatterpolar"
           }
          ],
          "scatterpolargl": [
           {
            "marker": {
             "colorbar": {
              "outlinewidth": 0,
              "ticks": ""
             }
            },
            "type": "scatterpolargl"
           }
          ],
          "scatterternary": [
           {
            "marker": {
             "colorbar": {
              "outlinewidth": 0,
              "ticks": ""
             }
            },
            "type": "scatterternary"
           }
          ],
          "surface": [
           {
            "colorbar": {
             "outlinewidth": 0,
             "ticks": ""
            },
            "colorscale": [
             [
              0,
              "#0d0887"
             ],
             [
              0.1111111111111111,
              "#46039f"
             ],
             [
              0.2222222222222222,
              "#7201a8"
             ],
             [
              0.3333333333333333,
              "#9c179e"
             ],
             [
              0.4444444444444444,
              "#bd3786"
             ],
             [
              0.5555555555555556,
              "#d8576b"
             ],
             [
              0.6666666666666666,
              "#ed7953"
             ],
             [
              0.7777777777777778,
              "#fb9f3a"
             ],
             [
              0.8888888888888888,
              "#fdca26"
             ],
             [
              1,
              "#f0f921"
             ]
            ],
            "type": "surface"
           }
          ],
          "table": [
           {
            "cells": {
             "fill": {
              "color": "#EBF0F8"
             },
             "line": {
              "color": "white"
             }
            },
            "header": {
             "fill": {
              "color": "#C8D4E3"
             },
             "line": {
              "color": "white"
             }
            },
            "type": "table"
           }
          ]
         },
         "layout": {
          "annotationdefaults": {
           "arrowcolor": "#2a3f5f",
           "arrowhead": 0,
           "arrowwidth": 1
          },
          "autotypenumbers": "strict",
          "coloraxis": {
           "colorbar": {
            "outlinewidth": 0,
            "ticks": ""
           }
          },
          "colorscale": {
           "diverging": [
            [
             0,
             "#8e0152"
            ],
            [
             0.1,
             "#c51b7d"
            ],
            [
             0.2,
             "#de77ae"
            ],
            [
             0.3,
             "#f1b6da"
            ],
            [
             0.4,
             "#fde0ef"
            ],
            [
             0.5,
             "#f7f7f7"
            ],
            [
             0.6,
             "#e6f5d0"
            ],
            [
             0.7,
             "#b8e186"
            ],
            [
             0.8,
             "#7fbc41"
            ],
            [
             0.9,
             "#4d9221"
            ],
            [
             1,
             "#276419"
            ]
           ],
           "sequential": [
            [
             0,
             "#0d0887"
            ],
            [
             0.1111111111111111,
             "#46039f"
            ],
            [
             0.2222222222222222,
             "#7201a8"
            ],
            [
             0.3333333333333333,
             "#9c179e"
            ],
            [
             0.4444444444444444,
             "#bd3786"
            ],
            [
             0.5555555555555556,
             "#d8576b"
            ],
            [
             0.6666666666666666,
             "#ed7953"
            ],
            [
             0.7777777777777778,
             "#fb9f3a"
            ],
            [
             0.8888888888888888,
             "#fdca26"
            ],
            [
             1,
             "#f0f921"
            ]
           ],
           "sequentialminus": [
            [
             0,
             "#0d0887"
            ],
            [
             0.1111111111111111,
             "#46039f"
            ],
            [
             0.2222222222222222,
             "#7201a8"
            ],
            [
             0.3333333333333333,
             "#9c179e"
            ],
            [
             0.4444444444444444,
             "#bd3786"
            ],
            [
             0.5555555555555556,
             "#d8576b"
            ],
            [
             0.6666666666666666,
             "#ed7953"
            ],
            [
             0.7777777777777778,
             "#fb9f3a"
            ],
            [
             0.8888888888888888,
             "#fdca26"
            ],
            [
             1,
             "#f0f921"
            ]
           ]
          },
          "colorway": [
           "#636efa",
           "#EF553B",
           "#00cc96",
           "#ab63fa",
           "#FFA15A",
           "#19d3f3",
           "#FF6692",
           "#B6E880",
           "#FF97FF",
           "#FECB52"
          ],
          "font": {
           "color": "#2a3f5f"
          },
          "geo": {
           "bgcolor": "white",
           "lakecolor": "white",
           "landcolor": "#E5ECF6",
           "showlakes": true,
           "showland": true,
           "subunitcolor": "white"
          },
          "hoverlabel": {
           "align": "left"
          },
          "hovermode": "closest",
          "mapbox": {
           "style": "light"
          },
          "paper_bgcolor": "white",
          "plot_bgcolor": "#E5ECF6",
          "polar": {
           "angularaxis": {
            "gridcolor": "white",
            "linecolor": "white",
            "ticks": ""
           },
           "bgcolor": "#E5ECF6",
           "radialaxis": {
            "gridcolor": "white",
            "linecolor": "white",
            "ticks": ""
           }
          },
          "scene": {
           "xaxis": {
            "backgroundcolor": "#E5ECF6",
            "gridcolor": "white",
            "gridwidth": 2,
            "linecolor": "white",
            "showbackground": true,
            "ticks": "",
            "zerolinecolor": "white"
           },
           "yaxis": {
            "backgroundcolor": "#E5ECF6",
            "gridcolor": "white",
            "gridwidth": 2,
            "linecolor": "white",
            "showbackground": true,
            "ticks": "",
            "zerolinecolor": "white"
           },
           "zaxis": {
            "backgroundcolor": "#E5ECF6",
            "gridcolor": "white",
            "gridwidth": 2,
            "linecolor": "white",
            "showbackground": true,
            "ticks": "",
            "zerolinecolor": "white"
           }
          },
          "shapedefaults": {
           "line": {
            "color": "#2a3f5f"
           }
          },
          "ternary": {
           "aaxis": {
            "gridcolor": "white",
            "linecolor": "white",
            "ticks": ""
           },
           "baxis": {
            "gridcolor": "white",
            "linecolor": "white",
            "ticks": ""
           },
           "bgcolor": "#E5ECF6",
           "caxis": {
            "gridcolor": "white",
            "linecolor": "white",
            "ticks": ""
           }
          },
          "title": {
           "x": 0.05
          },
          "xaxis": {
           "automargin": true,
           "gridcolor": "white",
           "linecolor": "white",
           "ticks": "",
           "title": {
            "standoff": 15
           },
           "zerolinecolor": "white",
           "zerolinewidth": 2
          },
          "yaxis": {
           "automargin": true,
           "gridcolor": "white",
           "linecolor": "white",
           "ticks": "",
           "title": {
            "standoff": 15
           },
           "zerolinecolor": "white",
           "zerolinewidth": 2
          }
         }
        },
        "title": {
         "text": "Mass Breakdown",
         "x": 0.5
        }
       }
      }
     },
     "metadata": {},
     "output_type": "display_data"
    }
   ],
   "source": [
    "print('-------------------------------------------------------------')\n",
    "print('BWB CONFIGURATION')\n",
    "print('-------------------------------------------------------------')\n",
    "fig = oad.mass_breakdown_bar_plot(pth.join(simDirS, \"problem_outputs_BWB_sweep25.xml\"))\n",
    "fig.show()\n",
    "\n",
    "fig = oad.mass_breakdown_sun_plot(pth.join(simDirS, \"problem_outputs_BWB_sweep25.xml\"))\n",
    "fig.show()"
   ]
  },
  {
   "cell_type": "markdown",
   "metadata": {},
   "source": [
    "#### E. Block fuel vs. sweep"
   ]
  },
  {
   "cell_type": "code",
   "execution_count": 12,
   "metadata": {},
   "outputs": [
    {
     "data": {
      "image/png": "[encoded data removed]",
      "text/plain": [
       "<Figure size 800x500 with 1 Axes>"
      ]
     },
     "metadata": {},
     "output_type": "display_data"
    }
   ],
   "source": [
    "block_fuel = []\n",
    "i = 0\n",
    "while i < len(sweep_vec):\n",
    "    output_dataBWBsim = oad.DataFile(pth.join(simDirS, \"problem_outputs_BWB_sweep%d.xml\"%(sweep_vec[i])))\n",
    "    new_fuel = output_dataBWBsim[\"data:weight:aircraft:sizing_block_fuel\"].value[0]\n",
    "    block_fuel.append(new_fuel)\n",
    "    i += 1\n",
    "\n",
    "min_fuel = min(block_fuel)\n",
    "min_fuel -= 200\n",
    "max_fuel = max(block_fuel)\n",
    "max_fuel += 200\n",
    "\n",
    "# Set font size\n",
    "plt.rcParams.update({'font.size': 12})\n",
    "\n",
    "# Define figure size\n",
    "fig, ax = plt.subplots(figsize=(8, 5))\n",
    "\n",
    "# Add title\n",
    "plt.title(\"Block Fuel vs. Sweep angle\")\n",
    "\n",
    "# Plot data\n",
    "ax.plot(sweep_vec, block_fuel, marker='o', label=\"Block Fuel\")\n",
    "\n",
    "# Add grid lines\n",
    "ax.grid(alpha=0.5)\n",
    "\n",
    "# Change marker style\n",
    "# ax.plot(range_vec, block_fuel, marker='s', label=\"Block Fuel\") # Square markers\n",
    "# ax.plot(range_vec, block_fuel, marker='^', label=\"Block Fuel\") # Triangle markers\n",
    "\n",
    "# Add axis labels\n",
    "ax.set_xlabel(\"Sweep angle (deg)\", weight='bold')\n",
    "ax.set_ylabel(\"Block Fuel (Kg)\", weight='bold')\n",
    "\n",
    "# Set axis limits\n",
    "ax.set_xlim([min(sweep_vec), max(sweep_vec)])\n",
    "ax.set_ylim([min_fuel, max_fuel])\n",
    "\n",
    "# Add legend\n",
    "ax.legend()\n",
    "plt.show()\n",
    "\n"
   ]
  },
  {
   "cell_type": "code",
   "execution_count": null,
   "metadata": {},
   "outputs": [],
   "source": []
  }
 ],
 "metadata": {
  "kernelspec": {
   "display_name": "Python 3 (ipykernel)",
   "language": "python",
   "name": "python3"
  },
  "language_info": {
   "codemirror_mode": {
    "name": "ipython",
    "version": 3
   },
   "file_extension": ".py",
   "mimetype": "text/x-python",
   "name": "python",
   "nbconvert_exporter": "python",
   "pygments_lexer": "ipython3",
   "version": "3.10.11"
  }
 },
 "nbformat": 4,
 "nbformat_minor": 4
}
